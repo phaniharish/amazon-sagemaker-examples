{
 "cells": [
  {
   "attachments": {},
   "cell_type": "markdown",
   "metadata": {},
   "source": [
    "# Fine-tuning and deploying a BERTopic model on SageMaker with your own scripts and dataset, by extending existing PyTorch containers\n"
   ]
  },
  {
   "attachments": {},
   "cell_type": "markdown",
   "metadata": {},
   "source": [
    "---\n",
    "\n",
    "This notebook's CI test result for us-west-2 is as follows. CI test results in other regions can be found at the end of the notebook. \n",
    "\n",
    "![This us-west-2 badge failed to load. Check your device's internet connectivity, otherwise the service is currently unavailable](https://h75twx4l60.execute-api.us-west-2.amazonaws.com/sagemaker-nb/us-west-2/advanced_functionality|pytorch_extend_container_train_deploy_bertopic|BERTtopic_extending_container.ipynb)\n",
    "\n",
    "---"
   ]
  },
  {
   "attachments": {},
   "cell_type": "markdown",
   "metadata": {},
   "source": [
    "\n",
    "### INFO: this notebook follows and extends the structure of the [Extending our PyTorch containers example](https://github.com/aws/amazon-sagemaker-examples/blob/main/advanced_functionality/pytorch_extending_our_containers/pytorch_extending_our_containers.ipynb)\n",
    "\n",
    "With Amazon SageMaker, you can package your own algorithms that can then be trained and deployed in the SageMaker environment. This notebook guides you through an example on how to extend one of our existing and predefined SageMaker deep learning framework containers.\n",
    "\n",
    "By packaging an algorithm in a container, you can bring almost any code to the Amazon SageMaker environment, regardless of programming language, environment, framework, or dependencies. \n",
    "\n",
    "1. [Extending our PyTorch containers](#Extending-our-PyTorch-containers)\n",
    "    1. [When should I extend a SageMaker container?](#When-should-I-extend-a-SageMaker-container?)\n",
    "    1. [Permissions](#Permissions)\n",
    "    1. [This example](#This-example)\n",
    "    1. [This notebook's structure](#This-notebook's-structure)\n",
    "1. [Part 1: Docker containers and their use in Amazon SageMaker](#Part-1:-Docker-containers-and-their-use-in-Amazon-SageMaker)\n",
    "    1. [An overview of Docker](#An-overview-of-Docker)\n",
    "    1. [How Amazon SageMaker runs your Docker container](#How-Amazon-SageMaker-runs-your-Docker-container)\n",
    "      1. [Running your container during training](#Running-your-container-during-training)\n",
    "        1. [The input](#The-input)\n",
    "        1. [The output](#The-output)\n",
    "      1. [Running your container during hosting](#Running-your-container-during-hosting)\n",
    "    1. [Custom files available to build the container used in this example](#Custom-files-available-to-build-the-container-used-in-this-example)\n",
    "1. [Part 2: Packaging and Uploading your Algorithm for training](#Part-2:-Packaging-and-Uploading-your-Algorithm-for-training)\n",
    "    1. [The training Dockerfile](#The-training-Dockerfile)\n",
    "    1. [Writing the training script (bert-topic.py)](#Writing-the-training-script-(bert-topic.py))\n",
    "    1. [Building and registering the training container](#Building-and-registering-the-training-container)\n",
    "    1. [Testing your algorithm](#Testing-your-algorithm)\n",
    "        1. [Download the 20 Newsgroups training dataset](#Download-the-20-Newsgroups-training-dataset)\n",
    "        1. [SageMaker Python SDK Local Training](#SageMaker-Python-SDK-Local-Training)\n",
    "        1. [Check the local SageMaker setup](#Check-the-local-SageMaker-setup)\n",
    "    1. [Fit (+ Deploy, Predict)](#Fit-(+-Deploy,-Predict))\n",
    "        1. [Local training: Fit](#Local-training:-Fit)\n",
    "        1. [A sleek alternative to \"Bring your own container\": bring your own requirements.txt](#A-sleek-alternative-to-\"Bring-your-own-container\":-bring-your-own-requirements.txt)\n",
    "    1.[Training your Algorithm in Amazon SageMaker in batch mode](#Training-your-Algorithm-in-Amazon-SageMaker-in-batch-mode)\n",
    "        1. [Set up the environment](#Set-up-the-environment)\n",
    "        1. [Create the session](#Create-the-session)\n",
    "        1. [Upload the data for training](#Upload-the-data-for-training)\n",
    "        1. [Training on SageMaker in batch mode](#Training-on-SageMaker-in-batch-mode)\n",
    "1. [Part 3: Packaging and Uploading your Algorithm for inference](#Part-3:-Packaging-and-Uploading-your-Algorithm-for-inference)\n",
    "    1. [The inference Dockerfile](#The-inference-Dockerfile)\n",
    "    1. [Writing your own inference script (bert-topic-inference.py)](#Writing-your-own-inference-script-(bert-topic-inference.py))\n",
    "    1. [Inference from Containerized SageMaker Model)](#Inference-from-Containerized-SageMaker-Model)\n",
    "        1. [Prepare session to run container locally](#Prepare-session-to-run-container-locally)\n",
    "        1. [Check for locally running Docker containers (and stop them if needed)](#Check-for-locally-running-Docker-containers-(and-stop-them-if-needed))\n",
    "        1. [Deploy container locally to create a local endpoint](#Deploy-container-locally-to-create-a-local-endpoint)\n",
    "        1. [Invoke locally deployed endpoint](#Invoke-locally-deployed-endpoint)\n",
    "        1. [A sleek alternative to \"Bring your own container\": bring your own requirements.txt](#A-sleek-alternative-to-\"Bring-your-own-container\":-bring-your-own-requirements.txt)\n",
    "        1. [Invoke locally deployed endpoint](#A-sleek-alternative-to-\"Bring-your-own-container\":-bring-your-own-requirements.txt)\n",
    "    1. [Deploy container remotely to create a managed Amazon SageMaker endpoint for real-time inference](#Deploy-container-remotely-to-create-a-managed-Amazon-SageMaker-endpoint-for-real-time-inference)\n",
    "        1. [Invoke remotely deployed endpoint](#Invoke-remotely-deployed-endpoint)\n",
    "    1. [Optional cleanup](#Optional-cleanup)  \n",
    "1. [Reference](#Reference)\n",
    "\n",
    "\n",
    "\n",
    "## Extending our PyTorch containers\n",
    "\n",
    "### When should I extend a SageMaker container?\n",
    "\n",
    "You may not need to create a container to bring your own code to Amazon SageMaker. When you are using a framework such as [TensorFlow](https://github.com/aws/sagemaker-tensorflow-container), [MXNet](https://github.com/aws/sagemaker-mxnet-container), [PyTorch](https://github.com/aws/sagemaker-pytorch-container) or [Chainer](https://github.com/aws/sagemaker-chainer-container) that has direct support in SageMaker, you can simply supply the Python code that implements your algorithm using the SDK entry points for that framework.\n",
    "\n",
    "Even if there is direct SDK support for your environment or framework, you may want to add additional functionality or configure your container environment differently while utilizing our container to use on SageMaker.\n",
    "\n",
    "**Some of the reasons to extend a SageMaker deep learning framework container are:**\n",
    "1. Install additional dependencies. (E.g. I want to install a specific Python library, that the current SageMaker containers don't install.)\n",
    "2. Configure your environment. (E.g. I want to add an environment variable to my container.)\n",
    "\n",
    "**Although it is possible to extend any of our framework containers as a parent image, the example this notebook covers is currently only intended to work with our PyTorch container.**\n",
    "\n",
    "This walkthrough shows that it is quite straightforward to extend one of our containers to build your own custom container for PyTorch.\n",
    "\n",
    "### Permissions\n",
    "\n",
    "Running this notebook requires permissions in addition to the normal `SageMakerFullAccess` permissions. This is because it creates new repositories in Amazon ECR. The easiest way to add these permissions is simply to add the managed policy `AmazonEC2ContainerRegistryFullAccess` to the role that you used to start your notebook instance. There's no need to restart your notebook instance when you do this, the new permissions will be available immediately.\n",
    "\n",
    "### This example\n",
    "\n",
    "In this example we show how to package a PyTorch container, extending the SageMaker PyTorch container, with a Python example which works with the BERTopic model and the 20 Newsgroups dataset. BERTopic comes now as standalone library and requires GPU support, so the most effective way to use it is to extend the SageMaker PyTorch container, to utilize the existing training and hosting solution made to work on SageMaker. By comparison, if one were to build their own custom framework container from scratch, they would need to implement a training and hosting solution in order to use SageMaker. Here is an example showing [how to create a SageMaker TensorFlow container from scratch](https://github.com/awslabs/amazon-sagemaker-examples/blob/master/advanced_functionality/tensorflow_bring_your_own/tensorflow_bring_your_own.ipynb).\n",
    "\n",
    "In this example, we need to use separate base images to support training and hosting, as they are provided separately for [PyTorch](https://github.com/aws/deep-learning-containers/blob/master/available_images.md#sagemaker-framework-containers-sm-support-only). Sometimes you may want to use the same image for training and hosting because they have the same requirements. This simplifies the procedure because we only need to manage one image for both tasks. In that case, merge the parts discussed below into the same Dockerfiles and build one image. Choosing whether to use a single image or two images is a matter of what is most convenient for you to develop and manage.\n",
    "\n",
    "If you're only using Amazon SageMaker for training or hosting, but not both, only the functionality used needs to be built into your container.\n",
    "Finally, when using different containers, make sure that the libraries and their versions match, otherwise this could create problems. In fact, some libraries versions are different in the PyTorch training and inference containers.\n",
    "\n",
    "### This notebook's structure\n",
    "\n",
    "This notebook is divided into three parts: \n",
    "1. Docker containers and their use in Amazon SageMaker\n",
    "2. _building_ and _using_ the training container \n",
    "3. _building_ and _using_ the inference container "
   ]
  },
  {
   "attachments": {},
   "cell_type": "markdown",
   "metadata": {},
   "source": [
    "## Part 1: Docker containers and their use in Amazon SageMaker\n",
    "\n",
    "### An overview of Docker\n",
    "\n",
    "If you're familiar with Docker already, you can skip ahead to the next section.\n",
    "\n",
    "For many data scientists, Docker containers are a new technology. But they are not difficult and can significantly simplify the deployment of your software packages. \n",
    "\n",
    "Docker provides a simple way to package arbitrary code into an _image_ that is totally self-contained. Once you have an image, you can use Docker to run a _container_ based on that image. Running a container is just like running a program on the machine except that the container creates a fully self-contained environment for the program to run. Containers are isolated from each other and from the host environment, so the way your program is set up is the way it runs, no matter where you run it.\n",
    "\n",
    "Docker is more powerful than environment managers like Conda or virtualenv because (a) it is completely language independent and (b) it comprises your whole operating environment, including startup commands, and environment variable.\n",
    "\n",
    "A Docker container is like a virtual machine, but it is much lighter weight. For example, a program running in a container can start in less than a second and many containers can run simultaneously on the same physical or virtual machine instance.\n",
    "\n",
    "Docker uses a simple file called a `Dockerfile` to specify how the image is assembled. An example is provided below. You can build your Docker images based on Docker images built by yourself or by others, which can simplify things quite a bit.\n",
    "\n",
    "Docker has become very popular in programming and DevOps communities due to its flexibility and its well-defined specification of how code can be run in its containers. It is the underpinning of many services built in the past few years, such as [Amazon ECS].\n",
    "\n",
    "Amazon SageMaker uses Docker to allow users to train and deploy arbitrary algorithms.\n",
    "\n",
    "In Amazon SageMaker, Docker containers are invoked in a one way for training and another, slightly different, way for hosting. The following sections outline how to build containers for the SageMaker environment.\n",
    "\n",
    "Some helpful links:\n",
    "\n",
    "* [Docker home page](http://www.docker.com)\n",
    "* [Getting started with Docker](https://docs.docker.com/get-started/)\n",
    "* [Dockerfile reference](https://docs.docker.com/engine/reference/builder/)\n",
    "* [`docker run` reference](https://docs.docker.com/engine/reference/run/)\n",
    "\n",
    "[Amazon ECS]: https://aws.amazon.com/ecs/\n",
    "\n",
    "### How Amazon SageMaker runs your Docker container\n",
    "\n",
    "* Typically you specify a program (e.g. script) as an `ENTRYPOINT` in the Dockerfile, that program will be run at startup and decide what to do. The original `ENTRYPOINT` specified within the SageMaker PyTorch is [here](https://github.com/aws/deep-learning-containers/blob/master/pytorch/training/docker/1.5.1/py3/Dockerfile.cpu#L142).\n",
    "\n",
    "#### Running your container during training\n",
    "\n",
    "Currently, our SageMaker PyTorch container utilizes [console_scripts](http://python-packaging.readthedocs.io/en/latest/command-line-scripts.html#the-console-scripts-entry-point) to make use of the `train` command issued at training time. The line that gets invoked during `train` is defined within the setup.py file inside [SageMaker Containers](https://github.com/aws/sagemaker-containers/blob/master/setup.py#L48), our common SageMaker deep learning container framework. When this command is run, it will invoke the [trainer class](https://github.com/aws/sagemaker-containers/blob/master/src/sagemaker_containers/cli/train.py) to run, which will finally invoke our [PyTorch container code](https://github.com/aws/sagemaker-pytorch-container/blob/master/src/sagemaker_pytorch_container/training.py) to run your Python file.\n",
    "\n",
    "A number of files are laid out for your use, under the `/opt/ml` directory:\n",
    "\n",
    "    /opt/ml\n",
    "    |-- input\n",
    "    |   |-- config\n",
    "    |   |   |-- hyperparameters.json\n",
    "    |   |   `-- resourceConfig.json\n",
    "    |   `-- data\n",
    "    |       `-- <channel_name>\n",
    "    |           `-- <input data>\n",
    "    |-- model\n",
    "    |   `-- <model files>\n",
    "    `-- output\n",
    "        `-- failure\n",
    "\n",
    "##### The input\n",
    "\n",
    "* `/opt/ml/input/config` contains information to control how your program runs. `hyperparameters.json` is a JSON-formatted dictionary of hyperparameter names to values. These values are always strings, so you may need to convert them. `resourceConfig.json` is a JSON-formatted file that describes the network layout used for distributed training.\n",
    "* `/opt/ml/input/data/<channel_name>/` (for File mode) contains the input data for that channel. The channels are created based on the call to CreateTrainingJob, but it's generally important that channels match algorithm expectations. The files for each channel are copied from S3 to this directory, preserving the tree structure indicated by the S3 key structure. \n",
    "* `/opt/ml/input/data/<channel_name>_<epoch_number>` (for Pipe mode) is the pipe for a given epoch. Epochs start at zero and go up by one each time you read them. There is no limit to the number of epochs that you can run, but you must close each pipe before reading the next epoch.\n",
    "\n",
    "##### The output\n",
    "\n",
    "* `/opt/ml/model/` is the directory where you write the model that your algorithm generates. Your model can be in any format that you want. It can be a single file or a whole directory tree. SageMaker packages any files in this directory into a compressed tar archive file. This file is made available at the S3 location returned in the `DescribeTrainingJob` result.\n",
    "* `/opt/ml/output` is a directory where the algorithm can write a file `failure` that describes why the job failed. The contents of this file are returned in the `FailureReason` field of the `DescribeTrainingJob` result. For jobs that succeed, there is no reason to write this file as it is ignored.\n",
    "\n",
    "#### Running your container during hosting\n",
    "\n",
    "Hosting has a very different model than training because hosting is responding to inference requests that come in via HTTP. Currently, the SageMaker PyTorch containers [uses](https://github.com/aws/sagemaker-pytorch-container/blob/master/src/sagemaker_pytorch_container/serving.py#L103) our [recommended Python serving stack](https://github.com/aws/sagemaker-containers/blob/master/src/sagemaker_containers/_server.py#L44) to provide robust and scalable serving of inference requests:\n",
    "\n",
    "![Request serving stack](stack.png)\n",
    "\n",
    "Amazon SageMaker uses two URLs in the container:\n",
    "\n",
    "* `/ping` receives `GET` requests from the infrastructure. Your program returns 200 if the container is up and accepting requests.\n",
    "* `/invocations` is the endpoint that receives client inference `POST` requests. The format of the request and the response is up to the algorithm. If the client supplied `ContentType` and `Accept` headers, these are passed in as well. \n",
    "\n",
    "The container has the model files in the same place that they were written to during training:\n",
    "\n",
    "    /opt/ml\n",
    "    `-- model\n",
    "        `-- <model files>\n",
    "\n"
   ]
  },
  {
   "attachments": {},
   "cell_type": "markdown",
   "metadata": {},
   "source": [
    "### Custom files available to build the container used in this example\n",
    "\n",
    "The `container` directory has all the components you need to extend the SageMaker PyTorch container to use as a sample algorithm:\n",
    "\n",
    "    .\n",
    "    |-- Dockerfile\n",
    "    |-- Dockerfile-inference\n",
    "    `-- bert-topic\n",
    "        `-- bert-topic.py\n",
    "        `-- bert-topic-inference.py\n",
    "\n",
    "Let's discuss each of these in turn:\n",
    "\n",
    "* __`Dockerfile`__ describes how to build your Docker container image for *training*. More details are provided below.\n",
    "* __`Dockerfile-inference`__ describes how to build your Docker container image for *inference*. More details are provided below.\n",
    "* __`build_and_push.sh`__ is a script that uses the Dockerfile to build your container images and then pushes it to ECR. We invoke the commands directly later in this notebook, but you can just copy and run the script for your own algorithms.\n",
    "* __`bert-topic`__ is the directory which contains our user code to be invoked.\n",
    "\n",
    "In this application, we install and/or update a few libraries, and copy one script in the container, which will be used as `ENTRYPOINT`. You may only need that many, but if you have many supporting routines, you may wish to install more and use more files.\n",
    "\n",
    "The files that we put in the container are:\n",
    "\n",
    "* __`bert-topic.py`__ is the program that implements our training algorithm (used only for training container)\n",
    "* __`bert-topic-inference.py`__ is the program that handles loading our model for inferences (used only for inference container)"
   ]
  },
  {
   "attachments": {},
   "cell_type": "markdown",
   "metadata": {},
   "source": [
    "## Part 2: Packaging and Uploading your Algorithm for training\n",
    "\n",
    "### The training Dockerfile\n",
    "\n",
    "The Dockerfile describes the image that we want to build. You can think of it as describing the complete operating system installation of the system that you want to run. A Docker container running is quite a bit lighter than a full operating system, however, because it takes advantage of Linux on the host machine for the basic operations. \n",
    "\n",
    "We start from the SageMaker PyTorch image as the base. The base image is an ECR image, so it will have the following pattern.\n",
    "* {account}.dkr.ecr.{region}.amazonaws.com/sagemaker-{framework}:{framework_version}-{processor_type}-{python_version}\n",
    "\n",
    "Here is an explanation of each field.\n",
    "1. account - AWS account ID the ECR image belongs to. Our public deep learning framework images are all under the 763104351884 account.\n",
    "2. region - The region the ECR image belongs to. [Available regions](https://aws.amazon.com/about-aws/global-infrastructure/regional-product-services/).\n",
    "3. framework - The deep learning framework.\n",
    "4. framework_version - The version of the deep learning framework.\n",
    "5. processor_type - CPU or GPU.\n",
    "6. python_version - The supported version of Python.\n",
    "\n",
    "So the SageMaker PyTorch ECR image would be:\n",
    "* 763104351884.dkr.ecr.{region}.amazonaws.com/pytorch-training:1.12.1-gpu-py38-cu113-ubuntu20.04-sagemaker\n",
    "\n",
    "Information on supported frameworks and versions can be found in this [README](https://github.com/aws/sagemaker-python-sdk).\n",
    "\n",
    "Next, we install the required additional libraries like BERTopic and add the code that implements our specific algorithm to the container, and set up the right environment for it to run under.\n",
    "\n",
    "Finally, we need to specify two environment variables.\n",
    "1. SAGEMAKER_SUBMIT_DIRECTORY - the directory within the container containing our Python script for training and inference.\n",
    "2. SAGEMAKER_PROGRAM - the Python script that should be invoked for training and inference.\n",
    "\n",
    "Let's look at the Dockerfile for this example."
   ]
  },
  {
   "cell_type": "code",
   "execution_count": null,
   "metadata": {
    "tags": []
   },
   "outputs": [],
   "source": [
    "!cat container/Dockerfile"
   ]
  },
  {
   "attachments": {},
   "cell_type": "markdown",
   "metadata": {},
   "source": [
    "### Writing the training script (bert-topic.py)\n",
    "\n",
    "To fine-tune a BERTopic model with a custom dataset on Amazon SageMaker, we will write a training script to be used by the Amazon SageMaker Training Job (or locally).\n",
    "\n",
    "The training script will need to do the following steps:\n",
    "- Load a pretrained Model\n",
    "- Load the dataset\n",
    "- Define the Training Arguments\n",
    "- Define a Trainer\n",
    "- Train the model and save the checkpoint on the validation set\n",
    "\n",
    "These steps will be done in a `_train()` function.\n",
    "\n",
    "The script also uses some hyperparameters, which can be extended depending on what is needed for each model. Here we used `language` to choose the training language."
   ]
  },
  {
   "cell_type": "code",
   "execution_count": null,
   "metadata": {
    "tags": []
   },
   "outputs": [],
   "source": [
    "!pygmentize container/bert-topic/bert-topic.py"
   ]
  },
  {
   "attachments": {},
   "cell_type": "markdown",
   "metadata": {},
   "source": [
    "### Building and registering the training container\n",
    "\n",
    "The following shell code shows how to build the container image using `docker build` and push the container image to ECR using `docker push`. \n",
    "\n",
    "This code looks for an ECR repository in the account you're using and the current default region (if you're using a SageMaker notebook instance, this is the region where the notebook instance was created). If the repository doesn't exist, the script will create it. In addition, since we are using the SageMaker PyTorch image as the base, we will need to retrieve ECR credentials to pull this public image.\n",
    "\n",
    "Note that your notebook role needs to have the permission to push images to the ECR registry."
   ]
  },
  {
   "cell_type": "code",
   "execution_count": 48,
   "metadata": {
    "tags": []
   },
   "outputs": [],
   "source": [
    "# The name of our algorithm -- i.e. the name of the produced training container\n",
    "training_algorithm_name = \"bert-topic-training-example\""
   ]
  },
  {
   "cell_type": "code",
   "execution_count": null,
   "metadata": {},
   "outputs": [],
   "source": [
    "# building and pushing the container\n",
    "! cd container && sh build_and_push.sh {training_algorithm_name}"
   ]
  },
  {
   "cell_type": "code",
   "execution_count": null,
   "metadata": {
    "tags": []
   },
   "outputs": [],
   "source": [
    "# An alternative and simplified command which outsources the docker build process to codebuild.\n",
    "# This is especially useful when using Sagemaker studio notebooks where docker is not running.\n",
    "# Details in https://aws.amazon.com/blogs/machine-learning/using-the-amazon-sagemaker-studio-image-build-cli-to-build-container-images-from-your-studio-notebooks/\n",
    "#!cd container && sm-docker build {training_algorithm_name}"
   ]
  },
  {
   "attachments": {},
   "cell_type": "markdown",
   "metadata": {},
   "source": [
    "### Testing your algorithm\n",
    "\n",
    "When you're packaging your first algorithm to use with Amazon SageMaker, you probably want to test it yourself to make sure it's working correctly. We use the [SageMaker Python SDK](https://github.com/aws/sagemaker-python-sdk) to test both locally and on SageMaker. For more examples with the SageMaker Python SDK, see [Amazon SageMaker Examples](https://github.com/awslabs/amazon-sagemaker-examples/tree/master/sagemaker-python-sdk). In order to test our algorithm, we need our dataset."
   ]
  },
  {
   "attachments": {},
   "cell_type": "markdown",
   "metadata": {},
   "source": [
    "#### Download the 20 Newsgroups training dataset\n",
    "We will be utilizing the 20 Newsgroups dataset loader provided within AWS to download and load our data for training."
   ]
  },
  {
   "cell_type": "code",
   "execution_count": null,
   "metadata": {
    "tags": []
   },
   "outputs": [],
   "source": [
    "import os\n",
    "\n",
    "training_file_name = \"training_file.txt\"\n",
    "working_dir = os.getcwd()\n",
    "training_file_path = os.path.join(working_dir, training_file_name)\n",
    "\n",
    "print(f\"Working Dir: {working_dir}\")\n",
    "print(f\"Training File: {training_file_path}\")\n",
    "docs = []"
   ]
  },
  {
   "cell_type": "code",
   "execution_count": null,
   "metadata": {
    "tags": []
   },
   "outputs": [],
   "source": [
    "# data from AWS internal repository, external repo can be used as alternative, see below\n",
    "import boto3\n",
    "\n",
    "s3 = boto3.client(\"s3\")\n",
    "s3.download_file(\n",
    "    f\"sagemaker-example-files-prod-{boto3.session.Session().region_name}\",\n",
    "    \"datasets/text/20_newsgroups/20_newsgroups.tar.gz\",\n",
    "    training_file_path.replace(\".txt\", \"_temp.tar.gz\"),\n",
    ")"
   ]
  },
  {
   "cell_type": "code",
   "execution_count": null,
   "metadata": {
    "tags": []
   },
   "outputs": [],
   "source": [
    "# extract few files from the rec.autos topic, without untarring the whole file. No pre-processing is applied\n",
    "import tarfile\n",
    "import codecs\n",
    "import gzip\n",
    "\n",
    "tar = tarfile.open(training_file_path.replace(\".txt\", \"_temp.tar.gz\"), encoding=\"utf-8\")\n",
    "utf8reader = codecs.getreader(\"utf-8\")\n",
    "for i, name in enumerate(tar.getmembers()):\n",
    "    if \"rec.autos\" in name.name:\n",
    "        f = tar.extractfile(name)\n",
    "        if f is not None:\n",
    "            content = f.read()\n",
    "            docs = docs + [content.decode(\"utf-8\").split(\"Message-ID:\")[1]]\n",
    "        if len(docs) > 100:\n",
    "            break"
   ]
  },
  {
   "cell_type": "code",
   "execution_count": null,
   "metadata": {
    "tags": []
   },
   "outputs": [],
   "source": [
    "# # data from external repository, pre-processing is already applied\n",
    "# from sklearn.datasets import fetch_20newsgroups\n",
    "\n",
    "# docs = fetch_20newsgroups(subset=\"all\", remove=(\"headers\", \"footers\", \"quotes\"))[\"data\"]\n",
    "# # only use 100 documents out of 18846 for faster iteration\n",
    "# docs = docs[:100]"
   ]
  },
  {
   "cell_type": "code",
   "execution_count": null,
   "metadata": {
    "tags": []
   },
   "outputs": [],
   "source": [
    "len(docs)"
   ]
  },
  {
   "cell_type": "code",
   "execution_count": null,
   "metadata": {
    "tags": []
   },
   "outputs": [],
   "source": [
    "print(\"The first document contains the following text:\\n\\n\", docs[1])"
   ]
  },
  {
   "cell_type": "code",
   "execution_count": null,
   "metadata": {},
   "outputs": [],
   "source": [
    "# write the list to a file to be easily passed to the training job\n",
    "\n",
    "with open(training_file_path, \"w\") as f:\n",
    "    for line in docs:\n",
    "        f.write(\n",
    "            line.replace(\"\\n\", \"\\\\n\") + \"\\n\"\n",
    "        )  # preserve newlines symbols (\\n) and write one document per line"
   ]
  },
  {
   "attachments": {},
   "cell_type": "markdown",
   "metadata": {},
   "source": [
    "#### SageMaker Python SDK Local Training\n",
    "To represent our training, we use the Estimator class, which needs to be configured in five steps. \n",
    "1. IAM role - our AWS execution role ---> make sure to add the \"AmazonEC2ContainerRegistryFullAccess\" policy to the execution role, otherwise the image push will fail\n",
    "2. train_instance_count - number of instances to use for training.\n",
    "3. train_instance_type - type of instance to use for training. For training locally, we specify `local` or `local_gpu`.\n",
    "4. image_name - our custom PyTorch Docker image we created.\n",
    "5. hyperparameters - hyperparameters we want to pass.\n",
    "\n",
    "Let's start with setting up our IAM role. We make use of a helper function within the Python SDK. This function throws an exception if runs outside a SageMaker notebook instance, as it gets metadata from the notebook instance. If running outside, you must provide an IAM role with proper access stated above in [Permissions](#Permissions)."
   ]
  },
  {
   "cell_type": "code",
   "execution_count": null,
   "metadata": {
    "tags": []
   },
   "outputs": [],
   "source": [
    "from sagemaker import get_execution_role\n",
    "\n",
    "# role to be used for batch submission\n",
    "role = get_execution_role()\n",
    "print(\"role\", role)"
   ]
  },
  {
   "attachments": {},
   "cell_type": "markdown",
   "metadata": {},
   "source": [
    "#### Check the local SageMaker setup"
   ]
  },
  {
   "cell_type": "code",
   "execution_count": null,
   "metadata": {},
   "outputs": [],
   "source": [
    "# Lets set up our SageMaker notebook instance for local mode.\n",
    "!/bin/bash ./utils/setup.sh"
   ]
  },
  {
   "cell_type": "code",
   "execution_count": 14,
   "metadata": {},
   "outputs": [
    {
     "name": "stdout",
     "output_type": "stream",
     "text": [
      "Instance type = local\n"
     ]
    }
   ],
   "source": [
    "# CHECK if GPUs are available and set the corresponding \"instance_type\"\n",
    "import os\n",
    "import subprocess\n",
    "\n",
    "instance_type_local = \"local\"\n",
    "\n",
    "# if subprocess.call(\"nvidia-smi\") == 0:\n",
    "#     ## Set type to GPU if one is present\n",
    "#     instance_type_local = \"local_gpu\"\n",
    "\n",
    "print(\"Instance type = \" + instance_type_local)"
   ]
  },
  {
   "attachments": {},
   "cell_type": "markdown",
   "metadata": {},
   "source": [
    "### Fit (+ Deploy, Predict)\n",
    "\n",
    "Now that the rest of our estimator is configured, we can call `fit()` with the path to our local 20 Newsgroups dataset prefixed with `file://`. This invokes our PyTorch container with 'train' and passes in our hyperparameters and other metadata as json files in /opt/ml/input/config within the container to our program entry point defined in the Dockerfile.\n",
    "\n",
    "After our training has succeeded, our training algorithm outputs our trained model within the /opt/ml/model directory, which is used to handle predictions.\n",
    "\n",
    "If the container used for the training is also used for the inference (NOT IN THIS CASE!) we can then conveniently call `deploy()` with an instance_count and instance_type, which is 1 and `local`. This invokes our PyTorch container with 'serve', which setups our container to handle prediction requests as defined [here](https://github.com/aws/sagemaker-pytorch-container/blob/master/src/sagemaker_pytorch_container/serving.py#L103). What is returned is a predictor, which is used to make inferences against our trained model.\n",
    "\n",
    "After our prediction, we can delete our endpoint.\n",
    "\n",
    "We recommend always testing and training your training algorithm locally first, as it provides quicker iterations and better debuggability."
   ]
  },
  {
   "attachments": {},
   "cell_type": "markdown",
   "metadata": {},
   "source": [
    "#### Local training: Fit"
   ]
  },
  {
   "cell_type": "code",
   "execution_count": null,
   "metadata": {},
   "outputs": [],
   "source": [
    "from sagemaker.estimator import Estimator\n",
    "\n",
    "# define hyperparameters\n",
    "hyperparameters = {\"language\": \"english\"}\n",
    "\n",
    "# prepare training job\n",
    "estimator = Estimator(\n",
    "    role=role,\n",
    "    train_instance_count=1,\n",
    "    train_instance_type=instance_type_local,\n",
    "    image_uri=training_algorithm_name + \":latest\",\n",
    "    hyperparameters=hyperparameters,\n",
    ")\n",
    "\n",
    "# launch training job\n",
    "print(f\"file://{training_file_path}\")\n",
    "estimator.fit(f\"file://{training_file_path}\")\n",
    "# estimator"
   ]
  },
  {
   "cell_type": "code",
   "execution_count": null,
   "metadata": {},
   "outputs": [],
   "source": [
    "# check where the fitted model has been stored after fit\n",
    "estimator.model_data"
   ]
  },
  {
   "attachments": {},
   "cell_type": "markdown",
   "metadata": {},
   "source": [
    "#### A sleek alternative to \"Bring your own container\": bring your own requirements.txt\n",
    "\n",
    "Instead of extending the PyTorch container through a Dockerfile, in many cases we can simply import additional libraries to make our model work. \n",
    "In these cases, adding the requirements.txt inside the same folder as the code will install the required dependencies at runtime. \n",
    "The source directory must be specified in the `source_dir` argument, and the entry point in the `entry_point` argument, when creating PyTorch estimator. Further documentation [here](https://sagemaker.readthedocs.io/en/stable/frameworks/pytorch/using_pytorch.html#using-third-party-libraries)"
   ]
  },
  {
   "cell_type": "code",
   "execution_count": null,
   "metadata": {},
   "outputs": [],
   "source": [
    "import boto3\n",
    "\n",
    "my_session = boto3.session.Session()\n",
    "my_region = my_session.region_name\n",
    "my_image_uri = (\n",
    "    \"763104351884.dkr.ecr.\"\n",
    "    + my_region\n",
    "    + \".amazonaws.com/pytorch-training:1.12.1-gpu-py38-cu113-ubuntu20.04-sagemaker\"\n",
    ")\n",
    "print(\n",
    "    \"my_image_uri:\",\n",
    "    my_image_uri,\n",
    "    \"\\nrole:\",\n",
    "    role,\n",
    ")\n",
    "from sagemaker.estimator import Estimator\n",
    "\n",
    "# define hyperparameters\n",
    "hyperparameters = {\"language\": \"english\"}\n",
    "\n",
    "# prepare training job\n",
    "estimator = Estimator(\n",
    "    role=role,\n",
    "    train_instance_count=1,\n",
    "    train_instance_type=instance_type_local,\n",
    "    image_uri=my_image_uri,\n",
    "    hyperparameters=hyperparameters,\n",
    "    source_dir=\"container/bert-topic-byoreq\",  # this directory contains the entry point code and the requirements.txt\n",
    "    entry_point=\"bert-topic.py\",  # this argument is used to override internal container entrypoint, if needed!\n",
    ")\n",
    "\n",
    "# launch training job\n",
    "print(f\"file://{training_file_path}\")\n",
    "estimator.fit(f\"file://{training_file_path}\")"
   ]
  },
  {
   "cell_type": "code",
   "execution_count": null,
   "metadata": {},
   "outputs": [],
   "source": [
    "estimator.model_data"
   ]
  },
  {
   "attachments": {},
   "cell_type": "markdown",
   "metadata": {},
   "source": [
    "### Training your Algorithm in Amazon SageMaker in batch mode\n",
    "Once you have your container packaged and/or validated, you can use it to train models in batch mode. Let's do that with the algorithm we made above.\n",
    "\n",
    "#### Set up the environment\n",
    "Here we specify the bucket to use (the role has been defined earlier)."
   ]
  },
  {
   "cell_type": "code",
   "execution_count": 96,
   "metadata": {},
   "outputs": [
    {
     "name": "stderr",
     "output_type": "stream",
     "text": [
      "100%|████████████████████████████████████████| 338M/338M [00:01<00:00, 335MiB/s]\n"
     ]
    },
    {
     "name": "stdout",
     "output_type": "stream",
     "text": [
      "v84wgekp8i-algo-1-ekl4b  | 2023-10-08 10:29:54,584 [INFO ] pool-2-thread-1 TS_METRICS - CPUUtilization.Percent:0.0|#Level:Host|#hostname:1b4ba70336c9,timestamp:1696760994\n",
      "v84wgekp8i-algo-1-ekl4b  | 2023-10-08 10:29:54,584 [INFO ] pool-2-thread-1 TS_METRICS - DiskAvailable.Gigabytes:61.79370880126953|#Level:Host|#hostname:1b4ba70336c9,timestamp:1696760994\n",
      "v84wgekp8i-algo-1-ekl4b  | 2023-10-08 10:29:54,584 [INFO ] pool-2-thread-1 TS_METRICS - DiskUsage.Gigabytes:131.99674224853516|#Level:Host|#hostname:1b4ba70336c9,timestamp:1696760994\n",
      "v84wgekp8i-algo-1-ekl4b  | 2023-10-08 10:29:54,584 [INFO ] pool-2-thread-1 TS_METRICS - DiskUtilization.Percent:68.1|#Level:Host|#hostname:1b4ba70336c9,timestamp:1696760994\n",
      "v84wgekp8i-algo-1-ekl4b  | 2023-10-08 10:29:54,584 [INFO ] pool-2-thread-1 TS_METRICS - MemoryAvailable.Megabytes:198991.35546875|#Level:Host|#hostname:1b4ba70336c9,timestamp:1696760994\n",
      "v84wgekp8i-algo-1-ekl4b  | 2023-10-08 10:29:54,584 [INFO ] pool-2-thread-1 TS_METRICS - MemoryUsed.Megabytes:52097.6015625|#Level:Host|#hostname:1b4ba70336c9,timestamp:1696760994\n",
      "v84wgekp8i-algo-1-ekl4b  | 2023-10-08 10:29:54,584 [INFO ] pool-2-thread-1 TS_METRICS - MemoryUtilization.Percent:22.0|#Level:Host|#hostname:1b4ba70336c9,timestamp:1696760994\n",
      "v84wgekp8i-algo-1-ekl4b  | 2023-10-08 10:30:54,584 [INFO ] pool-2-thread-1 TS_METRICS - CPUUtilization.Percent:16.7|#Level:Host|#hostname:1b4ba70336c9,timestamp:1696761054\n",
      "v84wgekp8i-algo-1-ekl4b  | 2023-10-08 10:30:54,584 [INFO ] pool-2-thread-1 TS_METRICS - DiskAvailable.Gigabytes:61.793701171875|#Level:Host|#hostname:1b4ba70336c9,timestamp:1696761054\n",
      "v84wgekp8i-algo-1-ekl4b  | 2023-10-08 10:30:54,584 [INFO ] pool-2-thread-1 TS_METRICS - DiskUsage.Gigabytes:131.9967498779297|#Level:Host|#hostname:1b4ba70336c9,timestamp:1696761054\n",
      "v84wgekp8i-algo-1-ekl4b  | 2023-10-08 10:30:54,584 [INFO ] pool-2-thread-1 TS_METRICS - DiskUtilization.Percent:68.1|#Level:Host|#hostname:1b4ba70336c9,timestamp:1696761054\n",
      "v84wgekp8i-algo-1-ekl4b  | 2023-10-08 10:30:54,584 [INFO ] pool-2-thread-1 TS_METRICS - MemoryAvailable.Megabytes:199001.15625|#Level:Host|#hostname:1b4ba70336c9,timestamp:1696761054\n",
      "v84wgekp8i-algo-1-ekl4b  | 2023-10-08 10:30:54,584 [INFO ] pool-2-thread-1 TS_METRICS - MemoryUsed.Megabytes:52087.76171875|#Level:Host|#hostname:1b4ba70336c9,timestamp:1696761054\n",
      "v84wgekp8i-algo-1-ekl4b  | 2023-10-08 10:30:54,584 [INFO ] pool-2-thread-1 TS_METRICS - MemoryUtilization.Percent:22.0|#Level:Host|#hostname:1b4ba70336c9,timestamp:1696761054\n",
      "v84wgekp8i-algo-1-ekl4b  | 2023-10-08 10:31:54,584 [INFO ] pool-2-thread-2 TS_METRICS - CPUUtilization.Percent:20.0|#Level:Host|#hostname:1b4ba70336c9,timestamp:1696761114\n",
      "v84wgekp8i-algo-1-ekl4b  | 2023-10-08 10:31:54,584 [INFO ] pool-2-thread-2 TS_METRICS - DiskAvailable.Gigabytes:61.793701171875|#Level:Host|#hostname:1b4ba70336c9,timestamp:1696761114\n",
      "v84wgekp8i-algo-1-ekl4b  | 2023-10-08 10:31:54,584 [INFO ] pool-2-thread-2 TS_METRICS - DiskUsage.Gigabytes:131.9967498779297|#Level:Host|#hostname:1b4ba70336c9,timestamp:1696761114\n",
      "v84wgekp8i-algo-1-ekl4b  | 2023-10-08 10:31:54,584 [INFO ] pool-2-thread-2 TS_METRICS - DiskUtilization.Percent:68.1|#Level:Host|#hostname:1b4ba70336c9,timestamp:1696761114\n",
      "v84wgekp8i-algo-1-ekl4b  | 2023-10-08 10:31:54,584 [INFO ] pool-2-thread-2 TS_METRICS - MemoryAvailable.Megabytes:198977.4140625|#Level:Host|#hostname:1b4ba70336c9,timestamp:1696761114\n",
      "v84wgekp8i-algo-1-ekl4b  | 2023-10-08 10:31:54,584 [INFO ] pool-2-thread-2 TS_METRICS - MemoryUsed.Megabytes:52111.54296875|#Level:Host|#hostname:1b4ba70336c9,timestamp:1696761114\n",
      "v84wgekp8i-algo-1-ekl4b  | 2023-10-08 10:31:54,584 [INFO ] pool-2-thread-2 TS_METRICS - MemoryUtilization.Percent:22.0|#Level:Host|#hostname:1b4ba70336c9,timestamp:1696761114\n",
      "v84wgekp8i-algo-1-ekl4b  | 2023-10-08 10:32:54,583 [INFO ] pool-2-thread-2 TS_METRICS - CPUUtilization.Percent:16.7|#Level:Host|#hostname:1b4ba70336c9,timestamp:1696761174\n",
      "v84wgekp8i-algo-1-ekl4b  | 2023-10-08 10:32:54,584 [INFO ] pool-2-thread-2 TS_METRICS - DiskAvailable.Gigabytes:61.79367446899414|#Level:Host|#hostname:1b4ba70336c9,timestamp:1696761174\n",
      "v84wgekp8i-algo-1-ekl4b  | 2023-10-08 10:32:54,584 [INFO ] pool-2-thread-2 TS_METRICS - DiskUsage.Gigabytes:131.99677658081055|#Level:Host|#hostname:1b4ba70336c9,timestamp:1696761174\n",
      "v84wgekp8i-algo-1-ekl4b  | 2023-10-08 10:32:54,584 [INFO ] pool-2-thread-2 TS_METRICS - DiskUtilization.Percent:68.1|#Level:Host|#hostname:1b4ba70336c9,timestamp:1696761174\n",
      "v84wgekp8i-algo-1-ekl4b  | 2023-10-08 10:32:54,584 [INFO ] pool-2-thread-2 TS_METRICS - MemoryAvailable.Megabytes:198970.1640625|#Level:Host|#hostname:1b4ba70336c9,timestamp:1696761174\n",
      "v84wgekp8i-algo-1-ekl4b  | 2023-10-08 10:32:54,584 [INFO ] pool-2-thread-2 TS_METRICS - MemoryUsed.Megabytes:52118.79296875|#Level:Host|#hostname:1b4ba70336c9,timestamp:1696761174\n",
      "v84wgekp8i-algo-1-ekl4b  | 2023-10-08 10:32:54,584 [INFO ] pool-2-thread-2 TS_METRICS - MemoryUtilization.Percent:22.0|#Level:Host|#hostname:1b4ba70336c9,timestamp:1696761174\n"
     ]
    }
   ],
   "source": [
    "import clip\n",
    "import torch\n",
    "model, preprocess = clip.load('ViT-B/32', device='cpu')\n",
    "torch.save((model, preprocess), 'empty/model.pth')"
   ]
  },
  {
   "cell_type": "code",
   "execution_count": null,
   "metadata": {},
   "outputs": [],
   "source": [
    "# S3 prefix\n",
    "prefix = \"DEMO-pytorch-bert-topic\""
   ]
  },
  {
   "attachments": {},
   "cell_type": "markdown",
   "metadata": {},
   "source": [
    "#### Create the session\n",
    "\n",
    "The session remembers our connection parameters to SageMaker. We use it to perform all of our SageMaker operations."
   ]
  },
  {
   "cell_type": "code",
   "execution_count": null,
   "metadata": {},
   "outputs": [],
   "source": [
    "import sagemaker as sage\n",
    "\n",
    "sess = sage.Session()"
   ]
  },
  {
   "attachments": {},
   "cell_type": "markdown",
   "metadata": {},
   "source": [
    "#### Upload the data for training\n",
    "\n",
    "We will use the tools provided by the SageMaker Python SDK to upload the data to a default bucket."
   ]
  },
  {
   "cell_type": "code",
   "execution_count": null,
   "metadata": {},
   "outputs": [],
   "source": [
    "data_location = sess.upload_data(training_file_path, key_prefix=prefix)\n",
    "data_location"
   ]
  },
  {
   "attachments": {},
   "cell_type": "markdown",
   "metadata": {},
   "source": [
    "#### Training on SageMaker in batch mode\n",
    "Training a model on SageMaker with the Python SDK is done in a way that is similar to the way we trained it locally. This is done by changing our train_instance_type from `local` to one of our [supported EC2 instance types](https://aws.amazon.com/sagemaker/pricing/instance-types/).\n",
    "\n",
    "In addition, we must now specify the ECR image URL, which we just pushed above.\n",
    "\n",
    "Finally, our local training dataset has to be in Amazon S3 and the S3 URL to our dataset is passed into the `fit()` call.\n",
    "\n",
    "Let's first fetch our ECR image url that corresponds to the image we just built and pushed.\n",
    "\n",
    "Also in this case, whenever useful, one can use the leverage a pre-existing base image with the \"bring your own requirements.txt\" option (not shown below)."
   ]
  },
  {
   "cell_type": "code",
   "execution_count": null,
   "metadata": {},
   "outputs": [],
   "source": [
    "import boto3\n",
    "\n",
    "client = boto3.client(\"sts\")\n",
    "account = client.get_caller_identity()[\"Account\"]\n",
    "\n",
    "my_session = boto3.session.Session()\n",
    "region = my_session.region_name\n",
    "\n",
    "ecr_image = f\"{account}.dkr.ecr.{region}.amazonaws.com/{training_algorithm_name}:latest\"\n",
    "\n",
    "print(\"using ecr_image:\", ecr_image)"
   ]
  },
  {
   "attachments": {},
   "cell_type": "markdown",
   "metadata": {},
   "source": [
    "After training the mode, the output will be packaged into a tarred file `model.tar.gz` and copied to the S3 bucket in use for the training"
   ]
  },
  {
   "cell_type": "code",
   "execution_count": null,
   "metadata": {},
   "outputs": [],
   "source": [
    "from sagemaker.estimator import Estimator\n",
    "\n",
    "hyperparameters = {\"language\": \"english\"}\n",
    "\n",
    "# instance_type = \"ml.g4dn.xlarge\"\n",
    "instance_type = \"ml.p2.xlarge\"\n",
    "\n",
    "estimator = Estimator(\n",
    "    role=role,\n",
    "    train_instance_count=1,\n",
    "    train_instance_type=instance_type,\n",
    "    image_uri=ecr_image,\n",
    "    hyperparameters=hyperparameters,\n",
    ")\n",
    "\n",
    "estimator.fit(data_location)"
   ]
  },
  {
   "cell_type": "code",
   "execution_count": null,
   "metadata": {},
   "outputs": [],
   "source": [
    "# check where the fitted model has been stored after fit\n",
    "estimator.model_data"
   ]
  },
  {
   "cell_type": "code",
   "execution_count": null,
   "metadata": {},
   "outputs": [],
   "source": [
    "! docker system df\n",
    "! docker image ls\n",
    "# remove downloaded docker images to avoid \"no space left on device\" message\n",
    "! docker system prune -f\n",
    "! docker image prune --all --force"
   ]
  },
  {
   "attachments": {},
   "cell_type": "markdown",
   "metadata": {},
   "source": [
    "## Part 3: Packaging and Uploading your Algorithm for inference\n",
    "\n",
    "### The inference Dockerfile\n",
    "\n",
    "Also in this case the Dockerfile describes the image that we want to build. \n",
    "\n",
    "We start from the SageMaker PyTorch image as the base, but the *inference* one. \n",
    "\n",
    "So the SageMaker PyTorch ECR image in this case would be:\n",
    "* FROM 763104351884.dkr.ecr.{region}.amazonaws.com/pytorch-inference:1.12.1-gpu-py38-cu113-ubuntu20.04-sagemaker\n",
    "\n",
    "Next, we install the required additional libraries (we make sure that to install numba==0.53.1 and nvgpu together with berttopic, otherwise we would get an error!) and add the code that implements our specific algorithm to the container, and set up the right environment for it to run under.\n",
    "\n",
    "Finally, we need to specify two environment variables.\n",
    "1. SAGEMAKER_SUBMIT_DIRECTORY - the directory within the container containing our Python script for training and inference.\n",
    "2. SAGEMAKER_PROGRAM - the Python script that should be invoked for training and inference.\n",
    "\n",
    "Let's look at the Dockerfile for this example."
   ]
  },
  {
   "cell_type": "code",
   "execution_count": 3,
   "metadata": {},
   "outputs": [
    {
     "name": "stdout",
     "output_type": "stream",
     "text": [
      "sagemaker.config INFO - Not applying SDK defaults from location: /etc/xdg/sagemaker/config.yaml\n",
      "sagemaker.config INFO - Not applying SDK defaults from location: /home/ubuntu/.config/sagemaker/config.yaml\n"
     ]
    },
    {
     "data": {
      "text/plain": [
       "'763104351884.dkr.ecr.us-east-1.amazonaws.com/pytorch-inference:1.8.0-gpu-py3'"
      ]
     },
     "execution_count": 3,
     "metadata": {},
     "output_type": "execute_result"
    }
   ],
   "source": [
    "from sagemaker import image_uris\n",
    "image_uris.retrieve(framework='pytorch',region='us-east-1',version='1.8.0',py_version='py3',image_scope='inference', instance_type='ml.g4dn.2xlarge')\n"
   ]
  },
  {
   "cell_type": "code",
   "execution_count": 5,
   "metadata": {},
   "outputs": [],
   "source": [
    "# !cat container/Dockerfile-inference"
   ]
  },
  {
   "attachments": {},
   "cell_type": "markdown",
   "metadata": {},
   "source": [
    "### Writing your own inference script (bert-topic-inference.py)\n",
    "\n",
    "Given the use of a pre-packaged SageMaker PyTorch container, the only requirement to write an inference script is that it has to define the following template functions:\n",
    "- `model_fn()` reading the content of an existing model weights directory saved as a `tar.gz` in s3. We will use it to load the trained Model.\n",
    "- `input_fn()` used here simply to format the data receives from a request made to the endpoint.\n",
    "- `predict_fn()` calling the output of `model_fn()` to run inference on the output of `input_fn()`.\n",
    "\n",
    "Optionally a `output_fn()` can be created for inference formatting, using the output of `predict_fn()`. Here it is especially useful since the BERTopic inference output is not really standard, featuring a tuple containing 2 lists.\n"
   ]
  },
  {
   "cell_type": "code",
   "execution_count": null,
   "metadata": {},
   "outputs": [],
   "source": [
    "!pygmentize container/bert-topic/bert-topic-inference.py"
   ]
  },
  {
   "cell_type": "code",
   "execution_count": 2,
   "metadata": {},
   "outputs": [],
   "source": [
    "# The name of our algorithm -- i.e. the name of the inference container\n",
    "inference_algorithm_name = \"pytorch-inference-clip-example\""
   ]
  },
  {
   "cell_type": "code",
   "execution_count": 55,
   "metadata": {},
   "outputs": [
    {
     "name": "stdout",
     "output_type": "stream",
     "text": [
      "build_and_push.sh: 12: [: pytorch-inference-clip-example: unexpected operator\n",
      "ECR image fullname: 223890829887.dkr.ecr.us-east-1.amazonaws.com/pytorch-inference-clip-example:latest\n",
      "WARNING! Your password will be stored unencrypted in /home/ubuntu/.docker/config.json.\n",
      "Configure a credential helper to remove this warning. See\n",
      "https://docs.docker.com/engine/reference/commandline/login/#credentials-store\n",
      "\n",
      "Login Succeeded\n",
      "WARNING! Your password will be stored unencrypted in /home/ubuntu/.docker/config.json.\n",
      "Configure a credential helper to remove this warning. See\n",
      "https://docs.docker.com/engine/reference/commandline/login/#credentials-store\n",
      "\n",
      "Login Succeeded\n",
      "\u001b[1A\u001b[1B\u001b[0G\u001b[?25l[+] Building 0.0s (0/1)                                          docker:default\n",
      "\u001b[?25h\u001b[1A\u001b[0G\u001b[?25l[+] Building 0.1s (4/4)                                          docker:default\n",
      "\u001b[34m => [internal] load build definition from Dockerfile-inference             0.0s\n",
      "\u001b[0m\u001b[34m => => transferring dockerfile: 1.99kB                                     0.0s\n",
      "\u001b[0m\u001b[34m => [internal] load .dockerignore                                          0.0s\n",
      "\u001b[0m\u001b[34m => => transferring context: 2B                                            0.0s\n",
      "\u001b[0m\u001b[34m => [internal] load metadata for 763104351884.dkr.ecr.us-east-1.amazonaws  0.1s\n",
      "\u001b[0m\u001b[34m => [auth] sharing credentials for 763104351884.dkr.ecr.us-east-1.amazona  0.0s\n",
      "\u001b[0m\u001b[?25h\u001b[1A\u001b[1A\u001b[1A\u001b[1A\u001b[1A\u001b[1A\u001b[1A\u001b[0G\u001b[?25l[+] Building 0.2s (12/12) FINISHED                               docker:default\n",
      "\u001b[34m => [internal] load build definition from Dockerfile-inference             0.0s\n",
      "\u001b[0m\u001b[34m => => transferring dockerfile: 1.99kB                                     0.0s\n",
      "\u001b[0m\u001b[34m => [internal] load .dockerignore                                          0.0s\n",
      "\u001b[0m\u001b[34m => => transferring context: 2B                                            0.0s\n",
      "\u001b[0m\u001b[34m => [internal] load metadata for 763104351884.dkr.ecr.us-east-1.amazonaws  0.1s\n",
      "\u001b[0m\u001b[34m => [auth] sharing credentials for 763104351884.dkr.ecr.us-east-1.amazona  0.0s\n",
      "\u001b[0m\u001b[34m => [1/6] FROM 763104351884.dkr.ecr.us-east-1.amazonaws.com/pytorch-infer  0.0s\n",
      "\u001b[0m\u001b[34m => [internal] load build context                                          0.0s\n",
      "\u001b[0m\u001b[34m => => transferring context: 130B                                          0.0s\n",
      "\u001b[0m\u001b[34m => CACHED [2/6] RUN pip install ftfy regex tqdm                           0.0s\n",
      "\u001b[0m\u001b[34m => CACHED [3/6] RUN pip install git+https://github.com/openai/CLIP.git    0.0s\n",
      "\u001b[0m\u001b[34m => CACHED [4/6] COPY /bert-topic /opt/ml/code                             0.0s\n",
      "\u001b[0m\u001b[34m => CACHED [5/6] RUN pip install --no-cache-dir --upgrade pip &&     pip   0.0s\n",
      "\u001b[0m\u001b[34m => CACHED [6/6] RUN pip freeze                                            0.0s\n",
      "\u001b[0m\u001b[34m => exporting to image                                                     0.0s\n",
      "\u001b[0m\u001b[34m => => exporting layers                                                    0.0s\n",
      "\u001b[0m\u001b[34m => => writing image sha256:1dc87520750c3307364629bbd762515cc25249a327684  0.0s\n",
      "\u001b[0m\u001b[34m => => naming to docker.io/library/pytorch-inference-clip-example          0.0s\n",
      "\u001b[0m\u001b[?25hThe push refers to repository [223890829887.dkr.ecr.us-east-1.amazonaws.com/pytorch-inference-clip-example]\n",
      "\n",
      "\u001b[1Bbf18a086: Preparing \n",
      "\u001b[1Ba2f88bd2: Preparing \n",
      "\u001b[1B685f3a80: Preparing \n",
      "\u001b[1Bf9f26b01: Preparing \n",
      "\u001b[1B00c86dc4: Preparing \n",
      "\u001b[1Bb5f7222d: Preparing \n",
      "\u001b[1B8000bbcd: Preparing \n",
      "\u001b[1Bb7b3fac7: Preparing \n",
      "\u001b[1Bbc71311d: Preparing \n",
      "\u001b[1Be374b287: Preparing \n",
      "\u001b[1B8ddb24f3: Preparing \n",
      "\u001b[1Bae01168b: Preparing \n",
      "\u001b[1B5dc6d75b: Preparing \n",
      "\u001b[1B2f449df1: Preparing \n",
      "\u001b[1B511ea28b: Preparing \n",
      "\u001b[1Bd405bcde: Preparing \n",
      "\u001b[1Baef09c3d: Preparing \n",
      "\u001b[8B8ddb24f3: Waiting g \n",
      "\u001b[12B7b3fac7: Waiting g \n",
      "\u001b[12Bc71311d: Waiting g \n",
      "\u001b[12B374b287: Waiting g \n",
      "\u001b[11Be01168b: Waiting g \n",
      "\u001b[1B0e36189e: Preparing \n",
      "\u001b[12Bdc6d75b: Waiting g \n",
      "\u001b[1B581dbc3c: Preparing \n",
      "\u001b[1B6facb613: Layer already exists \u001b[20A\u001b[2K\u001b[16A\u001b[2K\u001b[12A\u001b[2K\u001b[8A\u001b[2K\u001b[3A\u001b[2Klatest: digest: sha256:d38ad91b63cbc4f0f7f0f78d4b97b38e52290e62b8881d7c2866e4c63f8f9981 size: 5771\n"
     ]
    }
   ],
   "source": [
    "# building and pushing the container\n",
    "! cd container && sh build_and_push.sh {inference_algorithm_name} Dockerfile-inference"
   ]
  },
  {
   "attachments": {},
   "cell_type": "markdown",
   "metadata": {},
   "source": [
    "### Inference from Containerized SageMaker Model"
   ]
  },
  {
   "cell_type": "code",
   "execution_count": 33,
   "metadata": {},
   "outputs": [
    {
     "data": {
      "text/plain": [
       "'223890829887.dkr.ecr.us-east-1.amazonaws.com/pytorch-inference-clip-example:latest'"
      ]
     },
     "execution_count": 33,
     "metadata": {},
     "output_type": "execute_result"
    }
   ],
   "source": [
    "import pprint\n",
    "import boto3\n",
    "\n",
    "pp = pprint.PrettyPrinter(indent=1)\n",
    "\n",
    "sm_boto3 = boto3.client(\"sagemaker\")\n",
    "\n",
    "region = boto3.Session().region_name\n",
    "account_id = boto3.client(\"sts\").get_caller_identity()[\"Account\"]\n",
    "\n",
    "image_uri_inference = (\n",
    "    f\"{account_id}.dkr.ecr.{region}.amazonaws.com/{inference_algorithm_name}:latest\"\n",
    ")\n",
    "image_uri_inference"
   ]
  },
  {
   "attachments": {},
   "cell_type": "markdown",
   "metadata": {},
   "source": [
    "#### Prepare session to run container locally"
   ]
  },
  {
   "cell_type": "code",
   "execution_count": 35,
   "metadata": {},
   "outputs": [
    {
     "name": "stdout",
     "output_type": "stream",
     "text": [
      "sagemaker.config INFO - Not applying SDK defaults from location: /etc/xdg/sagemaker/config.yaml\n",
      "sagemaker.config INFO - Not applying SDK defaults from location: /home/ubuntu/.config/sagemaker/config.yaml\n",
      "sagemaker.config INFO - Not applying SDK defaults from location: /etc/xdg/sagemaker/config.yaml\n",
      "sagemaker.config INFO - Not applying SDK defaults from location: /home/ubuntu/.config/sagemaker/config.yaml\n",
      "<class 'sagemaker.local.local_session.LocalSession'>\n",
      "sagemaker.config INFO - Not applying SDK defaults from location: /etc/xdg/sagemaker/config.yaml\n",
      "sagemaker.config INFO - Not applying SDK defaults from location: /home/ubuntu/.config/sagemaker/config.yaml\n"
     ]
    }
   ],
   "source": [
    "import sagemaker\n",
    "from sagemaker.local import LocalSession\n",
    "instance_type_local = 'local'\n",
    "session_local = LocalSession()\n",
    "session_local.config = {instance_type_local: {\"local_code\": True}}\n",
    "print(type(session_local))\n",
    "\n",
    "from sagemaker import get_execution_role\n",
    "\n",
    "role = get_execution_role()"
   ]
  },
  {
   "attachments": {},
   "cell_type": "markdown",
   "metadata": {},
   "source": [
    "#### Check for locally running Docker containers (and stop them if needed)"
   ]
  },
  {
   "cell_type": "code",
   "execution_count": 36,
   "metadata": {},
   "outputs": [
    {
     "name": "stdout",
     "output_type": "stream",
     "text": [
      "CONTAINER ID   IMAGE                                                                                         COMMAND                  CREATED      STATUS      PORTS                                                           NAMES\n",
      "e4f574d87d5c   docker.artifactory.rbx.com/clip-triton-base-docker:5b975fd60454f0e76a0d2bfd06c2bb489a3ee731   \"/opt/nvidia/nvidia_…\"   2 days ago   Up 2 days   0.0.0.0:8000-8002->8000-8002/tcp, :::8000-8002->8000-8002/tcp   intelligent_morse\n"
     ]
    }
   ],
   "source": [
    "! docker ps"
   ]
  },
  {
   "cell_type": "code",
   "execution_count": 37,
   "metadata": {},
   "outputs": [],
   "source": [
    "# if model doesn't deploy locally, kill other running containers\n",
    "# docker stop $(docker ps -a -q)\n",
    "# docker rm $(docker ps -a -q)"
   ]
  },
  {
   "attachments": {},
   "cell_type": "markdown",
   "metadata": {},
   "source": [
    "#### Deploy container locally to create a local endpoint \n",
    "##### (WARNING: cells stdout will start behaving fuzzy, showing container log info, till the local container is active...)\n",
    "\n",
    "Disclaimer: if the inference container is missing the default `behavior` is possible to use local files (`source_dir` and `entry_point` arguments)"
   ]
  },
  {
   "cell_type": "code",
   "execution_count": 38,
   "metadata": {},
   "outputs": [],
   "source": [
    "# import torch\n",
    "# # torch.tensor([1,2,3,4,5]).save('empty/model.pth')"
   ]
  },
  {
   "cell_type": "code",
   "execution_count": 40,
   "metadata": {},
   "outputs": [
    {
     "name": "stderr",
     "output_type": "stream",
     "text": [
      "Using the short-lived AWS credentials found in session. They might expire while running.\n"
     ]
    },
    {
     "name": "stdout",
     "output_type": "stream",
     "text": [
      "Attaching to 2227s001z1-algo-1-ghk5f\n",
      "2227s001z1-algo-1-ghk5f  | ['torchserve', '--start', '--model-store', '/.sagemaker/ts/models', '--ts-config', '/etc/sagemaker-ts.properties', '--log-config', '/opt/conda/lib/python3.6/site-packages/sagemaker_pytorch_serving_container/etc/log4j.properties', '--models', 'model.mar']\n",
      "2227s001z1-algo-1-ghk5f  | 2023-10-09 08:56:41,830 [INFO ] main org.pytorch.serve.ModelServer - \n",
      "2227s001z1-algo-1-ghk5f  | Torchserve version: 0.3.0\n",
      "2227s001z1-algo-1-ghk5f  | TS Home: /opt/conda/lib/python3.6/site-packages\n",
      "2227s001z1-algo-1-ghk5f  | Current directory: /\n",
      "2227s001z1-algo-1-ghk5f  | Temp directory: /home/model-server/tmp\n",
      "2227s001z1-algo-1-ghk5f  | Number of GPUs: 0\n",
      "2227s001z1-algo-1-ghk5f  | Number of CPUs: 64\n",
      "2227s001z1-algo-1-ghk5f  | Max heap size: 30688 M\n",
      "2227s001z1-algo-1-ghk5f  | Python executable: /opt/conda/bin/python3.6\n",
      "2227s001z1-algo-1-ghk5f  | Config file: /etc/sagemaker-ts.properties\n",
      "2227s001z1-algo-1-ghk5f  | Inference address: http://0.0.0.0:8080\n",
      "2227s001z1-algo-1-ghk5f  | Management address: http://0.0.0.0:8080\n",
      "2227s001z1-algo-1-ghk5f  | Metrics address: http://127.0.0.1:8082\n",
      "2227s001z1-algo-1-ghk5f  | Model Store: /.sagemaker/ts/models\n",
      "2227s001z1-algo-1-ghk5f  | Initial Models: model.mar\n",
      "2227s001z1-algo-1-ghk5f  | Log dir: /logs\n",
      "2227s001z1-algo-1-ghk5f  | Metrics dir: /logs\n",
      "2227s001z1-algo-1-ghk5f  | Netty threads: 0\n",
      "2227s001z1-algo-1-ghk5f  | Netty client threads: 0\n",
      "2227s001z1-algo-1-ghk5f  | Default workers per model: 1\n",
      "2227s001z1-algo-1-ghk5f  | Blacklist Regex: N/A\n",
      "2227s001z1-algo-1-ghk5f  | Maximum Response Size: 6553500\n",
      "2227s001z1-algo-1-ghk5f  | Maximum Request Size: 6553500\n",
      "2227s001z1-algo-1-ghk5f  | Prefer direct buffer: false\n",
      "2227s001z1-algo-1-ghk5f  | Allowed Urls: [file://.*|http(s)?://.*]\n",
      "2227s001z1-algo-1-ghk5f  | Custom python dependency for model allowed: false\n",
      "2227s001z1-algo-1-ghk5f  | Metrics report format: prometheus\n",
      "2227s001z1-algo-1-ghk5f  | Enable metrics API: true\n",
      "2227s001z1-algo-1-ghk5f  | 2023-10-09 08:56:41,855 [INFO ] main org.pytorch.serve.ModelServer - Loading initial models: model.mar\n"
     ]
    },
    {
     "ename": "RuntimeError",
     "evalue": "Giving up, endpoint didn't launch correctly",
     "output_type": "error",
     "traceback": [
      "\u001b[0;31m---------------------------------------------------------------------------\u001b[0m",
      "\u001b[0;31mRuntimeError\u001b[0m                              Traceback (most recent call last)",
      "\u001b[1;32m/data/amazon-sagemaker-examples/advanced_functionality/pytorch_extend_container_train_deploy_bertopic/BERTtopic_extending_container.ipynb Cell 64\u001b[0m line \u001b[0;36m2\n\u001b[1;32m      <a href='vscode-notebook-cell://ssh-remote%2B10.102.52.126/data/amazon-sagemaker-examples/advanced_functionality/pytorch_extend_container_train_deploy_bertopic/BERTtopic_extending_container.ipynb#Y120sdnNjb2RlLXJlbW90ZQ%3D%3D?line=2'>3</a>\u001b[0m \u001b[39m# model_data = estimator.model_data\u001b[39;00m\n\u001b[1;32m      <a href='vscode-notebook-cell://ssh-remote%2B10.102.52.126/data/amazon-sagemaker-examples/advanced_functionality/pytorch_extend_container_train_deploy_bertopic/BERTtopic_extending_container.ipynb#Y120sdnNjb2RlLXJlbW90ZQ%3D%3D?line=4'>5</a>\u001b[0m estimator \u001b[39m=\u001b[39m Model(\n\u001b[1;32m      <a href='vscode-notebook-cell://ssh-remote%2B10.102.52.126/data/amazon-sagemaker-examples/advanced_functionality/pytorch_extend_container_train_deploy_bertopic/BERTtopic_extending_container.ipynb#Y120sdnNjb2RlLXJlbW90ZQ%3D%3D?line=5'>6</a>\u001b[0m     image_uri\u001b[39m=\u001b[39mimage_uri_inference,\n\u001b[1;32m      <a href='vscode-notebook-cell://ssh-remote%2B10.102.52.126/data/amazon-sagemaker-examples/advanced_functionality/pytorch_extend_container_train_deploy_bertopic/BERTtopic_extending_container.ipynb#Y120sdnNjb2RlLXJlbW90ZQ%3D%3D?line=6'>7</a>\u001b[0m     model_data\u001b[39m=\u001b[39m\u001b[39m\"\u001b[39m\u001b[39mfile://./model.tar.gz\u001b[39m\u001b[39m\"\u001b[39m,\n\u001b[0;32m   (...)\u001b[0m\n\u001b[1;32m     <a href='vscode-notebook-cell://ssh-remote%2B10.102.52.126/data/amazon-sagemaker-examples/advanced_functionality/pytorch_extend_container_train_deploy_bertopic/BERTtopic_extending_container.ipynb#Y120sdnNjb2RlLXJlbW90ZQ%3D%3D?line=21'>22</a>\u001b[0m     \u001b[39m#                   git_config=None\u001b[39;00m\n\u001b[1;32m     <a href='vscode-notebook-cell://ssh-remote%2B10.102.52.126/data/amazon-sagemaker-examples/advanced_functionality/pytorch_extend_container_train_deploy_bertopic/BERTtopic_extending_container.ipynb#Y120sdnNjb2RlLXJlbW90ZQ%3D%3D?line=22'>23</a>\u001b[0m )\n\u001b[0;32m---> <a href='vscode-notebook-cell://ssh-remote%2B10.102.52.126/data/amazon-sagemaker-examples/advanced_functionality/pytorch_extend_container_train_deploy_bertopic/BERTtopic_extending_container.ipynb#Y120sdnNjb2RlLXJlbW90ZQ%3D%3D?line=24'>25</a>\u001b[0m predictor \u001b[39m=\u001b[39m estimator\u001b[39m.\u001b[39;49mdeploy(\u001b[39m1\u001b[39;49m, instance_type_local)\n",
      "File \u001b[0;32m/opt/conda/envs/newvscode/lib/python3.11/site-packages/sagemaker/model.py:1457\u001b[0m, in \u001b[0;36mModel.deploy\u001b[0;34m(self, initial_instance_count, instance_type, serializer, deserializer, accelerator_type, endpoint_name, tags, kms_key, wait, data_capture_config, async_inference_config, serverless_inference_config, volume_size, model_data_download_timeout, container_startup_health_check_timeout, inference_recommendation_id, explainer_config, **kwargs)\u001b[0m\n\u001b[1;32m   1454\u001b[0m \u001b[39mif\u001b[39;00m is_explainer_enabled:\n\u001b[1;32m   1455\u001b[0m     explainer_config_dict \u001b[39m=\u001b[39m explainer_config\u001b[39m.\u001b[39m_to_request_dict()\n\u001b[0;32m-> 1457\u001b[0m \u001b[39mself\u001b[39;49m\u001b[39m.\u001b[39;49msagemaker_session\u001b[39m.\u001b[39;49mendpoint_from_production_variants(\n\u001b[1;32m   1458\u001b[0m     name\u001b[39m=\u001b[39;49m\u001b[39mself\u001b[39;49m\u001b[39m.\u001b[39;49mendpoint_name,\n\u001b[1;32m   1459\u001b[0m     production_variants\u001b[39m=\u001b[39;49m[production_variant],\n\u001b[1;32m   1460\u001b[0m     tags\u001b[39m=\u001b[39;49mtags,\n\u001b[1;32m   1461\u001b[0m     kms_key\u001b[39m=\u001b[39;49mkms_key,\n\u001b[1;32m   1462\u001b[0m     wait\u001b[39m=\u001b[39;49mwait,\n\u001b[1;32m   1463\u001b[0m     data_capture_config_dict\u001b[39m=\u001b[39;49mdata_capture_config_dict,\n\u001b[1;32m   1464\u001b[0m     explainer_config_dict\u001b[39m=\u001b[39;49mexplainer_config_dict,\n\u001b[1;32m   1465\u001b[0m     async_inference_config_dict\u001b[39m=\u001b[39;49masync_inference_config_dict,\n\u001b[1;32m   1466\u001b[0m )\n\u001b[1;32m   1468\u001b[0m \u001b[39mif\u001b[39;00m \u001b[39mself\u001b[39m\u001b[39m.\u001b[39mpredictor_cls:\n\u001b[1;32m   1469\u001b[0m     predictor \u001b[39m=\u001b[39m \u001b[39mself\u001b[39m\u001b[39m.\u001b[39mpredictor_cls(\u001b[39mself\u001b[39m\u001b[39m.\u001b[39mendpoint_name, \u001b[39mself\u001b[39m\u001b[39m.\u001b[39msagemaker_session)\n",
      "File \u001b[0;32m/opt/conda/envs/newvscode/lib/python3.11/site-packages/sagemaker/session.py:4841\u001b[0m, in \u001b[0;36mSession.endpoint_from_production_variants\u001b[0;34m(self, name, production_variants, tags, kms_key, wait, data_capture_config_dict, async_inference_config_dict, explainer_config_dict)\u001b[0m\n\u001b[1;32m   4838\u001b[0m LOGGER\u001b[39m.\u001b[39minfo(\u001b[39m\"\u001b[39m\u001b[39mCreating endpoint-config with name \u001b[39m\u001b[39m%s\u001b[39;00m\u001b[39m\"\u001b[39m, name)\n\u001b[1;32m   4839\u001b[0m \u001b[39mself\u001b[39m\u001b[39m.\u001b[39msagemaker_client\u001b[39m.\u001b[39mcreate_endpoint_config(\u001b[39m*\u001b[39m\u001b[39m*\u001b[39mconfig_options)\n\u001b[0;32m-> 4841\u001b[0m \u001b[39mreturn\u001b[39;00m \u001b[39mself\u001b[39;49m\u001b[39m.\u001b[39;49mcreate_endpoint(\n\u001b[1;32m   4842\u001b[0m     endpoint_name\u001b[39m=\u001b[39;49mname, config_name\u001b[39m=\u001b[39;49mname, tags\u001b[39m=\u001b[39;49mendpoint_tags, wait\u001b[39m=\u001b[39;49mwait\n\u001b[1;32m   4843\u001b[0m )\n",
      "File \u001b[0;32m/opt/conda/envs/newvscode/lib/python3.11/site-packages/sagemaker/session.py:4182\u001b[0m, in \u001b[0;36mSession.create_endpoint\u001b[0;34m(self, endpoint_name, config_name, tags, wait)\u001b[0m\n\u001b[1;32m   4177\u001b[0m tags \u001b[39m=\u001b[39m _append_project_tags(tags)\n\u001b[1;32m   4178\u001b[0m tags \u001b[39m=\u001b[39m \u001b[39mself\u001b[39m\u001b[39m.\u001b[39m_append_sagemaker_config_tags(\n\u001b[1;32m   4179\u001b[0m     tags, \u001b[39m\"\u001b[39m\u001b[39m{}\u001b[39;00m\u001b[39m.\u001b[39m\u001b[39m{}\u001b[39;00m\u001b[39m.\u001b[39m\u001b[39m{}\u001b[39;00m\u001b[39m\"\u001b[39m\u001b[39m.\u001b[39mformat(SAGEMAKER, ENDPOINT, TAGS)\n\u001b[1;32m   4180\u001b[0m )\n\u001b[0;32m-> 4182\u001b[0m \u001b[39mself\u001b[39;49m\u001b[39m.\u001b[39;49msagemaker_client\u001b[39m.\u001b[39;49mcreate_endpoint(\n\u001b[1;32m   4183\u001b[0m     EndpointName\u001b[39m=\u001b[39;49mendpoint_name, EndpointConfigName\u001b[39m=\u001b[39;49mconfig_name, Tags\u001b[39m=\u001b[39;49mtags\n\u001b[1;32m   4184\u001b[0m )\n\u001b[1;32m   4185\u001b[0m \u001b[39mif\u001b[39;00m wait:\n\u001b[1;32m   4186\u001b[0m     \u001b[39mself\u001b[39m\u001b[39m.\u001b[39mwait_for_endpoint(endpoint_name)\n",
      "File \u001b[0;32m/opt/conda/envs/newvscode/lib/python3.11/site-packages/sagemaker/local/local_session.py:364\u001b[0m, in \u001b[0;36mLocalSagemakerClient.create_endpoint\u001b[0;34m(self, EndpointName, EndpointConfigName, Tags)\u001b[0m\n\u001b[1;32m    362\u001b[0m endpoint \u001b[39m=\u001b[39m _LocalEndpoint(EndpointName, EndpointConfigName, Tags, \u001b[39mself\u001b[39m\u001b[39m.\u001b[39msagemaker_session)\n\u001b[1;32m    363\u001b[0m LocalSagemakerClient\u001b[39m.\u001b[39m_endpoints[EndpointName] \u001b[39m=\u001b[39m endpoint\n\u001b[0;32m--> 364\u001b[0m endpoint\u001b[39m.\u001b[39;49mserve()\n",
      "File \u001b[0;32m/opt/conda/envs/newvscode/lib/python3.11/site-packages/sagemaker/local/entities.py:608\u001b[0m, in \u001b[0;36m_LocalEndpoint.serve\u001b[0;34m(self)\u001b[0m\n\u001b[1;32m    603\u001b[0m \u001b[39mself\u001b[39m\u001b[39m.\u001b[39mcontainer\u001b[39m.\u001b[39mserve(\n\u001b[1;32m    604\u001b[0m     \u001b[39mself\u001b[39m\u001b[39m.\u001b[39mprimary_container[\u001b[39m\"\u001b[39m\u001b[39mModelDataUrl\u001b[39m\u001b[39m\"\u001b[39m], \u001b[39mself\u001b[39m\u001b[39m.\u001b[39mprimary_container[\u001b[39m\"\u001b[39m\u001b[39mEnvironment\u001b[39m\u001b[39m\"\u001b[39m]\n\u001b[1;32m    605\u001b[0m )\n\u001b[1;32m    607\u001b[0m serving_port \u001b[39m=\u001b[39m get_config_value(\u001b[39m\"\u001b[39m\u001b[39mlocal.serving_port\u001b[39m\u001b[39m\"\u001b[39m, \u001b[39mself\u001b[39m\u001b[39m.\u001b[39mlocal_session\u001b[39m.\u001b[39mconfig) \u001b[39mor\u001b[39;00m \u001b[39m8080\u001b[39m\n\u001b[0;32m--> 608\u001b[0m _wait_for_serving_container(serving_port)\n\u001b[1;32m    609\u001b[0m \u001b[39m# the container is running and it passed the healthcheck status is now InService\u001b[39;00m\n\u001b[1;32m    610\u001b[0m \u001b[39mself\u001b[39m\u001b[39m.\u001b[39mstate \u001b[39m=\u001b[39m _LocalEndpoint\u001b[39m.\u001b[39m_IN_SERVICE\n",
      "File \u001b[0;32m/opt/conda/envs/newvscode/lib/python3.11/site-packages/sagemaker/local/entities.py:940\u001b[0m, in \u001b[0;36m_wait_for_serving_container\u001b[0;34m(serving_port)\u001b[0m\n\u001b[1;32m    938\u001b[0m i \u001b[39m+\u001b[39m\u001b[39m=\u001b[39m \u001b[39m5\u001b[39m\n\u001b[1;32m    939\u001b[0m \u001b[39mif\u001b[39;00m i \u001b[39m>\u001b[39m\u001b[39m=\u001b[39m HEALTH_CHECK_TIMEOUT_LIMIT:\n\u001b[0;32m--> 940\u001b[0m     \u001b[39mraise\u001b[39;00m \u001b[39mRuntimeError\u001b[39;00m(\u001b[39m\"\u001b[39m\u001b[39mGiving up, endpoint didn\u001b[39m\u001b[39m'\u001b[39m\u001b[39mt launch correctly\u001b[39m\u001b[39m\"\u001b[39m)\n\u001b[1;32m    942\u001b[0m logger\u001b[39m.\u001b[39minfo(\u001b[39m\"\u001b[39m\u001b[39mChecking if serving container is up, attempt: \u001b[39m\u001b[39m%s\u001b[39;00m\u001b[39m\"\u001b[39m, i)\n\u001b[1;32m    943\u001b[0m _, code \u001b[39m=\u001b[39m _perform_request(endpoint_url, http)\n",
      "\u001b[0;31mRuntimeError\u001b[0m: Giving up, endpoint didn't launch correctly"
     ]
    },
    {
     "name": "stdout",
     "output_type": "stream",
     "text": [
      "2227s001z1-algo-1-ghk5f  | 2023-10-09 08:56:48,107 [INFO ] main org.pytorch.serve.archive.ModelArchive - eTag 7ae763ef88a54fd583474d0949b50015\n",
      "2227s001z1-algo-1-ghk5f  | 2023-10-09 08:56:48,115 [INFO ] main org.pytorch.serve.wlm.ModelManager - Model model loaded.\n",
      "2227s001z1-algo-1-ghk5f  | 2023-10-09 08:56:48,125 [INFO ] main org.pytorch.serve.ModelServer - Initialize Inference server with: EpollServerSocketChannel.\n",
      "2227s001z1-algo-1-ghk5f  | 2023-10-09 08:56:48,186 [INFO ] main org.pytorch.serve.ModelServer - Inference API bind to: http://0.0.0.0:8080\n",
      "2227s001z1-algo-1-ghk5f  | 2023-10-09 08:56:48,186 [INFO ] main org.pytorch.serve.ModelServer - Initialize Metrics server with: EpollServerSocketChannel.\n",
      "2227s001z1-algo-1-ghk5f  | 2023-10-09 08:56:48,187 [INFO ] main org.pytorch.serve.ModelServer - Metrics API bind to: http://127.0.0.1:8082\n",
      "2227s001z1-algo-1-ghk5f  | 2023-10-09 08:56:48,214 [INFO ] W-9000-model_1-stdout org.pytorch.serve.wlm.WorkerLifeCycle - Listening on port: /home/model-server/tmp/.ts.sock.9000\n",
      "2227s001z1-algo-1-ghk5f  | 2023-10-09 08:56:48,215 [INFO ] W-9000-model_1-stdout org.pytorch.serve.wlm.WorkerLifeCycle - [PID]110\n",
      "2227s001z1-algo-1-ghk5f  | 2023-10-09 08:56:48,215 [INFO ] W-9000-model_1-stdout org.pytorch.serve.wlm.WorkerLifeCycle - Torch worker started.\n",
      "2227s001z1-algo-1-ghk5f  | 2023-10-09 08:56:48,216 [INFO ] W-9000-model_1-stdout org.pytorch.serve.wlm.WorkerLifeCycle - Python runtime: 3.6.13\n",
      "2227s001z1-algo-1-ghk5f  | 2023-10-09 08:56:48,222 [INFO ] W-9000-model_1 org.pytorch.serve.wlm.WorkerThread - Connecting to: /home/model-server/tmp/.ts.sock.9000\n",
      "2227s001z1-algo-1-ghk5f  | 2023-10-09 08:56:48,234 [INFO ] W-9000-model_1-stdout org.pytorch.serve.wlm.WorkerLifeCycle - Connection accepted: /home/model-server/tmp/.ts.sock.9000.\n",
      "2227s001z1-algo-1-ghk5f  | Model server started.\n",
      "2227s001z1-algo-1-ghk5f  | 2023-10-09 08:56:48,458 [INFO ] pool-2-thread-1 TS_METRICS - CPUUtilization.Percent:0.0|#Level:Host|#hostname:6104c552534b,timestamp:1696841808\n",
      "2227s001z1-algo-1-ghk5f  | 2023-10-09 08:56:48,458 [INFO ] pool-2-thread-1 TS_METRICS - DiskAvailable.Gigabytes:58.35411071777344|#Level:Host|#hostname:6104c552534b,timestamp:1696841808\n",
      "2227s001z1-algo-1-ghk5f  | 2023-10-09 08:56:48,459 [INFO ] pool-2-thread-1 TS_METRICS - DiskUsage.Gigabytes:135.43634033203125|#Level:Host|#hostname:6104c552534b,timestamp:1696841808\n",
      "2227s001z1-algo-1-ghk5f  | 2023-10-09 08:56:48,459 [INFO ] pool-2-thread-1 TS_METRICS - DiskUtilization.Percent:69.9|#Level:Host|#hostname:6104c552534b,timestamp:1696841808\n",
      "2227s001z1-algo-1-ghk5f  | 2023-10-09 08:56:48,459 [INFO ] pool-2-thread-1 TS_METRICS - MemoryAvailable.Megabytes:201113.8515625|#Level:Host|#hostname:6104c552534b,timestamp:1696841808\n",
      "2227s001z1-algo-1-ghk5f  | 2023-10-09 08:56:48,459 [INFO ] pool-2-thread-1 TS_METRICS - MemoryUsed.Megabytes:49974.84375|#Level:Host|#hostname:6104c552534b,timestamp:1696841808\n",
      "2227s001z1-algo-1-ghk5f  | 2023-10-09 08:56:48,459 [INFO ] pool-2-thread-1 TS_METRICS - MemoryUtilization.Percent:21.1|#Level:Host|#hostname:6104c552534b,timestamp:1696841808\n",
      "2227s001z1-algo-1-ghk5f  | 2023-10-09 08:56:49,141 [INFO ] W-9000-model_1-stdout org.pytorch.serve.wlm.WorkerLifeCycle - Loading model\n",
      "2227s001z1-algo-1-ghk5f  | 2023-10-09 08:56:49,142 [INFO ] W-9000-model_1-stdout org.pytorch.serve.wlm.WorkerLifeCycle - inside model_fn, model_dir= /home/model-server/tmp/models/7ae763ef88a54fd583474d0949b50015\n",
      "2227s001z1-algo-1-ghk5f  | 2023-10-09 08:56:49,142 [INFO ] W-9000-model_1-stdout org.pytorch.serve.wlm.WorkerLifeCycle - Device Type: cpu\n",
      "2227s001z1-algo-1-ghk5f  | 2023-10-09 08:56:49,412 [INFO ] W-9000-model_1-stdout org.pytorch.serve.wlm.WorkerLifeCycle - Model loaded with Clip\n",
      "2227s001z1-algo-1-ghk5f  | 2023-10-09 08:56:49,418 [INFO ] W-9000-model_1 org.pytorch.serve.wlm.WorkerThread - Backend response time: 1156\n",
      "2227s001z1-algo-1-ghk5f  | 2023-10-09 08:56:49,418 [INFO ] W-9000-model_1 TS_METRICS - W-9000-model_1.ms:1298|#Level:Host|#hostname:6104c552534b,timestamp:1696841809\n",
      "2227s001z1-algo-1-ghk5f  | 2023-10-09 08:56:49,419 [INFO ] W-9000-model_1 TS_METRICS - WorkerThreadTime.ms:24|#Level:Host|#hostname:6104c552534b,timestamp:null\n",
      "2227s001z1-algo-1-ghk5f  | 2023-10-09 08:57:48,457 [INFO ] pool-2-thread-1 TS_METRICS - CPUUtilization.Percent:0.0|#Level:Host|#hostname:6104c552534b,timestamp:1696841868\n",
      "2227s001z1-algo-1-ghk5f  | 2023-10-09 08:57:48,457 [INFO ] pool-2-thread-1 TS_METRICS - DiskAvailable.Gigabytes:58.36195755004883|#Level:Host|#hostname:6104c552534b,timestamp:1696841868\n",
      "2227s001z1-algo-1-ghk5f  | 2023-10-09 08:57:48,457 [INFO ] pool-2-thread-1 TS_METRICS - DiskUsage.Gigabytes:135.42849349975586|#Level:Host|#hostname:6104c552534b,timestamp:1696841868\n",
      "2227s001z1-algo-1-ghk5f  | 2023-10-09 08:57:48,457 [INFO ] pool-2-thread-1 TS_METRICS - DiskUtilization.Percent:69.9|#Level:Host|#hostname:6104c552534b,timestamp:1696841868\n",
      "2227s001z1-algo-1-ghk5f  | 2023-10-09 08:57:48,457 [INFO ] pool-2-thread-1 TS_METRICS - MemoryAvailable.Megabytes:200441.87890625|#Level:Host|#hostname:6104c552534b,timestamp:1696841868\n",
      "2227s001z1-algo-1-ghk5f  | 2023-10-09 08:57:48,457 [INFO ] pool-2-thread-1 TS_METRICS - MemoryUsed.Megabytes:50646.83984375|#Level:Host|#hostname:6104c552534b,timestamp:1696841868\n",
      "2227s001z1-algo-1-ghk5f  | 2023-10-09 08:57:48,457 [INFO ] pool-2-thread-1 TS_METRICS - MemoryUtilization.Percent:21.4|#Level:Host|#hostname:6104c552534b,timestamp:1696841868\n",
      "2227s001z1-algo-1-ghk5f  | 2023-10-09 08:58:48,457 [INFO ] pool-2-thread-1 TS_METRICS - CPUUtilization.Percent:0.0|#Level:Host|#hostname:6104c552534b,timestamp:1696841928\n",
      "2227s001z1-algo-1-ghk5f  | 2023-10-09 08:58:48,457 [INFO ] pool-2-thread-1 TS_METRICS - DiskAvailable.Gigabytes:58.36195755004883|#Level:Host|#hostname:6104c552534b,timestamp:1696841928\n",
      "2227s001z1-algo-1-ghk5f  | 2023-10-09 08:58:48,457 [INFO ] pool-2-thread-1 TS_METRICS - DiskUsage.Gigabytes:135.42849349975586|#Level:Host|#hostname:6104c552534b,timestamp:1696841928\n",
      "2227s001z1-algo-1-ghk5f  | 2023-10-09 08:58:48,457 [INFO ] pool-2-thread-1 TS_METRICS - DiskUtilization.Percent:69.9|#Level:Host|#hostname:6104c552534b,timestamp:1696841928\n",
      "2227s001z1-algo-1-ghk5f  | 2023-10-09 08:58:48,457 [INFO ] pool-2-thread-1 TS_METRICS - MemoryAvailable.Megabytes:200441.9609375|#Level:Host|#hostname:6104c552534b,timestamp:1696841928\n",
      "2227s001z1-algo-1-ghk5f  | 2023-10-09 08:58:48,458 [INFO ] pool-2-thread-1 TS_METRICS - MemoryUsed.Megabytes:50646.7578125|#Level:Host|#hostname:6104c552534b,timestamp:1696841928\n",
      "2227s001z1-algo-1-ghk5f  | 2023-10-09 08:58:48,458 [INFO ] pool-2-thread-1 TS_METRICS - MemoryUtilization.Percent:21.4|#Level:Host|#hostname:6104c552534b,timestamp:1696841928\n"
     ]
    }
   ],
   "source": [
    "from sagemaker import Model\n",
    "\n",
    "# model_data = estimator.model_data\n",
    "\n",
    "estimator = Model(\n",
    "    image_uri=image_uri_inference,\n",
    "    model_data=\"file://./model.tar.gz\",\n",
    "    role=role,\n",
    "    source_dir=\"container/bert-topic\",  # this argument is used to override internal container entrypoint, if needed!\n",
    "    entry_point=\"bert-topic-inference.py\",  # this argument is used to override internal container entrypoint, if needed!\n",
    "    sagemaker_session=session_local,  # local session\n",
    "    #                   predictor_cls=None,\n",
    "    #                   env=None,\n",
    "    #                   name=None,\n",
    "    #                   vpc_config=None,\n",
    "    #                   enable_network_isolation=False,\n",
    "    #                   model_kms_key=None,\n",
    "    #                   image_config=None,\n",
    "    #                   code_location=None,\n",
    "    #                   container_log_level=20,\n",
    "    #                   dependencies=None,\n",
    "    #                   git_config=None\n",
    ")\n",
    "\n",
    "predictor = estimator.deploy(1, instance_type_local)"
   ]
  },
  {
   "attachments": {},
   "cell_type": "markdown",
   "metadata": {},
   "source": [
    "#### Invoke locally deployed endpoint"
   ]
  },
  {
   "cell_type": "code",
   "execution_count": 46,
   "metadata": {},
   "outputs": [
    {
     "name": "stdout",
     "output_type": "stream",
     "text": [
      "sagemaker.config INFO - Not applying SDK defaults from location: /etc/xdg/sagemaker/config.yaml\n",
      "sagemaker.config INFO - Not applying SDK defaults from location: /home/ubuntu/.config/sagemaker/config.yaml\n",
      "sagemaker.config INFO - Not applying SDK defaults from location: /etc/xdg/sagemaker/config.yaml\n",
      "sagemaker.config INFO - Not applying SDK defaults from location: /home/ubuntu/.config/sagemaker/config.yaml\n"
     ]
    },
    {
     "name": "stdout",
     "output_type": "stream",
     "text": [
      "2227s001z1-algo-1-ghk5f  | 2023-10-09 09:01:08,960 [INFO ] W-9000-model_1-stdout org.pytorch.serve.wlm.WorkerLifeCycle - serialized_input_data object: {\"thumbnail_url\": \"https://tr.rbxcdn.com/c1b55f2c2d4b72bdf428caf2165ed351/150/150/Hat/Png\"}\n",
      "2227s001z1-algo-1-ghk5f  | 2023-10-09 09:01:08,960 [INFO ] W-9000-model_1-stdout org.pytorch.serve.wlm.WorkerLifeCycle - input_data object: {'thumbnail_url': 'https://tr.rbxcdn.com/c1b55f2c2d4b72bdf428caf2165ed351/150/150/Hat/Png'}\n",
      "2227s001z1-algo-1-ghk5f  | 2023-10-09 09:01:08,960 [INFO ] W-9000-model_1-stdout org.pytorch.serve.wlm.WorkerLifeCycle - Got input Data: {'thumbnail_url': 'https://tr.rbxcdn.com/c1b55f2c2d4b72bdf428caf2165ed351/150/150/Hat/Png'}\n",
      "2227s001z1-algo-1-ghk5f  | 2023-10-09 09:01:08,960 [INFO ] W-9000-model_1-stdout org.pytorch.serve.wlm.WorkerLifeCycle - thumbnail_url: https://tr.rbxcdn.com/c1b55f2c2d4b72bdf428caf2165ed351/150/150/Hat/Png\n",
      "2227s001z1-algo-1-ghk5f  | 2023-10-09 09:01:09,231 [INFO ] W-9000-model_1-stdout org.pytorch.serve.wlm.WorkerLifeCycle - Image not found\n",
      "2227s001z1-algo-1-ghk5f  | 2023-10-09 09:01:09,231 [INFO ] W-9000-model_1-stdout org.pytorch.serve.wlm.WorkerLifeCycle - prediction object before: None, type: <class 'NoneType'>\n",
      "2227s001z1-algo-1-ghk5f  | 2023-10-09 09:01:09,231 [INFO ] W-9000-model_1-stdout MODEL_METRICS - PredictionTime.Milliseconds:271.21|#ModelName:model,Level:Model|#hostname:6104c552534b,requestID:fee4f1fb-e1f8-4a60-9750-fc98b54f7304,timestamp:1696842069\n",
      "2227s001z1-algo-1-ghk5f  | 2023-10-09 09:01:09,232 [INFO ] W-9000-model_1 org.pytorch.serve.wlm.WorkerThread - Backend response time: 271\n",
      "2227s001z1-algo-1-ghk5f  | 2023-10-09 09:01:09,232 [INFO ] W-9000-model_1 ACCESS_LOG - /172.18.0.1:38928 \"POST /invocations HTTP/1.1\" 200 273\n",
      "2227s001z1-algo-1-ghk5f  | 2023-10-09 09:01:09,232 [INFO ] W-9000-model_1 TS_METRICS - Requests2XX.Count:1|#Level:Host|#hostname:6104c552534b,timestamp:null\n",
      "2227s001z1-algo-1-ghk5f  | 2023-10-09 09:01:09,232 [INFO ] W-9000-model_1 TS_METRICS - QueueTime.ms:0|#Level:Host|#hostname:6104c552534b,timestamp:null\n",
      "2227s001z1-algo-1-ghk5f  | 2023-10-09 09:01:09,232 [INFO ] W-9000-model_1 TS_METRICS - WorkerThreadTime.ms:2|#Level:Host|#hostname:6104c552534b,timestamp:null\n",
      "CPU times: user 14.6 ms, sys: 177 µs, total: 14.8 ms\n",
      "Wall time: 311 ms\n"
     ]
    }
   ],
   "source": [
    "%%time\n",
    "import json\n",
    "\n",
    "sagemaker_session = LocalSession()\n",
    "sagemaker_session.config = {instance_type_local: {\"local_code\": True}}\n",
    "\n",
    "sm_client = sagemaker_session.sagemaker_runtime_client\n",
    "response = sm_client.invoke_endpoint(\n",
    "    EndpointName=\"local-endpoint\",\n",
    "    ContentType=\"application/json\",\n",
    "    Body=json.dumps({\"thumbnail_url\": \"https://tr.rbxcdn.com/c1b55f2c2d4b72bdf428caf2165ed351/150/150/Hat/Png\"}),\n",
    ")\n",
    "\n",
    "r = response[\"Body\"]\n"
   ]
  },
  {
   "cell_type": "code",
   "execution_count": 47,
   "metadata": {},
   "outputs": [
    {
     "data": {
      "text/plain": [
       "'No Image Found'"
      ]
     },
     "execution_count": 47,
     "metadata": {},
     "output_type": "execute_result"
    },
    {
     "name": "stdout",
     "output_type": "stream",
     "text": [
      "2227s001z1-algo-1-ghk5f  | 2023-10-09 09:01:48,457 [INFO ] pool-2-thread-2 TS_METRICS - CPUUtilization.Percent:0.0|#Level:Host|#hostname:6104c552534b,timestamp:1696842108\n",
      "2227s001z1-algo-1-ghk5f  | 2023-10-09 09:01:48,457 [INFO ] pool-2-thread-2 TS_METRICS - DiskAvailable.Gigabytes:58.36187744140625|#Level:Host|#hostname:6104c552534b,timestamp:1696842108\n",
      "2227s001z1-algo-1-ghk5f  | 2023-10-09 09:01:48,457 [INFO ] pool-2-thread-2 TS_METRICS - DiskUsage.Gigabytes:135.42857360839844|#Level:Host|#hostname:6104c552534b,timestamp:1696842108\n",
      "2227s001z1-algo-1-ghk5f  | 2023-10-09 09:01:48,457 [INFO ] pool-2-thread-2 TS_METRICS - DiskUtilization.Percent:69.9|#Level:Host|#hostname:6104c552534b,timestamp:1696842108\n",
      "2227s001z1-algo-1-ghk5f  | 2023-10-09 09:01:48,458 [INFO ] pool-2-thread-2 TS_METRICS - MemoryAvailable.Megabytes:200364.4765625|#Level:Host|#hostname:6104c552534b,timestamp:1696842108\n",
      "2227s001z1-algo-1-ghk5f  | 2023-10-09 09:01:48,458 [INFO ] pool-2-thread-2 TS_METRICS - MemoryUsed.Megabytes:50724.2421875|#Level:Host|#hostname:6104c552534b,timestamp:1696842108\n",
      "2227s001z1-algo-1-ghk5f  | 2023-10-09 09:01:48,458 [INFO ] pool-2-thread-2 TS_METRICS - MemoryUtilization.Percent:21.4|#Level:Host|#hostname:6104c552534b,timestamp:1696842108\n",
      "2227s001z1-algo-1-ghk5f  | 2023-10-09 09:02:48,457 [INFO ] pool-2-thread-2 TS_METRICS - CPUUtilization.Percent:0.0|#Level:Host|#hostname:6104c552534b,timestamp:1696842168\n",
      "2227s001z1-algo-1-ghk5f  | 2023-10-09 09:02:48,457 [INFO ] pool-2-thread-2 TS_METRICS - DiskAvailable.Gigabytes:58.36187744140625|#Level:Host|#hostname:6104c552534b,timestamp:1696842168\n",
      "2227s001z1-algo-1-ghk5f  | 2023-10-09 09:02:48,457 [INFO ] pool-2-thread-2 TS_METRICS - DiskUsage.Gigabytes:135.42857360839844|#Level:Host|#hostname:6104c552534b,timestamp:1696842168\n",
      "2227s001z1-algo-1-ghk5f  | 2023-10-09 09:02:48,457 [INFO ] pool-2-thread-2 TS_METRICS - DiskUtilization.Percent:69.9|#Level:Host|#hostname:6104c552534b,timestamp:1696842168\n",
      "2227s001z1-algo-1-ghk5f  | 2023-10-09 09:02:48,457 [INFO ] pool-2-thread-2 TS_METRICS - MemoryAvailable.Megabytes:200366.08984375|#Level:Host|#hostname:6104c552534b,timestamp:1696842168\n",
      "2227s001z1-algo-1-ghk5f  | 2023-10-09 09:02:48,457 [INFO ] pool-2-thread-2 TS_METRICS - MemoryUsed.Megabytes:50722.62890625|#Level:Host|#hostname:6104c552534b,timestamp:1696842168\n",
      "2227s001z1-algo-1-ghk5f  | 2023-10-09 09:02:48,457 [INFO ] pool-2-thread-2 TS_METRICS - MemoryUtilization.Percent:21.4|#Level:Host|#hostname:6104c552534b,timestamp:1696842168\n",
      "2227s001z1-algo-1-ghk5f  | 2023-10-09 09:03:48,457 [INFO ] pool-2-thread-2 TS_METRICS - CPUUtilization.Percent:0.0|#Level:Host|#hostname:6104c552534b,timestamp:1696842228\n",
      "2227s001z1-algo-1-ghk5f  | 2023-10-09 09:03:48,457 [INFO ] pool-2-thread-2 TS_METRICS - DiskAvailable.Gigabytes:58.361873626708984|#Level:Host|#hostname:6104c552534b,timestamp:1696842228\n",
      "2227s001z1-algo-1-ghk5f  | 2023-10-09 09:03:48,457 [INFO ] pool-2-thread-2 TS_METRICS - DiskUsage.Gigabytes:135.4285774230957|#Level:Host|#hostname:6104c552534b,timestamp:1696842228\n",
      "2227s001z1-algo-1-ghk5f  | 2023-10-09 09:03:48,457 [INFO ] pool-2-thread-2 TS_METRICS - DiskUtilization.Percent:69.9|#Level:Host|#hostname:6104c552534b,timestamp:1696842228\n",
      "2227s001z1-algo-1-ghk5f  | 2023-10-09 09:03:48,457 [INFO ] pool-2-thread-2 TS_METRICS - MemoryAvailable.Megabytes:200359.87109375|#Level:Host|#hostname:6104c552534b,timestamp:1696842228\n",
      "2227s001z1-algo-1-ghk5f  | 2023-10-09 09:03:48,458 [INFO ] pool-2-thread-2 TS_METRICS - MemoryUsed.Megabytes:50728.84765625|#Level:Host|#hostname:6104c552534b,timestamp:1696842228\n",
      "2227s001z1-algo-1-ghk5f  | 2023-10-09 09:03:48,458 [INFO ] pool-2-thread-2 TS_METRICS - MemoryUtilization.Percent:21.4|#Level:Host|#hostname:6104c552534b,timestamp:1696842228\n",
      "2227s001z1-algo-1-ghk5f  | 2023-10-09 09:04:48,457 [INFO ] pool-2-thread-2 TS_METRICS - CPUUtilization.Percent:0.0|#Level:Host|#hostname:6104c552534b,timestamp:1696842288\n",
      "2227s001z1-algo-1-ghk5f  | 2023-10-09 09:04:48,457 [INFO ] pool-2-thread-2 TS_METRICS - DiskAvailable.Gigabytes:58.361873626708984|#Level:Host|#hostname:6104c552534b,timestamp:1696842288\n",
      "2227s001z1-algo-1-ghk5f  | 2023-10-09 09:04:48,457 [INFO ] pool-2-thread-2 TS_METRICS - DiskUsage.Gigabytes:135.4285774230957|#Level:Host|#hostname:6104c552534b,timestamp:1696842288\n",
      "2227s001z1-algo-1-ghk5f  | 2023-10-09 09:04:48,457 [INFO ] pool-2-thread-2 TS_METRICS - DiskUtilization.Percent:69.9|#Level:Host|#hostname:6104c552534b,timestamp:1696842288\n",
      "2227s001z1-algo-1-ghk5f  | 2023-10-09 09:04:48,457 [INFO ] pool-2-thread-2 TS_METRICS - MemoryAvailable.Megabytes:200349.4140625|#Level:Host|#hostname:6104c552534b,timestamp:1696842288\n",
      "2227s001z1-algo-1-ghk5f  | 2023-10-09 09:04:48,457 [INFO ] pool-2-thread-2 TS_METRICS - MemoryUsed.Megabytes:50739.3046875|#Level:Host|#hostname:6104c552534b,timestamp:1696842288\n",
      "2227s001z1-algo-1-ghk5f  | 2023-10-09 09:04:48,457 [INFO ] pool-2-thread-2 TS_METRICS - MemoryUtilization.Percent:21.4|#Level:Host|#hostname:6104c552534b,timestamp:1696842288\n",
      "2227s001z1-algo-1-ghk5f  | 2023-10-09 09:05:48,457 [INFO ] pool-2-thread-2 TS_METRICS - CPUUtilization.Percent:0.0|#Level:Host|#hostname:6104c552534b,timestamp:1696842348\n",
      "2227s001z1-algo-1-ghk5f  | 2023-10-09 09:05:48,457 [INFO ] pool-2-thread-2 TS_METRICS - DiskAvailable.Gigabytes:58.361873626708984|#Level:Host|#hostname:6104c552534b,timestamp:1696842348\n",
      "2227s001z1-algo-1-ghk5f  | 2023-10-09 09:05:48,457 [INFO ] pool-2-thread-2 TS_METRICS - DiskUsage.Gigabytes:135.4285774230957|#Level:Host|#hostname:6104c552534b,timestamp:1696842348\n",
      "2227s001z1-algo-1-ghk5f  | 2023-10-09 09:05:48,458 [INFO ] pool-2-thread-2 TS_METRICS - DiskUtilization.Percent:69.9|#Level:Host|#hostname:6104c552534b,timestamp:1696842348\n",
      "2227s001z1-algo-1-ghk5f  | 2023-10-09 09:05:48,458 [INFO ] pool-2-thread-2 TS_METRICS - MemoryAvailable.Megabytes:200348.7734375|#Level:Host|#hostname:6104c552534b,timestamp:1696842348\n",
      "2227s001z1-algo-1-ghk5f  | 2023-10-09 09:05:48,458 [INFO ] pool-2-thread-2 TS_METRICS - MemoryUsed.Megabytes:50739.9453125|#Level:Host|#hostname:6104c552534b,timestamp:1696842348\n",
      "2227s001z1-algo-1-ghk5f  | 2023-10-09 09:05:48,458 [INFO ] pool-2-thread-2 TS_METRICS - MemoryUtilization.Percent:21.4|#Level:Host|#hostname:6104c552534b,timestamp:1696842348\n",
      "2227s001z1-algo-1-ghk5f  | 2023-10-09 09:06:48,457 [INFO ] pool-2-thread-2 TS_METRICS - CPUUtilization.Percent:0.0|#Level:Host|#hostname:6104c552534b,timestamp:1696842408\n",
      "2227s001z1-algo-1-ghk5f  | 2023-10-09 09:06:48,457 [INFO ] pool-2-thread-2 TS_METRICS - DiskAvailable.Gigabytes:58.36186599731445|#Level:Host|#hostname:6104c552534b,timestamp:1696842408\n",
      "2227s001z1-algo-1-ghk5f  | 2023-10-09 09:06:48,457 [INFO ] pool-2-thread-2 TS_METRICS - DiskUsage.Gigabytes:135.42858505249023|#Level:Host|#hostname:6104c552534b,timestamp:1696842408\n",
      "2227s001z1-algo-1-ghk5f  | 2023-10-09 09:06:48,457 [INFO ] pool-2-thread-2 TS_METRICS - DiskUtilization.Percent:69.9|#Level:Host|#hostname:6104c552534b,timestamp:1696842408\n",
      "2227s001z1-algo-1-ghk5f  | 2023-10-09 09:06:48,457 [INFO ] pool-2-thread-2 TS_METRICS - MemoryAvailable.Megabytes:200349.8828125|#Level:Host|#hostname:6104c552534b,timestamp:1696842408\n",
      "2227s001z1-algo-1-ghk5f  | 2023-10-09 09:06:48,457 [INFO ] pool-2-thread-2 TS_METRICS - MemoryUsed.Megabytes:50738.8359375|#Level:Host|#hostname:6104c552534b,timestamp:1696842408\n",
      "2227s001z1-algo-1-ghk5f  | 2023-10-09 09:06:48,457 [INFO ] pool-2-thread-2 TS_METRICS - MemoryUtilization.Percent:21.4|#Level:Host|#hostname:6104c552534b,timestamp:1696842408\n",
      "2227s001z1-algo-1-ghk5f  | 2023-10-09 09:07:48,457 [INFO ] pool-2-thread-1 TS_METRICS - CPUUtilization.Percent:0.0|#Level:Host|#hostname:6104c552534b,timestamp:1696842468\n",
      "2227s001z1-algo-1-ghk5f  | 2023-10-09 09:07:48,457 [INFO ] pool-2-thread-1 TS_METRICS - DiskAvailable.Gigabytes:58.36186599731445|#Level:Host|#hostname:6104c552534b,timestamp:1696842468\n",
      "2227s001z1-algo-1-ghk5f  | 2023-10-09 09:07:48,457 [INFO ] pool-2-thread-1 TS_METRICS - DiskUsage.Gigabytes:135.42858505249023|#Level:Host|#hostname:6104c552534b,timestamp:1696842468\n",
      "2227s001z1-algo-1-ghk5f  | 2023-10-09 09:07:48,457 [INFO ] pool-2-thread-1 TS_METRICS - DiskUtilization.Percent:69.9|#Level:Host|#hostname:6104c552534b,timestamp:1696842468\n",
      "2227s001z1-algo-1-ghk5f  | 2023-10-09 09:07:48,457 [INFO ] pool-2-thread-1 TS_METRICS - MemoryAvailable.Megabytes:200339.36328125|#Level:Host|#hostname:6104c552534b,timestamp:1696842468\n",
      "2227s001z1-algo-1-ghk5f  | 2023-10-09 09:07:48,457 [INFO ] pool-2-thread-1 TS_METRICS - MemoryUsed.Megabytes:50749.35546875|#Level:Host|#hostname:6104c552534b,timestamp:1696842468\n",
      "2227s001z1-algo-1-ghk5f  | 2023-10-09 09:07:48,457 [INFO ] pool-2-thread-1 TS_METRICS - MemoryUtilization.Percent:21.4|#Level:Host|#hostname:6104c552534b,timestamp:1696842468\n",
      "2227s001z1-algo-1-ghk5f  | 2023-10-09 09:08:48,457 [INFO ] pool-2-thread-1 TS_METRICS - CPUUtilization.Percent:0.0|#Level:Host|#hostname:6104c552534b,timestamp:1696842528\n",
      "2227s001z1-algo-1-ghk5f  | 2023-10-09 09:08:48,457 [INFO ] pool-2-thread-1 TS_METRICS - DiskAvailable.Gigabytes:58.36186599731445|#Level:Host|#hostname:6104c552534b,timestamp:1696842528\n",
      "2227s001z1-algo-1-ghk5f  | 2023-10-09 09:08:48,457 [INFO ] pool-2-thread-1 TS_METRICS - DiskUsage.Gigabytes:135.42858505249023|#Level:Host|#hostname:6104c552534b,timestamp:1696842528\n",
      "2227s001z1-algo-1-ghk5f  | 2023-10-09 09:08:48,457 [INFO ] pool-2-thread-1 TS_METRICS - DiskUtilization.Percent:69.9|#Level:Host|#hostname:6104c552534b,timestamp:1696842528\n",
      "2227s001z1-algo-1-ghk5f  | 2023-10-09 09:08:48,457 [INFO ] pool-2-thread-1 TS_METRICS - MemoryAvailable.Megabytes:200336.3515625|#Level:Host|#hostname:6104c552534b,timestamp:1696842528\n",
      "2227s001z1-algo-1-ghk5f  | 2023-10-09 09:08:48,457 [INFO ] pool-2-thread-1 TS_METRICS - MemoryUsed.Megabytes:50752.3671875|#Level:Host|#hostname:6104c552534b,timestamp:1696842528\n",
      "2227s001z1-algo-1-ghk5f  | 2023-10-09 09:08:48,457 [INFO ] pool-2-thread-1 TS_METRICS - MemoryUtilization.Percent:21.4|#Level:Host|#hostname:6104c552534b,timestamp:1696842528\n",
      "2227s001z1-algo-1-ghk5f  | 2023-10-09 09:09:48,457 [INFO ] pool-2-thread-1 TS_METRICS - CPUUtilization.Percent:0.0|#Level:Host|#hostname:6104c552534b,timestamp:1696842588\n",
      "2227s001z1-algo-1-ghk5f  | 2023-10-09 09:09:48,457 [INFO ] pool-2-thread-1 TS_METRICS - DiskAvailable.Gigabytes:58.36186218261719|#Level:Host|#hostname:6104c552534b,timestamp:1696842588\n",
      "2227s001z1-algo-1-ghk5f  | 2023-10-09 09:09:48,457 [INFO ] pool-2-thread-1 TS_METRICS - DiskUsage.Gigabytes:135.4285888671875|#Level:Host|#hostname:6104c552534b,timestamp:1696842588\n",
      "2227s001z1-algo-1-ghk5f  | 2023-10-09 09:09:48,457 [INFO ] pool-2-thread-1 TS_METRICS - DiskUtilization.Percent:69.9|#Level:Host|#hostname:6104c552534b,timestamp:1696842588\n",
      "2227s001z1-algo-1-ghk5f  | 2023-10-09 09:09:48,457 [INFO ] pool-2-thread-1 TS_METRICS - MemoryAvailable.Megabytes:200348.4765625|#Level:Host|#hostname:6104c552534b,timestamp:1696842588\n",
      "2227s001z1-algo-1-ghk5f  | 2023-10-09 09:09:48,457 [INFO ] pool-2-thread-1 TS_METRICS - MemoryUsed.Megabytes:50740.2421875|#Level:Host|#hostname:6104c552534b,timestamp:1696842588\n",
      "2227s001z1-algo-1-ghk5f  | 2023-10-09 09:09:48,458 [INFO ] pool-2-thread-1 TS_METRICS - MemoryUtilization.Percent:21.4|#Level:Host|#hostname:6104c552534b,timestamp:1696842588\n",
      "2227s001z1-algo-1-ghk5f  | 2023-10-09 09:10:48,458 [INFO ] pool-2-thread-1 TS_METRICS - CPUUtilization.Percent:0.0|#Level:Host|#hostname:6104c552534b,timestamp:1696842648\n",
      "2227s001z1-algo-1-ghk5f  | 2023-10-09 09:10:48,458 [INFO ] pool-2-thread-1 TS_METRICS - DiskAvailable.Gigabytes:58.36186218261719|#Level:Host|#hostname:6104c552534b,timestamp:1696842648\n",
      "2227s001z1-algo-1-ghk5f  | 2023-10-09 09:10:48,458 [INFO ] pool-2-thread-1 TS_METRICS - DiskUsage.Gigabytes:135.4285888671875|#Level:Host|#hostname:6104c552534b,timestamp:1696842648\n",
      "2227s001z1-algo-1-ghk5f  | 2023-10-09 09:10:48,458 [INFO ] pool-2-thread-1 TS_METRICS - DiskUtilization.Percent:69.9|#Level:Host|#hostname:6104c552534b,timestamp:1696842648\n",
      "2227s001z1-algo-1-ghk5f  | 2023-10-09 09:10:48,458 [INFO ] pool-2-thread-1 TS_METRICS - MemoryAvailable.Megabytes:200348.6953125|#Level:Host|#hostname:6104c552534b,timestamp:1696842648\n",
      "2227s001z1-algo-1-ghk5f  | 2023-10-09 09:10:48,458 [INFO ] pool-2-thread-1 TS_METRICS - MemoryUsed.Megabytes:50740.0234375|#Level:Host|#hostname:6104c552534b,timestamp:1696842648\n",
      "2227s001z1-algo-1-ghk5f  | 2023-10-09 09:10:48,458 [INFO ] pool-2-thread-1 TS_METRICS - MemoryUtilization.Percent:21.4|#Level:Host|#hostname:6104c552534b,timestamp:1696842648\n",
      "2227s001z1-algo-1-ghk5f  | 2023-10-09 09:11:48,457 [INFO ] pool-2-thread-2 TS_METRICS - CPUUtilization.Percent:0.0|#Level:Host|#hostname:6104c552534b,timestamp:1696842708\n",
      "2227s001z1-algo-1-ghk5f  | 2023-10-09 09:11:48,457 [INFO ] pool-2-thread-2 TS_METRICS - DiskAvailable.Gigabytes:58.361854553222656|#Level:Host|#hostname:6104c552534b,timestamp:1696842708\n",
      "2227s001z1-algo-1-ghk5f  | 2023-10-09 09:11:48,457 [INFO ] pool-2-thread-2 TS_METRICS - DiskUsage.Gigabytes:135.42859649658203|#Level:Host|#hostname:6104c552534b,timestamp:1696842708\n",
      "2227s001z1-algo-1-ghk5f  | 2023-10-09 09:11:48,457 [INFO ] pool-2-thread-2 TS_METRICS - DiskUtilization.Percent:69.9|#Level:Host|#hostname:6104c552534b,timestamp:1696842708\n",
      "2227s001z1-algo-1-ghk5f  | 2023-10-09 09:11:48,457 [INFO ] pool-2-thread-2 TS_METRICS - MemoryAvailable.Megabytes:200354.02734375|#Level:Host|#hostname:6104c552534b,timestamp:1696842708\n",
      "2227s001z1-algo-1-ghk5f  | 2023-10-09 09:11:48,457 [INFO ] pool-2-thread-2 TS_METRICS - MemoryUsed.Megabytes:50734.69140625|#Level:Host|#hostname:6104c552534b,timestamp:1696842708\n",
      "2227s001z1-algo-1-ghk5f  | 2023-10-09 09:11:48,457 [INFO ] pool-2-thread-2 TS_METRICS - MemoryUtilization.Percent:21.4|#Level:Host|#hostname:6104c552534b,timestamp:1696842708\n",
      "2227s001z1-algo-1-ghk5f  | 2023-10-09 09:12:48,457 [INFO ] pool-2-thread-2 TS_METRICS - CPUUtilization.Percent:0.0|#Level:Host|#hostname:6104c552534b,timestamp:1696842768\n",
      "2227s001z1-algo-1-ghk5f  | 2023-10-09 09:12:48,457 [INFO ] pool-2-thread-2 TS_METRICS - DiskAvailable.Gigabytes:58.36185073852539|#Level:Host|#hostname:6104c552534b,timestamp:1696842768\n",
      "2227s001z1-algo-1-ghk5f  | 2023-10-09 09:12:48,457 [INFO ] pool-2-thread-2 TS_METRICS - DiskUsage.Gigabytes:135.4286003112793|#Level:Host|#hostname:6104c552534b,timestamp:1696842768\n",
      "2227s001z1-algo-1-ghk5f  | 2023-10-09 09:12:48,457 [INFO ] pool-2-thread-2 TS_METRICS - DiskUtilization.Percent:69.9|#Level:Host|#hostname:6104c552534b,timestamp:1696842768\n",
      "2227s001z1-algo-1-ghk5f  | 2023-10-09 09:12:48,457 [INFO ] pool-2-thread-2 TS_METRICS - MemoryAvailable.Megabytes:200353.64453125|#Level:Host|#hostname:6104c552534b,timestamp:1696842768\n",
      "2227s001z1-algo-1-ghk5f  | 2023-10-09 09:12:48,457 [INFO ] pool-2-thread-2 TS_METRICS - MemoryUsed.Megabytes:50735.07421875|#Level:Host|#hostname:6104c552534b,timestamp:1696842768\n",
      "2227s001z1-algo-1-ghk5f  | 2023-10-09 09:12:48,458 [INFO ] pool-2-thread-2 TS_METRICS - MemoryUtilization.Percent:21.4|#Level:Host|#hostname:6104c552534b,timestamp:1696842768\n",
      "2227s001z1-algo-1-ghk5f  | 2023-10-09 09:13:48,457 [INFO ] pool-2-thread-1 TS_METRICS - CPUUtilization.Percent:0.0|#Level:Host|#hostname:6104c552534b,timestamp:1696842828\n",
      "2227s001z1-algo-1-ghk5f  | 2023-10-09 09:13:48,457 [INFO ] pool-2-thread-1 TS_METRICS - DiskAvailable.Gigabytes:58.36185073852539|#Level:Host|#hostname:6104c552534b,timestamp:1696842828\n",
      "2227s001z1-algo-1-ghk5f  | 2023-10-09 09:13:48,457 [INFO ] pool-2-thread-1 TS_METRICS - DiskUsage.Gigabytes:135.4286003112793|#Level:Host|#hostname:6104c552534b,timestamp:1696842828\n",
      "2227s001z1-algo-1-ghk5f  | 2023-10-09 09:13:48,457 [INFO ] pool-2-thread-1 TS_METRICS - DiskUtilization.Percent:69.9|#Level:Host|#hostname:6104c552534b,timestamp:1696842828\n",
      "2227s001z1-algo-1-ghk5f  | 2023-10-09 09:13:48,457 [INFO ] pool-2-thread-1 TS_METRICS - MemoryAvailable.Megabytes:200359.7109375|#Level:Host|#hostname:6104c552534b,timestamp:1696842828\n",
      "2227s001z1-algo-1-ghk5f  | 2023-10-09 09:13:48,457 [INFO ] pool-2-thread-1 TS_METRICS - MemoryUsed.Megabytes:50729.0078125|#Level:Host|#hostname:6104c552534b,timestamp:1696842828\n",
      "2227s001z1-algo-1-ghk5f  | 2023-10-09 09:13:48,457 [INFO ] pool-2-thread-1 TS_METRICS - MemoryUtilization.Percent:21.4|#Level:Host|#hostname:6104c552534b,timestamp:1696842828\n",
      "2227s001z1-algo-1-ghk5f  | 2023-10-09 09:14:48,457 [INFO ] pool-2-thread-1 TS_METRICS - CPUUtilization.Percent:0.0|#Level:Host|#hostname:6104c552534b,timestamp:1696842888\n",
      "2227s001z1-algo-1-ghk5f  | 2023-10-09 09:14:48,457 [INFO ] pool-2-thread-1 TS_METRICS - DiskAvailable.Gigabytes:58.361846923828125|#Level:Host|#hostname:6104c552534b,timestamp:1696842888\n",
      "2227s001z1-algo-1-ghk5f  | 2023-10-09 09:14:48,457 [INFO ] pool-2-thread-1 TS_METRICS - DiskUsage.Gigabytes:135.42860412597656|#Level:Host|#hostname:6104c552534b,timestamp:1696842888\n",
      "2227s001z1-algo-1-ghk5f  | 2023-10-09 09:14:48,457 [INFO ] pool-2-thread-1 TS_METRICS - DiskUtilization.Percent:69.9|#Level:Host|#hostname:6104c552534b,timestamp:1696842888\n",
      "2227s001z1-algo-1-ghk5f  | 2023-10-09 09:14:48,457 [INFO ] pool-2-thread-1 TS_METRICS - MemoryAvailable.Megabytes:200348.8828125|#Level:Host|#hostname:6104c552534b,timestamp:1696842888\n",
      "2227s001z1-algo-1-ghk5f  | 2023-10-09 09:14:48,457 [INFO ] pool-2-thread-1 TS_METRICS - MemoryUsed.Megabytes:50739.84375|#Level:Host|#hostname:6104c552534b,timestamp:1696842888\n",
      "2227s001z1-algo-1-ghk5f  | 2023-10-09 09:14:48,457 [INFO ] pool-2-thread-1 TS_METRICS - MemoryUtilization.Percent:21.4|#Level:Host|#hostname:6104c552534b,timestamp:1696842888\n",
      "2227s001z1-algo-1-ghk5f  | 2023-10-09 09:15:48,457 [INFO ] pool-2-thread-1 TS_METRICS - CPUUtilization.Percent:0.0|#Level:Host|#hostname:6104c552534b,timestamp:1696842948\n",
      "2227s001z1-algo-1-ghk5f  | 2023-10-09 09:15:48,457 [INFO ] pool-2-thread-1 TS_METRICS - DiskAvailable.Gigabytes:58.361846923828125|#Level:Host|#hostname:6104c552534b,timestamp:1696842948\n",
      "2227s001z1-algo-1-ghk5f  | 2023-10-09 09:15:48,457 [INFO ] pool-2-thread-1 TS_METRICS - DiskUsage.Gigabytes:135.42860412597656|#Level:Host|#hostname:6104c552534b,timestamp:1696842948\n",
      "2227s001z1-algo-1-ghk5f  | 2023-10-09 09:15:48,457 [INFO ] pool-2-thread-1 TS_METRICS - DiskUtilization.Percent:69.9|#Level:Host|#hostname:6104c552534b,timestamp:1696842948\n",
      "2227s001z1-algo-1-ghk5f  | 2023-10-09 09:15:48,457 [INFO ] pool-2-thread-1 TS_METRICS - MemoryAvailable.Megabytes:200349.19140625|#Level:Host|#hostname:6104c552534b,timestamp:1696842948\n",
      "2227s001z1-algo-1-ghk5f  | 2023-10-09 09:15:48,457 [INFO ] pool-2-thread-1 TS_METRICS - MemoryUsed.Megabytes:50739.53515625|#Level:Host|#hostname:6104c552534b,timestamp:1696842948\n",
      "2227s001z1-algo-1-ghk5f  | 2023-10-09 09:15:48,457 [INFO ] pool-2-thread-1 TS_METRICS - MemoryUtilization.Percent:21.4|#Level:Host|#hostname:6104c552534b,timestamp:1696842948\n",
      "2227s001z1-algo-1-ghk5f  | 2023-10-09 09:16:48,457 [INFO ] pool-2-thread-1 TS_METRICS - CPUUtilization.Percent:0.0|#Level:Host|#hostname:6104c552534b,timestamp:1696843008\n",
      "2227s001z1-algo-1-ghk5f  | 2023-10-09 09:16:48,457 [INFO ] pool-2-thread-1 TS_METRICS - DiskAvailable.Gigabytes:58.36183547973633|#Level:Host|#hostname:6104c552534b,timestamp:1696843008\n",
      "2227s001z1-algo-1-ghk5f  | 2023-10-09 09:16:48,457 [INFO ] pool-2-thread-1 TS_METRICS - DiskUsage.Gigabytes:135.42861557006836|#Level:Host|#hostname:6104c552534b,timestamp:1696843008\n",
      "2227s001z1-algo-1-ghk5f  | 2023-10-09 09:16:48,457 [INFO ] pool-2-thread-1 TS_METRICS - DiskUtilization.Percent:69.9|#Level:Host|#hostname:6104c552534b,timestamp:1696843008\n",
      "2227s001z1-algo-1-ghk5f  | 2023-10-09 09:16:48,457 [INFO ] pool-2-thread-1 TS_METRICS - MemoryAvailable.Megabytes:200350.55859375|#Level:Host|#hostname:6104c552534b,timestamp:1696843008\n",
      "2227s001z1-algo-1-ghk5f  | 2023-10-09 09:16:48,457 [INFO ] pool-2-thread-1 TS_METRICS - MemoryUsed.Megabytes:50738.16796875|#Level:Host|#hostname:6104c552534b,timestamp:1696843008\n",
      "2227s001z1-algo-1-ghk5f  | 2023-10-09 09:16:48,457 [INFO ] pool-2-thread-1 TS_METRICS - MemoryUtilization.Percent:21.4|#Level:Host|#hostname:6104c552534b,timestamp:1696843008\n",
      "2227s001z1-algo-1-ghk5f  | 2023-10-09 09:17:48,457 [INFO ] pool-2-thread-1 TS_METRICS - CPUUtilization.Percent:0.0|#Level:Host|#hostname:6104c552534b,timestamp:1696843068\n",
      "2227s001z1-algo-1-ghk5f  | 2023-10-09 09:17:48,457 [INFO ] pool-2-thread-1 TS_METRICS - DiskAvailable.Gigabytes:58.36183547973633|#Level:Host|#hostname:6104c552534b,timestamp:1696843068\n",
      "2227s001z1-algo-1-ghk5f  | 2023-10-09 09:17:48,457 [INFO ] pool-2-thread-1 TS_METRICS - DiskUsage.Gigabytes:135.42861557006836|#Level:Host|#hostname:6104c552534b,timestamp:1696843068\n",
      "2227s001z1-algo-1-ghk5f  | 2023-10-09 09:17:48,457 [INFO ] pool-2-thread-1 TS_METRICS - DiskUtilization.Percent:69.9|#Level:Host|#hostname:6104c552534b,timestamp:1696843068\n",
      "2227s001z1-algo-1-ghk5f  | 2023-10-09 09:17:48,457 [INFO ] pool-2-thread-1 TS_METRICS - MemoryAvailable.Megabytes:200361.578125|#Level:Host|#hostname:6104c552534b,timestamp:1696843068\n",
      "2227s001z1-algo-1-ghk5f  | 2023-10-09 09:17:48,457 [INFO ] pool-2-thread-1 TS_METRICS - MemoryUsed.Megabytes:50727.1484375|#Level:Host|#hostname:6104c552534b,timestamp:1696843068\n",
      "2227s001z1-algo-1-ghk5f  | 2023-10-09 09:17:48,457 [INFO ] pool-2-thread-1 TS_METRICS - MemoryUtilization.Percent:21.4|#Level:Host|#hostname:6104c552534b,timestamp:1696843068\n",
      "2227s001z1-algo-1-ghk5f  | 2023-10-09 09:18:48,457 [INFO ] pool-2-thread-1 TS_METRICS - CPUUtilization.Percent:0.0|#Level:Host|#hostname:6104c552534b,timestamp:1696843128\n",
      "2227s001z1-algo-1-ghk5f  | 2023-10-09 09:18:48,458 [INFO ] pool-2-thread-1 TS_METRICS - DiskAvailable.Gigabytes:58.36183547973633|#Level:Host|#hostname:6104c552534b,timestamp:1696843128\n",
      "2227s001z1-algo-1-ghk5f  | 2023-10-09 09:18:48,458 [INFO ] pool-2-thread-1 TS_METRICS - DiskUsage.Gigabytes:135.42861557006836|#Level:Host|#hostname:6104c552534b,timestamp:1696843128\n",
      "2227s001z1-algo-1-ghk5f  | 2023-10-09 09:18:48,458 [INFO ] pool-2-thread-1 TS_METRICS - DiskUtilization.Percent:69.9|#Level:Host|#hostname:6104c552534b,timestamp:1696843128\n",
      "2227s001z1-algo-1-ghk5f  | 2023-10-09 09:18:48,458 [INFO ] pool-2-thread-1 TS_METRICS - MemoryAvailable.Megabytes:200356.7578125|#Level:Host|#hostname:6104c552534b,timestamp:1696843128\n",
      "2227s001z1-algo-1-ghk5f  | 2023-10-09 09:18:48,458 [INFO ] pool-2-thread-1 TS_METRICS - MemoryUsed.Megabytes:50731.96875|#Level:Host|#hostname:6104c552534b,timestamp:1696843128\n",
      "2227s001z1-algo-1-ghk5f  | 2023-10-09 09:18:48,458 [INFO ] pool-2-thread-1 TS_METRICS - MemoryUtilization.Percent:21.4|#Level:Host|#hostname:6104c552534b,timestamp:1696843128\n",
      "2227s001z1-algo-1-ghk5f  | 2023-10-09 09:19:48,457 [INFO ] pool-2-thread-1 TS_METRICS - CPUUtilization.Percent:0.0|#Level:Host|#hostname:6104c552534b,timestamp:1696843188\n",
      "2227s001z1-algo-1-ghk5f  | 2023-10-09 09:19:48,457 [INFO ] pool-2-thread-1 TS_METRICS - DiskAvailable.Gigabytes:58.36183166503906|#Level:Host|#hostname:6104c552534b,timestamp:1696843188\n",
      "2227s001z1-algo-1-ghk5f  | 2023-10-09 09:19:48,457 [INFO ] pool-2-thread-1 TS_METRICS - DiskUsage.Gigabytes:135.42861938476562|#Level:Host|#hostname:6104c552534b,timestamp:1696843188\n",
      "2227s001z1-algo-1-ghk5f  | 2023-10-09 09:19:48,457 [INFO ] pool-2-thread-1 TS_METRICS - DiskUtilization.Percent:69.9|#Level:Host|#hostname:6104c552534b,timestamp:1696843188\n",
      "2227s001z1-algo-1-ghk5f  | 2023-10-09 09:19:48,457 [INFO ] pool-2-thread-1 TS_METRICS - MemoryAvailable.Megabytes:200363.62109375|#Level:Host|#hostname:6104c552534b,timestamp:1696843188\n",
      "2227s001z1-algo-1-ghk5f  | 2023-10-09 09:19:48,457 [INFO ] pool-2-thread-1 TS_METRICS - MemoryUsed.Megabytes:50725.10546875|#Level:Host|#hostname:6104c552534b,timestamp:1696843188\n",
      "2227s001z1-algo-1-ghk5f  | 2023-10-09 09:19:48,457 [INFO ] pool-2-thread-1 TS_METRICS - MemoryUtilization.Percent:21.4|#Level:Host|#hostname:6104c552534b,timestamp:1696843188\n",
      "2227s001z1-algo-1-ghk5f  | 2023-10-09 09:20:48,457 [INFO ] pool-2-thread-2 TS_METRICS - CPUUtilization.Percent:0.0|#Level:Host|#hostname:6104c552534b,timestamp:1696843248\n",
      "2227s001z1-algo-1-ghk5f  | 2023-10-09 09:20:48,457 [INFO ] pool-2-thread-2 TS_METRICS - DiskAvailable.Gigabytes:58.36183166503906|#Level:Host|#hostname:6104c552534b,timestamp:1696843248\n",
      "2227s001z1-algo-1-ghk5f  | 2023-10-09 09:20:48,457 [INFO ] pool-2-thread-2 TS_METRICS - DiskUsage.Gigabytes:135.42861938476562|#Level:Host|#hostname:6104c552534b,timestamp:1696843248\n",
      "2227s001z1-algo-1-ghk5f  | 2023-10-09 09:20:48,457 [INFO ] pool-2-thread-2 TS_METRICS - DiskUtilization.Percent:69.9|#Level:Host|#hostname:6104c552534b,timestamp:1696843248\n",
      "2227s001z1-algo-1-ghk5f  | 2023-10-09 09:20:48,457 [INFO ] pool-2-thread-2 TS_METRICS - MemoryAvailable.Megabytes:200362.00390625|#Level:Host|#hostname:6104c552534b,timestamp:1696843248\n",
      "2227s001z1-algo-1-ghk5f  | 2023-10-09 09:20:48,457 [INFO ] pool-2-thread-2 TS_METRICS - MemoryUsed.Megabytes:50726.72265625|#Level:Host|#hostname:6104c552534b,timestamp:1696843248\n",
      "2227s001z1-algo-1-ghk5f  | 2023-10-09 09:20:48,457 [INFO ] pool-2-thread-2 TS_METRICS - MemoryUtilization.Percent:21.4|#Level:Host|#hostname:6104c552534b,timestamp:1696843248\n",
      "2227s001z1-algo-1-ghk5f  | 2023-10-09 09:21:48,457 [INFO ] pool-2-thread-2 TS_METRICS - CPUUtilization.Percent:0.0|#Level:Host|#hostname:6104c552534b,timestamp:1696843308\n",
      "2227s001z1-algo-1-ghk5f  | 2023-10-09 09:21:48,457 [INFO ] pool-2-thread-2 TS_METRICS - DiskAvailable.Gigabytes:58.3618278503418|#Level:Host|#hostname:6104c552534b,timestamp:1696843308\n",
      "2227s001z1-algo-1-ghk5f  | 2023-10-09 09:21:48,457 [INFO ] pool-2-thread-2 TS_METRICS - DiskUsage.Gigabytes:135.4286231994629|#Level:Host|#hostname:6104c552534b,timestamp:1696843308\n",
      "2227s001z1-algo-1-ghk5f  | 2023-10-09 09:21:48,457 [INFO ] pool-2-thread-2 TS_METRICS - DiskUtilization.Percent:69.9|#Level:Host|#hostname:6104c552534b,timestamp:1696843308\n",
      "2227s001z1-algo-1-ghk5f  | 2023-10-09 09:21:48,457 [INFO ] pool-2-thread-2 TS_METRICS - MemoryAvailable.Megabytes:200366.34375|#Level:Host|#hostname:6104c552534b,timestamp:1696843308\n",
      "2227s001z1-algo-1-ghk5f  | 2023-10-09 09:21:48,457 [INFO ] pool-2-thread-2 TS_METRICS - MemoryUsed.Megabytes:50722.3828125|#Level:Host|#hostname:6104c552534b,timestamp:1696843308\n",
      "2227s001z1-algo-1-ghk5f  | 2023-10-09 09:21:48,457 [INFO ] pool-2-thread-2 TS_METRICS - MemoryUtilization.Percent:21.4|#Level:Host|#hostname:6104c552534b,timestamp:1696843308\n",
      "2227s001z1-algo-1-ghk5f  | 2023-10-09 09:22:48,457 [INFO ] pool-2-thread-2 TS_METRICS - CPUUtilization.Percent:0.0|#Level:Host|#hostname:6104c552534b,timestamp:1696843368\n",
      "2227s001z1-algo-1-ghk5f  | 2023-10-09 09:22:48,458 [INFO ] pool-2-thread-2 TS_METRICS - DiskAvailable.Gigabytes:58.36182403564453|#Level:Host|#hostname:6104c552534b,timestamp:1696843368\n",
      "2227s001z1-algo-1-ghk5f  | 2023-10-09 09:22:48,458 [INFO ] pool-2-thread-2 TS_METRICS - DiskUsage.Gigabytes:135.42862701416016|#Level:Host|#hostname:6104c552534b,timestamp:1696843368\n",
      "2227s001z1-algo-1-ghk5f  | 2023-10-09 09:22:48,458 [INFO ] pool-2-thread-2 TS_METRICS - DiskUtilization.Percent:69.9|#Level:Host|#hostname:6104c552534b,timestamp:1696843368\n",
      "2227s001z1-algo-1-ghk5f  | 2023-10-09 09:22:48,458 [INFO ] pool-2-thread-2 TS_METRICS - MemoryAvailable.Megabytes:200366.484375|#Level:Host|#hostname:6104c552534b,timestamp:1696843368\n",
      "2227s001z1-algo-1-ghk5f  | 2023-10-09 09:22:48,458 [INFO ] pool-2-thread-2 TS_METRICS - MemoryUsed.Megabytes:50722.2421875|#Level:Host|#hostname:6104c552534b,timestamp:1696843368\n",
      "2227s001z1-algo-1-ghk5f  | 2023-10-09 09:22:48,458 [INFO ] pool-2-thread-2 TS_METRICS - MemoryUtilization.Percent:21.4|#Level:Host|#hostname:6104c552534b,timestamp:1696843368\n",
      "2227s001z1-algo-1-ghk5f  | 2023-10-09 09:23:48,457 [INFO ] pool-2-thread-2 TS_METRICS - CPUUtilization.Percent:0.0|#Level:Host|#hostname:6104c552534b,timestamp:1696843428\n",
      "2227s001z1-algo-1-ghk5f  | 2023-10-09 09:23:48,457 [INFO ] pool-2-thread-2 TS_METRICS - DiskAvailable.Gigabytes:58.36182403564453|#Level:Host|#hostname:6104c552534b,timestamp:1696843428\n",
      "2227s001z1-algo-1-ghk5f  | 2023-10-09 09:23:48,457 [INFO ] pool-2-thread-2 TS_METRICS - DiskUsage.Gigabytes:135.42862701416016|#Level:Host|#hostname:6104c552534b,timestamp:1696843428\n",
      "2227s001z1-algo-1-ghk5f  | 2023-10-09 09:23:48,458 [INFO ] pool-2-thread-2 TS_METRICS - DiskUtilization.Percent:69.9|#Level:Host|#hostname:6104c552534b,timestamp:1696843428\n",
      "2227s001z1-algo-1-ghk5f  | 2023-10-09 09:23:48,458 [INFO ] pool-2-thread-2 TS_METRICS - MemoryAvailable.Megabytes:200355.5859375|#Level:Host|#hostname:6104c552534b,timestamp:1696843428\n",
      "2227s001z1-algo-1-ghk5f  | 2023-10-09 09:23:48,458 [INFO ] pool-2-thread-2 TS_METRICS - MemoryUsed.Megabytes:50733.140625|#Level:Host|#hostname:6104c552534b,timestamp:1696843428\n",
      "2227s001z1-algo-1-ghk5f  | 2023-10-09 09:23:48,458 [INFO ] pool-2-thread-2 TS_METRICS - MemoryUtilization.Percent:21.4|#Level:Host|#hostname:6104c552534b,timestamp:1696843428\n",
      "2227s001z1-algo-1-ghk5f  | 2023-10-09 09:24:48,457 [INFO ] pool-2-thread-1 TS_METRICS - CPUUtilization.Percent:0.0|#Level:Host|#hostname:6104c552534b,timestamp:1696843488\n",
      "2227s001z1-algo-1-ghk5f  | 2023-10-09 09:24:48,457 [INFO ] pool-2-thread-1 TS_METRICS - DiskAvailable.Gigabytes:58.361820220947266|#Level:Host|#hostname:6104c552534b,timestamp:1696843488\n",
      "2227s001z1-algo-1-ghk5f  | 2023-10-09 09:24:48,457 [INFO ] pool-2-thread-1 TS_METRICS - DiskUsage.Gigabytes:135.42863082885742|#Level:Host|#hostname:6104c552534b,timestamp:1696843488\n",
      "2227s001z1-algo-1-ghk5f  | 2023-10-09 09:24:48,457 [INFO ] pool-2-thread-1 TS_METRICS - DiskUtilization.Percent:69.9|#Level:Host|#hostname:6104c552534b,timestamp:1696843488\n",
      "2227s001z1-algo-1-ghk5f  | 2023-10-09 09:24:48,457 [INFO ] pool-2-thread-1 TS_METRICS - MemoryAvailable.Megabytes:200328.66015625|#Level:Host|#hostname:6104c552534b,timestamp:1696843488\n",
      "2227s001z1-algo-1-ghk5f  | 2023-10-09 09:24:48,457 [INFO ] pool-2-thread-1 TS_METRICS - MemoryUsed.Megabytes:50760.06640625|#Level:Host|#hostname:6104c552534b,timestamp:1696843488\n",
      "2227s001z1-algo-1-ghk5f  | 2023-10-09 09:24:48,457 [INFO ] pool-2-thread-1 TS_METRICS - MemoryUtilization.Percent:21.4|#Level:Host|#hostname:6104c552534b,timestamp:1696843488\n",
      "2227s001z1-algo-1-ghk5f  | 2023-10-09 09:25:48,457 [INFO ] pool-2-thread-2 TS_METRICS - CPUUtilization.Percent:0.0|#Level:Host|#hostname:6104c552534b,timestamp:1696843548\n",
      "2227s001z1-algo-1-ghk5f  | 2023-10-09 09:25:48,457 [INFO ] pool-2-thread-2 TS_METRICS - DiskAvailable.Gigabytes:58.361820220947266|#Level:Host|#hostname:6104c552534b,timestamp:1696843548\n",
      "2227s001z1-algo-1-ghk5f  | 2023-10-09 09:25:48,457 [INFO ] pool-2-thread-2 TS_METRICS - DiskUsage.Gigabytes:135.42863082885742|#Level:Host|#hostname:6104c552534b,timestamp:1696843548\n",
      "2227s001z1-algo-1-ghk5f  | 2023-10-09 09:25:48,457 [INFO ] pool-2-thread-2 TS_METRICS - DiskUtilization.Percent:69.9|#Level:Host|#hostname:6104c552534b,timestamp:1696843548\n",
      "2227s001z1-algo-1-ghk5f  | 2023-10-09 09:25:48,457 [INFO ] pool-2-thread-2 TS_METRICS - MemoryAvailable.Megabytes:200340.59765625|#Level:Host|#hostname:6104c552534b,timestamp:1696843548\n",
      "2227s001z1-algo-1-ghk5f  | 2023-10-09 09:25:48,457 [INFO ] pool-2-thread-2 TS_METRICS - MemoryUsed.Megabytes:50748.12890625|#Level:Host|#hostname:6104c552534b,timestamp:1696843548\n",
      "2227s001z1-algo-1-ghk5f  | 2023-10-09 09:25:48,457 [INFO ] pool-2-thread-2 TS_METRICS - MemoryUtilization.Percent:21.4|#Level:Host|#hostname:6104c552534b,timestamp:1696843548\n",
      "2227s001z1-algo-1-ghk5f  | 2023-10-09 09:26:48,457 [INFO ] pool-2-thread-2 TS_METRICS - CPUUtilization.Percent:0.0|#Level:Host|#hostname:6104c552534b,timestamp:1696843608\n",
      "2227s001z1-algo-1-ghk5f  | 2023-10-09 09:26:48,457 [INFO ] pool-2-thread-2 TS_METRICS - DiskAvailable.Gigabytes:58.36181640625|#Level:Host|#hostname:6104c552534b,timestamp:1696843608\n",
      "2227s001z1-algo-1-ghk5f  | 2023-10-09 09:26:48,457 [INFO ] pool-2-thread-2 TS_METRICS - DiskUsage.Gigabytes:135.4286346435547|#Level:Host|#hostname:6104c552534b,timestamp:1696843608\n",
      "2227s001z1-algo-1-ghk5f  | 2023-10-09 09:26:48,457 [INFO ] pool-2-thread-2 TS_METRICS - DiskUtilization.Percent:69.9|#Level:Host|#hostname:6104c552534b,timestamp:1696843608\n",
      "2227s001z1-algo-1-ghk5f  | 2023-10-09 09:26:48,457 [INFO ] pool-2-thread-2 TS_METRICS - MemoryAvailable.Megabytes:200344.421875|#Level:Host|#hostname:6104c552534b,timestamp:1696843608\n",
      "2227s001z1-algo-1-ghk5f  | 2023-10-09 09:26:48,457 [INFO ] pool-2-thread-2 TS_METRICS - MemoryUsed.Megabytes:50744.3046875|#Level:Host|#hostname:6104c552534b,timestamp:1696843608\n",
      "2227s001z1-algo-1-ghk5f  | 2023-10-09 09:26:48,457 [INFO ] pool-2-thread-2 TS_METRICS - MemoryUtilization.Percent:21.4|#Level:Host|#hostname:6104c552534b,timestamp:1696843608\n",
      "2227s001z1-algo-1-ghk5f  | 2023-10-09 09:27:48,457 [INFO ] pool-2-thread-2 TS_METRICS - CPUUtilization.Percent:0.0|#Level:Host|#hostname:6104c552534b,timestamp:1696843668\n",
      "2227s001z1-algo-1-ghk5f  | 2023-10-09 09:27:48,457 [INFO ] pool-2-thread-2 TS_METRICS - DiskAvailable.Gigabytes:58.36180877685547|#Level:Host|#hostname:6104c552534b,timestamp:1696843668\n",
      "2227s001z1-algo-1-ghk5f  | 2023-10-09 09:27:48,458 [INFO ] pool-2-thread-2 TS_METRICS - DiskUsage.Gigabytes:135.42864227294922|#Level:Host|#hostname:6104c552534b,timestamp:1696843668\n",
      "2227s001z1-algo-1-ghk5f  | 2023-10-09 09:27:48,458 [INFO ] pool-2-thread-2 TS_METRICS - DiskUtilization.Percent:69.9|#Level:Host|#hostname:6104c552534b,timestamp:1696843668\n",
      "2227s001z1-algo-1-ghk5f  | 2023-10-09 09:27:48,458 [INFO ] pool-2-thread-2 TS_METRICS - MemoryAvailable.Megabytes:200338.2734375|#Level:Host|#hostname:6104c552534b,timestamp:1696843668\n",
      "2227s001z1-algo-1-ghk5f  | 2023-10-09 09:27:48,458 [INFO ] pool-2-thread-2 TS_METRICS - MemoryUsed.Megabytes:50750.453125|#Level:Host|#hostname:6104c552534b,timestamp:1696843668\n",
      "2227s001z1-algo-1-ghk5f  | 2023-10-09 09:27:48,458 [INFO ] pool-2-thread-2 TS_METRICS - MemoryUtilization.Percent:21.4|#Level:Host|#hostname:6104c552534b,timestamp:1696843668\n",
      "2227s001z1-algo-1-ghk5f  | 2023-10-09 09:28:48,457 [INFO ] pool-2-thread-2 TS_METRICS - CPUUtilization.Percent:0.0|#Level:Host|#hostname:6104c552534b,timestamp:1696843728\n",
      "2227s001z1-algo-1-ghk5f  | 2023-10-09 09:28:48,457 [INFO ] pool-2-thread-2 TS_METRICS - DiskAvailable.Gigabytes:58.36180877685547|#Level:Host|#hostname:6104c552534b,timestamp:1696843728\n",
      "2227s001z1-algo-1-ghk5f  | 2023-10-09 09:28:48,457 [INFO ] pool-2-thread-2 TS_METRICS - DiskUsage.Gigabytes:135.42864227294922|#Level:Host|#hostname:6104c552534b,timestamp:1696843728\n",
      "2227s001z1-algo-1-ghk5f  | 2023-10-09 09:28:48,457 [INFO ] pool-2-thread-2 TS_METRICS - DiskUtilization.Percent:69.9|#Level:Host|#hostname:6104c552534b,timestamp:1696843728\n",
      "2227s001z1-algo-1-ghk5f  | 2023-10-09 09:28:48,457 [INFO ] pool-2-thread-2 TS_METRICS - MemoryAvailable.Megabytes:200341.609375|#Level:Host|#hostname:6104c552534b,timestamp:1696843728\n",
      "2227s001z1-algo-1-ghk5f  | 2023-10-09 09:28:48,457 [INFO ] pool-2-thread-2 TS_METRICS - MemoryUsed.Megabytes:50747.1171875|#Level:Host|#hostname:6104c552534b,timestamp:1696843728\n",
      "2227s001z1-algo-1-ghk5f  | 2023-10-09 09:28:48,457 [INFO ] pool-2-thread-2 TS_METRICS - MemoryUtilization.Percent:21.4|#Level:Host|#hostname:6104c552534b,timestamp:1696843728\n",
      "2227s001z1-algo-1-ghk5f  | 2023-10-09 09:29:48,457 [INFO ] pool-2-thread-2 TS_METRICS - CPUUtilization.Percent:0.0|#Level:Host|#hostname:6104c552534b,timestamp:1696843788\n",
      "2227s001z1-algo-1-ghk5f  | 2023-10-09 09:29:48,457 [INFO ] pool-2-thread-2 TS_METRICS - DiskAvailable.Gigabytes:58.36180877685547|#Level:Host|#hostname:6104c552534b,timestamp:1696843788\n",
      "2227s001z1-algo-1-ghk5f  | 2023-10-09 09:29:48,457 [INFO ] pool-2-thread-2 TS_METRICS - DiskUsage.Gigabytes:135.42864227294922|#Level:Host|#hostname:6104c552534b,timestamp:1696843788\n",
      "2227s001z1-algo-1-ghk5f  | 2023-10-09 09:29:48,457 [INFO ] pool-2-thread-2 TS_METRICS - DiskUtilization.Percent:69.9|#Level:Host|#hostname:6104c552534b,timestamp:1696843788\n",
      "2227s001z1-algo-1-ghk5f  | 2023-10-09 09:29:48,457 [INFO ] pool-2-thread-2 TS_METRICS - MemoryAvailable.Megabytes:200328.73046875|#Level:Host|#hostname:6104c552534b,timestamp:1696843788\n",
      "2227s001z1-algo-1-ghk5f  | 2023-10-09 09:29:48,457 [INFO ] pool-2-thread-2 TS_METRICS - MemoryUsed.Megabytes:50759.99609375|#Level:Host|#hostname:6104c552534b,timestamp:1696843788\n",
      "2227s001z1-algo-1-ghk5f  | 2023-10-09 09:29:48,457 [INFO ] pool-2-thread-2 TS_METRICS - MemoryUtilization.Percent:21.4|#Level:Host|#hostname:6104c552534b,timestamp:1696843788\n",
      "2227s001z1-algo-1-ghk5f  | 2023-10-09 09:30:48,458 [INFO ] pool-2-thread-1 TS_METRICS - CPUUtilization.Percent:0.0|#Level:Host|#hostname:6104c552534b,timestamp:1696843848\n",
      "2227s001z1-algo-1-ghk5f  | 2023-10-09 09:30:48,458 [INFO ] pool-2-thread-1 TS_METRICS - DiskAvailable.Gigabytes:58.36180114746094|#Level:Host|#hostname:6104c552534b,timestamp:1696843848\n",
      "2227s001z1-algo-1-ghk5f  | 2023-10-09 09:30:48,459 [INFO ] pool-2-thread-1 TS_METRICS - DiskUsage.Gigabytes:135.42864990234375|#Level:Host|#hostname:6104c552534b,timestamp:1696843848\n",
      "2227s001z1-algo-1-ghk5f  | 2023-10-09 09:30:48,459 [INFO ] pool-2-thread-1 TS_METRICS - DiskUtilization.Percent:69.9|#Level:Host|#hostname:6104c552534b,timestamp:1696843848\n",
      "2227s001z1-algo-1-ghk5f  | 2023-10-09 09:30:48,459 [INFO ] pool-2-thread-1 TS_METRICS - MemoryAvailable.Megabytes:200325.578125|#Level:Host|#hostname:6104c552534b,timestamp:1696843848\n",
      "2227s001z1-algo-1-ghk5f  | 2023-10-09 09:30:48,459 [INFO ] pool-2-thread-1 TS_METRICS - MemoryUsed.Megabytes:50763.1484375|#Level:Host|#hostname:6104c552534b,timestamp:1696843848\n",
      "2227s001z1-algo-1-ghk5f  | 2023-10-09 09:30:48,459 [INFO ] pool-2-thread-1 TS_METRICS - MemoryUtilization.Percent:21.4|#Level:Host|#hostname:6104c552534b,timestamp:1696843848\n",
      "2227s001z1-algo-1-ghk5f  | 2023-10-09 09:31:48,457 [INFO ] pool-2-thread-1 TS_METRICS - CPUUtilization.Percent:0.0|#Level:Host|#hostname:6104c552534b,timestamp:1696843908\n",
      "2227s001z1-algo-1-ghk5f  | 2023-10-09 09:31:48,457 [INFO ] pool-2-thread-1 TS_METRICS - DiskAvailable.Gigabytes:58.36179733276367|#Level:Host|#hostname:6104c552534b,timestamp:1696843908\n",
      "2227s001z1-algo-1-ghk5f  | 2023-10-09 09:31:48,457 [INFO ] pool-2-thread-1 TS_METRICS - DiskUsage.Gigabytes:135.42865371704102|#Level:Host|#hostname:6104c552534b,timestamp:1696843908\n",
      "2227s001z1-algo-1-ghk5f  | 2023-10-09 09:31:48,457 [INFO ] pool-2-thread-1 TS_METRICS - DiskUtilization.Percent:69.9|#Level:Host|#hostname:6104c552534b,timestamp:1696843908\n",
      "2227s001z1-algo-1-ghk5f  | 2023-10-09 09:31:48,457 [INFO ] pool-2-thread-1 TS_METRICS - MemoryAvailable.Megabytes:200335.58203125|#Level:Host|#hostname:6104c552534b,timestamp:1696843908\n",
      "2227s001z1-algo-1-ghk5f  | 2023-10-09 09:31:48,457 [INFO ] pool-2-thread-1 TS_METRICS - MemoryUsed.Megabytes:50753.14453125|#Level:Host|#hostname:6104c552534b,timestamp:1696843908\n",
      "2227s001z1-algo-1-ghk5f  | 2023-10-09 09:31:48,457 [INFO ] pool-2-thread-1 TS_METRICS - MemoryUtilization.Percent:21.4|#Level:Host|#hostname:6104c552534b,timestamp:1696843908\n",
      "2227s001z1-algo-1-ghk5f  | 2023-10-09 09:32:48,457 [INFO ] pool-2-thread-1 TS_METRICS - CPUUtilization.Percent:0.0|#Level:Host|#hostname:6104c552534b,timestamp:1696843968\n",
      "2227s001z1-algo-1-ghk5f  | 2023-10-09 09:32:48,457 [INFO ] pool-2-thread-1 TS_METRICS - DiskAvailable.Gigabytes:58.361793518066406|#Level:Host|#hostname:6104c552534b,timestamp:1696843968\n",
      "2227s001z1-algo-1-ghk5f  | 2023-10-09 09:32:48,457 [INFO ] pool-2-thread-1 TS_METRICS - DiskUsage.Gigabytes:135.42865753173828|#Level:Host|#hostname:6104c552534b,timestamp:1696843968\n",
      "2227s001z1-algo-1-ghk5f  | 2023-10-09 09:32:48,457 [INFO ] pool-2-thread-1 TS_METRICS - DiskUtilization.Percent:69.9|#Level:Host|#hostname:6104c552534b,timestamp:1696843968\n",
      "2227s001z1-algo-1-ghk5f  | 2023-10-09 09:32:48,457 [INFO ] pool-2-thread-1 TS_METRICS - MemoryAvailable.Megabytes:200342.109375|#Level:Host|#hostname:6104c552534b,timestamp:1696843968\n",
      "2227s001z1-algo-1-ghk5f  | 2023-10-09 09:32:48,457 [INFO ] pool-2-thread-1 TS_METRICS - MemoryUsed.Megabytes:50746.6171875|#Level:Host|#hostname:6104c552534b,timestamp:1696843968\n",
      "2227s001z1-algo-1-ghk5f  | 2023-10-09 09:32:48,457 [INFO ] pool-2-thread-1 TS_METRICS - MemoryUtilization.Percent:21.4|#Level:Host|#hostname:6104c552534b,timestamp:1696843968\n",
      "2227s001z1-algo-1-ghk5f  | 2023-10-09 09:33:48,457 [INFO ] pool-2-thread-1 TS_METRICS - CPUUtilization.Percent:0.0|#Level:Host|#hostname:6104c552534b,timestamp:1696844028\n",
      "2227s001z1-algo-1-ghk5f  | 2023-10-09 09:33:48,458 [INFO ] pool-2-thread-1 TS_METRICS - DiskAvailable.Gigabytes:58.361793518066406|#Level:Host|#hostname:6104c552534b,timestamp:1696844028\n",
      "2227s001z1-algo-1-ghk5f  | 2023-10-09 09:33:48,458 [INFO ] pool-2-thread-1 TS_METRICS - DiskUsage.Gigabytes:135.42865753173828|#Level:Host|#hostname:6104c552534b,timestamp:1696844028\n",
      "2227s001z1-algo-1-ghk5f  | 2023-10-09 09:33:48,458 [INFO ] pool-2-thread-1 TS_METRICS - DiskUtilization.Percent:69.9|#Level:Host|#hostname:6104c552534b,timestamp:1696844028\n",
      "2227s001z1-algo-1-ghk5f  | 2023-10-09 09:33:48,458 [INFO ] pool-2-thread-1 TS_METRICS - MemoryAvailable.Megabytes:200341.359375|#Level:Host|#hostname:6104c552534b,timestamp:1696844028\n",
      "2227s001z1-algo-1-ghk5f  | 2023-10-09 09:33:48,458 [INFO ] pool-2-thread-1 TS_METRICS - MemoryUsed.Megabytes:50747.3671875|#Level:Host|#hostname:6104c552534b,timestamp:1696844028\n",
      "2227s001z1-algo-1-ghk5f  | 2023-10-09 09:33:48,458 [INFO ] pool-2-thread-1 TS_METRICS - MemoryUtilization.Percent:21.4|#Level:Host|#hostname:6104c552534b,timestamp:1696844028\n",
      "2227s001z1-algo-1-ghk5f  | 2023-10-09 09:34:48,457 [INFO ] pool-2-thread-1 TS_METRICS - CPUUtilization.Percent:0.0|#Level:Host|#hostname:6104c552534b,timestamp:1696844088\n",
      "2227s001z1-algo-1-ghk5f  | 2023-10-09 09:34:48,457 [INFO ] pool-2-thread-1 TS_METRICS - DiskAvailable.Gigabytes:58.361793518066406|#Level:Host|#hostname:6104c552534b,timestamp:1696844088\n",
      "2227s001z1-algo-1-ghk5f  | 2023-10-09 09:34:48,457 [INFO ] pool-2-thread-1 TS_METRICS - DiskUsage.Gigabytes:135.42865753173828|#Level:Host|#hostname:6104c552534b,timestamp:1696844088\n",
      "2227s001z1-algo-1-ghk5f  | 2023-10-09 09:34:48,457 [INFO ] pool-2-thread-1 TS_METRICS - DiskUtilization.Percent:69.9|#Level:Host|#hostname:6104c552534b,timestamp:1696844088\n",
      "2227s001z1-algo-1-ghk5f  | 2023-10-09 09:34:48,457 [INFO ] pool-2-thread-1 TS_METRICS - MemoryAvailable.Megabytes:200323.79296875|#Level:Host|#hostname:6104c552534b,timestamp:1696844088\n",
      "2227s001z1-algo-1-ghk5f  | 2023-10-09 09:34:48,457 [INFO ] pool-2-thread-1 TS_METRICS - MemoryUsed.Megabytes:50764.93359375|#Level:Host|#hostname:6104c552534b,timestamp:1696844088\n",
      "2227s001z1-algo-1-ghk5f  | 2023-10-09 09:34:48,457 [INFO ] pool-2-thread-1 TS_METRICS - MemoryUtilization.Percent:21.4|#Level:Host|#hostname:6104c552534b,timestamp:1696844088\n",
      "2227s001z1-algo-1-ghk5f  | 2023-10-09 09:35:48,457 [INFO ] pool-2-thread-1 TS_METRICS - CPUUtilization.Percent:0.0|#Level:Host|#hostname:6104c552534b,timestamp:1696844148\n",
      "2227s001z1-algo-1-ghk5f  | 2023-10-09 09:35:48,457 [INFO ] pool-2-thread-1 TS_METRICS - DiskAvailable.Gigabytes:58.36178970336914|#Level:Host|#hostname:6104c552534b,timestamp:1696844148\n",
      "2227s001z1-algo-1-ghk5f  | 2023-10-09 09:35:48,457 [INFO ] pool-2-thread-1 TS_METRICS - DiskUsage.Gigabytes:135.42866134643555|#Level:Host|#hostname:6104c552534b,timestamp:1696844148\n",
      "2227s001z1-algo-1-ghk5f  | 2023-10-09 09:35:48,457 [INFO ] pool-2-thread-1 TS_METRICS - DiskUtilization.Percent:69.9|#Level:Host|#hostname:6104c552534b,timestamp:1696844148\n",
      "2227s001z1-algo-1-ghk5f  | 2023-10-09 09:35:48,457 [INFO ] pool-2-thread-1 TS_METRICS - MemoryAvailable.Megabytes:200317.765625|#Level:Host|#hostname:6104c552534b,timestamp:1696844148\n",
      "2227s001z1-algo-1-ghk5f  | 2023-10-09 09:35:48,457 [INFO ] pool-2-thread-1 TS_METRICS - MemoryUsed.Megabytes:50770.9609375|#Level:Host|#hostname:6104c552534b,timestamp:1696844148\n",
      "2227s001z1-algo-1-ghk5f  | 2023-10-09 09:35:48,457 [INFO ] pool-2-thread-1 TS_METRICS - MemoryUtilization.Percent:21.4|#Level:Host|#hostname:6104c552534b,timestamp:1696844148\n",
      "2227s001z1-algo-1-ghk5f  | 2023-10-09 09:36:48,457 [INFO ] pool-2-thread-1 TS_METRICS - CPUUtilization.Percent:0.0|#Level:Host|#hostname:6104c552534b,timestamp:1696844208\n",
      "2227s001z1-algo-1-ghk5f  | 2023-10-09 09:36:48,457 [INFO ] pool-2-thread-1 TS_METRICS - DiskAvailable.Gigabytes:58.361785888671875|#Level:Host|#hostname:6104c552534b,timestamp:1696844208\n",
      "2227s001z1-algo-1-ghk5f  | 2023-10-09 09:36:48,457 [INFO ] pool-2-thread-1 TS_METRICS - DiskUsage.Gigabytes:135.4286651611328|#Level:Host|#hostname:6104c552534b,timestamp:1696844208\n",
      "2227s001z1-algo-1-ghk5f  | 2023-10-09 09:36:48,457 [INFO ] pool-2-thread-1 TS_METRICS - DiskUtilization.Percent:69.9|#Level:Host|#hostname:6104c552534b,timestamp:1696844208\n",
      "2227s001z1-algo-1-ghk5f  | 2023-10-09 09:36:48,457 [INFO ] pool-2-thread-1 TS_METRICS - MemoryAvailable.Megabytes:200317.484375|#Level:Host|#hostname:6104c552534b,timestamp:1696844208\n",
      "2227s001z1-algo-1-ghk5f  | 2023-10-09 09:36:48,457 [INFO ] pool-2-thread-1 TS_METRICS - MemoryUsed.Megabytes:50771.2421875|#Level:Host|#hostname:6104c552534b,timestamp:1696844208\n",
      "2227s001z1-algo-1-ghk5f  | 2023-10-09 09:36:48,457 [INFO ] pool-2-thread-1 TS_METRICS - MemoryUtilization.Percent:21.4|#Level:Host|#hostname:6104c552534b,timestamp:1696844208\n",
      "2227s001z1-algo-1-ghk5f  | 2023-10-09 09:37:48,457 [INFO ] pool-2-thread-1 TS_METRICS - CPUUtilization.Percent:0.0|#Level:Host|#hostname:6104c552534b,timestamp:1696844268\n",
      "2227s001z1-algo-1-ghk5f  | 2023-10-09 09:37:48,457 [INFO ] pool-2-thread-1 TS_METRICS - DiskAvailable.Gigabytes:58.36178207397461|#Level:Host|#hostname:6104c552534b,timestamp:1696844268\n",
      "2227s001z1-algo-1-ghk5f  | 2023-10-09 09:37:48,457 [INFO ] pool-2-thread-1 TS_METRICS - DiskUsage.Gigabytes:135.42866897583008|#Level:Host|#hostname:6104c552534b,timestamp:1696844268\n",
      "2227s001z1-algo-1-ghk5f  | 2023-10-09 09:37:48,457 [INFO ] pool-2-thread-1 TS_METRICS - DiskUtilization.Percent:69.9|#Level:Host|#hostname:6104c552534b,timestamp:1696844268\n",
      "2227s001z1-algo-1-ghk5f  | 2023-10-09 09:37:48,457 [INFO ] pool-2-thread-1 TS_METRICS - MemoryAvailable.Megabytes:200336.6171875|#Level:Host|#hostname:6104c552534b,timestamp:1696844268\n",
      "2227s001z1-algo-1-ghk5f  | 2023-10-09 09:37:48,457 [INFO ] pool-2-thread-1 TS_METRICS - MemoryUsed.Megabytes:50752.109375|#Level:Host|#hostname:6104c552534b,timestamp:1696844268\n",
      "2227s001z1-algo-1-ghk5f  | 2023-10-09 09:37:48,457 [INFO ] pool-2-thread-1 TS_METRICS - MemoryUtilization.Percent:21.4|#Level:Host|#hostname:6104c552534b,timestamp:1696844268\n",
      "2227s001z1-algo-1-ghk5f  | 2023-10-09 09:38:48,457 [INFO ] pool-2-thread-1 TS_METRICS - CPUUtilization.Percent:0.0|#Level:Host|#hostname:6104c552534b,timestamp:1696844328\n",
      "2227s001z1-algo-1-ghk5f  | 2023-10-09 09:38:48,457 [INFO ] pool-2-thread-1 TS_METRICS - DiskAvailable.Gigabytes:58.36178207397461|#Level:Host|#hostname:6104c552534b,timestamp:1696844328\n",
      "2227s001z1-algo-1-ghk5f  | 2023-10-09 09:38:48,457 [INFO ] pool-2-thread-1 TS_METRICS - DiskUsage.Gigabytes:135.42866897583008|#Level:Host|#hostname:6104c552534b,timestamp:1696844328\n",
      "2227s001z1-algo-1-ghk5f  | 2023-10-09 09:38:48,457 [INFO ] pool-2-thread-1 TS_METRICS - DiskUtilization.Percent:69.9|#Level:Host|#hostname:6104c552534b,timestamp:1696844328\n",
      "2227s001z1-algo-1-ghk5f  | 2023-10-09 09:38:48,457 [INFO ] pool-2-thread-1 TS_METRICS - MemoryAvailable.Megabytes:200331.8515625|#Level:Host|#hostname:6104c552534b,timestamp:1696844328\n",
      "2227s001z1-algo-1-ghk5f  | 2023-10-09 09:38:48,457 [INFO ] pool-2-thread-1 TS_METRICS - MemoryUsed.Megabytes:50756.875|#Level:Host|#hostname:6104c552534b,timestamp:1696844328\n",
      "2227s001z1-algo-1-ghk5f  | 2023-10-09 09:38:48,457 [INFO ] pool-2-thread-1 TS_METRICS - MemoryUtilization.Percent:21.4|#Level:Host|#hostname:6104c552534b,timestamp:1696844328\n",
      "2227s001z1-algo-1-ghk5f  | 2023-10-09 09:39:48,456 [INFO ] pool-2-thread-1 TS_METRICS - CPUUtilization.Percent:0.0|#Level:Host|#hostname:6104c552534b,timestamp:1696844388\n",
      "2227s001z1-algo-1-ghk5f  | 2023-10-09 09:39:48,457 [INFO ] pool-2-thread-1 TS_METRICS - DiskAvailable.Gigabytes:58.361778259277344|#Level:Host|#hostname:6104c552534b,timestamp:1696844388\n",
      "2227s001z1-algo-1-ghk5f  | 2023-10-09 09:39:48,457 [INFO ] pool-2-thread-1 TS_METRICS - DiskUsage.Gigabytes:135.42867279052734|#Level:Host|#hostname:6104c552534b,timestamp:1696844388\n",
      "2227s001z1-algo-1-ghk5f  | 2023-10-09 09:39:48,457 [INFO ] pool-2-thread-1 TS_METRICS - DiskUtilization.Percent:69.9|#Level:Host|#hostname:6104c552534b,timestamp:1696844388\n",
      "2227s001z1-algo-1-ghk5f  | 2023-10-09 09:39:48,457 [INFO ] pool-2-thread-1 TS_METRICS - MemoryAvailable.Megabytes:200318.2265625|#Level:Host|#hostname:6104c552534b,timestamp:1696844388\n",
      "2227s001z1-algo-1-ghk5f  | 2023-10-09 09:39:48,457 [INFO ] pool-2-thread-1 TS_METRICS - MemoryUsed.Megabytes:50770.5|#Level:Host|#hostname:6104c552534b,timestamp:1696844388\n",
      "2227s001z1-algo-1-ghk5f  | 2023-10-09 09:39:48,457 [INFO ] pool-2-thread-1 TS_METRICS - MemoryUtilization.Percent:21.4|#Level:Host|#hostname:6104c552534b,timestamp:1696844388\n",
      "2227s001z1-algo-1-ghk5f  | 2023-10-09 09:40:48,457 [INFO ] pool-2-thread-1 TS_METRICS - CPUUtilization.Percent:0.0|#Level:Host|#hostname:6104c552534b,timestamp:1696844448\n",
      "2227s001z1-algo-1-ghk5f  | 2023-10-09 09:40:48,457 [INFO ] pool-2-thread-1 TS_METRICS - DiskAvailable.Gigabytes:58.36177444458008|#Level:Host|#hostname:6104c552534b,timestamp:1696844448\n",
      "2227s001z1-algo-1-ghk5f  | 2023-10-09 09:40:48,457 [INFO ] pool-2-thread-1 TS_METRICS - DiskUsage.Gigabytes:135.4286766052246|#Level:Host|#hostname:6104c552534b,timestamp:1696844448\n",
      "2227s001z1-algo-1-ghk5f  | 2023-10-09 09:40:48,457 [INFO ] pool-2-thread-1 TS_METRICS - DiskUtilization.Percent:69.9|#Level:Host|#hostname:6104c552534b,timestamp:1696844448\n",
      "2227s001z1-algo-1-ghk5f  | 2023-10-09 09:40:48,458 [INFO ] pool-2-thread-1 TS_METRICS - MemoryAvailable.Megabytes:200322.33203125|#Level:Host|#hostname:6104c552534b,timestamp:1696844448\n",
      "2227s001z1-algo-1-ghk5f  | 2023-10-09 09:40:48,458 [INFO ] pool-2-thread-1 TS_METRICS - MemoryUsed.Megabytes:50766.39453125|#Level:Host|#hostname:6104c552534b,timestamp:1696844448\n",
      "2227s001z1-algo-1-ghk5f  | 2023-10-09 09:40:48,458 [INFO ] pool-2-thread-1 TS_METRICS - MemoryUtilization.Percent:21.4|#Level:Host|#hostname:6104c552534b,timestamp:1696844448\n",
      "2227s001z1-algo-1-ghk5f  | 2023-10-09 09:41:48,457 [INFO ] pool-2-thread-1 TS_METRICS - CPUUtilization.Percent:0.0|#Level:Host|#hostname:6104c552534b,timestamp:1696844508\n",
      "2227s001z1-algo-1-ghk5f  | 2023-10-09 09:41:48,457 [INFO ] pool-2-thread-1 TS_METRICS - DiskAvailable.Gigabytes:58.36177062988281|#Level:Host|#hostname:6104c552534b,timestamp:1696844508\n",
      "2227s001z1-algo-1-ghk5f  | 2023-10-09 09:41:48,457 [INFO ] pool-2-thread-1 TS_METRICS - DiskUsage.Gigabytes:135.42868041992188|#Level:Host|#hostname:6104c552534b,timestamp:1696844508\n",
      "2227s001z1-algo-1-ghk5f  | 2023-10-09 09:41:48,457 [INFO ] pool-2-thread-1 TS_METRICS - DiskUtilization.Percent:69.9|#Level:Host|#hostname:6104c552534b,timestamp:1696844508\n",
      "2227s001z1-algo-1-ghk5f  | 2023-10-09 09:41:48,457 [INFO ] pool-2-thread-1 TS_METRICS - MemoryAvailable.Megabytes:200315.6484375|#Level:Host|#hostname:6104c552534b,timestamp:1696844508\n",
      "2227s001z1-algo-1-ghk5f  | 2023-10-09 09:41:48,457 [INFO ] pool-2-thread-1 TS_METRICS - MemoryUsed.Megabytes:50773.078125|#Level:Host|#hostname:6104c552534b,timestamp:1696844508\n",
      "2227s001z1-algo-1-ghk5f  | 2023-10-09 09:41:48,457 [INFO ] pool-2-thread-1 TS_METRICS - MemoryUtilization.Percent:21.5|#Level:Host|#hostname:6104c552534b,timestamp:1696844508\n",
      "2227s001z1-algo-1-ghk5f  | 2023-10-09 09:42:48,457 [INFO ] pool-2-thread-1 TS_METRICS - CPUUtilization.Percent:0.0|#Level:Host|#hostname:6104c552534b,timestamp:1696844568\n",
      "2227s001z1-algo-1-ghk5f  | 2023-10-09 09:42:48,457 [INFO ] pool-2-thread-1 TS_METRICS - DiskAvailable.Gigabytes:58.36177062988281|#Level:Host|#hostname:6104c552534b,timestamp:1696844568\n",
      "2227s001z1-algo-1-ghk5f  | 2023-10-09 09:42:48,457 [INFO ] pool-2-thread-1 TS_METRICS - DiskUsage.Gigabytes:135.42868041992188|#Level:Host|#hostname:6104c552534b,timestamp:1696844568\n",
      "2227s001z1-algo-1-ghk5f  | 2023-10-09 09:42:48,457 [INFO ] pool-2-thread-1 TS_METRICS - DiskUtilization.Percent:69.9|#Level:Host|#hostname:6104c552534b,timestamp:1696844568\n",
      "2227s001z1-algo-1-ghk5f  | 2023-10-09 09:42:48,457 [INFO ] pool-2-thread-1 TS_METRICS - MemoryAvailable.Megabytes:200321.46484375|#Level:Host|#hostname:6104c552534b,timestamp:1696844568\n",
      "2227s001z1-algo-1-ghk5f  | 2023-10-09 09:42:48,457 [INFO ] pool-2-thread-1 TS_METRICS - MemoryUsed.Megabytes:50767.26171875|#Level:Host|#hostname:6104c552534b,timestamp:1696844568\n",
      "2227s001z1-algo-1-ghk5f  | 2023-10-09 09:42:48,457 [INFO ] pool-2-thread-1 TS_METRICS - MemoryUtilization.Percent:21.4|#Level:Host|#hostname:6104c552534b,timestamp:1696844568\n",
      "2227s001z1-algo-1-ghk5f  | 2023-10-09 09:43:48,457 [INFO ] pool-2-thread-1 TS_METRICS - CPUUtilization.Percent:0.0|#Level:Host|#hostname:6104c552534b,timestamp:1696844628\n",
      "2227s001z1-algo-1-ghk5f  | 2023-10-09 09:43:48,457 [INFO ] pool-2-thread-1 TS_METRICS - DiskAvailable.Gigabytes:58.36176300048828|#Level:Host|#hostname:6104c552534b,timestamp:1696844628\n",
      "2227s001z1-algo-1-ghk5f  | 2023-10-09 09:43:48,457 [INFO ] pool-2-thread-1 TS_METRICS - DiskUsage.Gigabytes:135.4286880493164|#Level:Host|#hostname:6104c552534b,timestamp:1696844628\n",
      "2227s001z1-algo-1-ghk5f  | 2023-10-09 09:43:48,457 [INFO ] pool-2-thread-1 TS_METRICS - DiskUtilization.Percent:69.9|#Level:Host|#hostname:6104c552534b,timestamp:1696844628\n",
      "2227s001z1-algo-1-ghk5f  | 2023-10-09 09:43:48,457 [INFO ] pool-2-thread-1 TS_METRICS - MemoryAvailable.Megabytes:200328.57421875|#Level:Host|#hostname:6104c552534b,timestamp:1696844628\n",
      "2227s001z1-algo-1-ghk5f  | 2023-10-09 09:43:48,457 [INFO ] pool-2-thread-1 TS_METRICS - MemoryUsed.Megabytes:50760.15234375|#Level:Host|#hostname:6104c552534b,timestamp:1696844628\n",
      "2227s001z1-algo-1-ghk5f  | 2023-10-09 09:43:48,457 [INFO ] pool-2-thread-1 TS_METRICS - MemoryUtilization.Percent:21.4|#Level:Host|#hostname:6104c552534b,timestamp:1696844628\n",
      "2227s001z1-algo-1-ghk5f  | 2023-10-09 09:44:48,457 [INFO ] pool-2-thread-2 TS_METRICS - CPUUtilization.Percent:0.0|#Level:Host|#hostname:6104c552534b,timestamp:1696844688\n",
      "2227s001z1-algo-1-ghk5f  | 2023-10-09 09:44:48,457 [INFO ] pool-2-thread-2 TS_METRICS - DiskAvailable.Gigabytes:58.36176300048828|#Level:Host|#hostname:6104c552534b,timestamp:1696844688\n",
      "2227s001z1-algo-1-ghk5f  | 2023-10-09 09:44:48,457 [INFO ] pool-2-thread-2 TS_METRICS - DiskUsage.Gigabytes:135.4286880493164|#Level:Host|#hostname:6104c552534b,timestamp:1696844688\n",
      "2227s001z1-algo-1-ghk5f  | 2023-10-09 09:44:48,457 [INFO ] pool-2-thread-2 TS_METRICS - DiskUtilization.Percent:69.9|#Level:Host|#hostname:6104c552534b,timestamp:1696844688\n",
      "2227s001z1-algo-1-ghk5f  | 2023-10-09 09:44:48,457 [INFO ] pool-2-thread-2 TS_METRICS - MemoryAvailable.Megabytes:200327.89453125|#Level:Host|#hostname:6104c552534b,timestamp:1696844688\n",
      "2227s001z1-algo-1-ghk5f  | 2023-10-09 09:44:48,457 [INFO ] pool-2-thread-2 TS_METRICS - MemoryUsed.Megabytes:50760.83203125|#Level:Host|#hostname:6104c552534b,timestamp:1696844688\n",
      "2227s001z1-algo-1-ghk5f  | 2023-10-09 09:44:48,457 [INFO ] pool-2-thread-2 TS_METRICS - MemoryUtilization.Percent:21.4|#Level:Host|#hostname:6104c552534b,timestamp:1696844688\n",
      "2227s001z1-algo-1-ghk5f  | 2023-10-09 09:45:48,456 [INFO ] pool-2-thread-2 TS_METRICS - CPUUtilization.Percent:0.0|#Level:Host|#hostname:6104c552534b,timestamp:1696844748\n",
      "2227s001z1-algo-1-ghk5f  | 2023-10-09 09:45:48,457 [INFO ] pool-2-thread-2 TS_METRICS - DiskAvailable.Gigabytes:58.361759185791016|#Level:Host|#hostname:6104c552534b,timestamp:1696844748\n",
      "2227s001z1-algo-1-ghk5f  | 2023-10-09 09:45:48,457 [INFO ] pool-2-thread-2 TS_METRICS - DiskUsage.Gigabytes:135.42869186401367|#Level:Host|#hostname:6104c552534b,timestamp:1696844748\n",
      "2227s001z1-algo-1-ghk5f  | 2023-10-09 09:45:48,457 [INFO ] pool-2-thread-2 TS_METRICS - DiskUtilization.Percent:69.9|#Level:Host|#hostname:6104c552534b,timestamp:1696844748\n",
      "2227s001z1-algo-1-ghk5f  | 2023-10-09 09:45:48,457 [INFO ] pool-2-thread-2 TS_METRICS - MemoryAvailable.Megabytes:200313.33984375|#Level:Host|#hostname:6104c552534b,timestamp:1696844748\n",
      "2227s001z1-algo-1-ghk5f  | 2023-10-09 09:45:48,457 [INFO ] pool-2-thread-2 TS_METRICS - MemoryUsed.Megabytes:50775.38671875|#Level:Host|#hostname:6104c552534b,timestamp:1696844748\n",
      "2227s001z1-algo-1-ghk5f  | 2023-10-09 09:45:48,457 [INFO ] pool-2-thread-2 TS_METRICS - MemoryUtilization.Percent:21.5|#Level:Host|#hostname:6104c552534b,timestamp:1696844748\n",
      "2227s001z1-algo-1-ghk5f  | 2023-10-09 09:46:48,457 [INFO ] pool-2-thread-2 TS_METRICS - CPUUtilization.Percent:0.0|#Level:Host|#hostname:6104c552534b,timestamp:1696844808\n",
      "2227s001z1-algo-1-ghk5f  | 2023-10-09 09:46:48,457 [INFO ] pool-2-thread-2 TS_METRICS - DiskAvailable.Gigabytes:58.36175537109375|#Level:Host|#hostname:6104c552534b,timestamp:1696844808\n",
      "2227s001z1-algo-1-ghk5f  | 2023-10-09 09:46:48,457 [INFO ] pool-2-thread-2 TS_METRICS - DiskUsage.Gigabytes:135.42869567871094|#Level:Host|#hostname:6104c552534b,timestamp:1696844808\n",
      "2227s001z1-algo-1-ghk5f  | 2023-10-09 09:46:48,457 [INFO ] pool-2-thread-2 TS_METRICS - DiskUtilization.Percent:69.9|#Level:Host|#hostname:6104c552534b,timestamp:1696844808\n",
      "2227s001z1-algo-1-ghk5f  | 2023-10-09 09:46:48,457 [INFO ] pool-2-thread-2 TS_METRICS - MemoryAvailable.Megabytes:200315.234375|#Level:Host|#hostname:6104c552534b,timestamp:1696844808\n",
      "2227s001z1-algo-1-ghk5f  | 2023-10-09 09:46:48,457 [INFO ] pool-2-thread-2 TS_METRICS - MemoryUsed.Megabytes:50773.4921875|#Level:Host|#hostname:6104c552534b,timestamp:1696844808\n",
      "2227s001z1-algo-1-ghk5f  | 2023-10-09 09:46:48,457 [INFO ] pool-2-thread-2 TS_METRICS - MemoryUtilization.Percent:21.5|#Level:Host|#hostname:6104c552534b,timestamp:1696844808\n",
      "2227s001z1-algo-1-ghk5f  | 2023-10-09 09:47:48,456 [INFO ] pool-2-thread-1 TS_METRICS - CPUUtilization.Percent:0.0|#Level:Host|#hostname:6104c552534b,timestamp:1696844868\n",
      "2227s001z1-algo-1-ghk5f  | 2023-10-09 09:47:48,457 [INFO ] pool-2-thread-1 TS_METRICS - DiskAvailable.Gigabytes:58.36175537109375|#Level:Host|#hostname:6104c552534b,timestamp:1696844868\n",
      "2227s001z1-algo-1-ghk5f  | 2023-10-09 09:47:48,457 [INFO ] pool-2-thread-1 TS_METRICS - DiskUsage.Gigabytes:135.42869567871094|#Level:Host|#hostname:6104c552534b,timestamp:1696844868\n",
      "2227s001z1-algo-1-ghk5f  | 2023-10-09 09:47:48,457 [INFO ] pool-2-thread-1 TS_METRICS - DiskUtilization.Percent:69.9|#Level:Host|#hostname:6104c552534b,timestamp:1696844868\n",
      "2227s001z1-algo-1-ghk5f  | 2023-10-09 09:47:48,457 [INFO ] pool-2-thread-1 TS_METRICS - MemoryAvailable.Megabytes:200321.890625|#Level:Host|#hostname:6104c552534b,timestamp:1696844868\n",
      "2227s001z1-algo-1-ghk5f  | 2023-10-09 09:47:48,457 [INFO ] pool-2-thread-1 TS_METRICS - MemoryUsed.Megabytes:50766.8359375|#Level:Host|#hostname:6104c552534b,timestamp:1696844868\n",
      "2227s001z1-algo-1-ghk5f  | 2023-10-09 09:47:48,457 [INFO ] pool-2-thread-1 TS_METRICS - MemoryUtilization.Percent:21.4|#Level:Host|#hostname:6104c552534b,timestamp:1696844868\n",
      "2227s001z1-algo-1-ghk5f  | 2023-10-09 09:48:48,457 [INFO ] pool-2-thread-2 TS_METRICS - CPUUtilization.Percent:0.0|#Level:Host|#hostname:6104c552534b,timestamp:1696844928\n",
      "2227s001z1-algo-1-ghk5f  | 2023-10-09 09:48:48,457 [INFO ] pool-2-thread-2 TS_METRICS - DiskAvailable.Gigabytes:58.361751556396484|#Level:Host|#hostname:6104c552534b,timestamp:1696844928\n",
      "2227s001z1-algo-1-ghk5f  | 2023-10-09 09:48:48,457 [INFO ] pool-2-thread-2 TS_METRICS - DiskUsage.Gigabytes:135.4286994934082|#Level:Host|#hostname:6104c552534b,timestamp:1696844928\n",
      "2227s001z1-algo-1-ghk5f  | 2023-10-09 09:48:48,457 [INFO ] pool-2-thread-2 TS_METRICS - DiskUtilization.Percent:69.9|#Level:Host|#hostname:6104c552534b,timestamp:1696844928\n",
      "2227s001z1-algo-1-ghk5f  | 2023-10-09 09:48:48,457 [INFO ] pool-2-thread-2 TS_METRICS - MemoryAvailable.Megabytes:200313.4765625|#Level:Host|#hostname:6104c552534b,timestamp:1696844928\n",
      "2227s001z1-algo-1-ghk5f  | 2023-10-09 09:48:48,457 [INFO ] pool-2-thread-2 TS_METRICS - MemoryUsed.Megabytes:50775.25|#Level:Host|#hostname:6104c552534b,timestamp:1696844928\n",
      "2227s001z1-algo-1-ghk5f  | 2023-10-09 09:48:48,457 [INFO ] pool-2-thread-2 TS_METRICS - MemoryUtilization.Percent:21.5|#Level:Host|#hostname:6104c552534b,timestamp:1696844928\n",
      "2227s001z1-algo-1-ghk5f  | 2023-10-09 09:49:48,457 [INFO ] pool-2-thread-2 TS_METRICS - CPUUtilization.Percent:0.0|#Level:Host|#hostname:6104c552534b,timestamp:1696844988\n",
      "2227s001z1-algo-1-ghk5f  | 2023-10-09 09:49:48,458 [INFO ] pool-2-thread-2 TS_METRICS - DiskAvailable.Gigabytes:58.361751556396484|#Level:Host|#hostname:6104c552534b,timestamp:1696844988\n",
      "2227s001z1-algo-1-ghk5f  | 2023-10-09 09:49:48,458 [INFO ] pool-2-thread-2 TS_METRICS - DiskUsage.Gigabytes:135.4286994934082|#Level:Host|#hostname:6104c552534b,timestamp:1696844988\n",
      "2227s001z1-algo-1-ghk5f  | 2023-10-09 09:49:48,458 [INFO ] pool-2-thread-2 TS_METRICS - DiskUtilization.Percent:69.9|#Level:Host|#hostname:6104c552534b,timestamp:1696844988\n",
      "2227s001z1-algo-1-ghk5f  | 2023-10-09 09:49:48,458 [INFO ] pool-2-thread-2 TS_METRICS - MemoryAvailable.Megabytes:200324.78515625|#Level:Host|#hostname:6104c552534b,timestamp:1696844988\n",
      "2227s001z1-algo-1-ghk5f  | 2023-10-09 09:49:48,458 [INFO ] pool-2-thread-2 TS_METRICS - MemoryUsed.Megabytes:50763.94140625|#Level:Host|#hostname:6104c552534b,timestamp:1696844988\n",
      "2227s001z1-algo-1-ghk5f  | 2023-10-09 09:49:48,458 [INFO ] pool-2-thread-2 TS_METRICS - MemoryUtilization.Percent:21.4|#Level:Host|#hostname:6104c552534b,timestamp:1696844988\n",
      "2227s001z1-algo-1-ghk5f  | 2023-10-09 09:50:48,456 [INFO ] pool-2-thread-2 TS_METRICS - CPUUtilization.Percent:0.0|#Level:Host|#hostname:6104c552534b,timestamp:1696845048\n",
      "2227s001z1-algo-1-ghk5f  | 2023-10-09 09:50:48,457 [INFO ] pool-2-thread-2 TS_METRICS - DiskAvailable.Gigabytes:58.36174774169922|#Level:Host|#hostname:6104c552534b,timestamp:1696845048\n",
      "2227s001z1-algo-1-ghk5f  | 2023-10-09 09:50:48,457 [INFO ] pool-2-thread-2 TS_METRICS - DiskUsage.Gigabytes:135.42870330810547|#Level:Host|#hostname:6104c552534b,timestamp:1696845048\n",
      "2227s001z1-algo-1-ghk5f  | 2023-10-09 09:50:48,457 [INFO ] pool-2-thread-2 TS_METRICS - DiskUtilization.Percent:69.9|#Level:Host|#hostname:6104c552534b,timestamp:1696845048\n",
      "2227s001z1-algo-1-ghk5f  | 2023-10-09 09:50:48,457 [INFO ] pool-2-thread-2 TS_METRICS - MemoryAvailable.Megabytes:200326.78125|#Level:Host|#hostname:6104c552534b,timestamp:1696845048\n",
      "2227s001z1-algo-1-ghk5f  | 2023-10-09 09:50:48,457 [INFO ] pool-2-thread-2 TS_METRICS - MemoryUsed.Megabytes:50761.9453125|#Level:Host|#hostname:6104c552534b,timestamp:1696845048\n",
      "2227s001z1-algo-1-ghk5f  | 2023-10-09 09:50:48,457 [INFO ] pool-2-thread-2 TS_METRICS - MemoryUtilization.Percent:21.4|#Level:Host|#hostname:6104c552534b,timestamp:1696845048\n",
      "2227s001z1-algo-1-ghk5f  | 2023-10-09 09:51:48,457 [INFO ] pool-2-thread-2 TS_METRICS - CPUUtilization.Percent:0.0|#Level:Host|#hostname:6104c552534b,timestamp:1696845108\n",
      "2227s001z1-algo-1-ghk5f  | 2023-10-09 09:51:48,457 [INFO ] pool-2-thread-2 TS_METRICS - DiskAvailable.Gigabytes:58.36174392700195|#Level:Host|#hostname:6104c552534b,timestamp:1696845108\n",
      "2227s001z1-algo-1-ghk5f  | 2023-10-09 09:51:48,457 [INFO ] pool-2-thread-2 TS_METRICS - DiskUsage.Gigabytes:135.42870712280273|#Level:Host|#hostname:6104c552534b,timestamp:1696845108\n",
      "2227s001z1-algo-1-ghk5f  | 2023-10-09 09:51:48,457 [INFO ] pool-2-thread-2 TS_METRICS - DiskUtilization.Percent:69.9|#Level:Host|#hostname:6104c552534b,timestamp:1696845108\n",
      "2227s001z1-algo-1-ghk5f  | 2023-10-09 09:51:48,457 [INFO ] pool-2-thread-2 TS_METRICS - MemoryAvailable.Megabytes:200320.296875|#Level:Host|#hostname:6104c552534b,timestamp:1696845108\n",
      "2227s001z1-algo-1-ghk5f  | 2023-10-09 09:51:48,457 [INFO ] pool-2-thread-2 TS_METRICS - MemoryUsed.Megabytes:50768.4296875|#Level:Host|#hostname:6104c552534b,timestamp:1696845108\n",
      "2227s001z1-algo-1-ghk5f  | 2023-10-09 09:51:48,457 [INFO ] pool-2-thread-2 TS_METRICS - MemoryUtilization.Percent:21.4|#Level:Host|#hostname:6104c552534b,timestamp:1696845108\n",
      "2227s001z1-algo-1-ghk5f  | 2023-10-09 09:52:48,457 [INFO ] pool-2-thread-1 TS_METRICS - CPUUtilization.Percent:0.0|#Level:Host|#hostname:6104c552534b,timestamp:1696845168\n",
      "2227s001z1-algo-1-ghk5f  | 2023-10-09 09:52:48,457 [INFO ] pool-2-thread-1 TS_METRICS - DiskAvailable.Gigabytes:58.36172866821289|#Level:Host|#hostname:6104c552534b,timestamp:1696845168\n",
      "2227s001z1-algo-1-ghk5f  | 2023-10-09 09:52:48,457 [INFO ] pool-2-thread-1 TS_METRICS - DiskUsage.Gigabytes:135.4287223815918|#Level:Host|#hostname:6104c552534b,timestamp:1696845168\n",
      "2227s001z1-algo-1-ghk5f  | 2023-10-09 09:52:48,457 [INFO ] pool-2-thread-1 TS_METRICS - DiskUtilization.Percent:69.9|#Level:Host|#hostname:6104c552534b,timestamp:1696845168\n",
      "2227s001z1-algo-1-ghk5f  | 2023-10-09 09:52:48,457 [INFO ] pool-2-thread-1 TS_METRICS - MemoryAvailable.Megabytes:200319.76953125|#Level:Host|#hostname:6104c552534b,timestamp:1696845168\n",
      "2227s001z1-algo-1-ghk5f  | 2023-10-09 09:52:48,457 [INFO ] pool-2-thread-1 TS_METRICS - MemoryUsed.Megabytes:50768.953125|#Level:Host|#hostname:6104c552534b,timestamp:1696845168\n",
      "2227s001z1-algo-1-ghk5f  | 2023-10-09 09:52:48,457 [INFO ] pool-2-thread-1 TS_METRICS - MemoryUtilization.Percent:21.4|#Level:Host|#hostname:6104c552534b,timestamp:1696845168\n",
      "2227s001z1-algo-1-ghk5f  | 2023-10-09 09:53:48,457 [INFO ] pool-2-thread-1 TS_METRICS - CPUUtilization.Percent:0.0|#Level:Host|#hostname:6104c552534b,timestamp:1696845228\n",
      "2227s001z1-algo-1-ghk5f  | 2023-10-09 09:53:48,457 [INFO ] pool-2-thread-1 TS_METRICS - DiskAvailable.Gigabytes:58.361724853515625|#Level:Host|#hostname:6104c552534b,timestamp:1696845228\n",
      "2227s001z1-algo-1-ghk5f  | 2023-10-09 09:53:48,457 [INFO ] pool-2-thread-1 TS_METRICS - DiskUsage.Gigabytes:135.42872619628906|#Level:Host|#hostname:6104c552534b,timestamp:1696845228\n",
      "2227s001z1-algo-1-ghk5f  | 2023-10-09 09:53:48,457 [INFO ] pool-2-thread-1 TS_METRICS - DiskUtilization.Percent:69.9|#Level:Host|#hostname:6104c552534b,timestamp:1696845228\n",
      "2227s001z1-algo-1-ghk5f  | 2023-10-09 09:53:48,457 [INFO ] pool-2-thread-1 TS_METRICS - MemoryAvailable.Megabytes:200322.34375|#Level:Host|#hostname:6104c552534b,timestamp:1696845228\n",
      "2227s001z1-algo-1-ghk5f  | 2023-10-09 09:53:48,457 [INFO ] pool-2-thread-1 TS_METRICS - MemoryUsed.Megabytes:50766.37890625|#Level:Host|#hostname:6104c552534b,timestamp:1696845228\n",
      "2227s001z1-algo-1-ghk5f  | 2023-10-09 09:53:48,457 [INFO ] pool-2-thread-1 TS_METRICS - MemoryUtilization.Percent:21.4|#Level:Host|#hostname:6104c552534b,timestamp:1696845228\n",
      "2227s001z1-algo-1-ghk5f  | 2023-10-09 09:54:48,457 [INFO ] pool-2-thread-2 TS_METRICS - CPUUtilization.Percent:0.0|#Level:Host|#hostname:6104c552534b,timestamp:1696845288\n",
      "2227s001z1-algo-1-ghk5f  | 2023-10-09 09:54:48,457 [INFO ] pool-2-thread-2 TS_METRICS - DiskAvailable.Gigabytes:58.361724853515625|#Level:Host|#hostname:6104c552534b,timestamp:1696845288\n",
      "2227s001z1-algo-1-ghk5f  | 2023-10-09 09:54:48,457 [INFO ] pool-2-thread-2 TS_METRICS - DiskUsage.Gigabytes:135.42872619628906|#Level:Host|#hostname:6104c552534b,timestamp:1696845288\n",
      "2227s001z1-algo-1-ghk5f  | 2023-10-09 09:54:48,457 [INFO ] pool-2-thread-2 TS_METRICS - DiskUtilization.Percent:69.9|#Level:Host|#hostname:6104c552534b,timestamp:1696845288\n",
      "2227s001z1-algo-1-ghk5f  | 2023-10-09 09:54:48,457 [INFO ] pool-2-thread-2 TS_METRICS - MemoryAvailable.Megabytes:200322.23828125|#Level:Host|#hostname:6104c552534b,timestamp:1696845288\n",
      "2227s001z1-algo-1-ghk5f  | 2023-10-09 09:54:48,457 [INFO ] pool-2-thread-2 TS_METRICS - MemoryUsed.Megabytes:50766.484375|#Level:Host|#hostname:6104c552534b,timestamp:1696845288\n",
      "2227s001z1-algo-1-ghk5f  | 2023-10-09 09:54:48,457 [INFO ] pool-2-thread-2 TS_METRICS - MemoryUtilization.Percent:21.4|#Level:Host|#hostname:6104c552534b,timestamp:1696845288\n",
      "2227s001z1-algo-1-ghk5f  | 2023-10-09 09:55:48,457 [INFO ] pool-2-thread-2 TS_METRICS - CPUUtilization.Percent:0.0|#Level:Host|#hostname:6104c552534b,timestamp:1696845348\n",
      "2227s001z1-algo-1-ghk5f  | 2023-10-09 09:55:48,457 [INFO ] pool-2-thread-2 TS_METRICS - DiskAvailable.Gigabytes:58.361724853515625|#Level:Host|#hostname:6104c552534b,timestamp:1696845348\n",
      "2227s001z1-algo-1-ghk5f  | 2023-10-09 09:55:48,457 [INFO ] pool-2-thread-2 TS_METRICS - DiskUsage.Gigabytes:135.42872619628906|#Level:Host|#hostname:6104c552534b,timestamp:1696845348\n",
      "2227s001z1-algo-1-ghk5f  | 2023-10-09 09:55:48,457 [INFO ] pool-2-thread-2 TS_METRICS - DiskUtilization.Percent:69.9|#Level:Host|#hostname:6104c552534b,timestamp:1696845348\n",
      "2227s001z1-algo-1-ghk5f  | 2023-10-09 09:55:48,457 [INFO ] pool-2-thread-2 TS_METRICS - MemoryAvailable.Megabytes:200312.015625|#Level:Host|#hostname:6104c552534b,timestamp:1696845348\n",
      "2227s001z1-algo-1-ghk5f  | 2023-10-09 09:55:48,457 [INFO ] pool-2-thread-2 TS_METRICS - MemoryUsed.Megabytes:50776.70703125|#Level:Host|#hostname:6104c552534b,timestamp:1696845348\n",
      "2227s001z1-algo-1-ghk5f  | 2023-10-09 09:55:48,457 [INFO ] pool-2-thread-2 TS_METRICS - MemoryUtilization.Percent:21.5|#Level:Host|#hostname:6104c552534b,timestamp:1696845348\n",
      "2227s001z1-algo-1-ghk5f  | 2023-10-09 09:56:48,457 [INFO ] pool-2-thread-1 TS_METRICS - CPUUtilization.Percent:0.0|#Level:Host|#hostname:6104c552534b,timestamp:1696845408\n",
      "2227s001z1-algo-1-ghk5f  | 2023-10-09 09:56:48,457 [INFO ] pool-2-thread-1 TS_METRICS - DiskAvailable.Gigabytes:58.361717224121094|#Level:Host|#hostname:6104c552534b,timestamp:1696845408\n",
      "2227s001z1-algo-1-ghk5f  | 2023-10-09 09:56:48,457 [INFO ] pool-2-thread-1 TS_METRICS - DiskUsage.Gigabytes:135.4287338256836|#Level:Host|#hostname:6104c552534b,timestamp:1696845408\n",
      "2227s001z1-algo-1-ghk5f  | 2023-10-09 09:56:48,457 [INFO ] pool-2-thread-1 TS_METRICS - DiskUtilization.Percent:69.9|#Level:Host|#hostname:6104c552534b,timestamp:1696845408\n",
      "2227s001z1-algo-1-ghk5f  | 2023-10-09 09:56:48,457 [INFO ] pool-2-thread-1 TS_METRICS - MemoryAvailable.Megabytes:200310.6015625|#Level:Host|#hostname:6104c552534b,timestamp:1696845408\n",
      "2227s001z1-algo-1-ghk5f  | 2023-10-09 09:56:48,457 [INFO ] pool-2-thread-1 TS_METRICS - MemoryUsed.Megabytes:50778.12109375|#Level:Host|#hostname:6104c552534b,timestamp:1696845408\n",
      "2227s001z1-algo-1-ghk5f  | 2023-10-09 09:56:48,457 [INFO ] pool-2-thread-1 TS_METRICS - MemoryUtilization.Percent:21.5|#Level:Host|#hostname:6104c552534b,timestamp:1696845408\n",
      "2227s001z1-algo-1-ghk5f  | 2023-10-09 09:57:48,457 [INFO ] pool-2-thread-1 TS_METRICS - CPUUtilization.Percent:0.0|#Level:Host|#hostname:6104c552534b,timestamp:1696845468\n",
      "2227s001z1-algo-1-ghk5f  | 2023-10-09 09:57:48,457 [INFO ] pool-2-thread-1 TS_METRICS - DiskAvailable.Gigabytes:58.361717224121094|#Level:Host|#hostname:6104c552534b,timestamp:1696845468\n",
      "2227s001z1-algo-1-ghk5f  | 2023-10-09 09:57:48,457 [INFO ] pool-2-thread-1 TS_METRICS - DiskUsage.Gigabytes:135.4287338256836|#Level:Host|#hostname:6104c552534b,timestamp:1696845468\n",
      "2227s001z1-algo-1-ghk5f  | 2023-10-09 09:57:48,457 [INFO ] pool-2-thread-1 TS_METRICS - DiskUtilization.Percent:69.9|#Level:Host|#hostname:6104c552534b,timestamp:1696845468\n",
      "2227s001z1-algo-1-ghk5f  | 2023-10-09 09:57:48,457 [INFO ] pool-2-thread-1 TS_METRICS - MemoryAvailable.Megabytes:200313.72265625|#Level:Host|#hostname:6104c552534b,timestamp:1696845468\n",
      "2227s001z1-algo-1-ghk5f  | 2023-10-09 09:57:48,457 [INFO ] pool-2-thread-1 TS_METRICS - MemoryUsed.Megabytes:50775.0|#Level:Host|#hostname:6104c552534b,timestamp:1696845468\n",
      "2227s001z1-algo-1-ghk5f  | 2023-10-09 09:57:48,457 [INFO ] pool-2-thread-1 TS_METRICS - MemoryUtilization.Percent:21.5|#Level:Host|#hostname:6104c552534b,timestamp:1696845468\n",
      "2227s001z1-algo-1-ghk5f  | 2023-10-09 09:58:48,457 [INFO ] pool-2-thread-1 TS_METRICS - CPUUtilization.Percent:0.0|#Level:Host|#hostname:6104c552534b,timestamp:1696845528\n",
      "2227s001z1-algo-1-ghk5f  | 2023-10-09 09:58:48,457 [INFO ] pool-2-thread-1 TS_METRICS - DiskAvailable.Gigabytes:58.36171340942383|#Level:Host|#hostname:6104c552534b,timestamp:1696845528\n",
      "2227s001z1-algo-1-ghk5f  | 2023-10-09 09:58:48,457 [INFO ] pool-2-thread-1 TS_METRICS - DiskUsage.Gigabytes:135.42873764038086|#Level:Host|#hostname:6104c552534b,timestamp:1696845528\n",
      "2227s001z1-algo-1-ghk5f  | 2023-10-09 09:58:48,457 [INFO ] pool-2-thread-1 TS_METRICS - DiskUtilization.Percent:69.9|#Level:Host|#hostname:6104c552534b,timestamp:1696845528\n",
      "2227s001z1-algo-1-ghk5f  | 2023-10-09 09:58:48,457 [INFO ] pool-2-thread-1 TS_METRICS - MemoryAvailable.Megabytes:200312.390625|#Level:Host|#hostname:6104c552534b,timestamp:1696845528\n",
      "2227s001z1-algo-1-ghk5f  | 2023-10-09 09:58:48,457 [INFO ] pool-2-thread-1 TS_METRICS - MemoryUsed.Megabytes:50776.33203125|#Level:Host|#hostname:6104c552534b,timestamp:1696845528\n",
      "2227s001z1-algo-1-ghk5f  | 2023-10-09 09:58:48,457 [INFO ] pool-2-thread-1 TS_METRICS - MemoryUtilization.Percent:21.5|#Level:Host|#hostname:6104c552534b,timestamp:1696845528\n",
      "2227s001z1-algo-1-ghk5f  | 2023-10-09 09:59:48,456 [INFO ] pool-2-thread-1 TS_METRICS - CPUUtilization.Percent:0.0|#Level:Host|#hostname:6104c552534b,timestamp:1696845588\n",
      "2227s001z1-algo-1-ghk5f  | 2023-10-09 09:59:48,457 [INFO ] pool-2-thread-1 TS_METRICS - DiskAvailable.Gigabytes:58.36171340942383|#Level:Host|#hostname:6104c552534b,timestamp:1696845588\n",
      "2227s001z1-algo-1-ghk5f  | 2023-10-09 09:59:48,457 [INFO ] pool-2-thread-1 TS_METRICS - DiskUsage.Gigabytes:135.42873764038086|#Level:Host|#hostname:6104c552534b,timestamp:1696845588\n",
      "2227s001z1-algo-1-ghk5f  | 2023-10-09 09:59:48,457 [INFO ] pool-2-thread-1 TS_METRICS - DiskUtilization.Percent:69.9|#Level:Host|#hostname:6104c552534b,timestamp:1696845588\n",
      "2227s001z1-algo-1-ghk5f  | 2023-10-09 09:59:48,457 [INFO ] pool-2-thread-1 TS_METRICS - MemoryAvailable.Megabytes:200316.46875|#Level:Host|#hostname:6104c552534b,timestamp:1696845588\n",
      "2227s001z1-algo-1-ghk5f  | 2023-10-09 09:59:48,457 [INFO ] pool-2-thread-1 TS_METRICS - MemoryUsed.Megabytes:50772.25390625|#Level:Host|#hostname:6104c552534b,timestamp:1696845588\n",
      "2227s001z1-algo-1-ghk5f  | 2023-10-09 09:59:48,457 [INFO ] pool-2-thread-1 TS_METRICS - MemoryUtilization.Percent:21.5|#Level:Host|#hostname:6104c552534b,timestamp:1696845588\n",
      "2227s001z1-algo-1-ghk5f  | 2023-10-09 10:00:48,456 [INFO ] pool-2-thread-1 TS_METRICS - CPUUtilization.Percent:0.0|#Level:Host|#hostname:6104c552534b,timestamp:1696845648\n",
      "2227s001z1-algo-1-ghk5f  | 2023-10-09 10:00:48,457 [INFO ] pool-2-thread-1 TS_METRICS - DiskAvailable.Gigabytes:58.36171340942383|#Level:Host|#hostname:6104c552534b,timestamp:1696845648\n",
      "2227s001z1-algo-1-ghk5f  | 2023-10-09 10:00:48,457 [INFO ] pool-2-thread-1 TS_METRICS - DiskUsage.Gigabytes:135.42873764038086|#Level:Host|#hostname:6104c552534b,timestamp:1696845648\n",
      "2227s001z1-algo-1-ghk5f  | 2023-10-09 10:00:48,457 [INFO ] pool-2-thread-1 TS_METRICS - DiskUtilization.Percent:69.9|#Level:Host|#hostname:6104c552534b,timestamp:1696845648\n",
      "2227s001z1-algo-1-ghk5f  | 2023-10-09 10:00:48,457 [INFO ] pool-2-thread-1 TS_METRICS - MemoryAvailable.Megabytes:200315.2578125|#Level:Host|#hostname:6104c552534b,timestamp:1696845648\n",
      "2227s001z1-algo-1-ghk5f  | 2023-10-09 10:00:48,457 [INFO ] pool-2-thread-1 TS_METRICS - MemoryUsed.Megabytes:50773.46484375|#Level:Host|#hostname:6104c552534b,timestamp:1696845648\n",
      "2227s001z1-algo-1-ghk5f  | 2023-10-09 10:00:48,457 [INFO ] pool-2-thread-1 TS_METRICS - MemoryUtilization.Percent:21.5|#Level:Host|#hostname:6104c552534b,timestamp:1696845648\n",
      "2227s001z1-algo-1-ghk5f  | 2023-10-09 10:01:48,457 [INFO ] pool-2-thread-1 TS_METRICS - CPUUtilization.Percent:0.0|#Level:Host|#hostname:6104c552534b,timestamp:1696845708\n",
      "2227s001z1-algo-1-ghk5f  | 2023-10-09 10:01:48,457 [INFO ] pool-2-thread-1 TS_METRICS - DiskAvailable.Gigabytes:58.3617057800293|#Level:Host|#hostname:6104c552534b,timestamp:1696845708\n",
      "2227s001z1-algo-1-ghk5f  | 2023-10-09 10:01:48,457 [INFO ] pool-2-thread-1 TS_METRICS - DiskUsage.Gigabytes:135.4287452697754|#Level:Host|#hostname:6104c552534b,timestamp:1696845708\n",
      "2227s001z1-algo-1-ghk5f  | 2023-10-09 10:01:48,457 [INFO ] pool-2-thread-1 TS_METRICS - DiskUtilization.Percent:69.9|#Level:Host|#hostname:6104c552534b,timestamp:1696845708\n",
      "2227s001z1-algo-1-ghk5f  | 2023-10-09 10:01:48,457 [INFO ] pool-2-thread-1 TS_METRICS - MemoryAvailable.Megabytes:200304.0703125|#Level:Host|#hostname:6104c552534b,timestamp:1696845708\n",
      "2227s001z1-algo-1-ghk5f  | 2023-10-09 10:01:48,457 [INFO ] pool-2-thread-1 TS_METRICS - MemoryUsed.Megabytes:50784.65234375|#Level:Host|#hostname:6104c552534b,timestamp:1696845708\n",
      "2227s001z1-algo-1-ghk5f  | 2023-10-09 10:01:48,457 [INFO ] pool-2-thread-1 TS_METRICS - MemoryUtilization.Percent:21.5|#Level:Host|#hostname:6104c552534b,timestamp:1696845708\n",
      "2227s001z1-algo-1-ghk5f  | 2023-10-09 10:02:48,457 [INFO ] pool-2-thread-2 TS_METRICS - CPUUtilization.Percent:0.0|#Level:Host|#hostname:6104c552534b,timestamp:1696845768\n",
      "2227s001z1-algo-1-ghk5f  | 2023-10-09 10:02:48,457 [INFO ] pool-2-thread-2 TS_METRICS - DiskAvailable.Gigabytes:58.3617057800293|#Level:Host|#hostname:6104c552534b,timestamp:1696845768\n",
      "2227s001z1-algo-1-ghk5f  | 2023-10-09 10:02:48,457 [INFO ] pool-2-thread-2 TS_METRICS - DiskUsage.Gigabytes:135.4287452697754|#Level:Host|#hostname:6104c552534b,timestamp:1696845768\n",
      "2227s001z1-algo-1-ghk5f  | 2023-10-09 10:02:48,457 [INFO ] pool-2-thread-2 TS_METRICS - DiskUtilization.Percent:69.9|#Level:Host|#hostname:6104c552534b,timestamp:1696845768\n",
      "2227s001z1-algo-1-ghk5f  | 2023-10-09 10:02:48,457 [INFO ] pool-2-thread-2 TS_METRICS - MemoryAvailable.Megabytes:200314.96875|#Level:Host|#hostname:6104c552534b,timestamp:1696845768\n",
      "2227s001z1-algo-1-ghk5f  | 2023-10-09 10:02:48,457 [INFO ] pool-2-thread-2 TS_METRICS - MemoryUsed.Megabytes:50773.75390625|#Level:Host|#hostname:6104c552534b,timestamp:1696845768\n",
      "2227s001z1-algo-1-ghk5f  | 2023-10-09 10:02:48,457 [INFO ] pool-2-thread-2 TS_METRICS - MemoryUtilization.Percent:21.5|#Level:Host|#hostname:6104c552534b,timestamp:1696845768\n",
      "2227s001z1-algo-1-ghk5f  | 2023-10-09 10:03:48,457 [INFO ] pool-2-thread-2 TS_METRICS - CPUUtilization.Percent:0.0|#Level:Host|#hostname:6104c552534b,timestamp:1696845828\n",
      "2227s001z1-algo-1-ghk5f  | 2023-10-09 10:03:48,457 [INFO ] pool-2-thread-2 TS_METRICS - DiskAvailable.Gigabytes:58.3617057800293|#Level:Host|#hostname:6104c552534b,timestamp:1696845828\n",
      "2227s001z1-algo-1-ghk5f  | 2023-10-09 10:03:48,457 [INFO ] pool-2-thread-2 TS_METRICS - DiskUsage.Gigabytes:135.4287452697754|#Level:Host|#hostname:6104c552534b,timestamp:1696845828\n",
      "2227s001z1-algo-1-ghk5f  | 2023-10-09 10:03:48,457 [INFO ] pool-2-thread-2 TS_METRICS - DiskUtilization.Percent:69.9|#Level:Host|#hostname:6104c552534b,timestamp:1696845828\n",
      "2227s001z1-algo-1-ghk5f  | 2023-10-09 10:03:48,457 [INFO ] pool-2-thread-2 TS_METRICS - MemoryAvailable.Megabytes:200313.8671875|#Level:Host|#hostname:6104c552534b,timestamp:1696845828\n",
      "2227s001z1-algo-1-ghk5f  | 2023-10-09 10:03:48,457 [INFO ] pool-2-thread-2 TS_METRICS - MemoryUsed.Megabytes:50774.85546875|#Level:Host|#hostname:6104c552534b,timestamp:1696845828\n",
      "2227s001z1-algo-1-ghk5f  | 2023-10-09 10:03:48,457 [INFO ] pool-2-thread-2 TS_METRICS - MemoryUtilization.Percent:21.5|#Level:Host|#hostname:6104c552534b,timestamp:1696845828\n",
      "2227s001z1-algo-1-ghk5f  | 2023-10-09 10:04:48,457 [INFO ] pool-2-thread-2 TS_METRICS - CPUUtilization.Percent:0.0|#Level:Host|#hostname:6104c552534b,timestamp:1696845888\n",
      "2227s001z1-algo-1-ghk5f  | 2023-10-09 10:04:48,458 [INFO ] pool-2-thread-2 TS_METRICS - DiskAvailable.Gigabytes:58.36170196533203|#Level:Host|#hostname:6104c552534b,timestamp:1696845888\n",
      "2227s001z1-algo-1-ghk5f  | 2023-10-09 10:04:48,458 [INFO ] pool-2-thread-2 TS_METRICS - DiskUsage.Gigabytes:135.42874908447266|#Level:Host|#hostname:6104c552534b,timestamp:1696845888\n",
      "2227s001z1-algo-1-ghk5f  | 2023-10-09 10:04:48,458 [INFO ] pool-2-thread-2 TS_METRICS - DiskUtilization.Percent:69.9|#Level:Host|#hostname:6104c552534b,timestamp:1696845888\n",
      "2227s001z1-algo-1-ghk5f  | 2023-10-09 10:04:48,458 [INFO ] pool-2-thread-2 TS_METRICS - MemoryAvailable.Megabytes:200315.3125|#Level:Host|#hostname:6104c552534b,timestamp:1696845888\n",
      "2227s001z1-algo-1-ghk5f  | 2023-10-09 10:04:48,458 [INFO ] pool-2-thread-2 TS_METRICS - MemoryUsed.Megabytes:50773.41015625|#Level:Host|#hostname:6104c552534b,timestamp:1696845888\n",
      "2227s001z1-algo-1-ghk5f  | 2023-10-09 10:04:48,458 [INFO ] pool-2-thread-2 TS_METRICS - MemoryUtilization.Percent:21.5|#Level:Host|#hostname:6104c552534b,timestamp:1696845888\n",
      "2227s001z1-algo-1-ghk5f  | 2023-10-09 10:05:48,457 [INFO ] pool-2-thread-1 TS_METRICS - CPUUtilization.Percent:0.0|#Level:Host|#hostname:6104c552534b,timestamp:1696845948\n",
      "2227s001z1-algo-1-ghk5f  | 2023-10-09 10:05:48,457 [INFO ] pool-2-thread-1 TS_METRICS - DiskAvailable.Gigabytes:58.36170196533203|#Level:Host|#hostname:6104c552534b,timestamp:1696845948\n",
      "2227s001z1-algo-1-ghk5f  | 2023-10-09 10:05:48,457 [INFO ] pool-2-thread-1 TS_METRICS - DiskUsage.Gigabytes:135.42874908447266|#Level:Host|#hostname:6104c552534b,timestamp:1696845948\n",
      "2227s001z1-algo-1-ghk5f  | 2023-10-09 10:05:48,457 [INFO ] pool-2-thread-1 TS_METRICS - DiskUtilization.Percent:69.9|#Level:Host|#hostname:6104c552534b,timestamp:1696845948\n",
      "2227s001z1-algo-1-ghk5f  | 2023-10-09 10:05:48,457 [INFO ] pool-2-thread-1 TS_METRICS - MemoryAvailable.Megabytes:200307.828125|#Level:Host|#hostname:6104c552534b,timestamp:1696845948\n",
      "2227s001z1-algo-1-ghk5f  | 2023-10-09 10:05:48,457 [INFO ] pool-2-thread-1 TS_METRICS - MemoryUsed.Megabytes:50780.89453125|#Level:Host|#hostname:6104c552534b,timestamp:1696845948\n",
      "2227s001z1-algo-1-ghk5f  | 2023-10-09 10:05:48,457 [INFO ] pool-2-thread-1 TS_METRICS - MemoryUtilization.Percent:21.5|#Level:Host|#hostname:6104c552534b,timestamp:1696845948\n",
      "2227s001z1-algo-1-ghk5f  | 2023-10-09 10:06:48,457 [INFO ] pool-2-thread-1 TS_METRICS - CPUUtilization.Percent:0.0|#Level:Host|#hostname:6104c552534b,timestamp:1696846008\n",
      "2227s001z1-algo-1-ghk5f  | 2023-10-09 10:06:48,457 [INFO ] pool-2-thread-1 TS_METRICS - DiskAvailable.Gigabytes:58.3616943359375|#Level:Host|#hostname:6104c552534b,timestamp:1696846008\n",
      "2227s001z1-algo-1-ghk5f  | 2023-10-09 10:06:48,457 [INFO ] pool-2-thread-1 TS_METRICS - DiskUsage.Gigabytes:135.4287567138672|#Level:Host|#hostname:6104c552534b,timestamp:1696846008\n",
      "2227s001z1-algo-1-ghk5f  | 2023-10-09 10:06:48,457 [INFO ] pool-2-thread-1 TS_METRICS - DiskUtilization.Percent:69.9|#Level:Host|#hostname:6104c552534b,timestamp:1696846008\n",
      "2227s001z1-algo-1-ghk5f  | 2023-10-09 10:06:48,457 [INFO ] pool-2-thread-1 TS_METRICS - MemoryAvailable.Megabytes:200314.828125|#Level:Host|#hostname:6104c552534b,timestamp:1696846008\n",
      "2227s001z1-algo-1-ghk5f  | 2023-10-09 10:06:48,457 [INFO ] pool-2-thread-1 TS_METRICS - MemoryUsed.Megabytes:50773.89453125|#Level:Host|#hostname:6104c552534b,timestamp:1696846008\n",
      "2227s001z1-algo-1-ghk5f  | 2023-10-09 10:06:48,457 [INFO ] pool-2-thread-1 TS_METRICS - MemoryUtilization.Percent:21.5|#Level:Host|#hostname:6104c552534b,timestamp:1696846008\n",
      "2227s001z1-algo-1-ghk5f  | 2023-10-09 10:07:48,457 [INFO ] pool-2-thread-1 TS_METRICS - CPUUtilization.Percent:0.0|#Level:Host|#hostname:6104c552534b,timestamp:1696846068\n",
      "2227s001z1-algo-1-ghk5f  | 2023-10-09 10:07:48,457 [INFO ] pool-2-thread-1 TS_METRICS - DiskAvailable.Gigabytes:58.3616943359375|#Level:Host|#hostname:6104c552534b,timestamp:1696846068\n",
      "2227s001z1-algo-1-ghk5f  | 2023-10-09 10:07:48,457 [INFO ] pool-2-thread-1 TS_METRICS - DiskUsage.Gigabytes:135.4287567138672|#Level:Host|#hostname:6104c552534b,timestamp:1696846068\n",
      "2227s001z1-algo-1-ghk5f  | 2023-10-09 10:07:48,457 [INFO ] pool-2-thread-1 TS_METRICS - DiskUtilization.Percent:69.9|#Level:Host|#hostname:6104c552534b,timestamp:1696846068\n",
      "2227s001z1-algo-1-ghk5f  | 2023-10-09 10:07:48,457 [INFO ] pool-2-thread-1 TS_METRICS - MemoryAvailable.Megabytes:200314.26171875|#Level:Host|#hostname:6104c552534b,timestamp:1696846068\n",
      "2227s001z1-algo-1-ghk5f  | 2023-10-09 10:07:48,457 [INFO ] pool-2-thread-1 TS_METRICS - MemoryUsed.Megabytes:50774.4609375|#Level:Host|#hostname:6104c552534b,timestamp:1696846068\n",
      "2227s001z1-algo-1-ghk5f  | 2023-10-09 10:07:48,457 [INFO ] pool-2-thread-1 TS_METRICS - MemoryUtilization.Percent:21.5|#Level:Host|#hostname:6104c552534b,timestamp:1696846068\n",
      "2227s001z1-algo-1-ghk5f  | 2023-10-09 10:08:48,457 [INFO ] pool-2-thread-2 TS_METRICS - CPUUtilization.Percent:0.0|#Level:Host|#hostname:6104c552534b,timestamp:1696846128\n",
      "2227s001z1-algo-1-ghk5f  | 2023-10-09 10:08:48,457 [INFO ] pool-2-thread-2 TS_METRICS - DiskAvailable.Gigabytes:58.3616943359375|#Level:Host|#hostname:6104c552534b,timestamp:1696846128\n",
      "2227s001z1-algo-1-ghk5f  | 2023-10-09 10:08:48,457 [INFO ] pool-2-thread-2 TS_METRICS - DiskUsage.Gigabytes:135.4287567138672|#Level:Host|#hostname:6104c552534b,timestamp:1696846128\n",
      "2227s001z1-algo-1-ghk5f  | 2023-10-09 10:08:48,457 [INFO ] pool-2-thread-2 TS_METRICS - DiskUtilization.Percent:69.9|#Level:Host|#hostname:6104c552534b,timestamp:1696846128\n",
      "2227s001z1-algo-1-ghk5f  | 2023-10-09 10:08:48,457 [INFO ] pool-2-thread-2 TS_METRICS - MemoryAvailable.Megabytes:200315.37109375|#Level:Host|#hostname:6104c552534b,timestamp:1696846128\n",
      "2227s001z1-algo-1-ghk5f  | 2023-10-09 10:08:48,457 [INFO ] pool-2-thread-2 TS_METRICS - MemoryUsed.Megabytes:50773.3515625|#Level:Host|#hostname:6104c552534b,timestamp:1696846128\n",
      "2227s001z1-algo-1-ghk5f  | 2023-10-09 10:08:48,457 [INFO ] pool-2-thread-2 TS_METRICS - MemoryUtilization.Percent:21.5|#Level:Host|#hostname:6104c552534b,timestamp:1696846128\n",
      "2227s001z1-algo-1-ghk5f  | 2023-10-09 10:09:48,457 [INFO ] pool-2-thread-2 TS_METRICS - CPUUtilization.Percent:0.0|#Level:Host|#hostname:6104c552534b,timestamp:1696846188\n",
      "2227s001z1-algo-1-ghk5f  | 2023-10-09 10:09:48,457 [INFO ] pool-2-thread-2 TS_METRICS - DiskAvailable.Gigabytes:58.36168670654297|#Level:Host|#hostname:6104c552534b,timestamp:1696846188\n",
      "2227s001z1-algo-1-ghk5f  | 2023-10-09 10:09:48,457 [INFO ] pool-2-thread-2 TS_METRICS - DiskUsage.Gigabytes:135.42876434326172|#Level:Host|#hostname:6104c552534b,timestamp:1696846188\n",
      "2227s001z1-algo-1-ghk5f  | 2023-10-09 10:09:48,457 [INFO ] pool-2-thread-2 TS_METRICS - DiskUtilization.Percent:69.9|#Level:Host|#hostname:6104c552534b,timestamp:1696846188\n",
      "2227s001z1-algo-1-ghk5f  | 2023-10-09 10:09:48,457 [INFO ] pool-2-thread-2 TS_METRICS - MemoryAvailable.Megabytes:200317.29296875|#Level:Host|#hostname:6104c552534b,timestamp:1696846188\n",
      "2227s001z1-algo-1-ghk5f  | 2023-10-09 10:09:48,457 [INFO ] pool-2-thread-2 TS_METRICS - MemoryUsed.Megabytes:50771.4296875|#Level:Host|#hostname:6104c552534b,timestamp:1696846188\n",
      "2227s001z1-algo-1-ghk5f  | 2023-10-09 10:09:48,457 [INFO ] pool-2-thread-2 TS_METRICS - MemoryUtilization.Percent:21.4|#Level:Host|#hostname:6104c552534b,timestamp:1696846188\n",
      "2227s001z1-algo-1-ghk5f  | 2023-10-09 10:10:48,457 [INFO ] pool-2-thread-2 TS_METRICS - CPUUtilization.Percent:0.0|#Level:Host|#hostname:6104c552534b,timestamp:1696846248\n",
      "2227s001z1-algo-1-ghk5f  | 2023-10-09 10:10:48,457 [INFO ] pool-2-thread-2 TS_METRICS - DiskAvailable.Gigabytes:58.36168670654297|#Level:Host|#hostname:6104c552534b,timestamp:1696846248\n",
      "2227s001z1-algo-1-ghk5f  | 2023-10-09 10:10:48,457 [INFO ] pool-2-thread-2 TS_METRICS - DiskUsage.Gigabytes:135.42876434326172|#Level:Host|#hostname:6104c552534b,timestamp:1696846248\n",
      "2227s001z1-algo-1-ghk5f  | 2023-10-09 10:10:48,457 [INFO ] pool-2-thread-2 TS_METRICS - DiskUtilization.Percent:69.9|#Level:Host|#hostname:6104c552534b,timestamp:1696846248\n",
      "2227s001z1-algo-1-ghk5f  | 2023-10-09 10:10:48,457 [INFO ] pool-2-thread-2 TS_METRICS - MemoryAvailable.Megabytes:200322.33203125|#Level:Host|#hostname:6104c552534b,timestamp:1696846248\n",
      "2227s001z1-algo-1-ghk5f  | 2023-10-09 10:10:48,457 [INFO ] pool-2-thread-2 TS_METRICS - MemoryUsed.Megabytes:50766.390625|#Level:Host|#hostname:6104c552534b,timestamp:1696846248\n",
      "2227s001z1-algo-1-ghk5f  | 2023-10-09 10:10:48,457 [INFO ] pool-2-thread-2 TS_METRICS - MemoryUtilization.Percent:21.4|#Level:Host|#hostname:6104c552534b,timestamp:1696846248\n",
      "2227s001z1-algo-1-ghk5f  | 2023-10-09 10:11:48,457 [INFO ] pool-2-thread-2 TS_METRICS - CPUUtilization.Percent:0.0|#Level:Host|#hostname:6104c552534b,timestamp:1696846308\n",
      "2227s001z1-algo-1-ghk5f  | 2023-10-09 10:11:48,457 [INFO ] pool-2-thread-2 TS_METRICS - DiskAvailable.Gigabytes:58.36167526245117|#Level:Host|#hostname:6104c552534b,timestamp:1696846308\n",
      "2227s001z1-algo-1-ghk5f  | 2023-10-09 10:11:48,457 [INFO ] pool-2-thread-2 TS_METRICS - DiskUsage.Gigabytes:135.42877578735352|#Level:Host|#hostname:6104c552534b,timestamp:1696846308\n",
      "2227s001z1-algo-1-ghk5f  | 2023-10-09 10:11:48,457 [INFO ] pool-2-thread-2 TS_METRICS - DiskUtilization.Percent:69.9|#Level:Host|#hostname:6104c552534b,timestamp:1696846308\n",
      "2227s001z1-algo-1-ghk5f  | 2023-10-09 10:11:48,457 [INFO ] pool-2-thread-2 TS_METRICS - MemoryAvailable.Megabytes:200322.4609375|#Level:Host|#hostname:6104c552534b,timestamp:1696846308\n",
      "2227s001z1-algo-1-ghk5f  | 2023-10-09 10:11:48,457 [INFO ] pool-2-thread-2 TS_METRICS - MemoryUsed.Megabytes:50766.26171875|#Level:Host|#hostname:6104c552534b,timestamp:1696846308\n",
      "2227s001z1-algo-1-ghk5f  | 2023-10-09 10:11:48,457 [INFO ] pool-2-thread-2 TS_METRICS - MemoryUtilization.Percent:21.4|#Level:Host|#hostname:6104c552534b,timestamp:1696846308\n",
      "2227s001z1-algo-1-ghk5f  | 2023-10-09 10:12:48,457 [INFO ] pool-2-thread-2 TS_METRICS - CPUUtilization.Percent:0.0|#Level:Host|#hostname:6104c552534b,timestamp:1696846368\n",
      "2227s001z1-algo-1-ghk5f  | 2023-10-09 10:12:48,457 [INFO ] pool-2-thread-2 TS_METRICS - DiskAvailable.Gigabytes:58.36167526245117|#Level:Host|#hostname:6104c552534b,timestamp:1696846368\n",
      "2227s001z1-algo-1-ghk5f  | 2023-10-09 10:12:48,457 [INFO ] pool-2-thread-2 TS_METRICS - DiskUsage.Gigabytes:135.42877578735352|#Level:Host|#hostname:6104c552534b,timestamp:1696846368\n",
      "2227s001z1-algo-1-ghk5f  | 2023-10-09 10:12:48,457 [INFO ] pool-2-thread-2 TS_METRICS - DiskUtilization.Percent:69.9|#Level:Host|#hostname:6104c552534b,timestamp:1696846368\n",
      "2227s001z1-algo-1-ghk5f  | 2023-10-09 10:12:48,457 [INFO ] pool-2-thread-2 TS_METRICS - MemoryAvailable.Megabytes:200306.6484375|#Level:Host|#hostname:6104c552534b,timestamp:1696846368\n",
      "2227s001z1-algo-1-ghk5f  | 2023-10-09 10:12:48,458 [INFO ] pool-2-thread-2 TS_METRICS - MemoryUsed.Megabytes:50782.07421875|#Level:Host|#hostname:6104c552534b,timestamp:1696846368\n",
      "2227s001z1-algo-1-ghk5f  | 2023-10-09 10:12:48,458 [INFO ] pool-2-thread-2 TS_METRICS - MemoryUtilization.Percent:21.5|#Level:Host|#hostname:6104c552534b,timestamp:1696846368\n",
      "2227s001z1-algo-1-ghk5f  | 2023-10-09 10:13:48,457 [INFO ] pool-2-thread-1 TS_METRICS - CPUUtilization.Percent:0.0|#Level:Host|#hostname:6104c552534b,timestamp:1696846428\n",
      "2227s001z1-algo-1-ghk5f  | 2023-10-09 10:13:48,457 [INFO ] pool-2-thread-1 TS_METRICS - DiskAvailable.Gigabytes:58.36167526245117|#Level:Host|#hostname:6104c552534b,timestamp:1696846428\n",
      "2227s001z1-algo-1-ghk5f  | 2023-10-09 10:13:48,457 [INFO ] pool-2-thread-1 TS_METRICS - DiskUsage.Gigabytes:135.42877578735352|#Level:Host|#hostname:6104c552534b,timestamp:1696846428\n",
      "2227s001z1-algo-1-ghk5f  | 2023-10-09 10:13:48,457 [INFO ] pool-2-thread-1 TS_METRICS - DiskUtilization.Percent:69.9|#Level:Host|#hostname:6104c552534b,timestamp:1696846428\n",
      "2227s001z1-algo-1-ghk5f  | 2023-10-09 10:13:48,457 [INFO ] pool-2-thread-1 TS_METRICS - MemoryAvailable.Megabytes:200314.2734375|#Level:Host|#hostname:6104c552534b,timestamp:1696846428\n",
      "2227s001z1-algo-1-ghk5f  | 2023-10-09 10:13:48,457 [INFO ] pool-2-thread-1 TS_METRICS - MemoryUsed.Megabytes:50774.44921875|#Level:Host|#hostname:6104c552534b,timestamp:1696846428\n",
      "2227s001z1-algo-1-ghk5f  | 2023-10-09 10:13:48,457 [INFO ] pool-2-thread-1 TS_METRICS - MemoryUtilization.Percent:21.5|#Level:Host|#hostname:6104c552534b,timestamp:1696846428\n",
      "2227s001z1-algo-1-ghk5f  | 2023-10-09 10:14:48,457 [INFO ] pool-2-thread-2 TS_METRICS - CPUUtilization.Percent:0.0|#Level:Host|#hostname:6104c552534b,timestamp:1696846488\n",
      "2227s001z1-algo-1-ghk5f  | 2023-10-09 10:14:48,457 [INFO ] pool-2-thread-2 TS_METRICS - DiskAvailable.Gigabytes:58.361671447753906|#Level:Host|#hostname:6104c552534b,timestamp:1696846488\n",
      "2227s001z1-algo-1-ghk5f  | 2023-10-09 10:14:48,457 [INFO ] pool-2-thread-2 TS_METRICS - DiskUsage.Gigabytes:135.42877960205078|#Level:Host|#hostname:6104c552534b,timestamp:1696846488\n",
      "2227s001z1-algo-1-ghk5f  | 2023-10-09 10:14:48,457 [INFO ] pool-2-thread-2 TS_METRICS - DiskUtilization.Percent:69.9|#Level:Host|#hostname:6104c552534b,timestamp:1696846488\n",
      "2227s001z1-algo-1-ghk5f  | 2023-10-09 10:14:48,457 [INFO ] pool-2-thread-2 TS_METRICS - MemoryAvailable.Megabytes:200305.96484375|#Level:Host|#hostname:6104c552534b,timestamp:1696846488\n",
      "2227s001z1-algo-1-ghk5f  | 2023-10-09 10:14:48,457 [INFO ] pool-2-thread-2 TS_METRICS - MemoryUsed.Megabytes:50782.7578125|#Level:Host|#hostname:6104c552534b,timestamp:1696846488\n",
      "2227s001z1-algo-1-ghk5f  | 2023-10-09 10:14:48,457 [INFO ] pool-2-thread-2 TS_METRICS - MemoryUtilization.Percent:21.5|#Level:Host|#hostname:6104c552534b,timestamp:1696846488\n",
      "2227s001z1-algo-1-ghk5f  | 2023-10-09 10:15:48,457 [INFO ] pool-2-thread-1 TS_METRICS - CPUUtilization.Percent:0.0|#Level:Host|#hostname:6104c552534b,timestamp:1696846548\n",
      "2227s001z1-algo-1-ghk5f  | 2023-10-09 10:15:48,457 [INFO ] pool-2-thread-1 TS_METRICS - DiskAvailable.Gigabytes:58.361671447753906|#Level:Host|#hostname:6104c552534b,timestamp:1696846548\n",
      "2227s001z1-algo-1-ghk5f  | 2023-10-09 10:15:48,457 [INFO ] pool-2-thread-1 TS_METRICS - DiskUsage.Gigabytes:135.42877960205078|#Level:Host|#hostname:6104c552534b,timestamp:1696846548\n",
      "2227s001z1-algo-1-ghk5f  | 2023-10-09 10:15:48,457 [INFO ] pool-2-thread-1 TS_METRICS - DiskUtilization.Percent:69.9|#Level:Host|#hostname:6104c552534b,timestamp:1696846548\n",
      "2227s001z1-algo-1-ghk5f  | 2023-10-09 10:15:48,457 [INFO ] pool-2-thread-1 TS_METRICS - MemoryAvailable.Megabytes:200305.5703125|#Level:Host|#hostname:6104c552534b,timestamp:1696846548\n",
      "2227s001z1-algo-1-ghk5f  | 2023-10-09 10:15:48,457 [INFO ] pool-2-thread-1 TS_METRICS - MemoryUsed.Megabytes:50783.15234375|#Level:Host|#hostname:6104c552534b,timestamp:1696846548\n",
      "2227s001z1-algo-1-ghk5f  | 2023-10-09 10:15:48,457 [INFO ] pool-2-thread-1 TS_METRICS - MemoryUtilization.Percent:21.5|#Level:Host|#hostname:6104c552534b,timestamp:1696846548\n",
      "2227s001z1-algo-1-ghk5f  | 2023-10-09 10:16:48,457 [INFO ] pool-2-thread-2 TS_METRICS - CPUUtilization.Percent:0.0|#Level:Host|#hostname:6104c552534b,timestamp:1696846608\n",
      "2227s001z1-algo-1-ghk5f  | 2023-10-09 10:16:48,457 [INFO ] pool-2-thread-2 TS_METRICS - DiskAvailable.Gigabytes:58.36166763305664|#Level:Host|#hostname:6104c552534b,timestamp:1696846608\n",
      "2227s001z1-algo-1-ghk5f  | 2023-10-09 10:16:48,457 [INFO ] pool-2-thread-2 TS_METRICS - DiskUsage.Gigabytes:135.42878341674805|#Level:Host|#hostname:6104c552534b,timestamp:1696846608\n",
      "2227s001z1-algo-1-ghk5f  | 2023-10-09 10:16:48,457 [INFO ] pool-2-thread-2 TS_METRICS - DiskUtilization.Percent:69.9|#Level:Host|#hostname:6104c552534b,timestamp:1696846608\n",
      "2227s001z1-algo-1-ghk5f  | 2023-10-09 10:16:48,457 [INFO ] pool-2-thread-2 TS_METRICS - MemoryAvailable.Megabytes:200313.8984375|#Level:Host|#hostname:6104c552534b,timestamp:1696846608\n",
      "2227s001z1-algo-1-ghk5f  | 2023-10-09 10:16:48,457 [INFO ] pool-2-thread-2 TS_METRICS - MemoryUsed.Megabytes:50774.82421875|#Level:Host|#hostname:6104c552534b,timestamp:1696846608\n",
      "2227s001z1-algo-1-ghk5f  | 2023-10-09 10:16:48,457 [INFO ] pool-2-thread-2 TS_METRICS - MemoryUtilization.Percent:21.5|#Level:Host|#hostname:6104c552534b,timestamp:1696846608\n",
      "2227s001z1-algo-1-ghk5f  | 2023-10-09 10:17:48,456 [INFO ] pool-2-thread-2 TS_METRICS - CPUUtilization.Percent:0.0|#Level:Host|#hostname:6104c552534b,timestamp:1696846668\n",
      "2227s001z1-algo-1-ghk5f  | 2023-10-09 10:17:48,456 [INFO ] pool-2-thread-2 TS_METRICS - DiskAvailable.Gigabytes:58.36166000366211|#Level:Host|#hostname:6104c552534b,timestamp:1696846668\n",
      "2227s001z1-algo-1-ghk5f  | 2023-10-09 10:17:48,456 [INFO ] pool-2-thread-2 TS_METRICS - DiskUsage.Gigabytes:135.42879104614258|#Level:Host|#hostname:6104c552534b,timestamp:1696846668\n",
      "2227s001z1-algo-1-ghk5f  | 2023-10-09 10:17:48,456 [INFO ] pool-2-thread-2 TS_METRICS - DiskUtilization.Percent:69.9|#Level:Host|#hostname:6104c552534b,timestamp:1696846668\n",
      "2227s001z1-algo-1-ghk5f  | 2023-10-09 10:17:48,456 [INFO ] pool-2-thread-2 TS_METRICS - MemoryAvailable.Megabytes:200294.265625|#Level:Host|#hostname:6104c552534b,timestamp:1696846668\n",
      "2227s001z1-algo-1-ghk5f  | 2023-10-09 10:17:48,456 [INFO ] pool-2-thread-2 TS_METRICS - MemoryUsed.Megabytes:50794.45703125|#Level:Host|#hostname:6104c552534b,timestamp:1696846668\n",
      "2227s001z1-algo-1-ghk5f  | 2023-10-09 10:17:48,457 [INFO ] pool-2-thread-2 TS_METRICS - MemoryUtilization.Percent:21.5|#Level:Host|#hostname:6104c552534b,timestamp:1696846668\n",
      "2227s001z1-algo-1-ghk5f  | 2023-10-09 10:18:48,457 [INFO ] pool-2-thread-1 TS_METRICS - CPUUtilization.Percent:0.0|#Level:Host|#hostname:6104c552534b,timestamp:1696846728\n",
      "2227s001z1-algo-1-ghk5f  | 2023-10-09 10:18:48,457 [INFO ] pool-2-thread-1 TS_METRICS - DiskAvailable.Gigabytes:58.36166000366211|#Level:Host|#hostname:6104c552534b,timestamp:1696846728\n",
      "2227s001z1-algo-1-ghk5f  | 2023-10-09 10:18:48,457 [INFO ] pool-2-thread-1 TS_METRICS - DiskUsage.Gigabytes:135.42879104614258|#Level:Host|#hostname:6104c552534b,timestamp:1696846728\n",
      "2227s001z1-algo-1-ghk5f  | 2023-10-09 10:18:48,457 [INFO ] pool-2-thread-1 TS_METRICS - DiskUtilization.Percent:69.9|#Level:Host|#hostname:6104c552534b,timestamp:1696846728\n",
      "2227s001z1-algo-1-ghk5f  | 2023-10-09 10:18:48,457 [INFO ] pool-2-thread-1 TS_METRICS - MemoryAvailable.Megabytes:200299.6171875|#Level:Host|#hostname:6104c552534b,timestamp:1696846728\n",
      "2227s001z1-algo-1-ghk5f  | 2023-10-09 10:18:48,457 [INFO ] pool-2-thread-1 TS_METRICS - MemoryUsed.Megabytes:50789.10546875|#Level:Host|#hostname:6104c552534b,timestamp:1696846728\n",
      "2227s001z1-algo-1-ghk5f  | 2023-10-09 10:18:48,457 [INFO ] pool-2-thread-1 TS_METRICS - MemoryUtilization.Percent:21.5|#Level:Host|#hostname:6104c552534b,timestamp:1696846728\n",
      "2227s001z1-algo-1-ghk5f  | 2023-10-09 10:19:48,457 [INFO ] pool-2-thread-1 TS_METRICS - CPUUtilization.Percent:0.0|#Level:Host|#hostname:6104c552534b,timestamp:1696846788\n",
      "2227s001z1-algo-1-ghk5f  | 2023-10-09 10:19:48,457 [INFO ] pool-2-thread-1 TS_METRICS - DiskAvailable.Gigabytes:58.361656188964844|#Level:Host|#hostname:6104c552534b,timestamp:1696846788\n",
      "2227s001z1-algo-1-ghk5f  | 2023-10-09 10:19:48,457 [INFO ] pool-2-thread-1 TS_METRICS - DiskUsage.Gigabytes:135.42879486083984|#Level:Host|#hostname:6104c552534b,timestamp:1696846788\n",
      "2227s001z1-algo-1-ghk5f  | 2023-10-09 10:19:48,457 [INFO ] pool-2-thread-1 TS_METRICS - DiskUtilization.Percent:69.9|#Level:Host|#hostname:6104c552534b,timestamp:1696846788\n",
      "2227s001z1-algo-1-ghk5f  | 2023-10-09 10:19:48,457 [INFO ] pool-2-thread-1 TS_METRICS - MemoryAvailable.Megabytes:200304.84765625|#Level:Host|#hostname:6104c552534b,timestamp:1696846788\n",
      "2227s001z1-algo-1-ghk5f  | 2023-10-09 10:19:48,457 [INFO ] pool-2-thread-1 TS_METRICS - MemoryUsed.Megabytes:50783.875|#Level:Host|#hostname:6104c552534b,timestamp:1696846788\n",
      "2227s001z1-algo-1-ghk5f  | 2023-10-09 10:19:48,457 [INFO ] pool-2-thread-1 TS_METRICS - MemoryUtilization.Percent:21.5|#Level:Host|#hostname:6104c552534b,timestamp:1696846788\n",
      "2227s001z1-algo-1-ghk5f  | 2023-10-09 10:20:48,457 [INFO ] pool-2-thread-1 TS_METRICS - CPUUtilization.Percent:0.0|#Level:Host|#hostname:6104c552534b,timestamp:1696846848\n",
      "2227s001z1-algo-1-ghk5f  | 2023-10-09 10:20:48,457 [INFO ] pool-2-thread-1 TS_METRICS - DiskAvailable.Gigabytes:58.361656188964844|#Level:Host|#hostname:6104c552534b,timestamp:1696846848\n",
      "2227s001z1-algo-1-ghk5f  | 2023-10-09 10:20:48,457 [INFO ] pool-2-thread-1 TS_METRICS - DiskUsage.Gigabytes:135.42879486083984|#Level:Host|#hostname:6104c552534b,timestamp:1696846848\n",
      "2227s001z1-algo-1-ghk5f  | 2023-10-09 10:20:48,457 [INFO ] pool-2-thread-1 TS_METRICS - DiskUtilization.Percent:69.9|#Level:Host|#hostname:6104c552534b,timestamp:1696846848\n",
      "2227s001z1-algo-1-ghk5f  | 2023-10-09 10:20:48,457 [INFO ] pool-2-thread-1 TS_METRICS - MemoryAvailable.Megabytes:200307.80078125|#Level:Host|#hostname:6104c552534b,timestamp:1696846848\n",
      "2227s001z1-algo-1-ghk5f  | 2023-10-09 10:20:48,457 [INFO ] pool-2-thread-1 TS_METRICS - MemoryUsed.Megabytes:50781.6484375|#Level:Host|#hostname:6104c552534b,timestamp:1696846848\n",
      "2227s001z1-algo-1-ghk5f  | 2023-10-09 10:20:48,457 [INFO ] pool-2-thread-1 TS_METRICS - MemoryUtilization.Percent:21.5|#Level:Host|#hostname:6104c552534b,timestamp:1696846848\n",
      "2227s001z1-algo-1-ghk5f  | 2023-10-09 10:21:48,457 [INFO ] pool-2-thread-2 TS_METRICS - CPUUtilization.Percent:0.0|#Level:Host|#hostname:6104c552534b,timestamp:1696846908\n",
      "2227s001z1-algo-1-ghk5f  | 2023-10-09 10:21:48,457 [INFO ] pool-2-thread-2 TS_METRICS - DiskAvailable.Gigabytes:58.36165237426758|#Level:Host|#hostname:6104c552534b,timestamp:1696846908\n",
      "2227s001z1-algo-1-ghk5f  | 2023-10-09 10:21:48,457 [INFO ] pool-2-thread-2 TS_METRICS - DiskUsage.Gigabytes:135.4287986755371|#Level:Host|#hostname:6104c552534b,timestamp:1696846908\n",
      "2227s001z1-algo-1-ghk5f  | 2023-10-09 10:21:48,457 [INFO ] pool-2-thread-2 TS_METRICS - DiskUtilization.Percent:69.9|#Level:Host|#hostname:6104c552534b,timestamp:1696846908\n",
      "2227s001z1-algo-1-ghk5f  | 2023-10-09 10:21:48,457 [INFO ] pool-2-thread-2 TS_METRICS - MemoryAvailable.Megabytes:200307.19140625|#Level:Host|#hostname:6104c552534b,timestamp:1696846908\n",
      "2227s001z1-algo-1-ghk5f  | 2023-10-09 10:21:48,457 [INFO ] pool-2-thread-2 TS_METRICS - MemoryUsed.Megabytes:50781.53125|#Level:Host|#hostname:6104c552534b,timestamp:1696846908\n",
      "2227s001z1-algo-1-ghk5f  | 2023-10-09 10:21:48,457 [INFO ] pool-2-thread-2 TS_METRICS - MemoryUtilization.Percent:21.5|#Level:Host|#hostname:6104c552534b,timestamp:1696846908\n",
      "2227s001z1-algo-1-ghk5f  | 2023-10-09 10:22:48,458 [INFO ] pool-2-thread-2 TS_METRICS - CPUUtilization.Percent:0.0|#Level:Host|#hostname:6104c552534b,timestamp:1696846968\n",
      "2227s001z1-algo-1-ghk5f  | 2023-10-09 10:22:48,458 [INFO ] pool-2-thread-2 TS_METRICS - DiskAvailable.Gigabytes:58.36164474487305|#Level:Host|#hostname:6104c552534b,timestamp:1696846968\n",
      "2227s001z1-algo-1-ghk5f  | 2023-10-09 10:22:48,458 [INFO ] pool-2-thread-2 TS_METRICS - DiskUsage.Gigabytes:135.42880630493164|#Level:Host|#hostname:6104c552534b,timestamp:1696846968\n",
      "2227s001z1-algo-1-ghk5f  | 2023-10-09 10:22:48,458 [INFO ] pool-2-thread-2 TS_METRICS - DiskUtilization.Percent:69.9|#Level:Host|#hostname:6104c552534b,timestamp:1696846968\n",
      "2227s001z1-algo-1-ghk5f  | 2023-10-09 10:22:48,458 [INFO ] pool-2-thread-2 TS_METRICS - MemoryAvailable.Megabytes:200291.046875|#Level:Host|#hostname:6104c552534b,timestamp:1696846968\n",
      "2227s001z1-algo-1-ghk5f  | 2023-10-09 10:22:48,458 [INFO ] pool-2-thread-2 TS_METRICS - MemoryUsed.Megabytes:50797.67578125|#Level:Host|#hostname:6104c552534b,timestamp:1696846968\n",
      "2227s001z1-algo-1-ghk5f  | 2023-10-09 10:22:48,458 [INFO ] pool-2-thread-2 TS_METRICS - MemoryUtilization.Percent:21.5|#Level:Host|#hostname:6104c552534b,timestamp:1696846968\n"
     ]
    }
   ],
   "source": [
    "res = r.read().decode()\n",
    "len(res)\n",
    "res[0:100]"
   ]
  },
  {
   "cell_type": "code",
   "execution_count": null,
   "metadata": {},
   "outputs": [],
   "source": [
    "%%sh\n",
    "# check if docker containers are running and kill them if needed\n",
    "docker ps\n",
    "docker stop $(docker ps -a -q)\n",
    "docker rm $(docker ps -a -q)\n"
   ]
  },
  {
   "attachments": {},
   "cell_type": "markdown",
   "metadata": {},
   "source": [
    "#### A sleek alternative to \"Bring your own container\": bring your own requirements.txt\n",
    "\n",
    "Also in this case, instead of extending the PyTorch container through a Dockerfile, we can simply import additional libraries to make our model work, if needed. \n",
    "The process is the same, i.e. adding the requirements.txt inside the same folder as the code will install the required dependencies at runtime. \n",
    "The source directory must be specified in the `source_dir` argument, and the entry point in the `entry_point` argument, when creating PyTorch estimator. Further documentation [here](https://sagemaker.readthedocs.io/en/stable/frameworks/pytorch/using_pytorch.html#using-third-party-libraries)\n",
    "\n",
    "*CAVEAT*: Installing libraries on the fly through requirements.txt implies additional overhead. This is negligible in case of \"always on\" single model endpoint deployment, but could have an impact in case of serverless or multi-model deployment. \n"
   ]
  },
  {
   "cell_type": "code",
   "execution_count": null,
   "metadata": {},
   "outputs": [],
   "source": [
    "import boto3\n",
    "\n",
    "my_session = boto3.session.Session()\n",
    "my_region = my_session.region_name\n",
    "my_image_uri_inference = (\n",
    "    \"763104351884.dkr.ecr.\"\n",
    "    + my_region\n",
    "    + \".amazonaws.com/pytorch-inference:1.12.1-gpu-py38-cu113-ubuntu20.04-sagemaker\"\n",
    ")\n",
    "print(\"my_image_uri_inference:\", my_image_uri_inference)\n",
    "from sagemaker.estimator import Estimator\n",
    "\n",
    "# define hyperparameters\n",
    "hyperparameters = {\"language\": \"english\"}\n",
    "\n",
    "estimator = Model(\n",
    "    image_uri=my_image_uri_inference,\n",
    "    model_data=model_data,\n",
    "    role=role,\n",
    "    source_dir=\"container/bert-topic-byoreq\",  # this directory contains the entrypoint code and the requirements.txt\n",
    "    entry_point=\"bert-topic-inference.py\",  # this argument is used to override internal container entrypoint, if needed!\n",
    "    sagemaker_session=session_local,  # local session\n",
    "    #                   predictor_cls=None,\n",
    "    #                   env=None,\n",
    "    #                   name=None,\n",
    "    #                   vpc_config=None,\n",
    "    #                   enable_network_isolation=False,\n",
    "    #                   model_kms_key=None,\n",
    "    #                   image_config=None,\n",
    "    #                   code_location=None,\n",
    "    #                   container_log_level=20,\n",
    "    #                   dependencies=None,\n",
    "    #                   git_config=None\n",
    ")\n",
    "\n",
    "predictor = estimator.deploy(1, instance_type_local)  #  (ignore the nvgpu errors)"
   ]
  },
  {
   "cell_type": "code",
   "execution_count": null,
   "metadata": {},
   "outputs": [],
   "source": [
    "serverless_config = sagemaker.serverless.serverless_inference_config.ServerlessInferenceConfig(2048, 200, 2)"
   ]
  },
  {
   "cell_type": "code",
   "execution_count": null,
   "metadata": {},
   "outputs": [],
   "source": [
    "# predictor = estimator.deploy(1, instance_type, endpoint_name=endpoint_deployment_name)\n",
    "predictor = estimator.deploy(endpoint_name=endpoint_deployment_name, serverless_inference_config=serverless_config)"
   ]
  },
  {
   "cell_type": "code",
   "execution_count": 80,
   "metadata": {},
   "outputs": [
    {
     "name": "stdout",
     "output_type": "stream",
     "text": [
      "sagemaker.config INFO - Not applying SDK defaults from location: /etc/xdg/sagemaker/config.yaml\n",
      "sagemaker.config INFO - Not applying SDK defaults from location: /home/ubuntu/.config/sagemaker/config.yaml\n"
     ]
    },
    {
     "data": {
      "text/plain": [
       "'arn:aws:iam::223890829887:role/aws-reserved/sso.amazonaws.com/AWSReservedSSO_Poweruser_658f486a37df46ae'"
      ]
     },
     "execution_count": 80,
     "metadata": {},
     "output_type": "execute_result"
    }
   ],
   "source": [
    "from sagemaker import get_execution_role\n",
    "\n",
    "role = get_execution_role()\n",
    "role"
   ]
  },
  {
   "attachments": {},
   "cell_type": "markdown",
   "metadata": {},
   "source": [
    "#### Invoke locally deployed endpoint"
   ]
  },
  {
   "cell_type": "code",
   "execution_count": 87,
   "metadata": {},
   "outputs": [],
   "source": [
    "import json\n",
    "\n",
    "sagemaker_session = LocalSession()\n",
    "sagemaker_session.config = {instance_type_local: {\"local_code\": True}}\n",
    "\n",
    "sm_client = sagemaker_session.sagemaker_runtime_client\n",
    "response = sm_client.invoke_endpoint(\n",
    "    EndpointName=\"local-endpoint\",\n",
    "    ContentType=\"application/json\",\n",
    "    Body=json.dumps([\"Do you like Toyota Corolla?\", \"I have a Nissan\"]),\n",
    ")\n",
    "\n",
    "r = response[\"Body\"]\n",
    "print(\"RESULT r.read().decode():\", r.read().decode())"
   ]
  },
  {
   "cell_type": "code",
   "execution_count": 50,
   "metadata": {},
   "outputs": [
    {
     "data": {
      "text/html": [
       "<div>\n",
       "<style scoped>\n",
       "    .dataframe tbody tr th:only-of-type {\n",
       "        vertical-align: middle;\n",
       "    }\n",
       "\n",
       "    .dataframe tbody tr th {\n",
       "        vertical-align: top;\n",
       "    }\n",
       "\n",
       "    .dataframe thead th {\n",
       "        text-align: right;\n",
       "    }\n",
       "</style>\n",
       "<table border=\"1\" class=\"dataframe\">\n",
       "  <thead>\n",
       "    <tr style=\"text-align: right;\">\n",
       "      <th></th>\n",
       "      <th>outfit_hash</th>\n",
       "      <th>thumbnail_url</th>\n",
       "      <th>outfit_id</th>\n",
       "      <th>asset_ids</th>\n",
       "    </tr>\n",
       "  </thead>\n",
       "  <tbody>\n",
       "    <tr>\n",
       "      <th>0</th>\n",
       "      <td>137656326223</td>\n",
       "      <td>https://tr.rbxcdn.com/f0807cbfee61ce5346c30124...</td>\n",
       "      <td>0</td>\n",
       "      <td>[502448370, 502448162, 502448009, 502448231, 5...</td>\n",
       "    </tr>\n",
       "    <tr>\n",
       "      <th>1</th>\n",
       "      <td>137656326184</td>\n",
       "      <td>https://tr.rbxcdn.com/a8327aa8719e1b1cc570ae79...</td>\n",
       "      <td>1</td>\n",
       "      <td>[502448370, 502448162, 502448009, 502448231, 5...</td>\n",
       "    </tr>\n",
       "  </tbody>\n",
       "</table>\n",
       "</div>"
      ],
      "text/plain": [
       "    outfit_hash                                      thumbnail_url  outfit_id  \\\n",
       "0  137656326223  https://tr.rbxcdn.com/f0807cbfee61ce5346c30124...          0   \n",
       "1  137656326184  https://tr.rbxcdn.com/a8327aa8719e1b1cc570ae79...          1   \n",
       "\n",
       "                                           asset_ids  \n",
       "0  [502448370, 502448162, 502448009, 502448231, 5...  \n",
       "1  [502448370, 502448162, 502448009, 502448231, 5...  "
      ]
     },
     "execution_count": 50,
     "metadata": {},
     "output_type": "execute_result"
    }
   ],
   "source": [
    "import pandas as pd\n",
    "# asset_id_to_img_urls = pd.read_csv('asset_to_image_urls_2.csv')\n",
    "asset_id_to_img_urls = pd.read_csv('outfit_urls.csv')\n",
    "\n",
    "asset_id_to_img_urls.head(2)"
   ]
  },
  {
   "cell_type": "code",
   "execution_count": 57,
   "metadata": {},
   "outputs": [
    {
     "data": {
      "text/plain": [
       "119578"
      ]
     },
     "execution_count": 57,
     "metadata": {},
     "output_type": "execute_result"
    }
   ],
   "source": [
    "# img_urls = asset_id_to_img_urls['image-urls'].tolist()\n",
    "img_urls = asset_id_to_img_urls['thumbnail_url'].tolist()*2\n",
    "\n",
    "len(img_urls)"
   ]
  },
  {
   "cell_type": "code",
   "execution_count": 56,
   "metadata": {},
   "outputs": [],
   "source": [
    "endpoint_deployment_name = \"clip-test-endpoint\""
   ]
  },
  {
   "cell_type": "code",
   "execution_count": 62,
   "metadata": {},
   "outputs": [
    {
     "name": "stdout",
     "output_type": "stream",
     "text": [
      "sagemaker.config INFO - Not applying SDK defaults from location: /etc/xdg/sagemaker/config.yaml\n",
      "sagemaker.config INFO - Not applying SDK defaults from location: /home/ubuntu/.config/sagemaker/config.yaml\n"
     ]
    }
   ],
   "source": [
    "import retry\n",
    "import boto3\n",
    "import json\n",
    "import sagemaker as sage\n",
    "\n",
    "sm_client = sage.Session().sagemaker_runtime_client\n",
    "\n",
    "# @retry.retry(tries=4, delay=30, jitter=(0, 10))\n",
    "def invoke_sagemaker_for_url(url):\n",
    "    try:\n",
    "        response = sm_client.invoke_endpoint(\n",
    "            EndpointName=endpoint_deployment_name,\n",
    "            ContentType=\"application/json\",\n",
    "            Body=json.dumps({\"thumbnail_url\": url}),\n",
    "        )\n",
    "        r = response[\"Body\"]\n",
    "        res = r.read().decode()\n",
    "        return res\n",
    "    except Exception as e:\n",
    "        # print(e)\n",
    "        return None"
   ]
  },
  {
   "cell_type": "code",
   "execution_count": 63,
   "metadata": {},
   "outputs": [
    {
     "data": {
      "text/plain": [
       "'https://tr.rbxcdn.com/dc3bc0540046d56574a40d6474461015/150/150/Avatar/Png'"
      ]
     },
     "execution_count": 63,
     "metadata": {},
     "output_type": "execute_result"
    }
   ],
   "source": [
    "img_urls[10]"
   ]
  },
  {
   "cell_type": "code",
   "execution_count": 65,
   "metadata": {},
   "outputs": [
    {
     "name": "stdout",
     "output_type": "stream",
     "text": [
      "start time: \n",
      "2023-10-09 03:51:10.404212-07:00\n"
     ]
    },
    {
     "name": "stderr",
     "output_type": "stream",
     "text": [
      "100%|██████████| 119578/119578 [06:41<00:00, 297.46it/s]"
     ]
    },
    {
     "name": "stdout",
     "output_type": "stream",
     "text": [
      "CPU times: user 23.8 s, sys: 14.2 s, total: 38.1 s\n",
      "Wall time: 6min 42s\n"
     ]
    },
    {
     "name": "stderr",
     "output_type": "stream",
     "text": [
      "\n"
     ]
    }
   ],
   "source": [
    "%%time\n",
    "# print current time in PST\n",
    "from datetime import datetime\n",
    "import pytz\n",
    "\n",
    "tz = pytz.timezone(\"America/Los_Angeles\")\n",
    "print(\"start time: \")\n",
    "print(datetime.now(tz))\n",
    "\n",
    "\n",
    "from multiprocessing import Pool\n",
    "import tqdm\n",
    "\n",
    "with Pool(60) as p:\n",
    "    results = list(tqdm.tqdm(p.imap(invoke_sagemaker_for_url, img_urls), total=len(img_urls)))"
   ]
  },
  {
   "cell_type": "code",
   "execution_count": 67,
   "metadata": {},
   "outputs": [
    {
     "data": {
      "text/plain": [
       "array(['[[0.22939999401569366, 0.2946999967098236, 0.15629999339580536, 0.14790000021457672, 0.35679998993873596, -0.6908000111579895, 0.30979999899864197, 0.2632000148296356, 0.2485000044107437, -0.010999999940395355, -0.6166999936103821, 0.06939999759197235, 0.32190001010894775, 0.36340001225471497, 0.11420000344514847, -0.24060000479221344, 0.4108999967575073, 0.03999999910593033, -0.23909999430179596, -0.15129999816417694, 0.23899999260902405, 0.07000000029802322, -0.0689999982714653, -0.22750000655651093, -0.0868000015616417, 0.24070000648498535, -0.5062999725341797, 0.04309999942779541, 0.11069999635219574, 0.2865999937057495, 0.11969999969005585, 0.4950999915599823, 0.3424000144004822, 0.2093999981880188, -0.01860000006854534, -0.34950000047683716, -0.1462000012397766, 0.7307000160217285, 0.04969999939203262, -1.5080000162124634, -0.6150000095367432, 0.31189998984336853, -0.32249999046325684, -0.13940000534057617, 0.4244000017642975, 1.631600022315979, -0.0348999984562397, -0.179299995303154, 0.6277999877929688, -0.11389999836683273, 0.2328999936580658, -0.05770000070333481, -0.1023000031709671, -0.7062000036239624, -0.25209999084472656, -0.014999999664723873, -0.1525000035762787, -0.07410000264644623, -0.013000000268220901, 0.2946999967098236, 1.2666000127792358, -0.16539999842643738, -0.2937999963760376, -0.18880000710487366, -0.0333000011742115, -0.06689999997615814, -0.5353999733924866, 0.41429999470710754, 0.13940000534057617, -0.0006000000284984708, -0.19179999828338623, -0.22300000488758087, 0.026100000366568565, -0.37459999322891235, -0.33799999952316284, 0.08510000258684158, 0.007699999958276749, 0.12150000035762787, -0.04520000144839287, -0.20020000636577606, -0.2644999921321869, -0.38019999861717224, 0.07810000330209732, -0.17010000348091125, -0.02630000002682209, -0.23000000417232513, -0.76910001039505, -0.09570000320672989, -0.47690001130104065, 0.03970000147819519, 0.2176000028848648, -0.24770000576972961, -6.661600112915039, -0.2793999910354614, 0.16940000653266907, -0.016300000250339508, -0.11760000139474869, 0.24300000071525574, 0.13519999384880066, 0.12449999898672104, 0.5519999861717224, -0.07400000095367432, -0.19869999587535858, 0.5593000054359436, 0.2851000130176544, 0.04809999838471413, -0.7031000256538391, -0.06030000001192093, -0.03999999910593033, 0.16120000183582306, -0.051100000739097595, 0.03480000048875809, -0.2328999936580658, -0.6858999729156494, -0.3366999924182892, -0.14669999480247498, -0.007199999876320362, 0.03269999846816063, -0.4648999869823456, 0.2549000084400177, 0.31540000438690186, -0.47369998693466187, 0.164900004863739, 0.23669999837875366, 0.24860000610351562, -0.05829999968409538, -0.12960000336170197, 0.1535000056028366, -0.010300000198185444, -0.219200000166893, -0.31360000371932983, -0.13989999890327454, -0.3598000109195709, 0.927299976348877, -0.021199999377131462, 0.26460000872612, -0.2921999990940094, -0.491100013256073, -0.24060000479221344, 0.06790000200271606, 0.03920000046491623, 0.21209999918937683, 0.11559999734163284, -0.07660000026226044, -0.5187000036239624, 0.14579999446868896, 0.12200000137090683, 0.24009999632835388, -0.195700004696846, 0.11400000005960464, -0.22550000250339508, 0.2214999943971634, -0.6425999999046326, 0.476500004529953, -0.22310000658035278, -0.08410000056028366, 0.10740000009536743, 0.155799999833107, -0.2827000021934509, 0.030700000002980232, -0.08079999685287476, 0.22750000655651093, 0.4392000138759613, -0.010900000110268593, 0.10700000077486038, 0.2944999933242798, 0.9779000282287598, -0.027499999850988388, 0.39820000529289246, 0.12309999763965607, 0.2160000056028366, 0.010599999688565731, -0.01759999990463257, -0.5637999773025513, -0.5236999988555908, 0.30070000886917114, -0.9269999861717224, 0.2004999965429306, 0.32420000433921814, 0.0, 0.4203000068664551, -0.07559999823570251, 0.38179999589920044, -0.2565000057220459, 0.1444000005722046, -0.39809998869895935, 0.16290000081062317, -0.1624000072479248, -0.22290000319480896, 0.3427000045776367, 0.34549999237060547, -0.516700029373169, -0.31790000200271606, -0.0035000001080334187, -0.31790000200271606, -0.11479999870061874, -0.020999999716877937, -0.38830000162124634, -0.8708000183105469, 0.23559999465942383, -0.12470000237226486, 0.045899998396635056, -0.39579999446868896, 0.2833000123500824, -0.14100000262260437, 0.010499999858438969, 0.11810000240802765, -0.1274999976158142, 0.6638000011444092, -0.07590000331401825, 0.1738000065088272, 0.09459999948740005, -0.5338000059127808, -0.4993000030517578, -0.16840000450611115, -0.11620000004768372, 0.1876000016927719, -0.10589999705553055, 0.33629998564720154, -0.328900009393692, 0.5435000061988831, 0.2849000096321106, -0.38940000534057617, -0.09489999711513519, -0.3741999864578247, 0.05119999870657921, -0.23989999294281006, -0.38440001010894775, -0.041200000792741776, -0.2554999887943268, 0.08420000225305557, 0.11180000007152557, 0.8201000094413757, -0.4300999939441681, 0.13609999418258667, 0.33889999985694885, 0.2770000100135803, 0.31380000710487366, 0.21160000562667847, 0.1412999927997589, -0.5853999853134155, 0.30149999260902405, 0.1678999960422516, -0.4884999990463257, 0.45179998874664307, -0.29100000858306885, -0.15479999780654907, -0.051899999380111694, 0.08980000019073486, -0.4586000144481659, 0.04899999871850014, -0.4603999853134155, 0.7161999940872192, 0.133200004696846, 0.2590000033378601, 0.02370000071823597, 0.30399999022483826, -0.1469999998807907, -1.4115999937057495, -0.5590000152587891, 0.17739999294281006, 0.3361999988555908, 0.3005000054836273, -0.8636999726295471, -0.14030000567436218, 0.3140000104904175, 0.10509999841451645, -0.42590001225471497, -0.41990000009536743, -0.3310999870300293, 0.1573999971151352, -0.3052999973297119, -0.3871999979019165, 0.22030000388622284, -0.09279999881982803, 0.3783999979496002, 0.025100000202655792, 0.12139999866485596, -0.014100000262260437, 0.25049999356269836, -0.23019999265670776, 0.0729999989271164, -0.12770000100135803, -0.16519999504089355, -0.05169999971985817, -0.04179999977350235, 1.2970000505447388, -0.3880000114440918, 0.16349999606609344, 0.006500000134110451, 0.4262000024318695, -0.5716999769210815, 0.044199999421834946, 0.09220000356435776, 0.037300001829862595, 0.00839999970048666, -0.34299999475479126, 0.1501999944448471, 0.257999986410141, -0.010900000110268593, -0.5842999815940857, -0.1657000035047531, 0.0632999986410141, -0.07289999723434448, 0.25279998779296875, -0.32899999618530273, -0.016100000590085983, 0.027699999511241913, 0.8019999861717224, -0.2558000087738037, 0.030500000342726707, 0.2273000031709671, 0.9247999787330627, -0.2847999930381775, -0.45419999957084656, -0.04919999837875366, 0.00279999990016222, -0.4226999878883362, 0.0723000019788742, 0.164000004529953, 0.4505000114440918, 1.576200008392334, 0.17560000717639923, -0.05040000006556511, 0.04800000041723251, -0.2687000036239624, -0.012799999676644802, 0.05220000073313713, 0.3271999955177307, -0.1517000049352646, 0.305400013923645, 0.1356000006198883, -0.31839999556541443, 0.09359999746084213, -0.5023999810218811, 0.07249999791383743, -0.24140000343322754, -0.09700000286102295, -0.1809999942779541, 0.5169000029563904, 0.2418999969959259, -0.8572999835014343, 0.066600002348423, 0.26440000534057617, 0.11299999803304672, 0.15000000596046448, 0.45159998536109924, 0.027899999171495438, -0.2587999999523163, -0.33239999413490295, 0.05389999970793724, 0.007199999876320362, 0.14740000665187836, -0.10599999874830246, 0.5062000155448914, -0.015699999406933784, -0.2996000051498413, 0.37139999866485596, -0.5625, 0.11389999836683273, -0.08049999922513962, -0.010400000028312206, 0.028699999675154686, 0.5196999907493591, 0.06340000033378601, -0.2572000026702881, 0.19470000267028809, -0.38359999656677246, 0.2680000066757202, -0.5760999917984009, 0.062300000339746475, -0.09440000355243683, 0.21639999747276306, 0.14630000293254852, -0.19499999284744263, 0.16279999911785126, 0.38040000200271606, 0.24279999732971191, -0.11249999701976776, 0.5489000082015991, 0.47780001163482666, -0.1949000060558319, 0.07970000058412552, 0.1817999929189682, 0.12030000239610672, -0.164000004529953, 0.16930000483989716, -0.18569999933242798, 0.043699998408555984, -1.5189000368118286, -1.2757999897003174, -0.6338000297546387, -0.12290000170469284, -0.5148000121116638, 0.53329998254776, 0.25130000710487366, -0.16099999845027924, -0.4733000099658966, -0.5734000205993652, 0.03460000082850456, 0.6428999900817871, -0.2858000099658966, -0.00570000009611249, 0.03880000114440918, -0.44999998807907104, 0.03060000017285347, -0.6705999970436096, -0.2062000036239624, -0.18219999969005585, -0.02539999969303608, 0.31610000133514404, 0.21330000460147858, 0.41679999232292175, 0.3370000123977661, -0.3749000132083893, 0.1965000033378601, -0.28290000557899475, 1.0823999643325806, -0.04610000178217888, -0.15440000593662262, 0.29750001430511475, -0.19699999690055847, -0.1995999962091446, -0.9574999809265137, 0.38920000195503235, 0.46160000562667847, 0.23600000143051147, 0.288100004196167, 0.25360000133514404, -0.4796999990940094, 0.03099999949336052, 0.33649998903274536, 0.428600013256073, 0.17509999871253967, -0.16099999845027924, -0.1451999992132187, 0.5026999711990356, -0.17990000545978546, -0.39149999618530273, 0.06080000102519989, 0.17579999566078186, 0.4675999879837036, 0.06400000303983688, 0.13740000128746033, -0.179299995303154, 0.03799999877810478, 0.1826999932527542, 0.08049999922513962, -0.1867000013589859, -0.11469999700784683, -0.1362999975681305, 0.40139999985694885, 0.006300000008195639, 0.17479999363422394, 0.1784999966621399, 0.9609000086784363, -0.39340001344680786, -0.12470000237226486, -0.31369999051094055, -0.36480000615119934, 0.0013000000035390258, 0.16089999675750732, 0.3531000018119812, 0.4146000146865845, 0.24819999933242798, -0.3172000050544739, 0.21870000660419464, 0.43560001254081726, 0.07590000331401825, -0.030300000682473183, 0.36980000138282776, 0.5220999717712402, 0.4375, -0.5812000036239624, -0.1324000060558319, 0.004100000020116568, 0.006500000134110451, -0.5554999709129333, -0.36250001192092896, -0.2912999987602234, -0.24869999289512634, -0.2816999852657318, 0.13809999823570251, -0.31439998745918274, -0.4122999906539917, 0.05260000005364418, 0.5126000046730042, 0.36329999566078186, -0.513700008392334, 0.059700001031160355, 0.013700000010430813, 0.3901999890804291, 0.4438999891281128, 0.05490000173449516, 0.11620000004768372, -0.08259999752044678, 0.011500000022351742, 0.26460000872612, 0.2939000129699707, 0.27790001034736633, 0.12800000607967377, 0.4311999976634979, -0.15060000121593475, 0.08540000021457672, -0.22259999811649323, -0.2093999981880188, 0.07930000126361847, -0.20600000023841858, -0.053700000047683716, -0.37450000643730164, 0.14020000398159027, -0.3005000054836273]]',\n",
       "       '[[0.16110000014305115, 0.314300000667572, 0.13950000703334808, 0.2888000011444092, 0.4277999997138977, -0.7494999766349792, 0.250900000333786, 0.1517000049352646, 0.1446000039577484, -0.002300000051036477, -0.4950999915599823, 0.09189999848604202, 0.4772999882698059, 0.35199999809265137, 0.19179999828338623, -0.2451999932527542, 0.48649999499320984, 0.008200000040233135, -0.164000004529953, -0.16519999504089355, 0.5870000123977661, 0.15770000219345093, -0.10090000182390213, -0.3102000057697296, -0.10999999940395355, 0.1274999976158142, -0.6308000087738037, 0.11739999800920486, 0.12060000002384186, 0.41609999537467957, 0.1485999971628189, 0.5566999912261963, 0.3427000045776367, 0.08789999783039093, -0.03880000114440918, -0.46619999408721924, -0.03790000081062317, 0.7469000220298767, 0.13230000436306, -1.4879000186920166, -0.6481000185012817, 0.34459999203681946, -0.351500004529953, -0.20000000298023224, 0.5460000038146973, 1.7001999616622925, -0.030500000342726707, -0.21610000729560852, 0.5817000269889832, 0.03400000184774399, 0.11879999935626984, -0.09290000051259995, 0.005499999970197678, -0.6916000247001648, -0.19040000438690186, -0.013700000010430813, -0.061000000685453415, 0.013100000098347664, 0.08879999816417694, 0.3003000020980835, 1.2490999698638916, -0.16779999434947968, -0.22759999334812164, -0.21580000221729279, -0.044199999421834946, 0.02669999934732914, -0.5723000168800354, 0.07339999824762344, 0.11599999666213989, -0.0649000033736229, -0.013700000010430813, -0.2287999987602234, 0.025100000202655792, -0.4032999873161316, -0.19619999825954437, 0.20800000429153442, 0.07500000298023224, 0.0966000035405159, -0.05040000006556511, -0.17350000143051147, -0.2816999852657318, -0.15060000121593475, 0.009200000204145908, -0.06560000032186508, -0.05660000070929527, -0.3422999978065491, -0.7253999710083008, -0.01730000041425228, -0.5217000246047974, -0.04809999838471413, 0.2329999953508377, -0.26570001244544983, -6.255099773406982, -0.1932000070810318, 0.33550000190734863, -0.1542000025510788, -0.3012000024318695, 0.2736999988555908, 0.07050000131130219, 0.06520000100135803, 0.5523999929428101, -0.0210999995470047, -0.25049999356269836, 0.6367999911308289, 0.32260000705718994, 0.11240000277757645, -0.666700005531311, -0.08500000089406967, 0.008899999782443047, 0.10660000145435333, 0.014399999752640724, 0.062300000339746475, -0.09139999747276306, -0.646399974822998, -0.3361999988555908, -0.326200008392334, -0.05050000175833702, 0.05649999901652336, -0.41350001096725464, 0.3610999882221222, 0.3222000002861023, -0.5475999712944031, 0.20160000026226044, 0.25609999895095825, 0.20749999582767487, -0.11069999635219574, -0.20430000126361847, 0.15150000154972076, -0.06859999895095825, -0.1737000048160553, -0.28630000352859497, -0.09969999641180038, -0.3921999931335449, 0.8963000178337097, 0.23010000586509705, 0.22859999537467957, -0.23510000109672546, -0.4797999858856201, -0.17970000207424164, 0.08269999921321869, 0.09350000321865082, 0.33250001072883606, 0.13930000364780426, -0.16840000450611115, -0.531499981880188, 0.10130000114440918, 0.18569999933242798, 0.1670999974012375, -0.26980000734329224, 0.21170000731945038, -0.16050000488758087, 0.24079999327659607, -0.37610000371932983, 0.45649999380111694, -0.225600004196167, -0.12280000001192093, 0.05299999937415123, 0.2953000068664551, -0.29010000824928284, -0.012299999594688416, -0.22789999842643738, 0.22439999878406525, 0.42649999260902405, -0.11819999665021896, 0.08630000054836273, 0.41370001435279846, 1.1157000064849854, 0.13040000200271606, 0.5008999705314636, 0.24300000071525574, 0.2524000108242035, 0.02070000022649765, -0.01850000023841858, -0.5960000157356262, -0.4799000024795532, 0.3093000054359436, -0.9333999752998352, 0.2304999977350235, 0.3019999861717224, -0.03220000118017197, 0.42750000953674316, -0.10610000044107437, 0.40610000491142273, -0.31610000133514404, 0.17170000076293945, -0.2662000060081482, 0.1200999990105629, 0.020800000056624413, -0.11919999867677689, 0.3125, 0.3944000005722046, -0.578499972820282, -0.16519999504089355, 0.052000001072883606, -0.3377000093460083, -0.052799999713897705, 0.0071000000461936, -0.21690000593662262, -0.7039999961853027, 0.2727000117301941, -0.2572999894618988, 0.16439999639987946, -0.314300000667572, 0.25780001282691956, -0.2418999969959259, 0.04230000078678131, 0.09300000220537186, -0.06340000033378601, 0.5587999820709229, -0.009800000116229057, 0.21690000593662262, -0.002400000113993883, -0.43299999833106995, -0.5728999972343445, -0.18369999527931213, -0.13429999351501465, 0.26089999079704285, -0.13130000233650208, 0.4878000020980835, -0.38989999890327454, 0.4320000112056732, 0.10869999974966049, -0.2646999955177307, -0.1535000056028366, -0.4178999960422516, 0.11309999972581863, -0.22380000352859497, -0.39329999685287476, -0.048700001090765, -0.15790000557899475, -0.004900000058114529, -0.027499999850988388, 0.6967999935150146, -0.38609999418258667, 0.1160999983549118, 0.41100001335144043, 0.23260000348091125, 0.21289999783039093, 0.24570000171661377, 0.2915000021457672, -0.5789999961853027, 0.07959999889135361, 0.10790000110864639, -0.47450000047683716, 0.4083000123500824, -0.2125999927520752, -0.15199999511241913, -0.07540000230073929, 0.0689999982714653, -0.48179998993873596, 0.032499998807907104, -0.3815999925136566, 0.6948999762535095, 0.03700000047683716, 0.15379999577999115, -0.004800000227987766, 0.4113999903202057, -0.1891999989748001, -1.4220999479293823, -0.5745000243186951, 0.16590000689029694, 0.3725000023841858, 0.18610000610351562, -0.7013000249862671, -0.05040000006556511, 0.21160000562667847, 0.07500000298023224, -0.3582000136375427, -0.3001999855041504, -0.23929999768733978, 0.06440000236034393, -0.296099990606308, -0.45329999923706055, 0.06729999929666519, -0.034699998795986176, 0.3515999913215637, 0.10329999774694443, 0.09700000286102295, 0.01730000041425228, 0.24639999866485596, -0.06759999692440033, 0.040800001472234726, -0.16329999268054962, -0.1941000074148178, -0.026499999687075615, 0.1290999948978424, 0.9840999841690063, -0.39239999651908875, 0.17139999568462372, 0.07450000196695328, 0.3849000036716461, -0.656000018119812, 0.09040000289678574, 0.04479999840259552, 0.008999999612569809, 0.18610000610351562, -0.2775999903678894, 0.14959999918937683, 0.1696999967098236, 0.05400000140070915, -0.6668999791145325, -0.06030000001192093, 0.12280000001192093, -0.09120000153779984, 0.22789999842643738, -0.3140000104904175, -0.033399999141693115, 0.06030000001192093, 0.7231000065803528, -0.2973000109195709, 0.022199999541044235, 0.25870001316070557, 0.8934999704360962, -0.17270000278949738, -0.3418000042438507, -0.07959999889135361, 0.06440000236034393, -0.4496000111103058, 0.07150000333786011, 0.20020000636577606, 0.3425999879837036, 1.5219000577926636, 0.1850000023841858, 0.02280000038444996, -0.08760000020265579, -0.262800008058548, -0.07890000194311142, -0.022099999710917473, 0.22220000624656677, -0.2402999997138977, 0.20630000531673431, 0.1477999985218048, -0.28450000286102295, 0.07980000227689743, -0.5568000078201294, 0.11400000005960464, -0.27000001072883606, -0.1151999980211258, -0.2337000072002411, 0.6391000151634216, 0.23600000143051147, -0.7735999822616577, 0.13379999995231628, 0.34360000491142273, 0.07159999758005142, 0.2125999927520752, 0.4932999908924103, -0.02710000053048134, -0.24740000069141388, -0.3391999900341034, 0.05130000039935112, -0.0019000000320374966, 0.014399999752640724, -0.11029999703168869, 0.5288000106811523, -0.15389999747276306, -0.2847000062465668, 0.2451000064611435, -0.578499972820282, 0.07150000333786011, -0.08869999647140503, -0.02280000038444996, 0.07109999656677246, 0.5400000214576721, 0.14390000700950623, -0.2143000066280365, 0.1712999939918518, -0.3555000126361847, 0.38040000200271606, -0.569599986076355, -0.04410000145435333, 0.01720000058412552, 0.3176000118255615, 0.08169999718666077, -0.33180001378059387, 0.08980000019073486, 0.4018999934196472, 0.30869999527931213, -0.01590000092983246, 0.6247000098228455, 0.4763999879360199, -0.23489999771118164, 0.16979999840259552, 0.17970000207424164, 0.10719999670982361, -0.10159999877214432, 0.18490000069141388, -0.06109999865293503, 0.07360000163316727, -1.36899995803833, -1.2207000255584717, -0.7038000226020813, -0.1632000058889389, -0.5182999968528748, 0.45730000734329224, 0.23970000445842743, 0.0026000000070780516, -0.41269999742507935, -0.5758000016212463, 0.10740000009536743, 0.6812000274658203, -0.3319999873638153, 0.002199999988079071, -0.10700000077486038, -0.6908000111579895, 0.0203000009059906, -0.6115000247955322, -0.357699990272522, -0.2485000044107437, -0.009999999776482582, 0.18809999525547028, 0.1331000030040741, 0.4032000005245209, 0.2809000015258789, -0.3772999942302704, 0.08669999986886978, -0.23569999635219574, 1.0520000457763672, -0.2054000049829483, -0.04610000178217888, 0.2842999994754791, -0.25029999017715454, -0.16779999434947968, -0.7522000074386597, 0.3711000084877014, 0.42969998717308044, 0.2888999879360199, 0.3522999882698059, 0.1023000031709671, -0.48539999127388, -0.006800000090152025, 0.3425000011920929, 0.5723000168800354, 0.23399999737739563, 0.008299999870359898, -0.07540000230073929, 0.5482000112533569, -0.18690000474452972, -0.2809999883174896, 0.20010000467300415, 0.17749999463558197, 0.4722000062465668, 0.061799999326467514, 0.08699999749660492, -0.1543000042438507, 0.08410000056028366, 0.18379999697208405, 0.18440000712871552, -0.14740000665187836, -0.17870000004768372, -0.35010001063346863, 0.34779998660087585, -0.02329999953508377, 0.16099999845027924, 0.21279999613761902, 0.9045000076293945, -0.2540000081062317, -0.15850000083446503, -0.32659998536109924, -0.4645000100135803, 0.05660000070929527, 0.1264999955892563, 0.22849999368190765, 0.413100004196167, 0.23409999907016754, -0.3537999987602234, 0.2303999960422516, 0.36160001158714294, 0.20630000531673431, -0.09130000323057175, 0.30070000886917114, 0.49709999561309814, 0.3970000147819519, -0.3619000017642975, -0.19699999690055847, -0.03999999910593033, 0.016499999910593033, -0.49790000915527344, -0.448199987411499, -0.18780000507831573, -0.16249999403953552, -0.258899986743927, 0.07900000363588333, -0.4043000042438507, -0.3005000054836273, -0.028599999845027924, 0.5645999908447266, 0.3481999933719635, -0.4535999894142151, 0.06369999796152115, 0.033900000154972076, 0.3707999885082245, 0.3677999973297119, 0.06620000302791595, 0.1573999971151352, -0.09589999914169312, 0.11190000176429749, 0.30079999566078186, 0.27250000834465027, 0.20999999344348907, 0.21639999747276306, 0.560699999332428, -0.22910000383853912, 0.10409999638795853, -0.10909999907016754, -0.1842000037431717, -0.0035000001080334187, -0.05209999904036522, -0.19110000133514404, -0.37560001015663147, 0.21699999272823334, -0.18359999358654022]]',\n",
       "       '[[-0.01679999940097332, 0.2897000014781952, 0.163100004196167, 0.2076999992132187, 0.34529998898506165, -0.8787000179290771, 0.13689999282360077, 0.2605000138282776, -0.04320000112056732, 0.25279998779296875, -0.4032000005245209, 0.051100000739097595, 0.4668000042438507, 0.2603999972343445, 0.07500000298023224, -0.08470000326633453, 0.6671000123023987, -0.03139999881386757, -0.42989999055862427, -0.18930000066757202, 0.15189999341964722, 0.1996999979019165, -0.18790000677108765, -0.2777000069618225, 0.01759999990463257, 0.24199999868869781, -0.5640000104904175, 0.09600000083446503, 0.06270000338554382, 0.33090001344680786, -0.2101999968290329, 0.2264000028371811, 0.17440000176429749, 0.19050000607967377, -0.06689999997615814, -0.396699994802475, -0.04989999905228615, 0.7950000166893005, 0.19529999792575836, -1.2036000490188599, -0.589900016784668, 0.46540001034736633, -0.24650000035762787, -0.22259999811649323, 0.24660000205039978, 1.68149995803833, 0.27390000224113464, -0.24140000343322754, 0.18479999899864197, 0.11209999769926071, 0.09690000116825104, 0.06650000065565109, 0.017899999395012856, -0.633400022983551, -0.12070000171661377, -0.08649999648332596, -0.3231000006198883, -0.0737999975681305, 0.10100000351667404, 0.22630000114440918, 0.7721999883651733, -0.18780000507831573, 0.0471000000834465, -0.2660999894142151, -0.03099999949336052, 0.034699998795986176, -0.7311000227928162, 0.05270000174641609, 0.03869999945163727, -0.12950000166893005, -0.18310000002384186, -0.49470001459121704, 0.21889999508857727, -0.14229999482631683, -0.4124999940395355, 0.02630000002682209, 0.2013999968767166, 0.09099999815225601, 0.06539999693632126, -0.18549999594688416, -0.33329999446868896, -0.42890000343322754, 0.19900000095367432, -0.2460000067949295, -0.27309998869895935, -0.12060000002384186, -0.8539000153541565, -0.10379999876022339, -0.4203999936580658, -0.20190000534057617, 0.25619998574256897, 0.16210000216960907, -6.3902997970581055, 0.18240000307559967, 0.3684000074863434, 0.06019999831914902, -0.09430000185966492, 0.09040000289678574, 0.05730000138282776, -0.06430000066757202, 0.5587000250816345, 0.12189999967813492, -0.2159000039100647, 0.5565999746322632, 0.13199999928474426, 0.0414000004529953, -1.375499963760376, -0.2046000063419342, -0.13179999589920044, 0.019700000062584877, -0.27219998836517334, 0.0575999990105629, -0.22630000114440918, -0.48429998755455017, -0.09350000321865082, -0.2087000012397766, -0.10239999741315842, -0.08479999750852585, -0.3903000056743622, 0.21699999272823334, 0.2773999869823456, -0.5199000239372253, 0.053300000727176666, 0.32170000672340393, 0.41119998693466187, 0.04439999908208847, -0.289900004863739, -0.10769999772310257, -0.1867000013589859, -0.28790000081062317, 0.11029999703168869, -0.3206000030040741, -0.08320000022649765, 0.892799973487854, 0.02979999966919422, 0.26829999685287476, -0.37040001153945923, -0.6937000155448914, -0.12549999356269836, -0.011900000274181366, 0.21699999272823334, 0.2800000011920929, -0.052000001072883606, -0.11710000038146973, -0.5005000233650208, 0.05090000107884407, 0.0706000030040741, 0.1826000064611435, -0.031199999153614044, 0.05609999969601631, -0.006800000090152025, 0.11580000072717667, -0.5945000052452087, 0.18039999902248383, -0.08100000023841858, -0.06430000066757202, 0.10279999673366547, 0.24719999730587006, -0.2703999876976013, -0.032099999487400055, 0.07410000264644623, 0.33149999380111694, 0.26030001044273376, 0.08349999785423279, 0.10760000348091125, 0.3779999911785126, 0.6044999957084656, 0.12290000170469284, 0.483599990606308, 0.17569999396800995, -0.03180000185966492, -0.1632000058889389, 0.07900000363588333, -0.4251999855041504, -0.6686000227928162, 0.08749999850988388, -1.1608999967575073, 0.1468999981880188, -0.15649999678134918, 0.03869999945163727, 0.4659000039100647, -0.03680000081658363, 0.21140000224113464, -0.31949999928474426, 0.03220000118017197, -0.23909999430179596, 0.02500000037252903, 0.01979999989271164, -0.287200003862381, 0.17880000174045563, 0.5228999853134155, -0.5162000060081482, -0.26260000467300415, 0.08219999819993973, -0.12470000237226486, -0.10859999805688858, 0.03929999843239784, -0.4205999970436096, -0.6825000047683716, 0.41200000047683716, 0.039000000804662704, 0.32269999384880066, -0.6039000153541565, 0.11670000106096268, -0.24719999730587006, -0.1671999990940094, 0.20999999344348907, -0.05380000174045563, 0.35179999470710754, 0.10419999808073044, 0.4691999852657318, 0.3427000045776367, -0.397599995136261, -0.25760000944137573, -0.052400000393390656, -0.13289999961853027, 0.08640000224113464, -0.040800001472234726, 0.41850000619888306, -0.3314000070095062, 0.25600001215934753, 0.19979999959468842, -0.11900000274181366, -0.062199998646974564, -0.20440000295639038, 0.193900004029274, -0.1436000019311905, -0.26759999990463257, -0.02250000089406967, -0.1678999960422516, 0.056299999356269836, 0.12809999287128448, 0.5375999808311462, -0.1137000024318695, 0.3465999960899353, 0.5835999846458435, 0.18729999661445618, 0.1850000023841858, 0.3434000015258789, 0.37439998984336853, -0.3799000084400177, 0.1988999992609024, 0.08510000258684158, -0.26010000705718994, 0.569100022315979, -0.11180000007152557, -0.2395000010728836, -0.05420000106096268, 0.08590000122785568, -0.3452000021934509, 0.014800000004470348, -0.31290000677108765, 0.5942999720573425, 0.16940000653266907, -0.02160000056028366, 0.39239999651908875, 0.3495999872684479, -0.0843999981880188, -1.6552000045776367, -0.35350000858306885, -0.12530000507831573, 0.28619998693466187, 0.047200001776218414, -0.7450000047683716, -0.22540000081062317, 0.4512999951839447, 0.02810000069439411, -0.3950999975204468, -0.4507000148296356, -0.2800000011920929, 0.4708999991416931, -0.1858000010251999, -0.4620000123977661, 0.4401000142097473, -0.12960000336170197, 0.03970000147819519, -0.03700000047683716, -0.121799997985363, -0.09149999916553497, 0.4383000135421753, -0.1404000073671341, 0.30979999899864197, -0.2928999960422516, -0.16089999675750732, 0.04149999842047691, -0.007499999832361937, 1.3049999475479126, -0.38190001249313354, 0.17669999599456787, 0.14990000426769257, 0.27410000562667847, -0.682200014591217, -0.06930000334978104, 0.1151999980211258, 0.12919999659061432, 0.09669999778270721, -0.14020000398159027, 0.15539999306201935, -0.03460000082850456, -0.0940999984741211, -0.3434999883174896, -0.29260000586509705, 0.060499999672174454, -0.13220000267028809, 0.16380000114440918, -0.42879998683929443, -0.4002000093460083, -0.04089999943971634, 0.6051999926567078, -0.22450000047683716, -0.1120000034570694, -0.10649999976158142, 0.8902999758720398, 0.03280000016093254, -0.396699994802475, -0.06300000101327896, -0.0008999999845400453, -0.2766000032424927, -0.12839999794960022, -0.3409000039100647, 0.8187999725341797, 2.0536999702453613, 0.22429999709129333, -0.14820000529289246, 0.12929999828338623, -0.40700000524520874, -0.2282000035047531, -0.010900000110268593, 0.3215999901294708, -0.36399999260902405, 0.12729999423027039, 0.08540000021457672, -0.2833999991416931, -0.014800000004470348, -0.5986999869346619, 0.3790999948978424, -0.4180999994277954, -0.07639999687671661, 0.2700999975204468, 0.6033999919891357, -0.0414000004529953, -0.7070000171661377, -0.1282999962568283, 0.37220001220703125, 0.28929999470710754, 0.04089999943971634, 0.4180000126361847, -0.12860000133514404, -0.18389999866485596, -0.30979999899864197, -0.24729999899864197, 0.046300001442432404, 0.1185000017285347, -0.11010000109672546, 0.22380000352859497, -0.46140000224113464, -0.3142000138759613, -0.20479999482631683, -0.40149998664855957, -0.36890000104904175, 0.04450000077486038, -0.030500000342726707, -0.00800000037997961, 0.19439999759197235, 0.3287999927997589, -0.3352999985218048, 0.14869999885559082, -0.6200000047683716, 0.25, -0.44920000433921814, -0.007000000216066837, -0.14920000731945038, 0.31200000643730164, 0.1800999939441681, 0.033399999141693115, -0.08209999650716782, 0.19339999556541443, 0.12710000574588776, -0.12800000607967377, 0.24869999289512634, 0.3537999987602234, -0.3118000030517578, 0.15389999747276306, 0.12449999898672104, 0.4366999864578247, -0.16329999268054962, 0.34599998593330383, 0.06270000338554382, 0.22519999742507935, -1.268399953842163, -1.0378999710083008, -0.45579999685287476, -0.22779999673366547, -0.5480999946594238, 0.515999972820282, 0.149399995803833, -0.06300000101327896, -0.20170000195503235, -0.52920001745224, 0.017000000923871994, 0.2581999897956848, -0.22509999573230743, 0.20389999449253082, -0.07479999959468842, -0.6252999901771545, -0.018200000748038292, -0.2784999907016754, -0.24549999833106995, -0.4027999937534332, -0.014399999752640724, 0.22550000250339508, -0.032600000500679016, 0.421099990606308, 0.519599974155426, -0.11150000244379044, -0.058800000697374344, -0.2460000067949295, 0.9848999977111816, -0.03420000150799751, -0.2087000012397766, 0.274399995803833, -0.26570001244544983, -0.09769999980926514, -1.0083999633789062, 0.41019999980926514, 0.6384000182151794, 0.006500000134110451, 0.2865999937057495, 0.8711000084877014, -0.27959999442100525, -0.2011999934911728, 0.31380000710487366, 0.05770000070333481, -0.022600000724196434, 0.014600000344216824, 0.03550000116229057, 0.685699999332428, -0.26100000739097595, -0.11509999632835388, -0.034299999475479126, -0.03849999979138374, 0.6779000163078308, -0.10700000077486038, 0.016100000590085983, -0.14550000429153442, -0.11680000275373459, 0.08169999718666077, 0.2921000123023987, -0.375, -0.3693999946117401, -0.2240999937057495, 0.3495999872684479, 0.03500000014901161, 0.17309999465942383, 0.25870001316070557, 0.7105000019073486, -0.38269999623298645, -0.31130000948905945, -0.4503999948501587, -0.46799999475479126, 0.04670000076293945, 0.5666999816894531, 0.4794999957084656, 0.1216999962925911, 0.3203999996185303, -0.24979999661445618, 0.1826000064611435, 0.30059999227523804, 0.4909000098705292, 0.26589998602867126, 0.16259999573230743, 0.5400000214576721, 0.3977999985218048, -0.5848000049591064, -0.27250000834465027, 0.1290999948978424, 0.01510000042617321, -0.28049999475479126, -0.026399999856948853, -0.26919999718666077, -0.07779999822378159, -0.22139999270439148, -0.26089999079704285, -0.30660000443458557, -0.23649999499320984, 0.06520000100135803, 0.6531000137329102, 0.34060001373291016, -0.3264999985694885, 0.06480000168085098, -0.05860000103712082, 0.3278999924659729, 0.5116999745368958, 0.09749999642372131, -0.06400000303983688, 0.00559999980032444, 0.17069999873638153, 0.3497999906539917, -0.09600000083446503, 0.22619999945163727, 0.2815000116825104, 0.3310000002384186, -0.1784999966621399, 0.4242999851703644, -0.037700001150369644, -0.01810000091791153, -0.034299999475479126, -0.2793000042438507, -0.07400000095367432, -0.33820000290870667, 0.2615000009536743, -0.40779998898506165]]',\n",
       "       '[[0.27709999680519104, 0.18889999389648438, 0.0010999999940395355, -0.06960000097751617, 0.48840001225471497, -0.5541999936103821, 0.20360000431537628, 0.3409999907016754, 0.3589000105857849, 0.10520000010728836, -0.6251000165939331, -0.014000000432133675, 0.3303000032901764, 0.16930000483989716, 0.027499999850988388, -0.29019999504089355, 0.3418999910354614, 0.1940000057220459, -0.07729999721050262, -0.15610000491142273, 0.01720000058412552, 0.18649999797344208, 0.0012000000569969416, -0.1477999985218048, -0.04820000007748604, 0.41510000824928284, -0.3490999937057495, 0.00430000014603138, 0.16670000553131104, 0.3743000030517578, 0.15770000219345093, 0.42640000581741333, 0.3346000015735626, 0.3718999922275543, 0.056699998676776886, -0.275299996137619, -0.2531000077724457, 0.7373999953269958, 0.1031000018119812, -1.4852999448776245, -0.6126000285148621, 0.3709000051021576, -0.3481999933719635, -0.2703000009059906, 0.3188000023365021, 1.8593000173568726, -0.03290000185370445, -0.179299995303154, 0.6384999752044678, -0.12849999964237213, 0.3743000030517578, -0.061900001019239426, -0.032999999821186066, -0.7232999801635742, -0.26170000433921814, -0.046300001442432404, -0.08110000193119049, 0.0502999983727932, 0.047600001096725464, 0.19990000128746033, 1.1109999418258667, -0.10939999669790268, -0.11590000241994858, -0.26649999618530273, 0.10170000046491623, -0.07859999686479568, -0.5406000018119812, 0.3384000062942505, 0.11940000206232071, 0.17470000684261322, -0.17180000245571136, -0.30300000309944153, 0.013199999928474426, -0.3610000014305115, -0.349700003862381, -0.002300000051036477, 0.10750000178813934, 0.023399999365210533, 0.12139999866485596, -0.2160000056028366, -0.27250000834465027, -0.36160001158714294, -0.059300001710653305, -0.24740000069141388, -0.09759999811649323, -0.28780001401901245, -0.8371999859809875, -0.22619999945163727, -0.3856000006198883, -0.10249999910593033, 0.2635999917984009, 0.0034000000450760126, -7.0482001304626465, -0.16500000655651093, 0.26739999651908875, 0.027300000190734863, -0.1777999997138977, 0.3691999912261963, 0.061000000685453415, 0.1573999971151352, 0.6432999968528748, -0.03539999946951866, -0.35420000553131104, 0.4228000044822693, 0.25099998712539673, 0.10419999808073044, -0.4941999912261963, 0.023099999874830246, -0.04490000009536743, 0.12250000238418579, -0.07190000265836716, -0.02329999953508377, -0.2727999985218048, -0.7678999900817871, -0.5498999953269958, -0.19280000030994415, -0.02879999950528145, 0.06939999759197235, -0.2533000111579895, 0.397599995136261, 0.3138999938964844, -0.5453000068664551, 0.0738999992609024, 0.06719999760389328, 0.3472000062465668, 0.04399999976158142, -0.07850000262260437, 0.2493000030517578, -0.04960000142455101, 0.11349999904632568, -0.46650001406669617, 0.04769999906420708, -0.35089999437332153, 0.9659000039100647, -0.00570000009611249, 0.3066999912261963, -0.2921000123023987, -0.5720000267028809, -0.2240000069141388, 0.08510000258684158, 0.022199999541044235, 0.25200000405311584, 0.1242000013589859, -0.09679999947547913, -0.5030999779701233, 0.10339999943971634, 0.11230000108480453, 0.17919999361038208, -0.24490000307559967, 0.06809999793767929, -0.24459999799728394, 0.20550000667572021, -0.6171000003814697, 0.3617999851703644, -0.07509999722242355, -0.04800000041723251, 0.07119999825954437, 0.12189999967813492, -0.1940000057220459, 0.17839999496936798, -0.031099999323487282, 0.2581999897956848, 0.44940000772476196, 0.07079999893903732, 0.11869999766349792, 0.273499995470047, 0.7971000075340271, -0.11860000342130661, 0.3675000071525574, 0.019999999552965164, 0.22849999368190765, 0.10819999873638153, -0.07680000364780426, -0.48420000076293945, -0.36739999055862427, 0.2574999928474426, -0.9017000198364258, 0.19750000536441803, 0.4230000078678131, -0.07450000196695328, 0.29179999232292175, -0.14350000023841858, 0.28139999508857727, -0.320499986410141, 0.1655000001192093, -0.3095000088214874, 0.027000000700354576, -0.049400001764297485, -0.12780000269412994, 0.31869998574256897, 0.37959998846054077, -0.4456000030040741, -0.4422999918460846, -0.04479999840259552, -0.32749998569488525, -0.16040000319480896, -0.01600000075995922, -0.39250001311302185, -0.7717999815940857, 0.33869999647140503, -0.11739999800920486, 0.11219999939203262, -0.36959999799728394, 0.41290000081062317, 0.04740000143647194, -0.05209999904036522, 0.20360000431537628, -0.16009999811649323, 0.6851000189781189, -0.06340000033378601, 0.24400000274181366, 0.18440000712871552, -0.6261000037193298, -0.47909998893737793, -0.22380000352859497, -0.09549999982118607, 0.16940000653266907, -0.09690000116825104, 0.5325999855995178, -0.4027000069618225, 0.7425000071525574, 0.37790000438690186, -0.3398999869823456, 0.05909999832510948, -0.3422999978065491, 0.00039999998989515007, -0.20149999856948853, -0.4657999873161316, -0.11339999735355377, -0.1875, 0.09669999778270721, 0.22130000591278076, 0.6281999945640564, -0.412200003862381, 0.16920000314712524, 0.3571000099182129, 0.21549999713897705, 0.48579999804496765, 0.07150000333786011, 0.18199999630451202, -0.6220999956130981, 0.3700999915599823, 0.033399999141693115, -0.47130000591278076, 0.592199981212616, -0.2727000117301941, -0.2363000065088272, -0.07249999791383743, 0.2574999928474426, -0.46239998936653137, 0.09799999743700027, -0.42719998955726624, 0.7699999809265137, 0.21699999272823334, 0.37630000710487366, 0.052000001072883606, 0.24490000307559967, -0.1282999962568283, -1.7005000114440918, -0.3880999982357025, 0.14499999582767487, 0.336899995803833, 0.23749999701976776, -0.6995999813079834, -0.16990000009536743, 0.33309999108314514, 0.11159999668598175, -0.48910000920295715, -0.2985999882221222, -0.2800999879837036, 0.004699999932199717, -0.4104999899864197, -0.3691999912261963, 0.20270000398159027, -0.164900004863739, 0.4083999991416931, -0.012799999676644802, 0.06620000302791595, -0.003000000026077032, 0.4726000130176544, -0.3230000138282776, 0.09870000183582306, -0.08940000087022781, -0.0333000011742115, 0.019700000062584877, -0.12219999730587006, 1.1835999488830566, -0.34389999508857727, 0.13979999721050262, -0.1501999944448471, 0.44839999079704285, -0.5224999785423279, -0.014100000262260437, 0.12300000339746475, -0.0658000037074089, -0.04690000042319298, -0.26829999685287476, 0.08619999885559082, 0.29789999127388, -0.00800000037997961, -0.4097999930381775, -0.2328999936580658, 0.08739999681711197, -0.020999999716877937, 0.38909998536109924, -0.2485000044107437, -0.15760000050067902, 0.11879999935626984, 0.8970000147819519, -0.40389999747276306, 0.04839999973773956, 0.16419999301433563, 0.9638000130653381, -0.28290000557899475, -0.4828999936580658, -0.11729999631643295, -0.010599999688565731, -0.24240000545978546, 0.15539999306201935, 0.13770000636577606, 0.6816999912261963, 1.4962999820709229, 0.21400000154972076, -0.045899998396635056, 0.03220000118017197, -0.22280000150203705, -0.0020000000949949026, 0.040300000458955765, -0.01899999938905239, -0.008799999952316284, 0.3052000105381012, 0.21250000596046448, -0.30399999022483826, 0.06880000233650208, -0.35109999775886536, 0.0071000000461936, -0.2847000062465668, -0.02019999921321869, 0.009600000455975533, 0.4456999897956848, 0.3400999903678894, -0.6693999767303467, 0.13750000298023224, 0.19120000302791595, -0.01269999984651804, 0.10580000281333923, 0.4814000129699707, 0.08829999715089798, -0.1704999953508377, -0.4318999946117401, -0.03400000184774399, 0.07150000333786011, 0.07559999823570251, -0.3797000050544739, 0.4034999907016754, -0.08160000294446945, -0.4065999984741211, 0.3896999955177307, -0.4262000024318695, 0.14259999990463257, -0.06960000097751617, -0.03579999879002571, 0.03150000050663948, 0.48330000042915344, -0.15880000591278076, -0.23639999330043793, 0.23199999332427979, -0.4325000047683716, 0.2851000130176544, -0.614799976348877, 0.10580000281333923, -0.24150000512599945, 0.3131999969482422, 0.21359999477863312, -0.010599999688565731, 0.13369999825954437, 0.47519999742507935, 0.38920000195503235, -0.14589999616146088, 0.5813999772071838, 0.5440999865531921, -0.2508000135421753, 0.13680000603199005, 0.2624000012874603, 0.19449999928474426, -0.08399999886751175, 0.32429999113082886, -0.17970000207424164, -0.033799998462200165, -1.5750000476837158, -1.3717999458312988, -0.6603999733924866, -0.08709999918937683, -0.4124000072479248, 0.4950999915599823, 0.20389999449253082, -0.23659999668598175, -0.38339999318122864, -0.5192999839782715, -0.21870000660419464, 0.6270999908447266, -0.15109999477863312, 0.20430000126361847, 0.037700001150369644, -0.4675000011920929, 0.163100004196167, -0.6549000144004822, -0.02160000056028366, -0.0658000037074089, -0.09149999916553497, 0.23839999735355377, 0.20819999277591705, 0.39730000495910645, 0.3758000135421753, -0.46720001101493835, 0.23980000615119934, -0.47920000553131104, 0.9685999751091003, -0.06279999762773514, -0.15880000591278076, 0.2362000048160553, -0.16760000586509705, -0.22939999401569366, -0.852400004863739, 0.3962000012397766, 0.47290000319480896, 0.1137000024318695, 0.30570000410079956, 0.5662999749183655, -0.6413999795913696, -0.03869999945163727, 0.3562000095844269, 0.6287000179290771, 0.14749999344348907, -0.05860000103712082, -0.06319999694824219, 0.36059999465942383, -0.1387999951839447, -0.4187999963760376, -0.01590000092983246, 0.08780000358819962, 0.501800000667572, 0.1509000062942505, 0.026900000870227814, -0.14730000495910645, 0.024399999529123306, 0.05590000003576279, 0.148499995470047, -0.2214999943971634, -0.1363999992609024, -0.0414000004529953, 0.43529999256134033, 0.09239999949932098, 0.014800000004470348, 0.22089999914169312, 0.9735999703407288, -0.4991999864578247, -0.06859999895095825, -0.2298000007867813, -0.219200000166893, -0.03929999843239784, 0.1738000065088272, 0.2980000078678131, 0.41690000891685486, 0.2777999937534332, -0.2833999991416931, 0.3353999853134155, 0.3921999931335449, 0.1378999948501587, -0.10050000250339508, 0.211899995803833, 0.621999979019165, 0.4733000099658966, -0.5008000135421753, -0.05040000006556511, 0.05510000139474869, 0.00419999985024333, -0.43639999628067017, -0.35690000653266907, -0.34869998693466187, -0.15780000388622284, -0.33959999680519104, 0.16359999775886536, -0.34389999508857727, -0.30230000615119934, 0.0681999996304512, 0.4577000141143799, 0.451200008392334, -0.5206000208854675, 0.20550000667572021, 0.07580000162124634, 0.367900013923645, 0.5774000287055969, 0.0071000000461936, 0.18299999833106995, -0.13130000233650208, -0.11150000244379044, 0.3546000123023987, 0.42669999599456787, 0.2526000142097473, 0.04740000143647194, 0.39500001072883606, -0.14069999754428864, 0.06589999794960022, -0.09279999881982803, -0.02459999918937683, 0.15160000324249268, -0.13259999454021454, 0.06849999725818634, -0.43479999899864197, 0.11590000241994858, -0.2337999939918518]]',\n",
       "       '[[0.23330000042915344, 0.30820000171661377, 0.06449999660253525, -0.008899999782443047, 0.4717999994754791, -0.49889999628067017, 0.133200004696846, 0.26339998841285706, 0.12110000103712082, 0.048500001430511475, -0.1834000051021576, -0.13950000703334808, 0.34769999980926514, 0.08309999853372574, -0.10029999911785126, -0.17829999327659607, 0.4115999937057495, 0.009499999694526196, -0.20080000162124634, -0.148499995470047, -0.16130000352859497, -0.04340000078082085, -0.14219999313354492, -0.265500009059906, -0.1868000030517578, 0.15569999814033508, -0.2574999928474426, -0.02160000056028366, -0.11379999667406082, 0.4528000056743622, 0.007199999876320362, 0.43050000071525574, 0.21979999542236328, 0.006599999964237213, 0.015200000256299973, -0.5047000050544739, 0.003800000064074993, 0.7648000121116638, 0.06629999727010727, -0.8593999743461609, -0.2134999930858612, 0.17710000276565552, -0.03150000050663948, -0.5181000232696533, 0.5490000247955322, 0.9898999929428101, 0.48080000281333923, -0.2296999990940094, 0.15960000455379486, 0.010400000028312206, -0.028200000524520874, 0.17020000517368317, 0.12780000269412994, -0.6259999871253967, 0.03709999844431877, 0.038600001484155655, -0.3292999863624573, -0.08560000360012054, 0.17599999904632568, 0.3059999942779541, 0.9509999752044678, -0.17329999804496765, -0.041200000792741776, -0.20430000126361847, -0.05779999867081642, 0.07829999923706055, -0.47620001435279846, -0.08309999853372574, -0.11819999665021896, 0.026000000536441803, -0.38029998540878296, -0.3359000086784363, 0.09309999644756317, -0.17870000004768372, -0.30140000581741333, 0.23600000143051147, 0.04919999837875366, 0.059700001031160355, 0.023000000044703484, -0.03519999980926514, -0.13580000400543213, -0.5645999908447266, 0.04600000008940697, -0.3693999946117401, -0.3127000033855438, -0.5354999899864197, -0.788100004196167, -0.10740000009536743, -0.2797999978065491, -0.12449999898672104, 0.10130000114440918, -0.0017999999690800905, -6.299200057983398, 0.16990000009536743, 0.3758000135421753, -0.13809999823570251, -0.2637999951839447, 0.2660999894142151, -0.2635999917984009, 0.1793999969959259, 0.5935999751091003, 0.00559999980032444, -0.32190001010894775, 0.43619999289512634, 0.5871999859809875, 0.09380000084638596, -1.184499979019165, -0.06369999796152115, 0.04320000112056732, 0.16060000658035278, 0.14509999752044678, 0.019500000402331352, -0.20970000326633453, -0.3747999966144562, -0.16949999332427979, 0.18719999492168427, -0.05389999970793724, -0.17419999837875366, -0.3384999930858612, 0.4296000003814697, 0.23960000276565552, -0.4657999873161316, 0.018400000408291817, 0.36059999465942383, 0.3111000061035156, 0.15919999778270721, 0.006800000090152025, -0.04170000180602074, -0.30169999599456787, -0.15530000627040863, -0.04659999907016754, -0.2800999879837036, -0.3231000006198883, 0.8859999775886536, -0.05959999933838844, 0.18469999730587006, -0.2296999990940094, -0.5436000227928162, 0.05290000140666962, 0.15129999816417694, 0.11309999972581863, 0.46790000796318054, -0.20430000126361847, -0.04470000043511391, -0.5782999992370605, 0.1542000025510788, 0.3127000033855438, 0.18559999763965607, -0.09679999947547913, -0.07410000264644623, -0.273499995470047, 0.12960000336170197, -0.7696999907493591, -0.2639999985694885, -0.10499999672174454, 0.040800001472234726, 0.23810000717639923, 0.1315000057220459, -0.049400001764297485, -0.14069999754428864, 0.24230000376701355, 0.19840000569820404, 0.31049999594688416, 0.16009999811649323, 0.05079999938607216, 0.3050999939441681, 0.5565000176429749, 0.20559999346733093, 0.5212000012397766, 0.24789999425411224, -0.08370000123977661, -0.24320000410079956, -0.050700001418590546, -0.6064000129699707, -0.49959999322891235, 0.21809999644756317, -1.1648000478744507, 0.4041000008583069, -0.22100000083446503, -0.15649999678134918, 0.6420000195503235, -0.13660000264644623, 0.266400009393692, -0.5967000126838684, -0.2856000065803528, -0.313400000333786, 0.029999999329447746, -0.007300000172108412, -0.20440000295639038, 0.13339999318122864, 0.27459999918937683, -0.33719998598098755, -0.013399999588727951, 0.1387999951839447, -0.24729999899864197, 0.010300000198185444, -0.24390000104904175, -0.19619999825954437, -0.5239999890327454, 0.5162000060081482, -0.06650000065565109, 0.38909998536109924, -0.519599974155426, 0.19329999387264252, 0.004900000058114529, 0.08910000324249268, 0.03220000118017197, 0.16120000183582306, 0.8026000261306763, -0.0333000011742115, 0.12460000067949295, 0.24529999494552612, -0.053199999034404755, -0.32350000739097595, -0.04699999839067459, -0.03060000017285347, 0.1695999950170517, -0.26030001044273376, 0.5450999736785889, -0.36320000886917114, 0.47380000352859497, -0.17820000648498535, -0.0957999974489212, 0.13099999725818634, 0.019700000062584877, 0.01640000008046627, -0.29649999737739563, -0.08619999885559082, -0.16840000450611115, -0.25060001015663147, 0.027899999171495438, 0.14429999887943268, 0.5232999920845032, -0.15639999508857727, 0.24699999392032623, 0.7322999835014343, 0.1678999960422516, 0.0949999988079071, 0.15760000050067902, 0.302700012922287, -0.36059999465942383, 0.33059999346733093, 0.05380000174045563, -0.3659999966621399, 0.5910000205039978, -0.2888999879360199, -0.14990000426769257, 0.07440000027418137, 0.3930000066757202, -0.23100000619888306, 0.010700000450015068, -0.4986000061035156, 0.5903000235557556, 0.3898000121116638, 0.29829999804496765, 0.17710000276565552, 0.2167000025510788, -0.20640000700950623, -1.7998000383377075, -0.3643999993801117, -0.07590000331401825, 0.3073999881744385, -0.14169999957084656, -1.0261000394821167, -0.33250001072883606, 0.26170000433921814, 0.2037999927997589, -0.4269999861717224, -0.3675999939441681, -0.042899999767541885, 0.22349999845027924, -0.32670000195503235, -0.3707999885082245, 0.25529998540878296, -0.14790000021457672, -0.14090000092983246, 0.0771000012755394, 0.21220000088214874, -0.27469998598098755, 0.3131999969482422, 0.003700000001117587, 0.4481000006198883, -0.37869998812675476, 0.35679998993873596, -0.20579999685287476, 0.007300000172108412, 1.246399998664856, -0.2720000147819519, 0.13740000128746033, 0.16779999434947968, 0.2797999978065491, -0.125900000333786, 0.0052999998442828655, 0.10899999737739563, 0.2021999955177307, -0.10040000081062317, -0.07360000163316727, 0.2939999997615814, 0.032099999487400055, -0.05950000137090683, -0.4959999918937683, -0.5230000019073486, -0.04280000180006027, -0.039000000804662704, 0.4348999857902527, -0.17659999430179596, -0.16899999976158142, -0.1590999960899353, 0.792900025844574, -0.05270000174641609, -0.27000001072883606, -0.02449999935925007, 0.8831999897956848, -0.014000000432133675, -0.35370001196861267, -0.07479999959468842, 0.12399999797344208, -0.2651999890804291, -0.21469999849796295, -0.028999999165534973, 1.2574000358581543, 1.9002000093460083, 0.4708999991416931, -0.01720000058412552, 0.227400004863739, -0.47110000252723694, -0.013000000268220901, 0.2167000025510788, 0.39309999346733093, -0.31630000472068787, 0.1444000005722046, 0.01510000042617321, -0.43799999356269836, 0.15129999816417694, -0.48669999837875366, 0.16130000352859497, -0.36550000309944153, -0.09860000014305115, 0.08529999852180481, 0.567300021648407, -0.15539999306201935, -0.35249999165534973, 0.02290000021457672, 0.4887999892234802, 0.30799999833106995, 0.21230000257492065, 0.5705999732017517, 0.001500000013038516, -0.08810000121593475, -0.1746000051498413, -0.14300000667572021, 0.034699998795986176, 0.2102999985218048, -0.12960000336170197, 0.25949999690055847, -0.8744000196456909, -0.19529999792575836, -0.1088000014424324, -0.385699987411499, -0.262800008058548, -0.27549999952316284, 0.07150000333786011, -0.20100000500679016, 0.1581999957561493, -0.0632999986410141, -0.3264000117778778, 0.04560000076889992, -0.723800003528595, 0.5120000243186951, -0.541700005531311, -0.10360000282526016, -0.06769999861717224, 0.4731999933719635, -0.11789999902248383, -0.03929999843239784, 0.0860000029206276, 0.19740000367164612, 0.12110000103712082, -0.1842000037431717, 0.2773999869823456, 0.3262999951839447, -0.3707999885082245, 0.05090000107884407, 0.009700000286102295, 0.3847000002861023, -0.01889999955892563, 0.4867999851703644, 0.12729999423027039, 0.3479999899864197, -0.9760000109672546, -0.6912999749183655, -0.4307999908924103, -0.07660000026226044, -0.6360999941825867, 0.18610000610351562, 0.17329999804496765, -0.0835999995470047, -0.3122999966144562, -0.41749998927116394, -0.20749999582767487, 0.374099999666214, -0.22859999537467957, 0.07460000365972519, -0.17399999499320984, -0.6736000180244446, 0.07169999927282333, -0.2623000144958496, -0.017000000923871994, -0.050599999725818634, -0.1298000067472458, 0.045899998396635056, 0.23350000381469727, 0.31130000948905945, 0.31200000643730164, -0.3474000096321106, 0.048900000751018524, -0.5041000247001648, 0.800599992275238, -0.11540000140666962, -0.26910001039505005, 0.2971999943256378, -0.2167000025510788, -0.05829999968409538, -1.0456000566482544, 0.31470000743865967, 0.428600013256073, -0.09200000017881393, 0.7139999866485596, 0.38179999589920044, -0.07919999957084656, 0.09139999747276306, 0.4986000061035156, -0.031700000166893005, -0.03449999913573265, -0.17900000512599945, -0.0649000033736229, 0.6051999926567078, -0.19930000603199005, -0.03759999945759773, -0.05090000107884407, 0.0026000000070780516, 0.40299999713897705, -0.12430000305175781, -0.017999999225139618, -0.3098999857902527, -0.2890999913215637, 0.03310000151395798, 0.2969000041484833, -0.19059999287128448, -0.3199000060558319, -0.4334000051021576, 0.1826999932527542, 0.10270000249147415, 0.3057999908924103, 0.1737000048160553, 0.7483999729156494, -0.49790000915527344, -0.3801000118255615, -0.5120000243186951, -0.05040000006556511, 0.005400000140070915, 0.3898000121116638, 0.801800012588501, -0.045099999755620956, 0.30140000581741333, -0.07850000262260437, 0.267300009727478, 0.2273000031709671, 0.4855000078678131, 0.1784999966621399, 0.05869999900460243, 0.8374000191688538, 0.3788999915122986, -0.7135000228881836, -0.14579999446868896, 0.09650000184774399, 0.06920000165700912, -0.4607999920845032, -0.23649999499320984, -0.38830000162124634, 0.12349999696016312, -0.21199999749660492, -0.06430000066757202, -0.361299991607666, -0.3853999972343445, -0.05169999971985817, 0.5929999947547913, 0.26330000162124634, -0.638700008392334, -0.1444000005722046, 0.13339999318122864, 0.328000009059906, 0.6980000138282776, 0.2736000120639801, -0.2822999954223633, -0.11500000208616257, 0.23260000348091125, 0.42829999327659607, 0.3237000107765198, 0.4729999899864197, 0.23240000009536743, 0.376800000667572, -0.2013999968767166, 0.1932000070810318, -0.07660000026226044, -0.0812000036239624, -0.1868000030517578, -0.02250000089406967, 0.13089999556541443, -0.29089999198913574, 0.16130000352859497, -0.12790000438690186]]',\n",
       "       '[[-0.02669999934732914, 0.23240000009536743, 0.020500000566244125, -0.01549999974668026, 0.5884000062942505, -0.7092000246047974, 0.04859999939799309, 0.17249999940395355, 0.24709999561309814, -0.2013999968767166, -0.219200000166893, 0.10019999742507935, 0.3102000057697296, 0.08179999887943268, 0.07400000095367432, -0.09920000284910202, 0.6746000051498413, 0.12020000070333481, -0.47540000081062317, -0.2295999974012375, 0.17800000309944153, -0.03460000082850456, 0.13920000195503235, -0.32019999623298645, -0.14110000431537628, 0.05620000138878822, -0.2515000104904175, -0.25999999046325684, 0.04259999841451645, 0.27810001373291016, -0.10570000112056732, 0.35920000076293945, 0.37470000982284546, -0.02539999969303608, -0.057999998331069946, -0.5285000205039978, -0.16429999470710754, 0.595300018787384, -0.2992999851703644, -1.1826000213623047, -0.3546999990940094, 0.31220000982284546, -0.17470000684261322, -0.11209999769926071, 0.42179998755455017, 0.823199987411499, 0.18379999697208405, -0.32089999318122864, 0.33660000562667847, -0.006599999964237213, -0.08009999990463257, 0.3422999978065491, -0.04540000110864639, -0.7774999737739563, -0.40939998626708984, 0.031099999323487282, -0.4097000062465668, -0.10769999772310257, 0.10040000081062317, 0.19110000133514404, 0.9261000156402588, -0.21879999339580536, -0.11720000207424164, -0.3294999897480011, -0.004800000227987766, -0.15960000455379486, -0.964900016784668, -0.031199999153614044, 0.20720000565052032, -0.11569999903440475, -0.051600001752376556, -0.33239999413490295, -0.014100000262260437, -0.5152999758720398, -0.27309998869895935, 0.3095000088214874, 0.13109999895095825, 0.06390000134706497, 0.07020000368356705, -0.334199994802475, -0.19509999454021454, -0.4526999890804291, 0.1826000064611435, -0.2816999852657318, -0.06920000165700912, -0.27880001068115234, -0.7027000188827515, -0.09989999979734421, -0.6420999765396118, -0.24609999358654022, 0.0649000033736229, -0.03680000081658363, -6.258500099182129, -0.2694000005722046, 0.20419999957084656, 0.00039999998989515007, -0.1151999980211258, 0.0738999992609024, -0.07670000195503235, 0.2815000116825104, 0.6017000079154968, 0.01850000023841858, -0.10779999941587448, 0.33869999647140503, 0.26269999146461487, -0.21240000426769257, -1.3997000455856323, -0.10029999911785126, 0.0544000007212162, -0.15489999949932098, 0.1574999988079071, -0.13220000267028809, -0.39329999685287476, -0.4779999852180481, -0.20170000195503235, -0.07540000230073929, 0.050700001418590546, -0.16439999639987946, -0.6074000000953674, 0.6319000124931335, 0.05820000171661377, -0.31619998812675476, 0.12849999964237213, 0.2680000066757202, 0.1624000072479248, 0.24480000138282776, 0.13199999928474426, 0.08489999920129776, -0.07909999787807465, -0.3952000141143799, -0.17820000648498535, -0.36910000443458557, -0.1800999939441681, 0.867900013923645, 0.15690000355243683, 0.2522999942302704, -0.3928000032901764, -0.734499990940094, 0.06830000132322311, 0.20999999344348907, 0.034699998795986176, 0.31790000200271606, -0.13429999351501465, -0.2800000011920929, -0.5752000212669373, 0.0786999985575676, 0.19179999828338623, -0.09600000083446503, 0.1251000016927719, 0.0210999995470047, 0.0658000037074089, 0.2011999934911728, -0.859000027179718, 0.16859999299049377, -0.18649999797344208, -0.052799999713897705, 0.020899999886751175, 0.30559998750686646, -0.15189999341964722, -0.121799997985363, 0.12290000170469284, 0.2459000051021576, 0.21580000221729279, 0.18479999899864197, -0.01850000023841858, 0.2962999939918518, 0.5468999743461609, -0.15539999306201935, 0.41510000824928284, 0.12470000237226486, 0.2806999981403351, 0.024299999698996544, -0.04259999841451645, -0.30079999566078186, -0.6406000256538391, 0.3675000071525574, -1.0835000276565552, 0.11739999800920486, -0.11270000040531158, 0.02630000002682209, 0.47530001401901245, -0.023600000888109207, 0.6018999814987183, -0.18700000643730164, -0.04170000180602074, -0.1324000060558319, 0.01979999989271164, -0.05779999867081642, 0.13699999451637268, 0.15189999341964722, 0.40709999203681946, -0.33629998564720154, -0.3691999912261963, 0.08070000261068344, -0.31700000166893005, 0.06509999930858612, -0.28439998626708984, -0.515999972820282, -0.6901999711990356, 0.3497999906539917, -0.3788999915122986, 0.16130000352859497, -0.38019999861717224, 0.3366999924182892, -0.16359999775886536, 0.039400000125169754, 0.07540000230073929, 0.26030001044273376, 0.6197999715805054, 0.03519999980926514, 0.2849000096321106, 0.3869999945163727, -0.2459000051021576, -0.42559999227523804, -0.08219999819993973, -0.10610000044107437, 0.09399999678134918, -0.009700000286102295, 0.45179998874664307, -0.3662000000476837, 0.5555999875068665, -0.21930000185966492, -0.25380000472068787, 0.21459999680519104, -0.10909999907016754, 0.23399999737739563, -0.2946999967098236, -0.0471000000834465, 0.03840000182390213, -0.15410000085830688, 0.03660000115633011, 0.26019999384880066, 0.573199987411499, -0.029400000348687172, 0.2547999918460846, 0.699999988079071, 0.05130000039935112, 0.1858000010251999, 0.10610000044107437, 0.3488999903202057, -0.3813999891281128, 0.15929999947547913, 0.035999998450279236, -0.33629998564720154, 0.34619998931884766, -0.3255999982357025, -0.07890000194311142, 0.2029999941587448, 0.07559999823570251, -0.4259999990463257, -0.032600000500679016, -0.3885999917984009, 0.6366000175476074, 0.27469998598098755, 0.4203000068664551, 0.39309999346733093, 0.29319998621940613, -0.4641000032424927, -1.813099980354309, -0.3614000082015991, 0.08160000294446945, 0.3499999940395355, 0.10040000081062317, -1.2583999633789062, 0.04100000113248825, 0.2766000032424927, 0.1340000033378601, -0.3336000144481659, -0.3264000117778778, -0.17970000207424164, 0.1639000028371811, -0.2973000109195709, -0.5898000001907349, 0.26440000534057617, 0.041999999433755875, 0.0034000000450760126, -0.06689999997615814, 0.4375999867916107, -0.06340000033378601, 0.2872999906539917, -0.1421000063419342, 0.17180000245571136, -0.4796000123023987, 0.05169999971985817, 0.08749999850988388, -0.19290000200271606, 1.4492000341415405, -0.3578999936580658, 0.19419999420642853, 0.1665000021457672, 0.4156000018119812, -0.5810999870300293, 0.07769999653100967, 0.051500000059604645, -0.24779999256134033, 0.0608999989926815, -0.10090000182390213, 0.1793999969959259, 0.14100000262260437, 0.0640999972820282, -0.5411999821662903, -0.16689999401569366, 0.2603999972343445, -0.08370000123977661, 0.2915000021457672, -0.2989000082015991, -0.22370000183582306, -0.030899999663233757, 0.5214999914169312, -0.08340000361204147, -0.15929999947547913, 0.05130000039935112, 0.8647000193595886, 0.07609999924898148, -0.4876999855041504, -0.11749999970197678, -0.10050000250339508, -0.30570000410079956, -0.12409999966621399, -0.125900000333786, 0.9085000157356262, 1.9427000284194946, 0.1298999935388565, -0.1987999975681305, 0.22759999334812164, -0.5001000165939331, -0.09539999812841415, 0.14650000631809235, 0.27559998631477356, -0.35040000081062317, 0.32100000977516174, -0.07569999992847443, -0.4366999864578247, 0.0835999995470047, -0.3785000145435333, 0.31060001254081726, -0.2939999997615814, -0.13779999315738678, 0.17990000545978546, 0.7009000182151794, -0.14920000731945038, -0.6323999762535095, -0.2558000087738037, 0.5178999900817871, 0.2498999983072281, 0.014700000174343586, 0.5794000029563904, 0.12780000269412994, -0.20579999685287476, -0.18629999458789825, -0.375, 0.05119999870657921, 0.3246000111103058, 0.05649999901652336, 0.22089999914169312, -0.5810999870300293, -0.4009999930858612, 0.10769999772310257, -0.51910001039505, -0.1242000013589859, -0.34850001335144043, 0.04820000007748604, -0.1444000005722046, 0.20919999480247498, -0.043699998408555984, -0.4715000092983246, 0.15719999372959137, -0.5296000242233276, 0.2989000082015991, -0.3479999899864197, -0.10920000076293945, -0.061900001019239426, 0.535099983215332, 0.10849999636411667, 0.08649999648332596, -0.15060000121593475, 0.08229999989271164, 0.41499999165534973, -0.3479999899864197, 0.6782000064849854, 0.2897999882698059, -0.40220001339912415, -0.017899999395012856, 0.2176000028848648, 0.49810001254081726, -0.0706000030040741, 0.3578000068664551, -0.13989999890327454, 0.24330000579357147, -1.180400013923645, -1.0480999946594238, -0.6801000237464905, -0.016300000250339508, -0.6924999952316284, 0.34209999442100525, 0.1151999980211258, -0.1858000010251999, -0.3068999946117401, -0.2354000061750412, -0.03909999877214432, 0.26840001344680786, -0.01209999993443489, 0.1420000046491623, -0.12460000067949295, -0.35740000009536743, -0.02539999969303608, -0.5866000056266785, 0.030899999663233757, -0.1770000010728836, -0.04809999838471413, 0.22089999914169312, 0.03519999980926514, 0.4189999997615814, 0.5648999810218811, -0.06849999725818634, 0.26420000195503235, -0.20900000631809235, 0.8578000068664551, -0.3393999934196472, -0.20160000026226044, 0.2630999982357025, -0.2540999948978424, 0.12790000438690186, -0.9718000292778015, 0.36970001459121704, 0.3822000026702881, -0.053199999034404755, 0.4196999967098236, 0.5185999870300293, -0.42980000376701355, -0.11020000278949738, 0.2513999938964844, -0.13030000030994415, 0.02930000051856041, -0.16500000655651093, -0.10679999738931656, 0.2231999933719635, -0.15489999949932098, -0.17059999704360962, -0.045499999076128006, 0.05810000002384186, 0.4828000068664551, 0.21819999814033508, 0.05979999899864197, -0.36090001463890076, -0.2574999928474426, -0.05909999832510948, 0.27970001101493835, -0.34299999475479126, -0.5979999899864197, -0.10890000313520432, 0.3319999873638153, -0.1386999934911728, 0.039799999445676804, 0.1378999948501587, 0.7997000217437744, -0.6466000080108643, -0.06780000030994415, -0.3276999890804291, -0.39879998564720154, -0.02590000070631504, 0.2842999994754791, 0.5203999876976013, 0.24070000648498535, 0.26429998874664307, -0.030400000512599945, 0.31940001249313354, 0.26170000433921814, 0.22360000014305115, 0.16920000314712524, 0.027000000700354576, 0.5985999703407288, 0.3239000141620636, -0.6008999943733215, -0.28299999237060547, 0.05429999902844429, -0.12049999833106995, -0.39730000495910645, -0.19769999384880066, -0.2513999938964844, -0.15289999544620514, -0.3109000027179718, -0.1907999962568283, -0.3896999955177307, -0.14489999413490295, 0.031700000166893005, 0.3928999900817871, 0.04830000177025795, -0.5577999949455261, -0.12030000239610672, 0.04560000076889992, 0.2433999925851822, 0.5315999984741211, 0.22589999437332153, 0.1987999975681305, -0.24300000071525574, 0.006899999920278788, 0.2451999932527542, 0.22190000116825104, 0.21469999849796295, 0.21209999918937683, 0.22220000624656677, -0.34630000591278076, 0.20640000700950623, -0.14730000495910645, 0.031099999323487282, -0.09399999678134918, -0.051500000059604645, 0.042399998754262924, -0.2799000144004822, 0.2653000056743622, -0.1712999939918518]]',\n",
       "       '[[0.06430000066757202, 0.2703999876976013, 0.05779999867081642, 0.14390000700950623, 0.3928999900817871, -0.6069999933242798, 0.10000000149011612, 0.14669999480247498, 0.038100000470876694, 0.1386999934911728, -0.5972999930381775, -0.09799999743700027, 0.2754000127315521, 0.1265999972820282, 0.11590000241994858, -0.27489998936653137, 0.08789999783039093, 0.03319999948143959, -0.2029000073671341, -0.053700000047683716, 0.13019999861717224, 0.15729999542236328, -0.016599999740719795, -0.3434999883174896, -0.08079999685287476, 0.23309999704360962, -0.33250001072883606, -0.11969999969005585, 0.045499999076128006, 0.25, 0.06830000132322311, 0.36039999127388, 0.3273000121116638, 0.16580000519752502, -0.012299999594688416, -0.22429999709129333, -0.18629999458789825, 0.7724999785423279, -0.01679999940097332, -1.0312999486923218, -0.5507000088691711, 0.43970000743865967, 0.07180000096559525, -0.5619999766349792, 0.25040000677108765, 1.2899999618530273, 0.2167000025510788, -0.27079999446868896, 0.4966000020503998, -0.10000000149011612, 0.19179999828338623, 0.03550000116229057, -0.009700000286102295, -0.5393999814987183, -0.25679999589920044, 0.007000000216066837, -0.16750000417232513, -0.0015999999595806003, -0.05829999968409538, 0.2612000107765198, 1.0266000032424927, -0.10670000314712524, -0.1932000070810318, -0.3427000045776367, 0.09619999676942825, 0.1703999936580658, -0.6301000118255615, -0.017999999225139618, 0.05380000174045563, 0.14749999344348907, -0.3458000123500824, -0.22419999539852142, 0.13420000672340393, -0.28189998865127563, -0.4081999957561493, 0.014800000004470348, 0.08649999648332596, 0.08060000091791153, -0.179299995303154, -0.11999999731779099, -0.13199999928474426, -0.43070000410079956, 0.04800000041723251, -0.11670000106096268, -0.22679999470710754, -0.5214999914169312, -0.9940000176429749, 0.039500001817941666, -0.43070000410079956, -0.09489999711513519, 0.15600000321865082, -0.007199999876320362, -6.1066999435424805, -0.08190000057220459, 0.14730000495910645, -0.14830000698566437, -0.18310000002384186, 0.1664000004529953, -0.09889999777078629, 0.22470000386238098, 0.5473999977111816, -0.08330000191926956, -0.25060001015663147, 0.4659999907016754, 0.3986000120639801, 0.09189999848604202, -0.6068000197410583, -0.1444000005722046, 0.033399999141693115, -0.03759999945759773, -0.03539999946951866, -0.14810000360012054, -0.22020000219345093, -0.6428999900817871, -0.42820000648498535, -0.15610000491142273, 0.04650000110268593, -0.02500000037252903, -0.2897999882698059, 0.5020999908447266, 0.35260000824928284, -0.567799985408783, 0.03590000048279762, 0.17749999463558197, 0.29190000891685486, -0.0013000000035390258, -0.15860000252723694, 0.23980000615119934, -0.23360000550746918, -0.2295999974012375, -0.3652999997138977, -0.38670000433921814, -0.3479999899864197, 0.8912000060081482, -0.028599999845027924, 0.3077000081539154, -0.3801000118255615, -0.4406000077724457, -0.10920000076293945, 0.09399999678134918, 0.046300001442432404, 0.390500009059906, -0.0142000000923872, -0.06379999965429306, -0.5773000121116638, 0.12070000171661377, 0.30090001225471497, 0.18410000205039978, -0.2214999943971634, 0.22130000591278076, -0.14380000531673431, 0.18520000576972961, -0.565500020980835, 0.2685999870300293, -0.13860000669956207, 0.020800000056624413, 0.29679998755455017, 0.06669999659061432, -0.09030000120401382, 0.09220000356435776, 0.07129999995231628, 0.3066999912261963, 0.41359999775886536, 0.1467999964952469, 0.09830000251531601, 0.1800999939441681, 0.6355999708175659, -0.08410000056028366, 0.4772999882698059, 0.07760000228881836, 0.17219999432563782, -0.08009999990463257, 0.01940000057220459, -0.65420001745224, -0.5490999817848206, 0.39320001006126404, -0.9865999817848206, 0.34389999508857727, 0.15479999780654907, 0.008799999952316284, 0.5156000256538391, -0.31220000982284546, 0.31949999928474426, -0.31299999356269836, 0.227400004863739, -0.20630000531673431, 0.055399999022483826, 0.2515999972820282, -0.2101999968290329, 0.21559999883174896, 0.3368000090122223, -0.38999998569488525, -0.6080999970436096, 0.01860000006854534, -0.5371000170707703, -0.023000000044703484, -0.15649999678134918, -0.38589999079704285, -0.6614000201225281, 0.2773999869823456, -0.14419999718666077, 0.15809999406337738, -0.6486999988555908, 0.3176000118255615, -0.0892999991774559, 0.1753000020980835, 0.19840000569820404, 0.05249999836087227, 0.8417999744415283, -0.14159999787807465, 0.0038999998942017555, 0.27639999985694885, -0.3407999873161316, -0.3968999981880188, -0.07959999889135361, -0.10580000281333923, 0.2948000133037567, -0.19859999418258667, 0.679099977016449, -0.44769999384880066, 0.5601999759674072, 0.24860000610351562, -0.20389999449253082, -0.163100004196167, -0.13689999282360077, -0.09669999778270721, -0.05299999937415123, -0.29820001125335693, -0.13359999656677246, -0.26910001039505005, 0.07739999890327454, -0.06920000165700912, 0.5861999988555908, -0.22540000081062317, 0.25, 0.5157999992370605, 0.3986000120639801, 0.5123999714851379, 0.16509999334812164, 0.27889999747276306, -0.5134999752044678, 0.23100000619888306, 0.19670000672340393, -0.4034000039100647, 0.6626999974250793, -0.12280000001192093, -0.3375999927520752, -0.14720000326633453, 0.24420000612735748, -0.3598000109195709, 0.12720000743865967, -0.4645000100135803, 0.4106000065803528, 0.4399000108242035, 0.5011000037193298, 0.20669999718666077, 0.20839999616146088, -0.1808999925851822, -1.7997000217437744, -0.53329998254776, 0.025699999183416367, 0.42149999737739563, -0.04399999976158142, -1.0540000200271606, -0.13680000603199005, 0.24950000643730164, 0.1914999932050705, -0.34200000762939453, -0.3303000032901764, -0.21400000154972076, -0.010599999688565731, -0.47360000014305115, -0.2957000136375427, 0.19380000233650208, 0.018400000408291817, 0.2485000044107437, 0.09290000051259995, 0.11630000174045563, -0.08760000020265579, 0.3264999985694885, -0.2538999915122986, 0.18119999766349792, -0.3116999864578247, 0.019200000911951065, -0.24230000376701355, 0.10930000245571136, 1.079200029373169, -0.25699999928474426, -0.007600000128149986, 0.0568000003695488, 0.37700000405311584, -0.4693000018596649, -0.01590000092983246, 0.2312999963760376, -0.08780000358819962, -0.00279999990016222, -0.18070000410079956, 0.27129998803138733, 0.1412000060081482, 0.053599998354911804, -0.28929999470710754, -0.15459999442100525, 0.13019999861717224, -0.033900000154972076, 0.2312999963760376, -0.06440000236034393, -0.27810001373291016, 0.18199999630451202, 0.6395000219345093, -0.3131999969482422, 0.026900000870227814, 0.19550000131130219, 0.8881000280380249, -0.05739999935030937, -0.4065999984741211, -0.11500000208616257, -0.11959999799728394, -0.29030001163482666, -0.07090000063180923, 0.20739999413490295, 0.7074000239372253, 1.6233999729156494, 0.42750000953674316, 0.07349999994039536, 0.19599999487400055, -0.35569998621940613, -0.045499999076128006, 0.0203000009059906, 0.5076000094413757, -0.3377000093460083, 0.40059998631477356, 0.05249999836087227, -0.3158000111579895, 0.04170000180602074, -0.5392000079154968, 0.06759999692440033, -0.2782999873161316, -0.2054000049829483, 0.17159999907016754, 0.4575999975204468, 0.10740000009536743, -0.4973999857902527, 0.11500000208616257, 0.4226999878883362, 0.21320000290870667, 0.2743000090122223, 0.42179998755455017, 0.09629999846220016, -0.1054999977350235, -0.24789999425411224, -0.38679999113082886, 0.0851999968290329, 0.1890999972820282, -0.4072999954223633, 0.46389999985694885, -0.35199999809265137, -0.20029999315738678, 0.3474000096321106, -0.6488999724388123, 0.2502000033855438, -0.08760000020265579, -0.08869999647140503, 0.012400000356137753, 0.26570001244544983, -0.11869999766349792, -0.3652999997138977, 0.2522999942302704, -0.7056000232696533, 0.3917999863624573, -0.6367999911308289, 0.1932000070810318, 0.07349999994039536, 0.5357000231742859, 0.040699999779462814, 0.019700000062584877, 0.016100000590085983, 0.2442999929189682, 0.4634999930858612, -0.3955000042915344, 0.46470001339912415, 0.5532000064849854, -0.388700008392334, 0.09290000051259995, 0.3262999951839447, 0.3239000141620636, -0.037700001150369644, 0.2460000067949295, -0.08839999884366989, 0.20600000023841858, -1.3971999883651733, -0.9524000287055969, -0.6215999722480774, -0.04349999874830246, -0.5181999802589417, 0.548799991607666, 0.10199999809265137, -0.29809999465942383, -0.3553999960422516, -0.4797999858856201, -0.11969999969005585, 0.5055000185966492, -0.25529998540878296, 0.19300000369548798, 0.10109999775886536, -0.5570999979972839, 0.07129999995231628, -0.8029999732971191, -0.004000000189989805, 0.03830000013113022, -0.1356000006198883, 0.45559999346733093, 0.23759999871253967, 0.4099000096321106, 0.46219998598098755, -0.47679999470710754, 0.06390000134706497, -0.47209998965263367, 0.8718000054359436, -0.15770000219345093, -0.52920001745224, 0.04969999939203262, -0.33320000767707825, -0.0828000009059906, -1.045199990272522, 0.45350000262260437, 0.383899986743927, 0.18150000274181366, 0.48809999227523804, 0.5504999756813049, -0.27459999918937683, -0.03680000081658363, 0.7226999998092651, 0.3619000017642975, 0.19169999659061432, -0.24420000612735748, -0.16760000586509705, 0.45329999923706055, -0.18219999969005585, -0.2232999950647354, 0.13760000467300415, 0.021900000050663948, 0.6233999729156494, -0.013000000268220901, 0.17820000648498535, -0.188400000333786, -0.21940000355243683, 0.33180001378059387, 0.4068000018596649, -0.22210000455379486, -0.3702000081539154, -0.10440000146627426, 0.3206000030040741, 0.09549999982118607, 0.30300000309944153, 0.2224999964237213, 0.8988000154495239, -0.4318999946117401, 0.019099999219179153, -0.29409998655319214, -0.07569999992847443, 0.1535000056028366, 0.23819999396800995, 0.4864000082015991, 0.30320000648498535, 0.40450000762939453, -0.3952000141143799, 0.06849999725818634, 0.3538999855518341, 0.2572000026702881, -0.01590000092983246, 0.25540000200271606, 0.6593999862670898, 0.421099990606308, -0.6302000284194946, -0.08590000122785568, 0.0794999971985817, 0.09759999811649323, -0.43130001425743103, -0.40540000796318054, -0.29580000042915344, -0.07119999825954437, -0.24729999899864197, 0.15399999916553497, -0.15610000491142273, -0.25949999690055847, -0.23019999265670776, 0.5335000157356262, 0.18459999561309814, -0.5001999735832214, 0.1800999939441681, 0.08659999817609787, 0.17059999704360962, 0.6449000239372253, 0.13760000467300415, 0.10589999705553055, -0.048500001430511475, 0.1940000057220459, 0.29820001125335693, 0.3635999858379364, 0.3292999863624573, -0.05829999968409538, 0.7404999732971191, -0.18080000579357147, 0.1412999927997589, -0.24650000035762787, -0.2110999971628189, -0.14380000531673431, -0.20239999890327454, 0.326200008392334, -0.40450000762939453, 0.040699999779462814, -0.14900000393390656]]',\n",
       "       '[[0.024800000712275505, 0.2842000126838684, 0.210099995136261, 0.2786000072956085, 0.5148000121116638, -0.6869999766349792, 0.18809999525547028, 0.1565999984741211, 0.06520000100135803, 0.03590000048279762, -0.27790001034736633, -0.059700001031160355, 0.5748000144958496, 0.1809999942779541, 0.0843999981880188, -0.26750001311302185, 0.5687999725341797, 0.012400000356137753, -0.3294000029563904, -0.3666999936103821, 0.38420000672340393, 0.04470000043511391, -0.09239999949932098, -0.23190000653266907, 0.03909999877214432, 0.11159999668598175, -0.49309998750686646, 0.12290000170469284, 0.061900001019239426, 0.41429999470710754, 0.12839999794960022, 0.3723999857902527, 0.2460000067949295, 0.010900000110268593, -0.05380000174045563, -0.2831000089645386, -0.0658000037074089, 0.6610999703407288, 0.10239999741315842, -1.3180999755859375, -0.5059000253677368, 0.19949999451637268, -0.3287000060081482, -0.31679999828338623, 0.4465000033378601, 1.3133000135421753, 0.059700001031160355, -0.12070000171661377, 0.5612000226974487, 0.06859999895095825, 0.28049999475479126, -0.10189999639987946, -0.1599999964237213, -0.6557000279426575, -0.1597999930381775, -0.07100000232458115, -0.34459999203681946, 0.004800000227987766, 0.2084999978542328, 0.15929999947547913, 1.0772000551223755, -0.10980000346899033, -0.20589999854564667, -0.16449999809265137, -0.19629999995231628, 0.17679999768733978, -0.7279000282287598, 0.01889999955892563, 0.25270000100135803, -0.031099999323487282, -0.008299999870359898, -0.30709999799728394, -0.0575999990105629, -0.41179999709129333, -0.0729999989271164, 0.12479999661445618, -0.03189999982714653, 0.1590999960899353, -0.09309999644756317, -0.22339999675750732, -0.33709999918937683, -0.15710000693798065, -0.015799999237060547, -0.13570000231266022, 0.05490000173449516, -0.40459999442100525, -0.6557000279426575, -0.16130000352859497, -0.5013999938964844, -0.0925000011920929, 0.23019999265670776, -0.09520000219345093, -6.160600185394287, -0.17440000176429749, 0.44530001282691956, 0.007400000002235174, -0.3147999942302704, 0.21439999341964722, 0.14000000059604645, 0.20749999582767487, 0.6395999789237976, -0.03460000082850456, -0.44029998779296875, 0.5726000070571899, 0.3792000114917755, -0.10679999738931656, -0.8806999921798706, -0.09619999676942825, -0.08839999884366989, 0.15000000596046448, -0.23839999735355377, 0.06369999796152115, -0.266400009393692, -0.7883999943733215, -0.3628999888896942, -0.1889999955892563, -0.10189999639987946, -0.08259999752044678, -0.3747999966144562, 0.5379999876022339, 0.17080000042915344, -0.566100001335144, 0.20589999854564667, 0.4740999937057495, 0.2551000118255615, 0.014399999752640724, -0.3102000057697296, 0.06369999796152115, -0.025100000202655792, -0.26829999685287476, -0.267300009727478, -0.21969999372959137, -0.24729999899864197, 0.8725000023841858, 0.14980000257492065, 0.12280000001192093, -0.2662999927997589, -0.5541999936103821, 0.01080000028014183, 0.05249999836087227, 0.22990000247955322, 0.3788999915122986, -0.049400001764297485, -0.053599998354911804, -0.39239999651908875, 0.17900000512599945, 0.31679999828338623, 0.30230000615119934, -0.2985999882221222, 0.14319999516010284, -0.21889999508857727, 0.20640000700950623, -0.3749000132083893, 0.3409999907016754, -0.09459999948740005, -0.21170000731945038, 0.10849999636411667, 0.1185000017285347, -0.1559000015258789, -0.05770000070333481, -0.07840000092983246, 0.18410000205039978, 0.2370000034570694, 0.08340000361204147, -0.046300001442432404, 0.37860000133514404, 0.9948999881744385, 0.22679999470710754, 0.5582000017166138, 0.18690000474452972, 0.2721000015735626, 0.04320000112056732, 0.04899999871850014, -0.5960000157356262, -0.5346999764442444, 0.39160001277923584, -0.930899977684021, 0.2761000096797943, 0.0982000008225441, -0.027699999511241913, 0.43529999256134033, -0.011300000362098217, 0.3199000060558319, -0.1662999987602234, 0.07119999825954437, -0.14810000360012054, 0.04179999977350235, -0.03959999978542328, -0.27379998564720154, 0.23000000417232513, 0.3100999891757965, -0.5945000052452087, -0.2093999981880188, -0.09149999916553497, -0.3666999936103821, -0.0026000000070780516, -0.05460000038146973, -0.30160000920295715, -0.7662000060081482, 0.3167000114917755, -0.20489999651908875, 0.1996999979019165, -0.2685000002384186, 0.2743000090122223, -0.14010000228881836, 0.03229999914765358, 0.2538999915122986, -0.02250000089406967, 0.5649999976158142, 0.06669999659061432, 0.27720001339912415, 0.045099999755620956, -0.4521999955177307, -0.4478999972343445, -0.15850000083446503, 0.03310000151395798, 0.03310000151395798, -0.019500000402331352, 0.4052000045776367, -0.3912999927997589, 0.4165000021457672, 0.11219999939203262, -0.38510000705718994, -0.08219999819993973, -0.17790000140666962, 0.17919999361038208, -0.17470000684261322, -0.2084999978542328, -0.10970000177621841, -0.13179999589920044, 0.019999999552965164, -0.11299999803304672, 0.5121999979019165, -0.16760000586509705, 0.12929999828338623, 0.6151000261306763, 0.28290000557899475, 0.2766999900341034, 0.2632000148296356, 0.31790000200271606, -0.5799000263214111, 0.05249999836087227, 0.07970000058412552, -0.2685999870300293, 0.5238000154495239, -0.2667999863624573, -0.23119999468326569, 0.00419999985024333, 0.048900000751018524, -0.32330000400543213, 0.011500000022351742, -0.2833000123500824, 0.7574999928474426, 0.007499999832361937, 0.09369999915361404, -0.031099999323487282, 0.2320999950170517, -0.1404000073671341, -1.2661999464035034, -0.5030999779701233, 0.16179999709129333, 0.46810001134872437, 0.2125999927520752, -0.7459999918937683, 0.027499999850988388, 0.22349999845027924, -0.03709999844431877, -0.47870001196861267, -0.28780001401901245, -0.14579999446868896, 0.20999999344348907, -0.25209999084472656, -0.4648999869823456, 0.1826000064611435, -0.2418999969959259, 0.1080000028014183, 0.10599999874830246, 0.19470000267028809, -0.019200000911951065, 0.37059998512268066, 0.00559999980032444, 0.06599999964237213, -0.1923000067472458, -0.06030000001192093, -0.017100000753998756, 0.11800000071525574, 1.3954999446868896, -0.3407000005245209, 0.2167000025510788, 0.0892999991774559, 0.28439998626708984, -0.5622000098228455, 0.15559999644756317, 0.19419999420642853, -0.028200000524520874, 0.25589999556541443, -0.42419999837875366, 0.030799999833106995, 0.08609999716281891, -0.013199999928474426, -0.613099992275238, -0.19249999523162842, 0.19820000231266022, -0.14030000567436218, 0.17669999599456787, -0.41280001401901245, -0.11309999972581863, -0.014600000344216824, 0.6150000095367432, -0.19259999692440033, -0.14990000426769257, 0.24160000681877136, 0.8695999979972839, -0.22169999778270721, -0.3817000091075897, -0.09269999712705612, 0.13269999623298645, -0.36719998717308044, 0.013199999928474426, 0.0026000000070780516, 0.4943000078201294, 1.6412999629974365, 0.2533999979496002, -0.040800001472234726, 0.03610000014305115, -0.32580000162124634, -0.08510000258684158, -0.031300000846385956, 0.11789999902248383, -0.3043999969959259, 0.3203999996185303, 0.09860000014305115, -0.2531000077724457, 0.22089999914169312, -0.6739000082015991, 0.19949999451637268, -0.3257000148296356, -0.12300000339746475, -0.05939999967813492, 0.7616000175476074, 0.06310000270605087, -0.6209999918937683, -0.03909999877214432, 0.3149000108242035, 0.1128000020980835, 0.2736000120639801, 0.41749998927116394, -0.1639000028371811, -0.1793999969959259, -0.337799996137619, -0.0786999985575676, 0.06379999965429306, 0.07989999651908875, -0.18230000138282776, 0.5393000245094299, -0.364300012588501, -0.414000004529953, 0.13300000131130219, -0.519599974155426, 0.023499999195337296, -0.10679999738931656, 0.2190999984741211, 0.057100001722574234, 0.20980000495910645, 0.07800000160932541, -0.19110000133514404, 0.22110000252723694, -0.3767000138759613, 0.34360000491142273, -0.510699987411499, -0.06040000170469284, -0.12460000067949295, 0.35370001196861267, 0.07270000129938126, -0.23549999296665192, 0.0568000003695488, 0.3521000146865845, 0.289000004529953, -0.10830000042915344, 0.6219000220298767, 0.4438000023365021, -0.20319999754428864, 0.16359999775886536, 0.24169999361038208, 0.35429999232292175, -0.32089999318122864, 0.1404000073671341, -0.06859999895095825, 0.12839999794960022, -1.2568999528884888, -1.0197999477386475, -0.6883000135421753, -0.22030000388622284, -0.48980000615119934, 0.38280001282691956, 0.25929999351501465, -0.1005999967455864, -0.3206000030040741, -0.47119998931884766, 0.16019999980926514, 0.4880000054836273, -0.3343000113964081, 0.07779999822378159, -0.17890000343322754, -0.5113000273704529, 0.053599998354911804, -0.5950999855995178, -0.30889999866485596, 0.08780000358819962, -0.11240000277757645, 0.15479999780654907, 0.14990000426769257, 0.3010999858379364, 0.44690001010894775, -0.30070000886917114, -0.12790000438690186, -0.26010000705718994, 0.9096999764442444, -0.20430000126361847, -0.19280000030994415, 0.21789999306201935, -0.289900004863739, -0.1800999939441681, -0.873199999332428, 0.4578000009059906, 0.3091000020503998, 0.010400000028312206, 0.3012999892234802, 0.002400000113993883, -0.34540000557899475, -0.021299999207258224, 0.32269999384880066, 0.31779998540878296, 0.25699999928474426, 0.0357000008225441, -0.08160000294446945, 0.4242999851703644, -0.18809999525547028, -0.20759999752044678, 0.07800000160932541, 0.0925000011920929, 0.5756000280380249, 0.039500001817941666, -0.00839999970048666, 0.010499999858438969, -0.06889999657869339, 0.13079999387264252, 0.21160000562667847, -0.3188999891281128, -0.14419999718666077, -0.46059998869895935, 0.3005000054836273, 0.0031999999191612005, 0.14489999413490295, 0.17339999973773956, 0.7989000082015991, -0.33230000734329224, -0.26409998536109924, -0.3693000078201294, -0.27390000224113464, 0.021199999377131462, 0.10819999873638153, 0.37299999594688416, 0.47929999232292175, 0.11299999803304672, -0.36719998717308044, 0.3758000135421753, 0.2881999909877777, 0.3122999966144562, 0.08420000225305557, 0.25220000743865967, 0.542900025844574, 0.40560001134872437, -0.2467000037431717, -0.20329999923706055, -0.04830000177025795, -0.1703999936580658, -0.6244000196456909, -0.2720000147819519, -0.18569999933242798, -0.08579999953508377, -0.2054000049829483, -0.10159999877214432, -0.4805000126361847, -0.5375000238418579, 0.06430000066757202, 0.6097000241279602, 0.3192000091075897, -0.5855000019073486, -0.07079999893903732, 0.15289999544620514, 0.34619998931884766, 0.5638999938964844, 0.18199999630451202, 0.1387999951839447, -0.13619999587535858, 0.22310000658035278, 0.2734000086784363, 0.20260000228881836, 0.1972000002861023, 0.15809999406337738, 0.6455000042915344, -0.2558000087738037, 0.12809999287128448, -0.10649999976158142, -0.12229999899864197, -0.030899999663233757, -0.0885000005364418, -0.1972000002861023, -0.21369999647140503, 0.21170000731945038, -0.35199999809265137]]',\n",
       "       '[[0.2176000028848648, 0.3086000084877014, -0.007600000128149986, 0.11230000108480453, 0.40310001373291016, -0.6172999739646912, -0.0020000000949949026, 0.23330000042915344, 0.1632000058889389, 0.02459999918937683, -0.421099990606308, 0.09950000047683716, 0.20489999651908875, 0.33550000190734863, 0.06120000034570694, -0.23510000109672546, 0.46459999680519104, -0.014600000344216824, -0.30469998717308044, -0.009999999776482582, -0.1185000017285347, -0.056699998676776886, -0.007000000216066837, -0.35749998688697815, -0.0722000002861023, 0.09849999845027924, -0.4948999881744385, -0.04280000180006027, 0.10890000313520432, 0.38609999418258667, -0.01119999960064888, 0.513700008392334, 0.2531000077724457, -0.013700000010430813, -0.00570000009611249, -0.36719998717308044, -0.044599998742341995, 0.6549999713897705, 0.1216999962925911, -0.9927999973297119, -0.34950000047683716, 0.43779999017715454, -0.23489999771118164, -0.37059998512268066, 0.4408999979496002, 1.0286999940872192, 0.3249000012874603, -0.265500009059906, 0.6240000128746033, -0.11060000211000443, 0.2596000134944916, 0.11490000039339066, -0.011300000362098217, -0.6557999849319458, -0.12300000339746475, -0.003100000089034438, -0.29499998688697815, -0.11980000138282776, 0.094200000166893, 0.0803999975323677, 0.7653999924659729, -0.21320000290870667, -0.11029999703168869, -0.20900000631809235, -0.12759999930858612, 0.2037999927997589, -0.6886000037193298, -0.012799999676644802, 0.08640000224113464, 0.16189999878406525, -0.4643000066280365, -0.326200008392334, 0.19920000433921814, -0.3822999894618988, -0.3804999887943268, 0.16670000553131104, -0.01119999960064888, 0.01860000006854534, 0.16599999368190765, -0.1395999938249588, -0.0746999979019165, -0.3878999948501587, -0.08139999955892563, -0.39239999651908875, -0.012600000016391277, -0.5324000120162964, -1.0174000263214111, -0.10589999705553055, -0.26980000734329224, -0.08619999885559082, 0.12890000641345978, -0.23589999973773956, -6.360000133514404, -0.04360000044107437, 0.32710000872612, -0.12929999828338623, -0.10999999940395355, 0.27059999108314514, -0.2766999900341034, 0.004900000058114529, 0.8108999729156494, -0.2004999965429306, -0.2013999968767166, 0.43209999799728394, 0.41999998688697815, -0.13660000264644623, -1.1966999769210815, 0.17479999363422394, 0.12150000035762787, 0.03290000185370445, 0.28700000047683716, 0.013700000010430813, -0.21140000224113464, -0.5449000000953674, -0.3540000021457672, -0.01810000091791153, 0.11840000003576279, -0.09149999916553497, -0.34119999408721924, 0.7020000219345093, 0.028300000354647636, -0.5375999808311462, 0.013799999840557575, 0.44040000438690186, 0.3239000141620636, 0.13950000703334808, -0.0210999995470047, 0.058800000697374344, -0.23149999976158142, -0.263700008392334, -0.26739999651908875, -0.3589000105857849, -0.3978999853134155, 0.8813999891281128, 0.07819999754428864, 0.19930000603199005, -0.26030001044273376, -0.7067000269889832, 0.008500000461935997, 0.11309999972581863, 0.05820000171661377, 0.38429999351501465, -0.2313999980688095, -0.07460000365972519, -0.5989999771118164, -0.030500000342726707, 0.18610000610351562, -0.005400000140070915, -0.029400000348687172, 0.06480000168085098, -0.1670999974012375, 0.2750999927520752, -0.7347000241279602, 0.18700000643730164, -0.05900000035762787, 0.1046999990940094, 0.10199999809265137, 0.14159999787807465, -0.019300000742077827, -0.06440000236034393, 0.033799998462200165, 0.22010000050067902, 0.2754000127315521, 0.30630001425743103, 0.022299999371170998, 0.07720000296831131, 0.776199996471405, -0.1703999936580658, 0.5878999829292297, 0.13050000369548798, 0.02290000021457672, -0.22130000591278076, -0.028300000354647636, -0.4140999913215637, -0.5351999998092651, 0.4422000050544739, -0.9524000287055969, 0.39010000228881836, -0.10930000245571136, 0.004100000020116568, 0.4699999988079071, -0.12330000102519989, 0.27630001306533813, -0.49050000309944153, 0.15049999952316284, -0.28299999237060547, 0.11760000139474869, 0.19529999792575836, -0.3407000005245209, 0.21709999442100525, 0.2777000069618225, -0.26489999890327454, -0.09290000051259995, -0.11909999698400497, -0.17489999532699585, 0.009499999694526196, -0.21089999377727509, -0.39239999651908875, -0.5446000099182129, 0.3467000126838684, -0.3917999863624573, 0.2583000063896179, -0.44690001010894775, 0.2802000045776367, -0.1777999997138977, 0.035599999129772186, 0.0681999996304512, 0.06030000001192093, 0.7630000114440918, 0.007699999958276749, 0.13529999554157257, 0.37619999051094055, -0.23970000445842743, -0.44130000472068787, -0.11680000275373459, -0.06920000165700912, 0.04019999876618385, -0.14949999749660492, 0.474700003862381, -0.4514000117778778, 0.6284000277519226, 0.031599998474121094, -0.2703000009059906, 0.05299999937415123, -0.18880000710487366, -0.22169999778270721, -0.3192000091075897, -0.2353000044822693, -0.24740000069141388, -0.03849999979138374, 0.17509999871253967, 0.09730000048875809, 0.4832000136375427, -0.21739999949932098, 0.13249999284744263, 0.6014999747276306, 0.36899998784065247, 0.37929999828338623, 0.005499999970197678, 0.3197000026702881, -0.4632999897003174, 0.2694999873638153, 0.2020999938249588, -0.4343000054359436, 0.5705000162124634, -0.4772999882698059, -0.23749999701976776, 0.05420000106096268, 0.33980000019073486, -0.365200012922287, 0.06480000168085098, -0.4584999978542328, 0.5178999900817871, 0.31679999828338623, 0.48100000619888306, 0.1582999974489212, 0.16030000150203705, -0.16189999878406525, -1.830299973487854, -0.385699987411499, 0.09839999675750732, 0.29350000619888306, 0.053599998354911804, -1.1083999872207642, -0.14409999549388885, 0.3619000017642975, 0.11789999902248383, -0.33899998664855957, -0.4902999997138977, -0.15150000154972076, 0.03240000084042549, -0.22020000219345093, -0.3901999890804291, 0.05950000137090683, -0.1160999983549118, 0.11969999969005585, 0.12479999661445618, 0.2881999909877777, -0.0568000003695488, 0.4352000057697296, -0.14139999449253082, 0.17739999294281006, -0.4490000009536743, 0.2556999921798706, -0.12839999794960022, 0.012500000186264515, 1.4383000135421753, -0.1965000033378601, 0.1340000033378601, 0.16220000386238098, 0.49939998984336853, -0.38609999418258667, -0.09239999949932098, 0.23649999499320984, -0.10029999911785126, 0.16120000183582306, -0.13950000703334808, 0.20499999821186066, 0.2249000072479248, -0.061900001019239426, -0.4684000015258789, -0.4771000146865845, 0.19760000705718994, -0.0714000016450882, 0.4341000020503998, -0.13019999861717224, -0.11940000206232071, -0.012799999676644802, 0.5076000094413757, -0.15839999914169312, -0.17299999296665192, 0.0697999969124794, 0.8781999945640564, 0.08219999819993973, -0.6617000102996826, -0.045899998396635056, 0.01720000058412552, -0.22269999980926514, 0.013000000268220901, 0.07339999824762344, 0.9186999797821045, 1.6657999753952026, 0.5175999999046326, -0.1898999959230423, 0.2071000039577484, -0.20759999752044678, -0.015300000086426735, 0.28290000557899475, 0.3711000084877014, -0.3183000087738037, 0.35440000891685486, -0.017500000074505806, -0.4578999876976013, 0.15610000491142273, -0.47130000591278076, 0.08669999986886978, -0.46470001339912415, 0.05530000105500221, 0.13570000231266022, 0.5723000168800354, 0.21250000596046448, -0.49790000915527344, -0.02449999935925007, 0.46810001134872437, 0.2879999876022339, 0.225600004196167, 0.6486999988555908, 0.18250000476837158, -0.19760000705718994, -0.2531000077724457, -0.28439998626708984, 0.30720001459121704, 0.3125, 0.11159999668598175, 0.5473999977111816, -0.5958999991416931, -0.3156999945640564, -0.20260000228881836, -0.38420000672340393, 0.027799999341368675, -0.21549999713897705, 0.061500001698732376, -0.16609999537467957, 0.08410000056028366, -0.050999999046325684, -0.32919999957084656, 0.09759999811649323, -0.40070000290870667, 0.4657000005245209, -0.37529999017715454, -0.0851999968290329, 0.08889999985694885, 0.4307999908924103, 0.17190000414848328, 0.07259999960660934, 0.07620000094175339, 0.09849999845027924, 0.2939000129699707, -0.16740000247955322, 0.6172999739646912, 0.3100000023841858, -0.2800000011920929, 0.061799999326467514, 0.10300000011920929, 0.3070000112056732, 0.019999999552965164, 0.41769999265670776, -0.2298000007867813, 0.2574000060558319, -1.1588000059127808, -0.9617000222206116, -0.6832000017166138, -0.13439999520778656, -0.3718999922275543, 0.421099990606308, 0.21119999885559082, -0.2578999996185303, 0.013899999670684338, -0.36500000953674316, -0.15970000624656677, 0.3531000018119812, -0.21649999916553497, 0.11339999735355377, -0.03750000149011612, -0.5245000123977661, 0.2160000056028366, -0.553600013256073, 0.0649000033736229, -0.15870000422000885, -0.2946999967098236, 0.2395000010728836, 0.020600000396370888, 0.41920000314712524, 0.5356000065803528, -0.15309999883174896, 0.16850000619888306, -0.5044999718666077, 0.9325000047683716, -0.25380000472068787, -0.3709999918937683, 0.210099995136261, -0.26969999074935913, -0.08240000158548355, -0.7900000214576721, 0.3479999899864197, 0.33480000495910645, -0.00419999985024333, 0.4108999967575073, 0.43230000138282776, -0.3513999879360199, -0.15700000524520874, 0.49079999327659607, -0.008999999612569809, 0.15369999408721924, -0.22540000081062317, -0.1818999946117401, 0.24619999527931213, 0.03370000049471855, -0.0421999990940094, 0.11720000207424164, 0.07259999960660934, 0.5004000067710876, 0.00839999970048666, 0.03280000016093254, -0.23149999976158142, -0.27070000767707825, 0.3580999970436096, 0.3481999933719635, -0.22190000116825104, -0.3046000003814697, -0.49559998512268066, 0.2468000054359436, 0.09030000120401382, 0.11259999871253967, 0.17139999568462372, 0.9017000198364258, -0.6473000049591064, -0.1006999984383583, -0.45879998803138733, -0.1964000016450882, 0.017999999225139618, 0.38989999890327454, 0.43160000443458557, 0.10429999977350235, 0.22120000422000885, -0.20890000462532043, 0.12860000133514404, 0.37209999561309814, 0.47119998931884766, 0.009800000116229057, 0.04839999973773956, 0.6766999959945679, 0.6266000270843506, -0.5848000049591064, -0.12039999663829803, -0.04910000041127205, 0.061799999326467514, -0.5134000182151794, -0.2879999876022339, -0.24300000071525574, -0.20409999787807465, -0.24449999630451202, 0.04479999840259552, -0.5300999879837036, -0.15479999780654907, -0.0007999999797903001, 0.41690000891685486, 0.0997999981045723, -0.36570000648498535, 0.004399999976158142, 0.148499995470047, 0.21719999611377716, 0.5338000059127808, 0.351500004529953, -0.03739999979734421, -0.11420000344514847, 0.09269999712705612, 0.28110000491142273, 0.29600000381469727, 0.26440000534057617, 0.18610000610351562, 0.4124999940395355, -0.21860000491142273, 0.09929999709129333, -0.22930000722408295, 0.05810000002384186, -0.12370000034570694, -0.04569999873638153, 0.17470000684261322, -0.2879999876022339, 0.21729999780654907, -0.11389999836683273]]',\n",
       "       '[[0.11069999635219574, 0.3156999945640564, -0.051600001752376556, 0.25040000677108765, 0.4523000121116638, -0.7060999870300293, 0.18279999494552612, 0.20029999315738678, 0.16439999639987946, 0.014299999922513962, -0.5332000255584717, 0.07440000027418137, 0.40059998631477356, 0.26030001044273376, 0.04540000110864639, -0.1761000007390976, 0.320499986410141, 0.07970000058412552, -0.2012999951839447, -0.1395999938249588, 0.29490000009536743, 0.22990000247955322, -0.08900000154972076, -0.28029999136924744, -0.1006999984383583, 0.296999990940094, -0.6158000230789185, -0.02019999921321869, 0.1818999946117401, 0.46160000562667847, 0.14010000228881836, 0.5667999982833862, 0.25949999690055847, 0.17190000414848328, -0.007199999876320362, -0.3402999937534332, -0.004699999932199717, 0.7875999808311462, 0.12409999966621399, -1.526900053024292, -0.6651999950408936, 0.43459999561309814, -0.2766000032424927, -0.17910000681877136, 0.49549999833106995, 1.590499997138977, 0.021800000220537186, -0.16259999573230743, 0.5978000164031982, 0.003000000026077032, 0.26460000872612, -0.24549999833106995, -0.02850000001490116, -0.6671000123023987, -0.23330000042915344, -0.10480000078678131, -0.18310000002384186, -0.014800000004470348, 0.08410000056028366, 0.31139999628067017, 1.194200038909912, -0.08009999990463257, -0.1412999927997589, -0.2084999978542328, -0.03319999948143959, -0.0031999999191612005, -0.6341999769210815, 0.19859999418258667, 0.045899998396635056, 0.10920000076293945, -0.0421999990940094, -0.2578999996185303, 0.018300000578165054, -0.382099986076355, -0.1525000035762787, 0.2061000019311905, 0.11999999731779099, 0.09510000050067902, -0.004000000189989805, -0.23520000278949738, -0.26660001277923584, -0.33009999990463257, -0.059300001710653305, -0.066600002348423, -0.02449999935925007, -0.2635999917984009, -0.7723000049591064, -0.14380000531673431, -0.4683000147342682, -0.07419999688863754, 0.30809998512268066, -0.2061000019311905, -6.667500019073486, -0.18960000574588776, 0.34769999980926514, -0.03620000183582306, -0.298799991607666, 0.2694999873638153, 0.13089999556541443, 0.09070000052452087, 0.5935999751091003, -0.08209999650716782, -0.32760000228881836, 0.459199994802475, 0.36010000109672546, 0.10459999740123749, -0.6658999919891357, 0.02850000001490116, 0.0052999998442828655, 0.007899999618530273, 0.020099999383091927, -0.12349999696016312, -0.13040000200271606, -0.7961999773979187, -0.4172999858856201, -0.16949999332427979, -0.011300000362098217, 0.008899999782443047, -0.28690001368522644, 0.37630000710487366, 0.38960000872612, -0.5453000068664551, 0.20559999346733093, 0.29910001158714294, 0.26159998774528503, -0.1031000018119812, -0.17880000174045563, 0.3278999924659729, -0.02800000086426735, -0.17810000479221344, -0.38609999418258667, -0.04639999940991402, -0.31450000405311584, 0.9323999881744385, 0.06679999828338623, 0.28220000863075256, -0.27000001072883606, -0.5591999888420105, -0.20110000669956207, 0.12240000069141388, 0.022600000724196434, 0.3564000129699707, 0.17980000376701355, -0.13230000436306, -0.5509999990463257, 0.016200000420212746, 0.22190000116825104, 0.2653000056743622, -0.3028999865055084, 0.08669999986886978, -0.10610000044107437, 0.19910000264644623, -0.45489999651908875, 0.3366999924182892, -0.1745000034570694, -0.06400000303983688, 0.12939999997615814, 0.094200000166893, -0.23909999430179596, 0.03420000150799751, -0.06109999865293503, 0.29789999127388, 0.5453000068664551, 0.0502999983727932, 0.1615000069141388, 0.36719998717308044, 0.983299970626831, -0.06780000030994415, 0.42010000348091125, 0.12020000070333481, 0.2126999944448471, 0.08860000222921371, 0.04560000076889992, -0.6549000144004822, -0.4796000123023987, 0.26089999079704285, -0.9641000032424927, 0.2881999909877777, 0.257999986410141, -0.0005000000237487257, 0.34850001335144043, -0.1574999988079071, 0.3684000074863434, -0.26989999413490295, 0.1664000004529953, -0.2020999938249588, 0.025599999353289604, 0.0035000001080334187, -0.11869999766349792, 0.288100004196167, 0.4417000114917755, -0.4372999966144562, -0.3864000141620636, 0.08340000361204147, -0.38269999623298645, -0.09099999815225601, 0.005799999926239252, -0.24240000545978546, -0.7171000242233276, 0.3700999915599823, -0.2517000138759613, 0.12250000238418579, -0.42500001192092896, 0.3564999997615814, -0.13410000503063202, 0.048900000751018524, 0.12430000305175781, -0.051500000059604645, 0.6126000285148621, 0.009399999864399433, 0.32499998807907104, 0.05000000074505806, -0.4392000138759613, -0.4927999973297119, -0.1573999971151352, -0.10750000178813934, 0.21070000529289246, -0.17350000143051147, 0.6419000029563904, -0.4361000061035156, 0.5554999709129333, 0.049300000071525574, -0.30169999599456787, 0.01769999973475933, -0.3702999949455261, 0.059300001710653305, -0.24740000069141388, -0.44859999418258667, -0.10170000046491623, -0.2386000007390976, 0.11720000207424164, 0.08299999684095383, 0.7044000029563904, -0.37599998712539673, 0.20569999516010284, 0.4544000029563904, 0.24230000376701355, 0.3190999925136566, 0.10170000046491623, 0.20329999923706055, -0.5245000123977661, 0.19089999794960022, 0.054099999368190765, -0.5374000072479248, 0.48510000109672546, -0.24070000648498535, -0.24789999425411224, -0.03920000046491623, 0.31859999895095825, -0.3928000032901764, 0.06469999998807907, -0.31859999895095825, 0.7125999927520752, 0.16940000653266907, 0.09719999879598618, -0.007600000128149986, 0.2915000021457672, -0.26089999079704285, -1.5917999744415283, -0.3684999942779541, 0.15870000422000885, 0.4447000026702881, 0.2574000060558319, -0.7419999837875366, 0.003100000089034438, 0.2092999964952469, 0.08020000159740448, -0.35600000619888306, -0.16439999639987946, -0.23960000276565552, 0.062300000339746475, -0.3359000086784363, -0.39969998598098755, 0.010599999688565731, -0.004900000058114529, 0.2750000059604645, 0.0746999979019165, 0.16189999878406525, 0.06750000268220901, 0.32339999079704285, -0.18019999563694, 0.016300000250339508, -0.21719999611377716, -0.19699999690055847, -0.04179999977350235, 0.057100001722574234, 1.2511999607086182, -0.40560001134872437, 0.1454000025987625, 0.007600000128149986, 0.4535999894142151, -0.6753000020980835, 0.008299999870359898, 0.09799999743700027, -0.019600000232458115, 0.10029999911785126, -0.4074999988079071, 0.06949999928474426, 0.14830000698566437, 0.07970000058412552, -0.5995000004768372, -0.0835999995470047, 0.22529999911785126, -0.05490000173449516, 0.23909999430179596, -0.2053000032901764, -0.10980000346899033, 0.1137000024318695, 0.7712000012397766, -0.3677999973297119, 0.07519999891519547, 0.34299999475479126, 0.9298999905586243, -0.2621999979019165, -0.450300008058548, -0.02199999988079071, 0.06469999998807907, -0.4043000042438507, 0.11140000075101852, 0.21150000393390656, 0.4311999976634979, 1.607300043106079, 0.18219999969005585, -0.01119999960064888, -0.09309999644756317, -0.29809999465942383, -0.042399998754262924, 0.014800000004470348, 0.11069999635219574, -0.14259999990463257, 0.2502000033855438, 0.27300000190734863, -0.2720000147819519, 0.06379999965429306, -0.5418999791145325, 0.10199999809265137, -0.16990000009536743, -0.012900000438094139, -0.18299999833106995, 0.4867999851703644, 0.3228999972343445, -0.6431000232696533, 0.10930000245571136, 0.28679999709129333, 0.06419999897480011, 0.19850000739097595, 0.5527999997138977, 0.06849999725818634, -0.19099999964237213, -0.36079999804496765, -0.052299998700618744, 0.1469999998807907, 0.05119999870657921, -0.24639999866485596, 0.5763000249862671, -0.15760000050067902, -0.44769999384880066, 0.4293000102043152, -0.5875999927520752, 0.24819999933242798, -0.15729999542236328, -0.0723000019788742, 0.05119999870657921, 0.4453999996185303, -0.03590000048279762, -0.25839999318122864, 0.23970000445842743, -0.38670000433921814, 0.3018999993801117, -0.5360000133514404, 0.05979999899864197, 0.036400001496076584, 0.37770000100135803, 0.14920000731945038, -0.15889999270439148, 0.03060000017285347, 0.44510000944137573, 0.3562999963760376, -0.18029999732971191, 0.5986999869346619, 0.593999981880188, -0.17419999837875366, 0.24420000612735748, 0.21639999747276306, 0.19370000064373016, -0.05090000107884407, 0.25, -0.11159999668598175, 0.1615999937057495, -1.4264999628067017, -1.214400053024292, -0.6583999991416931, -0.042399998754262924, -0.46480000019073486, 0.4496000111103058, 0.1907999962568283, -0.053599998354911804, -0.4020000100135803, -0.5534999966621399, -0.04569999873638153, 0.5893999934196472, -0.28600001335144043, 0.07460000365972519, 0.004800000227987766, -0.6241999864578247, 0.07769999653100967, -0.5101000070571899, -0.14550000429153442, -0.05779999867081642, -0.10499999672174454, 0.299699991941452, 0.1876000016927719, 0.4672999978065491, 0.35409998893737793, -0.4043000042438507, 0.06129999831318855, -0.36489999294281006, 0.9434999823570251, -0.29179999232292175, -0.2053000032901764, 0.15929999947547913, -0.3718000054359436, -0.24860000610351562, -0.8162000179290771, 0.35370001196861267, 0.4018000066280365, 0.20970000326633453, 0.32839998602867126, 0.15279999375343323, -0.5976999998092651, 0.17839999496936798, 0.44780001044273376, 0.5115000009536743, 0.2101999968290329, 0.04430000111460686, -0.019200000911951065, 0.40070000290870667, -0.23430000245571136, -0.36410000920295715, 0.12960000336170197, 0.11919999867677689, 0.5139999985694885, 0.19529999792575836, 0.04540000110864639, -0.04529999941587448, 0.049400001764297485, 0.11729999631643295, 0.24899999797344208, -0.24580000340938568, -0.08240000158548355, -0.25279998779296875, 0.39590001106262207, -0.02889999933540821, 0.08590000122785568, 0.08129999786615372, 0.8966000080108643, -0.3337000012397766, -0.20890000462532043, -0.3084000051021576, -0.3131999969482422, -0.08590000122785568, 0.065700002014637, 0.19580000638961792, 0.4410000145435333, 0.16089999675750732, -0.4458000063896179, 0.21629999577999115, 0.3582000136375427, 0.23890000581741333, -0.10719999670982361, 0.24899999797344208, 0.6273999810218811, 0.5206999778747559, -0.43059998750686646, -0.15029999613761902, 0.022199999541044235, -0.013199999928474426, -0.49950000643730164, -0.37310001254081726, -0.18150000274181366, -0.19280000030994415, -0.24459999799728394, 0.03759999945759773, -0.36309999227523804, -0.3012000024318695, 0.056299999356269836, 0.5123999714851379, 0.39640000462532043, -0.4722000062465668, 0.1867000013589859, -0.01860000006854534, 0.2888000011444092, 0.5012000203132629, 0.07919999957084656, 0.28220000863075256, -0.125, 0.040300000458955765, 0.34360000491142273, 0.27309998869895935, 0.1216999962925911, 0.11379999667406082, 0.5164999961853027, -0.16660000383853912, 0.08160000294446945, -0.06719999760389328, -0.24060000479221344, -0.01510000042617321, -0.08760000020265579, -0.06239999830722809, -0.36390000581741333, 0.11810000240802765, -0.1281999945640564]]'],\n",
       "      dtype='<U10908')"
      ]
     },
     "execution_count": 67,
     "metadata": {},
     "output_type": "execute_result"
    }
   ],
   "source": [
    "import numpy as np\n",
    "result_np = np.array(results)\n",
    "result_np[0:10]"
   ]
  },
  {
   "cell_type": "code",
   "execution_count": 1,
   "metadata": {},
   "outputs": [
    {
     "data": {
      "text/plain": [
       "'hello'"
      ]
     },
     "execution_count": 1,
     "metadata": {},
     "output_type": "execute_result"
    }
   ],
   "source": [
    "'hello'"
   ]
  },
  {
   "cell_type": "code",
   "execution_count": null,
   "metadata": {
    "tags": []
   },
   "outputs": [],
   "source": [
    "%%sh\n",
    "# check if docker containers are running and kill them if needed\n",
    "docker ps\n",
    "docker stop $(docker ps -a -q)\n",
    "docker rm $(docker ps -a -q)"
   ]
  },
  {
   "attachments": {},
   "cell_type": "markdown",
   "metadata": {},
   "source": [
    "### Deploy container remotely to create a managed Amazon SageMaker endpoint for real-time inference"
   ]
  },
  {
   "cell_type": "code",
   "execution_count": null,
   "metadata": {},
   "outputs": [],
   "source": [
    "from sagemaker import Model\n",
    "\n",
    "import sagemaker as sage\n",
    "\n",
    "sess = sage.Session()\n",
    "\n",
    "# instance_type = \"ml.m5.xlarge\" # no GPU, will trigger an error\n",
    "# instance_type = \"ml.g4dn.xlarge\"\n",
    "instance_type = \"ml.p2.xlarge\"\n",
    "model_data = estimator.model_data\n",
    "\n",
    "endpoint_deployment_name = \"my-BERTopic-test-endpoint\"\n",
    "\n",
    "estimator = Model(\n",
    "    image_uri=image_uri_inference,\n",
    "    model_data=model_data,\n",
    "    role=role,\n",
    "    source_dir=\"container/bert-topic\",\n",
    "    entry_point=\"bert-topic-inference.py\",\n",
    "    sagemaker_session=sess,  # not local session anymore\n",
    "    #                   predictor_cls=None,\n",
    "    #                   env=None,\n",
    "    #                   name=None,\n",
    "    #                   vpc_config=None,\n",
    "    #                   enable_network_isolation=False,\n",
    "    #                   model_kms_key=None,\n",
    "    #                   image_config=None,\n",
    "    #                   code_location=None,\n",
    "    #                   container_log_level=20,\n",
    "    #                   dependencies=None,\n",
    "    #                   git_config=None\n",
    ")\n",
    "\n",
    "# deploy the model\n",
    "predictor = estimator.deploy(1, instance_type, endpoint_name=endpoint_deployment_name)"
   ]
  },
  {
   "attachments": {},
   "cell_type": "markdown",
   "metadata": {},
   "source": [
    "Manually check the deployed endpoint name, it will have the name \n",
    "- my-BERTopic-test-endpoint"
   ]
  },
  {
   "attachments": {},
   "cell_type": "markdown",
   "metadata": {},
   "source": [
    "#### Invoke remotely deployed endpoint"
   ]
  },
  {
   "cell_type": "code",
   "execution_count": null,
   "metadata": {},
   "outputs": [],
   "source": [
    "sm_client = sess.sagemaker_runtime_client\n",
    "endpoint_name = \"my-BERTopic-test-endpoint\"\n",
    "response = sm_client.invoke_endpoint(\n",
    "    EndpointName=endpoint_name,\n",
    "    ContentType=\"application/json\",\n",
    "    Body=json.dumps([\"Do you like Toyota Corolla?\", \"I have a Nissan\"]),\n",
    ")\n",
    "\n",
    "r = response[\"Body\"]\n",
    "print(\"RESULT r.read().decode():\", r.read().decode())"
   ]
  },
  {
   "attachments": {},
   "cell_type": "markdown",
   "metadata": {},
   "source": [
    "### Optional cleanup of the create endpoint\n",
    "The created endpoint can be deleted with the code below.\n",
    "\n",
    "This part represent the end of the notebook."
   ]
  },
  {
   "cell_type": "code",
   "execution_count": null,
   "metadata": {},
   "outputs": [],
   "source": [
    "import boto3\n",
    "\n",
    "client = boto3.client(\"sagemaker\")\n",
    "response = client.describe_endpoint_config(EndpointConfigName=endpoint_deployment_name)\n",
    "model_name = response[\"ProductionVariants\"][0][\"ModelName\"]\n",
    "client.delete_endpoint(EndpointName=endpoint_deployment_name)\n",
    "client.delete_endpoint_config(EndpointConfigName=endpoint_deployment_name)\n",
    "client.delete_model(ModelName=model_name)"
   ]
  },
  {
   "attachments": {},
   "cell_type": "markdown",
   "metadata": {},
   "source": [
    "## Reference\n",
    "- [How Amazon SageMaker interacts with your Docker container for training](https://docs.aws.amazon.com/sagemaker/latest/dg/your-algorithms-training-algo.html)\n",
    "- [How Amazon SageMaker interacts with your Docker container for inference](https://docs.aws.amazon.com/sagemaker/latest/dg/your-algorithms-inference-code.html)\n",
    "- [BERTtopic model](https://maartengr.github.io/BERTopic/index.html)\n",
    "- [20 Newsgroups dataset](http://qwone.com/~jason/20Newsgroups/)\n",
    "- [SageMaker Python SDK](https://github.com/aws/sagemaker-python-sdk)\n",
    "- [Dockerfile](https://docs.docker.com/engine/reference/builder/)\n",
    "- [scikit-bring-your-own](https://github.com/awslabs/amazon-sagemaker-examples/blob/master/advanced_functionality/scikit_bring_your_own/scikit_bring_your_own.ipynb)\n",
    "- [SageMaker PyTorch container](https://github.com/aws/sagemaker-pytorch-container)\n",
    "\n"
   ]
  },
  {
   "attachments": {},
   "cell_type": "markdown",
   "metadata": {},
   "source": [
    "## Notebook CI Test Results\n",
    "\n",
    "This notebook was tested in multiple regions. The test results are as follows, except for us-west-2 which is shown at the top of the notebook.\n",
    "\n",
    "![This us-east-1 badge failed to load. Check your device's internet connectivity, otherwise the service is currently unavailable](https://h75twx4l60.execute-api.us-west-2.amazonaws.com/sagemaker-nb/us-east-1/advanced_functionality|pytorch_extend_container_train_deploy_bertopic|BERTtopic_extending_container.ipynb)\n",
    "\n",
    "![This us-east-2 badge failed to load. Check your device's internet connectivity, otherwise the service is currently unavailable](https://h75twx4l60.execute-api.us-west-2.amazonaws.com/sagemaker-nb/us-east-2/advanced_functionality|pytorch_extend_container_train_deploy_bertopic|BERTtopic_extending_container.ipynb)\n",
    "\n",
    "![This us-west-1 badge failed to load. Check your device's internet connectivity, otherwise the service is currently unavailable](https://h75twx4l60.execute-api.us-west-2.amazonaws.com/sagemaker-nb/us-west-1/advanced_functionality|pytorch_extend_container_train_deploy_bertopic|BERTtopic_extending_container.ipynb)\n",
    "\n",
    "![This ca-central-1 badge failed to load. Check your device's internet connectivity, otherwise the service is currently unavailable](https://h75twx4l60.execute-api.us-west-2.amazonaws.com/sagemaker-nb/ca-central-1/advanced_functionality|pytorch_extend_container_train_deploy_bertopic|BERTtopic_extending_container.ipynb)\n",
    "\n",
    "![This sa-east-1 badge failed to load. Check your device's internet connectivity, otherwise the service is currently unavailable](https://h75twx4l60.execute-api.us-west-2.amazonaws.com/sagemaker-nb/sa-east-1/advanced_functionality|pytorch_extend_container_train_deploy_bertopic|BERTtopic_extending_container.ipynb)\n",
    "\n",
    "![This eu-west-1 badge failed to load. Check your device's internet connectivity, otherwise the service is currently unavailable](https://h75twx4l60.execute-api.us-west-2.amazonaws.com/sagemaker-nb/eu-west-1/advanced_functionality|pytorch_extend_container_train_deploy_bertopic|BERTtopic_extending_container.ipynb)\n",
    "\n",
    "![This eu-west-2 badge failed to load. Check your device's internet connectivity, otherwise the service is currently unavailable](https://h75twx4l60.execute-api.us-west-2.amazonaws.com/sagemaker-nb/eu-west-2/advanced_functionality|pytorch_extend_container_train_deploy_bertopic|BERTtopic_extending_container.ipynb)\n",
    "\n",
    "![This eu-west-3 badge failed to load. Check your device's internet connectivity, otherwise the service is currently unavailable](https://h75twx4l60.execute-api.us-west-2.amazonaws.com/sagemaker-nb/eu-west-3/advanced_functionality|pytorch_extend_container_train_deploy_bertopic|BERTtopic_extending_container.ipynb)\n",
    "\n",
    "![This eu-central-1 badge failed to load. Check your device's internet connectivity, otherwise the service is currently unavailable](https://h75twx4l60.execute-api.us-west-2.amazonaws.com/sagemaker-nb/eu-central-1/advanced_functionality|pytorch_extend_container_train_deploy_bertopic|BERTtopic_extending_container.ipynb)\n",
    "\n",
    "![This eu-north-1 badge failed to load. Check your device's internet connectivity, otherwise the service is currently unavailable](https://h75twx4l60.execute-api.us-west-2.amazonaws.com/sagemaker-nb/eu-north-1/advanced_functionality|pytorch_extend_container_train_deploy_bertopic|BERTtopic_extending_container.ipynb)\n",
    "\n",
    "![This ap-southeast-1 badge failed to load. Check your device's internet connectivity, otherwise the service is currently unavailable](https://h75twx4l60.execute-api.us-west-2.amazonaws.com/sagemaker-nb/ap-southeast-1/advanced_functionality|pytorch_extend_container_train_deploy_bertopic|BERTtopic_extending_container.ipynb)\n",
    "\n",
    "![This ap-southeast-2 badge failed to load. Check your device's internet connectivity, otherwise the service is currently unavailable](https://h75twx4l60.execute-api.us-west-2.amazonaws.com/sagemaker-nb/ap-southeast-2/advanced_functionality|pytorch_extend_container_train_deploy_bertopic|BERTtopic_extending_container.ipynb)\n",
    "\n",
    "![This ap-northeast-1 badge failed to load. Check your device's internet connectivity, otherwise the service is currently unavailable](https://h75twx4l60.execute-api.us-west-2.amazonaws.com/sagemaker-nb/ap-northeast-1/advanced_functionality|pytorch_extend_container_train_deploy_bertopic|BERTtopic_extending_container.ipynb)\n",
    "\n",
    "![This ap-northeast-2 badge failed to load. Check your device's internet connectivity, otherwise the service is currently unavailable](https://h75twx4l60.execute-api.us-west-2.amazonaws.com/sagemaker-nb/ap-northeast-2/advanced_functionality|pytorch_extend_container_train_deploy_bertopic|BERTtopic_extending_container.ipynb)\n",
    "\n",
    "![This ap-south-1 badge failed to load. Check your device's internet connectivity, otherwise the service is currently unavailable](https://h75twx4l60.execute-api.us-west-2.amazonaws.com/sagemaker-nb/ap-south-1/advanced_functionality|pytorch_extend_container_train_deploy_bertopic|BERTtopic_extending_container.ipynb)\n"
   ]
  }
 ],
 "metadata": {
  "kernelspec": {
   "display_name": "vscode",
   "language": "python",
   "name": "python3"
  },
  "language_info": {
   "codemirror_mode": {
    "name": "ipython",
    "version": 3
   },
   "file_extension": ".py",
   "mimetype": "text/x-python",
   "name": "python",
   "nbconvert_exporter": "python",
   "pygments_lexer": "ipython3",
   "version": "3.11.5"
  }
 },
 "nbformat": 4,
 "nbformat_minor": 4
}
