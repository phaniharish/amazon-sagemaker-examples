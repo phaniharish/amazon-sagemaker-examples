{
 "cells": [
  {
   "attachments": {},
   "cell_type": "markdown",
   "metadata": {},
   "source": [
    "# Fine-tuning and deploying a BERTopic model on SageMaker with your own scripts and dataset, by extending existing PyTorch containers\n"
   ]
  },
  {
   "attachments": {},
   "cell_type": "markdown",
   "metadata": {},
   "source": [
    "---\n",
    "\n",
    "This notebook's CI test result for us-west-2 is as follows. CI test results in other regions can be found at the end of the notebook. \n",
    "\n",
    "![This us-west-2 badge failed to load. Check your device's internet connectivity, otherwise the service is currently unavailable](https://prod.us-west-2.tcx-beacon.docs.aws.dev/sagemaker-nb/us-west-2/advanced_functionality|pytorch_extend_container_train_deploy_bertopic|BERTtopic_extending_container.ipynb)\n",
    "\n",
    "---"
   ]
  },
  {
   "attachments": {},
   "cell_type": "markdown",
   "metadata": {},
   "source": [
    "\n",
    "### INFO: this notebook follows and extends the structure of the [Extending our PyTorch containers example](https://github.com/aws/amazon-sagemaker-examples/blob/main/advanced_functionality/pytorch_extending_our_containers/pytorch_extending_our_containers.ipynb)\n",
    "\n",
    "With Amazon SageMaker, you can package your own algorithms that can then be trained and deployed in the SageMaker environment. This notebook guides you through an example on how to extend one of our existing and predefined SageMaker deep learning framework containers.\n",
    "\n",
    "By packaging an algorithm in a container, you can bring almost any code to the Amazon SageMaker environment, regardless of programming language, environment, framework, or dependencies. \n",
    "\n",
    "1. [Extending our PyTorch containers](#Extending-our-PyTorch-containers)\n",
    "    1. [When should I extend a SageMaker container?](#When-should-I-extend-a-SageMaker-container?)\n",
    "    1. [Permissions](#Permissions)\n",
    "    1. [This example](#This-example)\n",
    "    1. [This notebook's structure](#This-notebook's-structure)\n",
    "1. [Part 1: Docker containers and their use in Amazon SageMaker](#Part-1:-Docker-containers-and-their-use-in-Amazon-SageMaker)\n",
    "    1. [An overview of Docker](#An-overview-of-Docker)\n",
    "    1. [How Amazon SageMaker runs your Docker container](#How-Amazon-SageMaker-runs-your-Docker-container)\n",
    "      1. [Running your container during training](#Running-your-container-during-training)\n",
    "        1. [The input](#The-input)\n",
    "        1. [The output](#The-output)\n",
    "      1. [Running your container during hosting](#Running-your-container-during-hosting)\n",
    "    1. [Custom files available to build the container used in this example](#Custom-files-available-to-build-the-container-used-in-this-example)\n",
    "1. [Part 2: Packaging and Uploading your Algorithm for training](#Part-2:-Packaging-and-Uploading-your-Algorithm-for-training)\n",
    "    1. [The training Dockerfile](#The-training-Dockerfile)\n",
    "    1. [Writing the training script (bert-topic.py)](#Writing-the-training-script-(bert-topic.py))\n",
    "    1. [Building and registering the training container](#Building-and-registering-the-training-container)\n",
    "    1. [Testing your algorithm](#Testing-your-algorithm)\n",
    "        1. [Download the 20 Newsgroups training dataset](#Download-the-20-Newsgroups-training-dataset)\n",
    "        1. [SageMaker Python SDK Local Training](#SageMaker-Python-SDK-Local-Training)\n",
    "        1. [Check the local SageMaker setup](#Check-the-local-SageMaker-setup)\n",
    "    1. [Fit (+ Deploy, Predict)](#Fit-(+-Deploy,-Predict))\n",
    "        1. [Local training: Fit](#Local-training:-Fit)\n",
    "        1. [A sleek alternative to \"Bring your own container\": bring your own requirements.txt](#A-sleek-alternative-to-\"Bring-your-own-container\":-bring-your-own-requirements.txt)\n",
    "    1.[Training your Algorithm in Amazon SageMaker in batch mode](#Training-your-Algorithm-in-Amazon-SageMaker-in-batch-mode)\n",
    "        1. [Set up the environment](#Set-up-the-environment)\n",
    "        1. [Create the session](#Create-the-session)\n",
    "        1. [Upload the data for training](#Upload-the-data-for-training)\n",
    "        1. [Training on SageMaker in batch mode](#Training-on-SageMaker-in-batch-mode)\n",
    "1. [Part 3: Packaging and Uploading your Algorithm for inference](#Part-3:-Packaging-and-Uploading-your-Algorithm-for-inference)\n",
    "    1. [The inference Dockerfile](#The-inference-Dockerfile)\n",
    "    1. [Writing your own inference script (bert-topic-inference.py)](#Writing-your-own-inference-script-(bert-topic-inference.py))\n",
    "    1. [Inference from Containerized SageMaker Model)](#Inference-from-Containerized-SageMaker-Model)\n",
    "        1. [Prepare session to run container locally](#Prepare-session-to-run-container-locally)\n",
    "        1. [Check for locally running Docker containers (and stop them if needed)](#Check-for-locally-running-Docker-containers-(and-stop-them-if-needed))\n",
    "        1. [Deploy container locally to create a local endpoint](#Deploy-container-locally-to-create-a-local-endpoint)\n",
    "        1. [Invoke locally deployed endpoint](#Invoke-locally-deployed-endpoint)\n",
    "        1. [A sleek alternative to \"Bring your own container\": bring your own requirements.txt](#A-sleek-alternative-to-\"Bring-your-own-container\":-bring-your-own-requirements.txt)\n",
    "        1. [Invoke locally deployed endpoint](#A-sleek-alternative-to-\"Bring-your-own-container\":-bring-your-own-requirements.txt)\n",
    "    1. [Deploy container remotely to create a managed Amazon SageMaker endpoint for real-time inference](#Deploy-container-remotely-to-create-a-managed-Amazon-SageMaker-endpoint-for-real-time-inference)\n",
    "        1. [Invoke remotely deployed endpoint](#Invoke-remotely-deployed-endpoint)\n",
    "    1. [Optional cleanup](#Optional-cleanup)  \n",
    "1. [Reference](#Reference)\n",
    "\n",
    "\n",
    "\n",
    "## Extending our PyTorch containers\n",
    "\n",
    "### When should I extend a SageMaker container?\n",
    "\n",
    "You may not need to create a container to bring your own code to Amazon SageMaker. When you are using a framework such as [TensorFlow](https://github.com/aws/sagemaker-tensorflow-container), [MXNet](https://github.com/aws/sagemaker-mxnet-container), [PyTorch](https://github.com/aws/sagemaker-pytorch-container) or [Chainer](https://github.com/aws/sagemaker-chainer-container) that has direct support in SageMaker, you can simply supply the Python code that implements your algorithm using the SDK entry points for that framework.\n",
    "\n",
    "Even if there is direct SDK support for your environment or framework, you may want to add additional functionality or configure your container environment differently while utilizing our container to use on SageMaker.\n",
    "\n",
    "**Some of the reasons to extend a SageMaker deep learning framework container are:**\n",
    "1. Install additional dependencies. (E.g. I want to install a specific Python library, that the current SageMaker containers don't install.)\n",
    "2. Configure your environment. (E.g. I want to add an environment variable to my container.)\n",
    "\n",
    "**Although it is possible to extend any of our framework containers as a parent image, the example this notebook covers is currently only intended to work with our PyTorch container.**\n",
    "\n",
    "This walkthrough shows that it is quite straightforward to extend one of our containers to build your own custom container for PyTorch.\n",
    "\n",
    "### Permissions\n",
    "\n",
    "Running this notebook requires permissions in addition to the normal `SageMakerFullAccess` permissions. This is because it creates new repositories in Amazon ECR. The easiest way to add these permissions is simply to add the managed policy `AmazonEC2ContainerRegistryFullAccess` to the role that you used to start your notebook instance. There's no need to restart your notebook instance when you do this, the new permissions will be available immediately.\n",
    "\n",
    "### This example\n",
    "\n",
    "In this example we show how to package a PyTorch container, extending the SageMaker PyTorch container, with a Python example which works with the BERTopic model and the 20 Newsgroups dataset. BERTopic comes now as standalone library and requires GPU support, so the most effective way to use it is to extend the SageMaker PyTorch container, to utilize the existing training and hosting solution made to work on SageMaker. By comparison, if one were to build their own custom framework container from scratch, they would need to implement a training and hosting solution in order to use SageMaker. Here is an example showing [how to create a SageMaker TensorFlow container from scratch](https://github.com/awslabs/amazon-sagemaker-examples/blob/master/advanced_functionality/tensorflow_bring_your_own/tensorflow_bring_your_own.ipynb).\n",
    "\n",
    "In this example, we need to use separate base images to support training and hosting, as they are provided separately for [PyTorch](https://github.com/aws/deep-learning-containers/blob/master/available_images.md#sagemaker-framework-containers-sm-support-only). Sometimes you may want to use the same image for training and hosting because they have the same requirements. This simplifies the procedure because we only need to manage one image for both tasks. In that case, merge the parts discussed below into the same Dockerfiles and build one image. Choosing whether to use a single image or two images is a matter of what is most convenient for you to develop and manage.\n",
    "\n",
    "If you're only using Amazon SageMaker for training or hosting, but not both, only the functionality used needs to be built into your container.\n",
    "Finally, when using different containers, make sure that the libraries and their versions match, otherwise this could create problems. In fact, some libraries versions are different in the PyTorch training and inference containers.\n",
    "\n",
    "### This notebook's structure\n",
    "\n",
    "This notebook is divided into three parts: \n",
    "1. Docker containers and their use in Amazon SageMaker\n",
    "2. _building_ and _using_ the training container \n",
    "3. _building_ and _using_ the inference container "
   ]
  },
  {
   "attachments": {},
   "cell_type": "markdown",
   "metadata": {},
   "source": [
    "## Part 1: Docker containers and their use in Amazon SageMaker\n",
    "\n",
    "### An overview of Docker\n",
    "\n",
    "If you're familiar with Docker already, you can skip ahead to the next section.\n",
    "\n",
    "For many data scientists, Docker containers are a new technology. But they are not difficult and can significantly simplify the deployment of your software packages. \n",
    "\n",
    "Docker provides a simple way to package arbitrary code into an _image_ that is totally self-contained. Once you have an image, you can use Docker to run a _container_ based on that image. Running a container is just like running a program on the machine except that the container creates a fully self-contained environment for the program to run. Containers are isolated from each other and from the host environment, so the way your program is set up is the way it runs, no matter where you run it.\n",
    "\n",
    "Docker is more powerful than environment managers like Conda or virtualenv because (a) it is completely language independent and (b) it comprises your whole operating environment, including startup commands, and environment variable.\n",
    "\n",
    "A Docker container is like a virtual machine, but it is much lighter weight. For example, a program running in a container can start in less than a second and many containers can run simultaneously on the same physical or virtual machine instance.\n",
    "\n",
    "Docker uses a simple file called a `Dockerfile` to specify how the image is assembled. An example is provided below. You can build your Docker images based on Docker images built by yourself or by others, which can simplify things quite a bit.\n",
    "\n",
    "Docker has become very popular in programming and DevOps communities due to its flexibility and its well-defined specification of how code can be run in its containers. It is the underpinning of many services built in the past few years, such as [Amazon ECS].\n",
    "\n",
    "Amazon SageMaker uses Docker to allow users to train and deploy arbitrary algorithms.\n",
    "\n",
    "In Amazon SageMaker, Docker containers are invoked in a one way for training and another, slightly different, way for hosting. The following sections outline how to build containers for the SageMaker environment.\n",
    "\n",
    "Some helpful links:\n",
    "\n",
    "* [Docker home page](http://www.docker.com)\n",
    "* [Getting started with Docker](https://docs.docker.com/get-started/)\n",
    "* [Dockerfile reference](https://docs.docker.com/engine/reference/builder/)\n",
    "* [`docker run` reference](https://docs.docker.com/engine/reference/run/)\n",
    "\n",
    "[Amazon ECS]: https://aws.amazon.com/ecs/\n",
    "\n",
    "### How Amazon SageMaker runs your Docker container\n",
    "\n",
    "* Typically you specify a program (e.g. script) as an `ENTRYPOINT` in the Dockerfile, that program will be run at startup and decide what to do. The original `ENTRYPOINT` specified within the SageMaker PyTorch is [here](https://github.com/aws/deep-learning-containers/blob/master/pytorch/training/docker/1.5.1/py3/Dockerfile.cpu#L142).\n",
    "\n",
    "#### Running your container during training\n",
    "\n",
    "Currently, our SageMaker PyTorch container utilizes [console_scripts](http://python-packaging.readthedocs.io/en/latest/command-line-scripts.html#the-console-scripts-entry-point) to make use of the `train` command issued at training time. The line that gets invoked during `train` is defined within the setup.py file inside [SageMaker Containers](https://github.com/aws/sagemaker-containers/blob/master/setup.py#L48), our common SageMaker deep learning container framework. When this command is run, it will invoke the [trainer class](https://github.com/aws/sagemaker-containers/blob/master/src/sagemaker_containers/cli/train.py) to run, which will finally invoke our [PyTorch container code](https://github.com/aws/sagemaker-pytorch-container/blob/master/src/sagemaker_pytorch_container/training.py) to run your Python file.\n",
    "\n",
    "A number of files are laid out for your use, under the `/opt/ml` directory:\n",
    "\n",
    "    /opt/ml\n",
    "    |-- input\n",
    "    |   |-- config\n",
    "    |   |   |-- hyperparameters.json\n",
    "    |   |   `-- resourceConfig.json\n",
    "    |   `-- data\n",
    "    |       `-- <channel_name>\n",
    "    |           `-- <input data>\n",
    "    |-- model\n",
    "    |   `-- <model files>\n",
    "    `-- output\n",
    "        `-- failure\n",
    "\n",
    "##### The input\n",
    "\n",
    "* `/opt/ml/input/config` contains information to control how your program runs. `hyperparameters.json` is a JSON-formatted dictionary of hyperparameter names to values. These values are always strings, so you may need to convert them. `resourceConfig.json` is a JSON-formatted file that describes the network layout used for distributed training.\n",
    "* `/opt/ml/input/data/<channel_name>/` (for File mode) contains the input data for that channel. The channels are created based on the call to CreateTrainingJob, but it's generally important that channels match algorithm expectations. The files for each channel are copied from S3 to this directory, preserving the tree structure indicated by the S3 key structure. \n",
    "* `/opt/ml/input/data/<channel_name>_<epoch_number>` (for Pipe mode) is the pipe for a given epoch. Epochs start at zero and go up by one each time you read them. There is no limit to the number of epochs that you can run, but you must close each pipe before reading the next epoch.\n",
    "\n",
    "##### The output\n",
    "\n",
    "* `/opt/ml/model/` is the directory where you write the model that your algorithm generates. Your model can be in any format that you want. It can be a single file or a whole directory tree. SageMaker packages any files in this directory into a compressed tar archive file. This file is made available at the S3 location returned in the `DescribeTrainingJob` result.\n",
    "* `/opt/ml/output` is a directory where the algorithm can write a file `failure` that describes why the job failed. The contents of this file are returned in the `FailureReason` field of the `DescribeTrainingJob` result. For jobs that succeed, there is no reason to write this file as it is ignored.\n",
    "\n",
    "#### Running your container during hosting\n",
    "\n",
    "Hosting has a very different model than training because hosting is responding to inference requests that come in via HTTP. Currently, the SageMaker PyTorch containers [uses](https://github.com/aws/sagemaker-pytorch-container/blob/master/src/sagemaker_pytorch_container/serving.py#L103) our [recommended Python serving stack](https://github.com/aws/sagemaker-containers/blob/master/src/sagemaker_containers/_server.py#L44) to provide robust and scalable serving of inference requests:\n",
    "\n",
    "![Request serving stack](stack.png)\n",
    "\n",
    "Amazon SageMaker uses two URLs in the container:\n",
    "\n",
    "* `/ping` receives `GET` requests from the infrastructure. Your program returns 200 if the container is up and accepting requests.\n",
    "* `/invocations` is the endpoint that receives client inference `POST` requests. The format of the request and the response is up to the algorithm. If the client supplied `ContentType` and `Accept` headers, these are passed in as well. \n",
    "\n",
    "The container has the model files in the same place that they were written to during training:\n",
    "\n",
    "    /opt/ml\n",
    "    `-- model\n",
    "        `-- <model files>\n",
    "\n"
   ]
  },
  {
   "attachments": {},
   "cell_type": "markdown",
   "metadata": {},
   "source": [
    "### Custom files available to build the container used in this example\n",
    "\n",
    "The `container` directory has all the components you need to extend the SageMaker PyTorch container to use as a sample algorithm:\n",
    "\n",
    "    .\n",
    "    |-- Dockerfile\n",
    "    |-- Dockerfile-inference\n",
    "    `-- bert-topic\n",
    "        `-- bert-topic.py\n",
    "        `-- bert-topic-inference.py\n",
    "\n",
    "Let's discuss each of these in turn:\n",
    "\n",
    "* __`Dockerfile`__ describes how to build your Docker container image for *training*. More details are provided below.\n",
    "* __`Dockerfile-inference`__ describes how to build your Docker container image for *inference*. More details are provided below.\n",
    "* __`build_and_push.sh`__ is a script that uses the Dockerfile to build your container images and then pushes it to ECR. We invoke the commands directly later in this notebook, but you can just copy and run the script for your own algorithms.\n",
    "* __`bert-topic`__ is the directory which contains our user code to be invoked.\n",
    "\n",
    "In this application, we install and/or update a few libraries, and copy one script in the container, which will be used as `ENTRYPOINT`. You may only need that many, but if you have many supporting routines, you may wish to install more and use more files.\n",
    "\n",
    "The files that we put in the container are:\n",
    "\n",
    "* __`bert-topic.py`__ is the program that implements our training algorithm (used only for training container)\n",
    "* __`bert-topic-inference.py`__ is the program that handles loading our model for inferences (used only for inference container)"
   ]
  },
  {
   "attachments": {},
   "cell_type": "markdown",
   "metadata": {},
   "source": [
    "## Part 2: Packaging and Uploading your Algorithm for training\n",
    "\n",
    "### The training Dockerfile\n",
    "\n",
    "The Dockerfile describes the image that we want to build. You can think of it as describing the complete operating system installation of the system that you want to run. A Docker container running is quite a bit lighter than a full operating system, however, because it takes advantage of Linux on the host machine for the basic operations. \n",
    "\n",
    "We start from the SageMaker PyTorch image as the base. The base image is an ECR image, so it will have the following pattern.\n",
    "* {account}.dkr.ecr.{region}.amazonaws.com/sagemaker-{framework}:{framework_version}-{processor_type}-{python_version}\n",
    "\n",
    "Here is an explanation of each field.\n",
    "1. account - AWS account ID the ECR image belongs to. Our public deep learning framework images are all under the 763104351884 account.\n",
    "2. region - The region the ECR image belongs to. [Available regions](https://aws.amazon.com/about-aws/global-infrastructure/regional-product-services/).\n",
    "3. framework - The deep learning framework.\n",
    "4. framework_version - The version of the deep learning framework.\n",
    "5. processor_type - CPU or GPU.\n",
    "6. python_version - The supported version of Python.\n",
    "\n",
    "So the SageMaker PyTorch ECR image would be:\n",
    "* 763104351884.dkr.ecr.{region}.amazonaws.com/pytorch-training:1.12.1-gpu-py38-cu113-ubuntu20.04-sagemaker\n",
    "\n",
    "Information on supported frameworks and versions can be found in this [README](https://github.com/aws/sagemaker-python-sdk).\n",
    "\n",
    "Next, we install the required additional libraries like BERTopic and add the code that implements our specific algorithm to the container, and set up the right environment for it to run under.\n",
    "\n",
    "Finally, we need to specify two environment variables.\n",
    "1. SAGEMAKER_SUBMIT_DIRECTORY - the directory within the container containing our Python script for training and inference.\n",
    "2. SAGEMAKER_PROGRAM - the Python script that should be invoked for training and inference.\n",
    "\n",
    "Let's look at the Dockerfile for this example."
   ]
  },
  {
   "cell_type": "code",
   "execution_count": null,
   "metadata": {
    "tags": []
   },
   "outputs": [],
   "source": [
    "!cat container/Dockerfile"
   ]
  },
  {
   "attachments": {},
   "cell_type": "markdown",
   "metadata": {},
   "source": [
    "### Writing the training script (bert-topic.py)\n",
    "\n",
    "To fine-tune a BERTopic model with a custom dataset on Amazon SageMaker, we will write a training script to be used by the Amazon SageMaker Training Job (or locally).\n",
    "\n",
    "The training script will need to do the following steps:\n",
    "- Load a pretrained Model\n",
    "- Load the dataset\n",
    "- Define the Training Arguments\n",
    "- Define a Trainer\n",
    "- Train the model and save the checkpoint on the validation set\n",
    "\n",
    "These steps will be done in a `_train()` function.\n",
    "\n",
    "The script also uses some hyperparameters, which can be extended depending on what is needed for each model. Here we used `language` to choose the training language."
   ]
  },
  {
   "cell_type": "code",
   "execution_count": null,
   "metadata": {
    "tags": []
   },
   "outputs": [],
   "source": [
    "!pygmentize container/bert-topic/bert-topic.py"
   ]
  },
  {
   "attachments": {},
   "cell_type": "markdown",
   "metadata": {},
   "source": [
    "### Building and registering the training container\n",
    "\n",
    "The following shell code shows how to build the container image using `docker build` and push the container image to ECR using `docker push`. \n",
    "\n",
    "This code looks for an ECR repository in the account you're using and the current default region (if you're using a SageMaker notebook instance, this is the region where the notebook instance was created). If the repository doesn't exist, the script will create it. In addition, since we are using the SageMaker PyTorch image as the base, we will need to retrieve ECR credentials to pull this public image.\n",
    "\n",
    "Note that your notebook role needs to have the permission to push images to the ECR registry."
   ]
  },
  {
   "cell_type": "code",
   "execution_count": 48,
   "metadata": {
    "tags": []
   },
   "outputs": [],
   "source": [
    "# The name of our algorithm -- i.e. the name of the produced training container\n",
    "training_algorithm_name = \"bert-topic-training-example\""
   ]
  },
  {
   "cell_type": "code",
   "execution_count": null,
   "metadata": {},
   "outputs": [],
   "source": [
    "# building and pushing the container\n",
    "! cd container && sh build_and_push.sh {training_algorithm_name}"
   ]
  },
  {
   "cell_type": "code",
   "execution_count": null,
   "metadata": {
    "tags": []
   },
   "outputs": [],
   "source": [
    "# An alternative and simplified command which outsources the docker build process to codebuild.\n",
    "# This is especially useful when using Sagemaker studio notebooks where docker is not running.\n",
    "# Details in https://aws.amazon.com/blogs/machine-learning/using-the-amazon-sagemaker-studio-image-build-cli-to-build-container-images-from-your-studio-notebooks/\n",
    "#!cd container && sm-docker build {training_algorithm_name}"
   ]
  },
  {
   "attachments": {},
   "cell_type": "markdown",
   "metadata": {},
   "source": [
    "### Testing your algorithm\n",
    "\n",
    "When you're packaging your first algorithm to use with Amazon SageMaker, you probably want to test it yourself to make sure it's working correctly. We use the [SageMaker Python SDK](https://github.com/aws/sagemaker-python-sdk) to test both locally and on SageMaker. For more examples with the SageMaker Python SDK, see [Amazon SageMaker Examples](https://github.com/awslabs/amazon-sagemaker-examples/tree/master/sagemaker-python-sdk). In order to test our algorithm, we need our dataset."
   ]
  },
  {
   "attachments": {},
   "cell_type": "markdown",
   "metadata": {},
   "source": [
    "#### Download the 20 Newsgroups training dataset\n",
    "We will be utilizing the 20 Newsgroups dataset loader provided within AWS to download and load our data for training."
   ]
  },
  {
   "cell_type": "code",
   "execution_count": null,
   "metadata": {
    "tags": []
   },
   "outputs": [],
   "source": [
    "import os\n",
    "\n",
    "training_file_name = \"training_file.txt\"\n",
    "working_dir = os.getcwd()\n",
    "training_file_path = os.path.join(working_dir, training_file_name)\n",
    "\n",
    "print(f\"Working Dir: {working_dir}\")\n",
    "print(f\"Training File: {training_file_path}\")\n",
    "docs = []"
   ]
  },
  {
   "cell_type": "code",
   "execution_count": null,
   "metadata": {
    "tags": []
   },
   "outputs": [],
   "source": [
    "# data from AWS internal repository, external repo can be used as alternative, see below\n",
    "import boto3\n",
    "\n",
    "s3 = boto3.client(\"s3\")\n",
    "s3.download_file(\n",
    "    f\"sagemaker-example-files-prod-{boto3.session.Session().region_name}\",\n",
    "    \"datasets/text/20_newsgroups/20_newsgroups.tar.gz\",\n",
    "    training_file_path.replace(\".txt\", \"_temp.tar.gz\"),\n",
    ")"
   ]
  },
  {
   "cell_type": "code",
   "execution_count": null,
   "metadata": {
    "tags": []
   },
   "outputs": [],
   "source": [
    "# extract few files from the rec.autos topic, without untarring the whole file. No pre-processing is applied\n",
    "import tarfile\n",
    "import codecs\n",
    "import gzip\n",
    "\n",
    "tar = tarfile.open(training_file_path.replace(\".txt\", \"_temp.tar.gz\"), encoding=\"utf-8\")\n",
    "utf8reader = codecs.getreader(\"utf-8\")\n",
    "for i, name in enumerate(tar.getmembers()):\n",
    "    if \"rec.autos\" in name.name:\n",
    "        f = tar.extractfile(name)\n",
    "        if f is not None:\n",
    "            content = f.read()\n",
    "            docs = docs + [content.decode(\"utf-8\").split(\"Message-ID:\")[1]]\n",
    "        if len(docs) > 100:\n",
    "            break"
   ]
  },
  {
   "cell_type": "code",
   "execution_count": null,
   "metadata": {
    "tags": []
   },
   "outputs": [],
   "source": [
    "# # data from external repository, pre-processing is already applied\n",
    "# from sklearn.datasets import fetch_20newsgroups\n",
    "\n",
    "# docs = fetch_20newsgroups(subset=\"all\", remove=(\"headers\", \"footers\", \"quotes\"))[\"data\"]\n",
    "# # only use 100 documents out of 18846 for faster iteration\n",
    "# docs = docs[:100]"
   ]
  },
  {
   "cell_type": "code",
   "execution_count": null,
   "metadata": {
    "tags": []
   },
   "outputs": [],
   "source": [
    "len(docs)"
   ]
  },
  {
   "cell_type": "code",
   "execution_count": null,
   "metadata": {
    "tags": []
   },
   "outputs": [],
   "source": [
    "print(\"The first document contains the following text:\\n\\n\", docs[1])"
   ]
  },
  {
   "cell_type": "code",
   "execution_count": null,
   "metadata": {},
   "outputs": [],
   "source": [
    "# write the list to a file to be easily passed to the training job\n",
    "\n",
    "with open(training_file_path, \"w\") as f:\n",
    "    for line in docs:\n",
    "        f.write(\n",
    "            line.replace(\"\\n\", \"\\\\n\") + \"\\n\"\n",
    "        )  # preserve newlines symbols (\\n) and write one document per line"
   ]
  },
  {
   "attachments": {},
   "cell_type": "markdown",
   "metadata": {},
   "source": [
    "#### SageMaker Python SDK Local Training\n",
    "To represent our training, we use the Estimator class, which needs to be configured in five steps. \n",
    "1. IAM role - our AWS execution role ---> make sure to add the \"AmazonEC2ContainerRegistryFullAccess\" policy to the execution role, otherwise the image push will fail\n",
    "2. train_instance_count - number of instances to use for training.\n",
    "3. train_instance_type - type of instance to use for training. For training locally, we specify `local` or `local_gpu`.\n",
    "4. image_name - our custom PyTorch Docker image we created.\n",
    "5. hyperparameters - hyperparameters we want to pass.\n",
    "\n",
    "Let's start with setting up our IAM role. We make use of a helper function within the Python SDK. This function throws an exception if runs outside a SageMaker notebook instance, as it gets metadata from the notebook instance. If running outside, you must provide an IAM role with proper access stated above in [Permissions](#Permissions)."
   ]
  },
  {
   "cell_type": "code",
   "execution_count": null,
   "metadata": {
    "tags": []
   },
   "outputs": [],
   "source": [
    "from sagemaker import get_execution_role\n",
    "\n",
    "# role to be used for batch submission\n",
    "role = get_execution_role()\n",
    "print(\"role\", role)"
   ]
  },
  {
   "attachments": {},
   "cell_type": "markdown",
   "metadata": {},
   "source": [
    "#### Check the local SageMaker setup"
   ]
  },
  {
   "cell_type": "code",
   "execution_count": null,
   "metadata": {},
   "outputs": [],
   "source": [
    "# Lets set up our SageMaker notebook instance for local mode.\n",
    "!/bin/bash ./utils/setup.sh"
   ]
  },
  {
   "cell_type": "code",
   "execution_count": 14,
   "metadata": {},
   "outputs": [
    {
     "name": "stdout",
     "output_type": "stream",
     "text": [
      "Instance type = local\n"
     ]
    }
   ],
   "source": [
    "# CHECK if GPUs are available and set the corresponding \"instance_type\"\n",
    "import os\n",
    "import subprocess\n",
    "\n",
    "instance_type_local = \"local\"\n",
    "\n",
    "# if subprocess.call(\"nvidia-smi\") == 0:\n",
    "#     ## Set type to GPU if one is present\n",
    "#     instance_type_local = \"local_gpu\"\n",
    "\n",
    "print(\"Instance type = \" + instance_type_local)"
   ]
  },
  {
   "attachments": {},
   "cell_type": "markdown",
   "metadata": {},
   "source": [
    "### Fit (+ Deploy, Predict)\n",
    "\n",
    "Now that the rest of our estimator is configured, we can call `fit()` with the path to our local 20 Newsgroups dataset prefixed with `file://`. This invokes our PyTorch container with 'train' and passes in our hyperparameters and other metadata as json files in /opt/ml/input/config within the container to our program entry point defined in the Dockerfile.\n",
    "\n",
    "After our training has succeeded, our training algorithm outputs our trained model within the /opt/ml/model directory, which is used to handle predictions.\n",
    "\n",
    "If the container used for the training is also used for the inference (NOT IN THIS CASE!) we can then conveniently call `deploy()` with an instance_count and instance_type, which is 1 and `local`. This invokes our PyTorch container with 'serve', which setups our container to handle prediction requests as defined [here](https://github.com/aws/sagemaker-pytorch-container/blob/master/src/sagemaker_pytorch_container/serving.py#L103). What is returned is a predictor, which is used to make inferences against our trained model.\n",
    "\n",
    "After our prediction, we can delete our endpoint.\n",
    "\n",
    "We recommend always testing and training your training algorithm locally first, as it provides quicker iterations and better debuggability."
   ]
  },
  {
   "attachments": {},
   "cell_type": "markdown",
   "metadata": {},
   "source": [
    "#### Local training: Fit"
   ]
  },
  {
   "cell_type": "code",
   "execution_count": null,
   "metadata": {},
   "outputs": [],
   "source": [
    "from sagemaker.estimator import Estimator\n",
    "\n",
    "# define hyperparameters\n",
    "hyperparameters = {\"language\": \"english\"}\n",
    "\n",
    "# prepare training job\n",
    "estimator = Estimator(\n",
    "    role=role,\n",
    "    train_instance_count=1,\n",
    "    train_instance_type=instance_type_local,\n",
    "    image_uri=training_algorithm_name + \":latest\",\n",
    "    hyperparameters=hyperparameters,\n",
    ")\n",
    "\n",
    "# launch training job\n",
    "print(f\"file://{training_file_path}\")\n",
    "estimator.fit(f\"file://{training_file_path}\")\n",
    "# estimator"
   ]
  },
  {
   "cell_type": "code",
   "execution_count": null,
   "metadata": {},
   "outputs": [],
   "source": [
    "# check where the fitted model has been stored after fit\n",
    "estimator.model_data"
   ]
  },
  {
   "attachments": {},
   "cell_type": "markdown",
   "metadata": {},
   "source": [
    "#### A sleek alternative to \"Bring your own container\": bring your own requirements.txt\n",
    "\n",
    "Instead of extending the PyTorch container through a Dockerfile, in many cases we can simply import additional libraries to make our model work. \n",
    "In these cases, adding the requirements.txt inside the same folder as the code will install the required dependencies at runtime. \n",
    "The source directory must be specified in the `source_dir` argument, and the entry point in the `entry_point` argument, when creating PyTorch estimator. Further documentation [here](https://sagemaker.readthedocs.io/en/stable/frameworks/pytorch/using_pytorch.html#using-third-party-libraries)"
   ]
  },
  {
   "cell_type": "code",
   "execution_count": null,
   "metadata": {},
   "outputs": [],
   "source": [
    "import boto3\n",
    "\n",
    "my_session = boto3.session.Session()\n",
    "my_region = my_session.region_name\n",
    "my_image_uri = (\n",
    "    \"763104351884.dkr.ecr.\"\n",
    "    + my_region\n",
    "    + \".amazonaws.com/pytorch-training:1.12.1-gpu-py38-cu113-ubuntu20.04-sagemaker\"\n",
    ")\n",
    "print(\n",
    "    \"my_image_uri:\",\n",
    "    my_image_uri,\n",
    "    \"\\nrole:\",\n",
    "    role,\n",
    ")\n",
    "from sagemaker.estimator import Estimator\n",
    "\n",
    "# define hyperparameters\n",
    "hyperparameters = {\"language\": \"english\"}\n",
    "\n",
    "# prepare training job\n",
    "estimator = Estimator(\n",
    "    role=role,\n",
    "    train_instance_count=1,\n",
    "    train_instance_type=instance_type_local,\n",
    "    image_uri=my_image_uri,\n",
    "    hyperparameters=hyperparameters,\n",
    "    source_dir=\"container/bert-topic-byoreq\",  # this directory contains the entry point code and the requirements.txt\n",
    "    entry_point=\"bert-topic.py\",  # this argument is used to override internal container entrypoint, if needed!\n",
    ")\n",
    "\n",
    "# launch training job\n",
    "print(f\"file://{training_file_path}\")\n",
    "estimator.fit(f\"file://{training_file_path}\")"
   ]
  },
  {
   "cell_type": "code",
   "execution_count": null,
   "metadata": {},
   "outputs": [],
   "source": [
    "estimator.model_data"
   ]
  },
  {
   "attachments": {},
   "cell_type": "markdown",
   "metadata": {},
   "source": [
    "### Training your Algorithm in Amazon SageMaker in batch mode\n",
    "Once you have your container packaged and/or validated, you can use it to train models in batch mode. Let's do that with the algorithm we made above.\n",
    "\n",
    "#### Set up the environment\n",
    "Here we specify the bucket to use (the role has been defined earlier)."
   ]
  },
  {
   "cell_type": "code",
   "execution_count": 60,
   "metadata": {},
   "outputs": [],
   "source": [
    "import clip\n",
    "import torch\n",
    "model, preprocess = clip.load('ViT-B/16', device='cpu')\n",
    "torch.save((model, preprocess), 'empty/model.pth')"
   ]
  },
  {
   "cell_type": "code",
   "execution_count": null,
   "metadata": {},
   "outputs": [],
   "source": [
    "# S3 prefix\n",
    "prefix = \"DEMO-pytorch-bert-topic\""
   ]
  },
  {
   "attachments": {},
   "cell_type": "markdown",
   "metadata": {},
   "source": [
    "#### Create the session\n",
    "\n",
    "The session remembers our connection parameters to SageMaker. We use it to perform all of our SageMaker operations."
   ]
  },
  {
   "cell_type": "code",
   "execution_count": null,
   "metadata": {},
   "outputs": [],
   "source": [
    "import sagemaker as sage\n",
    "\n",
    "sess = sage.Session()"
   ]
  },
  {
   "attachments": {},
   "cell_type": "markdown",
   "metadata": {},
   "source": [
    "#### Upload the data for training\n",
    "\n",
    "We will use the tools provided by the SageMaker Python SDK to upload the data to a default bucket."
   ]
  },
  {
   "cell_type": "code",
   "execution_count": null,
   "metadata": {},
   "outputs": [],
   "source": [
    "data_location = sess.upload_data(training_file_path, key_prefix=prefix)\n",
    "data_location"
   ]
  },
  {
   "attachments": {},
   "cell_type": "markdown",
   "metadata": {},
   "source": [
    "#### Training on SageMaker in batch mode\n",
    "Training a model on SageMaker with the Python SDK is done in a way that is similar to the way we trained it locally. This is done by changing our train_instance_type from `local` to one of our [supported EC2 instance types](https://aws.amazon.com/sagemaker/pricing/instance-types/).\n",
    "\n",
    "In addition, we must now specify the ECR image URL, which we just pushed above.\n",
    "\n",
    "Finally, our local training dataset has to be in Amazon S3 and the S3 URL to our dataset is passed into the `fit()` call.\n",
    "\n",
    "Let's first fetch our ECR image url that corresponds to the image we just built and pushed.\n",
    "\n",
    "Also in this case, whenever useful, one can use the leverage a pre-existing base image with the \"bring your own requirements.txt\" option (not shown below)."
   ]
  },
  {
   "cell_type": "code",
   "execution_count": null,
   "metadata": {},
   "outputs": [],
   "source": [
    "import boto3\n",
    "\n",
    "client = boto3.client(\"sts\")\n",
    "account = client.get_caller_identity()[\"Account\"]\n",
    "\n",
    "my_session = boto3.session.Session()\n",
    "region = my_session.region_name\n",
    "\n",
    "ecr_image = f\"{account}.dkr.ecr.{region}.amazonaws.com/{training_algorithm_name}:latest\"\n",
    "\n",
    "print(\"using ecr_image:\", ecr_image)"
   ]
  },
  {
   "attachments": {},
   "cell_type": "markdown",
   "metadata": {},
   "source": [
    "After training the mode, the output will be packaged into a tarred file `model.tar.gz` and copied to the S3 bucket in use for the training"
   ]
  },
  {
   "cell_type": "code",
   "execution_count": null,
   "metadata": {},
   "outputs": [],
   "source": [
    "from sagemaker.estimator import Estimator\n",
    "\n",
    "hyperparameters = {\"language\": \"english\"}\n",
    "\n",
    "# instance_type = \"ml.g4dn.xlarge\"\n",
    "instance_type = \"ml.p2.xlarge\"\n",
    "\n",
    "estimator = Estimator(\n",
    "    role=role,\n",
    "    train_instance_count=1,\n",
    "    train_instance_type=instance_type,\n",
    "    image_uri=ecr_image,\n",
    "    hyperparameters=hyperparameters,\n",
    ")\n",
    "\n",
    "estimator.fit(data_location)"
   ]
  },
  {
   "cell_type": "code",
   "execution_count": null,
   "metadata": {},
   "outputs": [],
   "source": [
    "# check where the fitted model has been stored after fit\n",
    "estimator.model_data"
   ]
  },
  {
   "cell_type": "code",
   "execution_count": null,
   "metadata": {},
   "outputs": [],
   "source": [
    "! docker system df\n",
    "! docker image ls\n",
    "# remove downloaded docker images to avoid \"no space left on device\" message\n",
    "! docker system prune -f\n",
    "! docker image prune --all --force"
   ]
  },
  {
   "attachments": {},
   "cell_type": "markdown",
   "metadata": {},
   "source": [
    "## Part 3: Packaging and Uploading your Algorithm for inference\n",
    "\n",
    "### The inference Dockerfile\n",
    "\n",
    "Also in this case the Dockerfile describes the image that we want to build. \n",
    "\n",
    "We start from the SageMaker PyTorch image as the base, but the *inference* one. \n",
    "\n",
    "So the SageMaker PyTorch ECR image in this case would be:\n",
    "* FROM 763104351884.dkr.ecr.{region}.amazonaws.com/pytorch-inference:1.12.1-gpu-py38-cu113-ubuntu20.04-sagemaker\n",
    "\n",
    "Next, we install the required additional libraries (we make sure that to install numba==0.53.1 and nvgpu together with berttopic, otherwise we would get an error!) and add the code that implements our specific algorithm to the container, and set up the right environment for it to run under.\n",
    "\n",
    "Finally, we need to specify two environment variables.\n",
    "1. SAGEMAKER_SUBMIT_DIRECTORY - the directory within the container containing our Python script for training and inference.\n",
    "2. SAGEMAKER_PROGRAM - the Python script that should be invoked for training and inference.\n",
    "\n",
    "Let's look at the Dockerfile for this example."
   ]
  },
  {
   "cell_type": "code",
   "execution_count": 3,
   "metadata": {},
   "outputs": [
    {
     "name": "stdout",
     "output_type": "stream",
     "text": [
      "sagemaker.config INFO - Not applying SDK defaults from location: /etc/xdg/sagemaker/config.yaml\n",
      "sagemaker.config INFO - Not applying SDK defaults from location: /home/ubuntu/.config/sagemaker/config.yaml\n"
     ]
    },
    {
     "data": {
      "text/plain": [
       "'763104351884.dkr.ecr.us-east-1.amazonaws.com/pytorch-inference:1.8.0-gpu-py3'"
      ]
     },
     "execution_count": 3,
     "metadata": {},
     "output_type": "execute_result"
    }
   ],
   "source": [
    "from sagemaker import image_uris\n",
    "image_uris.retrieve(framework='pytorch',region='us-east-1',version='1.8.0',py_version='py3',image_scope='inference', instance_type='ml.g4dn.2xlarge')\n"
   ]
  },
  {
   "cell_type": "code",
   "execution_count": 5,
   "metadata": {},
   "outputs": [],
   "source": [
    "# !cat container/Dockerfile-inference"
   ]
  },
  {
   "attachments": {},
   "cell_type": "markdown",
   "metadata": {},
   "source": [
    "### Writing your own inference script (bert-topic-inference.py)\n",
    "\n",
    "Given the use of a pre-packaged SageMaker PyTorch container, the only requirement to write an inference script is that it has to define the following template functions:\n",
    "- `model_fn()` reading the content of an existing model weights directory saved as a `tar.gz` in s3. We will use it to load the trained Model.\n",
    "- `input_fn()` used here simply to format the data receives from a request made to the endpoint.\n",
    "- `predict_fn()` calling the output of `model_fn()` to run inference on the output of `input_fn()`.\n",
    "\n",
    "Optionally a `output_fn()` can be created for inference formatting, using the output of `predict_fn()`. Here it is especially useful since the BERTopic inference output is not really standard, featuring a tuple containing 2 lists.\n"
   ]
  },
  {
   "cell_type": "code",
   "execution_count": null,
   "metadata": {},
   "outputs": [],
   "source": [
    "!pygmentize container/bert-topic/bert-topic-inference.py"
   ]
  },
  {
   "cell_type": "code",
   "execution_count": 1,
   "metadata": {},
   "outputs": [],
   "source": [
    "# The name of our algorithm -- i.e. the name of the inference container\n",
    "inference_algorithm_name = \"pytorch-inference-clip-example\""
   ]
  },
  {
   "cell_type": "code",
   "execution_count": 55,
   "metadata": {},
   "outputs": [
    {
     "name": "stdout",
     "output_type": "stream",
     "text": [
      "build_and_push.sh: 12: [: pytorch-inference-clip-example: unexpected operator\n",
      "ECR image fullname: 223890829887.dkr.ecr.us-east-1.amazonaws.com/pytorch-inference-clip-example:latest\n",
      "WARNING! Your password will be stored unencrypted in /home/ubuntu/.docker/config.json.\n",
      "Configure a credential helper to remove this warning. See\n",
      "https://docs.docker.com/engine/reference/commandline/login/#credentials-store\n",
      "\n",
      "Login Succeeded\n",
      "WARNING! Your password will be stored unencrypted in /home/ubuntu/.docker/config.json.\n",
      "Configure a credential helper to remove this warning. See\n",
      "https://docs.docker.com/engine/reference/commandline/login/#credentials-store\n",
      "\n",
      "Login Succeeded\n",
      "\u001b[1A\u001b[1B\u001b[0G\u001b[?25l[+] Building 0.0s (0/1)                                          docker:default\n",
      "\u001b[?25h\u001b[1A\u001b[0G\u001b[?25l[+] Building 0.1s (4/4)                                          docker:default\n",
      "\u001b[34m => [internal] load build definition from Dockerfile-inference             0.0s\n",
      "\u001b[0m\u001b[34m => => transferring dockerfile: 1.99kB                                     0.0s\n",
      "\u001b[0m\u001b[34m => [internal] load .dockerignore                                          0.0s\n",
      "\u001b[0m\u001b[34m => => transferring context: 2B                                            0.0s\n",
      "\u001b[0m\u001b[34m => [internal] load metadata for 763104351884.dkr.ecr.us-east-1.amazonaws  0.1s\n",
      "\u001b[0m\u001b[34m => [auth] sharing credentials for 763104351884.dkr.ecr.us-east-1.amazona  0.0s\n",
      "\u001b[0m\u001b[?25h\u001b[1A\u001b[1A\u001b[1A\u001b[1A\u001b[1A\u001b[1A\u001b[1A\u001b[0G\u001b[?25l[+] Building 0.2s (12/12) FINISHED                               docker:default\n",
      "\u001b[34m => [internal] load build definition from Dockerfile-inference             0.0s\n",
      "\u001b[0m\u001b[34m => => transferring dockerfile: 1.99kB                                     0.0s\n",
      "\u001b[0m\u001b[34m => [internal] load .dockerignore                                          0.0s\n",
      "\u001b[0m\u001b[34m => => transferring context: 2B                                            0.0s\n",
      "\u001b[0m\u001b[34m => [internal] load metadata for 763104351884.dkr.ecr.us-east-1.amazonaws  0.1s\n",
      "\u001b[0m\u001b[34m => [auth] sharing credentials for 763104351884.dkr.ecr.us-east-1.amazona  0.0s\n",
      "\u001b[0m\u001b[34m => [1/6] FROM 763104351884.dkr.ecr.us-east-1.amazonaws.com/pytorch-infer  0.0s\n",
      "\u001b[0m\u001b[34m => [internal] load build context                                          0.0s\n",
      "\u001b[0m\u001b[34m => => transferring context: 130B                                          0.0s\n",
      "\u001b[0m\u001b[34m => CACHED [2/6] RUN pip install ftfy regex tqdm                           0.0s\n",
      "\u001b[0m\u001b[34m => CACHED [3/6] RUN pip install git+https://github.com/openai/CLIP.git    0.0s\n",
      "\u001b[0m\u001b[34m => CACHED [4/6] COPY /bert-topic /opt/ml/code                             0.0s\n",
      "\u001b[0m\u001b[34m => CACHED [5/6] RUN pip install --no-cache-dir --upgrade pip &&     pip   0.0s\n",
      "\u001b[0m\u001b[34m => CACHED [6/6] RUN pip freeze                                            0.0s\n",
      "\u001b[0m\u001b[34m => exporting to image                                                     0.0s\n",
      "\u001b[0m\u001b[34m => => exporting layers                                                    0.0s\n",
      "\u001b[0m\u001b[34m => => writing image sha256:1dc87520750c3307364629bbd762515cc25249a327684  0.0s\n",
      "\u001b[0m\u001b[34m => => naming to docker.io/library/pytorch-inference-clip-example          0.0s\n",
      "\u001b[0m\u001b[?25hThe push refers to repository [223890829887.dkr.ecr.us-east-1.amazonaws.com/pytorch-inference-clip-example]\n",
      "\n",
      "\u001b[1Bbf18a086: Preparing \n",
      "\u001b[1Ba2f88bd2: Preparing \n",
      "\u001b[1B685f3a80: Preparing \n",
      "\u001b[1Bf9f26b01: Preparing \n",
      "\u001b[1B00c86dc4: Preparing \n",
      "\u001b[1Bb5f7222d: Preparing \n",
      "\u001b[1B8000bbcd: Preparing \n",
      "\u001b[1Bb7b3fac7: Preparing \n",
      "\u001b[1Bbc71311d: Preparing \n",
      "\u001b[1Be374b287: Preparing \n",
      "\u001b[1B8ddb24f3: Preparing \n",
      "\u001b[1Bae01168b: Preparing \n",
      "\u001b[1B5dc6d75b: Preparing \n",
      "\u001b[1B2f449df1: Preparing \n",
      "\u001b[1B511ea28b: Preparing \n",
      "\u001b[1Bd405bcde: Preparing \n",
      "\u001b[1Baef09c3d: Preparing \n",
      "\u001b[8B8ddb24f3: Waiting g \n",
      "\u001b[12B7b3fac7: Waiting g \n",
      "\u001b[12Bc71311d: Waiting g \n",
      "\u001b[12B374b287: Waiting g \n",
      "\u001b[11Be01168b: Waiting g \n",
      "\u001b[1B0e36189e: Preparing \n",
      "\u001b[12Bdc6d75b: Waiting g \n",
      "\u001b[1B581dbc3c: Preparing \n",
      "\u001b[1B6facb613: Layer already exists \u001b[20A\u001b[2K\u001b[16A\u001b[2K\u001b[12A\u001b[2K\u001b[8A\u001b[2K\u001b[3A\u001b[2Klatest: digest: sha256:d38ad91b63cbc4f0f7f0f78d4b97b38e52290e62b8881d7c2866e4c63f8f9981 size: 5771\n"
     ]
    }
   ],
   "source": [
    "# building and pushing the container\n",
    "! cd container && sh build_and_push.sh {inference_algorithm_name} Dockerfile-inference"
   ]
  },
  {
   "attachments": {},
   "cell_type": "markdown",
   "metadata": {},
   "source": [
    "### Inference from Containerized SageMaker Model"
   ]
  },
  {
   "cell_type": "code",
   "execution_count": 2,
   "metadata": {},
   "outputs": [
    {
     "data": {
      "text/plain": [
       "'223890829887.dkr.ecr.us-east-1.amazonaws.com/pytorch-inference-clip-example:latest'"
      ]
     },
     "execution_count": 2,
     "metadata": {},
     "output_type": "execute_result"
    }
   ],
   "source": [
    "import pprint\n",
    "import boto3\n",
    "\n",
    "pp = pprint.PrettyPrinter(indent=1)\n",
    "\n",
    "sm_boto3 = boto3.client(\"sagemaker\")\n",
    "\n",
    "region = boto3.Session().region_name\n",
    "account_id = boto3.client(\"sts\").get_caller_identity()[\"Account\"]\n",
    "\n",
    "image_uri_inference = (\n",
    "    f\"{account_id}.dkr.ecr.{region}.amazonaws.com/{inference_algorithm_name}:latest\"\n",
    ")\n",
    "image_uri_inference"
   ]
  },
  {
   "attachments": {},
   "cell_type": "markdown",
   "metadata": {},
   "source": [
    "#### Prepare session to run container locally"
   ]
  },
  {
   "cell_type": "code",
   "execution_count": 3,
   "metadata": {},
   "outputs": [
    {
     "name": "stdout",
     "output_type": "stream",
     "text": [
      "sagemaker.config INFO - Not applying SDK defaults from location: /etc/xdg/sagemaker/config.yaml\n",
      "sagemaker.config INFO - Not applying SDK defaults from location: /home/ubuntu/.config/sagemaker/config.yaml\n",
      "sagemaker.config INFO - Not applying SDK defaults from location: /etc/xdg/sagemaker/config.yaml\n",
      "sagemaker.config INFO - Not applying SDK defaults from location: /home/ubuntu/.config/sagemaker/config.yaml\n",
      "sagemaker.config INFO - Not applying SDK defaults from location: /etc/xdg/sagemaker/config.yaml\n",
      "sagemaker.config INFO - Not applying SDK defaults from location: /home/ubuntu/.config/sagemaker/config.yaml\n",
      "<class 'sagemaker.local.local_session.LocalSession'>\n",
      "sagemaker.config INFO - Not applying SDK defaults from location: /etc/xdg/sagemaker/config.yaml\n",
      "sagemaker.config INFO - Not applying SDK defaults from location: /home/ubuntu/.config/sagemaker/config.yaml\n"
     ]
    }
   ],
   "source": [
    "import sagemaker\n",
    "from sagemaker.local import LocalSession\n",
    "instance_type_local = 'local'\n",
    "session_local = LocalSession()\n",
    "session_local.config = {instance_type_local: {\"local_code\": True}}\n",
    "print(type(session_local))\n",
    "\n",
    "from sagemaker import get_execution_role\n",
    "\n",
    "role = get_execution_role()"
   ]
  },
  {
   "attachments": {},
   "cell_type": "markdown",
   "metadata": {},
   "source": [
    "#### Check for locally running Docker containers (and stop them if needed)"
   ]
  },
  {
   "cell_type": "code",
   "execution_count": 4,
   "metadata": {},
   "outputs": [
    {
     "name": "stdout",
     "output_type": "stream",
     "text": [
      "CONTAINER ID   IMAGE                                                                                         COMMAND                  CREATED      STATUS      PORTS                                                           NAMES\n",
      "e4f574d87d5c   docker.artifactory.rbx.com/clip-triton-base-docker:5b975fd60454f0e76a0d2bfd06c2bb489a3ee731   \"/opt/nvidia/nvidia_…\"   5 days ago   Up 5 days   0.0.0.0:8000-8002->8000-8002/tcp, :::8000-8002->8000-8002/tcp   intelligent_morse\n"
     ]
    }
   ],
   "source": [
    "! docker ps"
   ]
  },
  {
   "cell_type": "code",
   "execution_count": 5,
   "metadata": {},
   "outputs": [],
   "source": [
    "# if model doesn't deploy locally, kill other running containers\n",
    "# docker stop $(docker ps -a -q)\n",
    "# docker rm $(docker ps -a -q)"
   ]
  },
  {
   "attachments": {},
   "cell_type": "markdown",
   "metadata": {},
   "source": [
    "#### Deploy container locally to create a local endpoint \n",
    "##### (WARNING: cells stdout will start behaving fuzzy, showing container log info, till the local container is active...)\n",
    "\n",
    "Disclaimer: if the inference container is missing the default `behavior` is possible to use local files (`source_dir` and `entry_point` arguments)"
   ]
  },
  {
   "cell_type": "code",
   "execution_count": 6,
   "metadata": {},
   "outputs": [],
   "source": [
    "# import torch\n",
    "# # torch.tensor([1,2,3,4,5]).save('empty/model.pth')"
   ]
  },
  {
   "cell_type": "code",
   "execution_count": 7,
   "metadata": {},
   "outputs": [],
   "source": [
    "from sagemaker import Model\n",
    "\n",
    "# model_data = estimator.model_data\n",
    "\n",
    "estimator = Model(\n",
    "    image_uri=image_uri_inference,\n",
    "    model_data=\"file://./model.tar.gz\",\n",
    "    role=role,\n",
    "    source_dir=\"container/bert-topic\",  # this argument is used to override internal container entrypoint, if needed!\n",
    "    entry_point=\"bert-topic-inference.py\",  # this argument is used to override internal container entrypoint, if needed!\n",
    "    sagemaker_session=session_local,  # local session\n",
    "    #                   predictor_cls=None,\n",
    "    #                   env=None,\n",
    "    #                   name=None,\n",
    "    #                   vpc_config=None,\n",
    "    #                   enable_network_isolation=False,\n",
    "    #                   model_kms_key=None,\n",
    "    #                   image_config=None,\n",
    "    #                   code_location=None,\n",
    "    #                   container_log_level=20,\n",
    "    #                   dependencies=None,\n",
    "    #                   git_config=None\n",
    ")\n",
    "\n",
    "predictor = estimator.deploy(1, instance_type_local)"
   ]
  },
  {
   "attachments": {},
   "cell_type": "markdown",
   "metadata": {},
   "source": [
    "#### Invoke locally deployed endpoint"
   ]
  },
  {
   "cell_type": "code",
   "execution_count": 46,
   "metadata": {},
   "outputs": [
    {
     "name": "stdout",
     "output_type": "stream",
     "text": [
      "sagemaker.config INFO - Not applying SDK defaults from location: /etc/xdg/sagemaker/config.yaml\n",
      "sagemaker.config INFO - Not applying SDK defaults from location: /home/ubuntu/.config/sagemaker/config.yaml\n",
      "sagemaker.config INFO - Not applying SDK defaults from location: /etc/xdg/sagemaker/config.yaml\n",
      "sagemaker.config INFO - Not applying SDK defaults from location: /home/ubuntu/.config/sagemaker/config.yaml\n"
     ]
    },
    {
     "name": "stdout",
     "output_type": "stream",
     "text": [
      "2227s001z1-algo-1-ghk5f  | 2023-10-09 09:01:08,960 [INFO ] W-9000-model_1-stdout org.pytorch.serve.wlm.WorkerLifeCycle - serialized_input_data object: {\"thumbnail_url\": \"https://tr.rbxcdn.com/c1b55f2c2d4b72bdf428caf2165ed351/150/150/Hat/Png\"}\n",
      "2227s001z1-algo-1-ghk5f  | 2023-10-09 09:01:08,960 [INFO ] W-9000-model_1-stdout org.pytorch.serve.wlm.WorkerLifeCycle - input_data object: {'thumbnail_url': 'https://tr.rbxcdn.com/c1b55f2c2d4b72bdf428caf2165ed351/150/150/Hat/Png'}\n",
      "2227s001z1-algo-1-ghk5f  | 2023-10-09 09:01:08,960 [INFO ] W-9000-model_1-stdout org.pytorch.serve.wlm.WorkerLifeCycle - Got input Data: {'thumbnail_url': 'https://tr.rbxcdn.com/c1b55f2c2d4b72bdf428caf2165ed351/150/150/Hat/Png'}\n",
      "2227s001z1-algo-1-ghk5f  | 2023-10-09 09:01:08,960 [INFO ] W-9000-model_1-stdout org.pytorch.serve.wlm.WorkerLifeCycle - thumbnail_url: https://tr.rbxcdn.com/c1b55f2c2d4b72bdf428caf2165ed351/150/150/Hat/Png\n",
      "2227s001z1-algo-1-ghk5f  | 2023-10-09 09:01:09,231 [INFO ] W-9000-model_1-stdout org.pytorch.serve.wlm.WorkerLifeCycle - Image not found\n",
      "2227s001z1-algo-1-ghk5f  | 2023-10-09 09:01:09,231 [INFO ] W-9000-model_1-stdout org.pytorch.serve.wlm.WorkerLifeCycle - prediction object before: None, type: <class 'NoneType'>\n",
      "2227s001z1-algo-1-ghk5f  | 2023-10-09 09:01:09,231 [INFO ] W-9000-model_1-stdout MODEL_METRICS - PredictionTime.Milliseconds:271.21|#ModelName:model,Level:Model|#hostname:6104c552534b,requestID:fee4f1fb-e1f8-4a60-9750-fc98b54f7304,timestamp:1696842069\n",
      "2227s001z1-algo-1-ghk5f  | 2023-10-09 09:01:09,232 [INFO ] W-9000-model_1 org.pytorch.serve.wlm.WorkerThread - Backend response time: 271\n",
      "2227s001z1-algo-1-ghk5f  | 2023-10-09 09:01:09,232 [INFO ] W-9000-model_1 ACCESS_LOG - /172.18.0.1:38928 \"POST /invocations HTTP/1.1\" 200 273\n",
      "2227s001z1-algo-1-ghk5f  | 2023-10-09 09:01:09,232 [INFO ] W-9000-model_1 TS_METRICS - Requests2XX.Count:1|#Level:Host|#hostname:6104c552534b,timestamp:null\n",
      "2227s001z1-algo-1-ghk5f  | 2023-10-09 09:01:09,232 [INFO ] W-9000-model_1 TS_METRICS - QueueTime.ms:0|#Level:Host|#hostname:6104c552534b,timestamp:null\n",
      "2227s001z1-algo-1-ghk5f  | 2023-10-09 09:01:09,232 [INFO ] W-9000-model_1 TS_METRICS - WorkerThreadTime.ms:2|#Level:Host|#hostname:6104c552534b,timestamp:null\n",
      "CPU times: user 14.6 ms, sys: 177 µs, total: 14.8 ms\n",
      "Wall time: 311 ms\n"
     ]
    }
   ],
   "source": [
    "%%time\n",
    "import json\n",
    "\n",
    "sagemaker_session = LocalSession()\n",
    "sagemaker_session.config = {instance_type_local: {\"local_code\": True}}\n",
    "\n",
    "sm_client = sagemaker_session.sagemaker_runtime_client\n",
    "response = sm_client.invoke_endpoint(\n",
    "    EndpointName=\"local-endpoint\",\n",
    "    ContentType=\"application/json\",\n",
    "    Body=json.dumps({\"thumbnail_url\": \"https://tr.rbxcdn.com/c1b55f2c2d4b72bdf428caf2165ed351/150/150/Hat/Png\"}),\n",
    ")\n",
    "\n",
    "r = response[\"Body\"]\n"
   ]
  },
  {
   "cell_type": "code",
   "execution_count": 47,
   "metadata": {},
   "outputs": [
    {
     "data": {
      "text/plain": [
       "'No Image Found'"
      ]
     },
     "execution_count": 47,
     "metadata": {},
     "output_type": "execute_result"
    },
    {
     "name": "stdout",
     "output_type": "stream",
     "text": [
      "2227s001z1-algo-1-ghk5f  | 2023-10-09 09:01:48,457 [INFO ] pool-2-thread-2 TS_METRICS - CPUUtilization.Percent:0.0|#Level:Host|#hostname:6104c552534b,timestamp:1696842108\n",
      "2227s001z1-algo-1-ghk5f  | 2023-10-09 09:01:48,457 [INFO ] pool-2-thread-2 TS_METRICS - DiskAvailable.Gigabytes:58.36187744140625|#Level:Host|#hostname:6104c552534b,timestamp:1696842108\n",
      "2227s001z1-algo-1-ghk5f  | 2023-10-09 09:01:48,457 [INFO ] pool-2-thread-2 TS_METRICS - DiskUsage.Gigabytes:135.42857360839844|#Level:Host|#hostname:6104c552534b,timestamp:1696842108\n",
      "2227s001z1-algo-1-ghk5f  | 2023-10-09 09:01:48,457 [INFO ] pool-2-thread-2 TS_METRICS - DiskUtilization.Percent:69.9|#Level:Host|#hostname:6104c552534b,timestamp:1696842108\n",
      "2227s001z1-algo-1-ghk5f  | 2023-10-09 09:01:48,458 [INFO ] pool-2-thread-2 TS_METRICS - MemoryAvailable.Megabytes:200364.4765625|#Level:Host|#hostname:6104c552534b,timestamp:1696842108\n",
      "2227s001z1-algo-1-ghk5f  | 2023-10-09 09:01:48,458 [INFO ] pool-2-thread-2 TS_METRICS - MemoryUsed.Megabytes:50724.2421875|#Level:Host|#hostname:6104c552534b,timestamp:1696842108\n",
      "2227s001z1-algo-1-ghk5f  | 2023-10-09 09:01:48,458 [INFO ] pool-2-thread-2 TS_METRICS - MemoryUtilization.Percent:21.4|#Level:Host|#hostname:6104c552534b,timestamp:1696842108\n",
      "2227s001z1-algo-1-ghk5f  | 2023-10-09 09:02:48,457 [INFO ] pool-2-thread-2 TS_METRICS - CPUUtilization.Percent:0.0|#Level:Host|#hostname:6104c552534b,timestamp:1696842168\n",
      "2227s001z1-algo-1-ghk5f  | 2023-10-09 09:02:48,457 [INFO ] pool-2-thread-2 TS_METRICS - DiskAvailable.Gigabytes:58.36187744140625|#Level:Host|#hostname:6104c552534b,timestamp:1696842168\n",
      "2227s001z1-algo-1-ghk5f  | 2023-10-09 09:02:48,457 [INFO ] pool-2-thread-2 TS_METRICS - DiskUsage.Gigabytes:135.42857360839844|#Level:Host|#hostname:6104c552534b,timestamp:1696842168\n",
      "2227s001z1-algo-1-ghk5f  | 2023-10-09 09:02:48,457 [INFO ] pool-2-thread-2 TS_METRICS - DiskUtilization.Percent:69.9|#Level:Host|#hostname:6104c552534b,timestamp:1696842168\n",
      "2227s001z1-algo-1-ghk5f  | 2023-10-09 09:02:48,457 [INFO ] pool-2-thread-2 TS_METRICS - MemoryAvailable.Megabytes:200366.08984375|#Level:Host|#hostname:6104c552534b,timestamp:1696842168\n",
      "2227s001z1-algo-1-ghk5f  | 2023-10-09 09:02:48,457 [INFO ] pool-2-thread-2 TS_METRICS - MemoryUsed.Megabytes:50722.62890625|#Level:Host|#hostname:6104c552534b,timestamp:1696842168\n",
      "2227s001z1-algo-1-ghk5f  | 2023-10-09 09:02:48,457 [INFO ] pool-2-thread-2 TS_METRICS - MemoryUtilization.Percent:21.4|#Level:Host|#hostname:6104c552534b,timestamp:1696842168\n",
      "2227s001z1-algo-1-ghk5f  | 2023-10-09 09:03:48,457 [INFO ] pool-2-thread-2 TS_METRICS - CPUUtilization.Percent:0.0|#Level:Host|#hostname:6104c552534b,timestamp:1696842228\n",
      "2227s001z1-algo-1-ghk5f  | 2023-10-09 09:03:48,457 [INFO ] pool-2-thread-2 TS_METRICS - DiskAvailable.Gigabytes:58.361873626708984|#Level:Host|#hostname:6104c552534b,timestamp:1696842228\n",
      "2227s001z1-algo-1-ghk5f  | 2023-10-09 09:03:48,457 [INFO ] pool-2-thread-2 TS_METRICS - DiskUsage.Gigabytes:135.4285774230957|#Level:Host|#hostname:6104c552534b,timestamp:1696842228\n",
      "2227s001z1-algo-1-ghk5f  | 2023-10-09 09:03:48,457 [INFO ] pool-2-thread-2 TS_METRICS - DiskUtilization.Percent:69.9|#Level:Host|#hostname:6104c552534b,timestamp:1696842228\n",
      "2227s001z1-algo-1-ghk5f  | 2023-10-09 09:03:48,457 [INFO ] pool-2-thread-2 TS_METRICS - MemoryAvailable.Megabytes:200359.87109375|#Level:Host|#hostname:6104c552534b,timestamp:1696842228\n",
      "2227s001z1-algo-1-ghk5f  | 2023-10-09 09:03:48,458 [INFO ] pool-2-thread-2 TS_METRICS - MemoryUsed.Megabytes:50728.84765625|#Level:Host|#hostname:6104c552534b,timestamp:1696842228\n",
      "2227s001z1-algo-1-ghk5f  | 2023-10-09 09:03:48,458 [INFO ] pool-2-thread-2 TS_METRICS - MemoryUtilization.Percent:21.4|#Level:Host|#hostname:6104c552534b,timestamp:1696842228\n",
      "2227s001z1-algo-1-ghk5f  | 2023-10-09 09:04:48,457 [INFO ] pool-2-thread-2 TS_METRICS - CPUUtilization.Percent:0.0|#Level:Host|#hostname:6104c552534b,timestamp:1696842288\n",
      "2227s001z1-algo-1-ghk5f  | 2023-10-09 09:04:48,457 [INFO ] pool-2-thread-2 TS_METRICS - DiskAvailable.Gigabytes:58.361873626708984|#Level:Host|#hostname:6104c552534b,timestamp:1696842288\n",
      "2227s001z1-algo-1-ghk5f  | 2023-10-09 09:04:48,457 [INFO ] pool-2-thread-2 TS_METRICS - DiskUsage.Gigabytes:135.4285774230957|#Level:Host|#hostname:6104c552534b,timestamp:1696842288\n",
      "2227s001z1-algo-1-ghk5f  | 2023-10-09 09:04:48,457 [INFO ] pool-2-thread-2 TS_METRICS - DiskUtilization.Percent:69.9|#Level:Host|#hostname:6104c552534b,timestamp:1696842288\n",
      "2227s001z1-algo-1-ghk5f  | 2023-10-09 09:04:48,457 [INFO ] pool-2-thread-2 TS_METRICS - MemoryAvailable.Megabytes:200349.4140625|#Level:Host|#hostname:6104c552534b,timestamp:1696842288\n",
      "2227s001z1-algo-1-ghk5f  | 2023-10-09 09:04:48,457 [INFO ] pool-2-thread-2 TS_METRICS - MemoryUsed.Megabytes:50739.3046875|#Level:Host|#hostname:6104c552534b,timestamp:1696842288\n",
      "2227s001z1-algo-1-ghk5f  | 2023-10-09 09:04:48,457 [INFO ] pool-2-thread-2 TS_METRICS - MemoryUtilization.Percent:21.4|#Level:Host|#hostname:6104c552534b,timestamp:1696842288\n",
      "2227s001z1-algo-1-ghk5f  | 2023-10-09 09:05:48,457 [INFO ] pool-2-thread-2 TS_METRICS - CPUUtilization.Percent:0.0|#Level:Host|#hostname:6104c552534b,timestamp:1696842348\n",
      "2227s001z1-algo-1-ghk5f  | 2023-10-09 09:05:48,457 [INFO ] pool-2-thread-2 TS_METRICS - DiskAvailable.Gigabytes:58.361873626708984|#Level:Host|#hostname:6104c552534b,timestamp:1696842348\n",
      "2227s001z1-algo-1-ghk5f  | 2023-10-09 09:05:48,457 [INFO ] pool-2-thread-2 TS_METRICS - DiskUsage.Gigabytes:135.4285774230957|#Level:Host|#hostname:6104c552534b,timestamp:1696842348\n",
      "2227s001z1-algo-1-ghk5f  | 2023-10-09 09:05:48,458 [INFO ] pool-2-thread-2 TS_METRICS - DiskUtilization.Percent:69.9|#Level:Host|#hostname:6104c552534b,timestamp:1696842348\n",
      "2227s001z1-algo-1-ghk5f  | 2023-10-09 09:05:48,458 [INFO ] pool-2-thread-2 TS_METRICS - MemoryAvailable.Megabytes:200348.7734375|#Level:Host|#hostname:6104c552534b,timestamp:1696842348\n",
      "2227s001z1-algo-1-ghk5f  | 2023-10-09 09:05:48,458 [INFO ] pool-2-thread-2 TS_METRICS - MemoryUsed.Megabytes:50739.9453125|#Level:Host|#hostname:6104c552534b,timestamp:1696842348\n",
      "2227s001z1-algo-1-ghk5f  | 2023-10-09 09:05:48,458 [INFO ] pool-2-thread-2 TS_METRICS - MemoryUtilization.Percent:21.4|#Level:Host|#hostname:6104c552534b,timestamp:1696842348\n",
      "2227s001z1-algo-1-ghk5f  | 2023-10-09 09:06:48,457 [INFO ] pool-2-thread-2 TS_METRICS - CPUUtilization.Percent:0.0|#Level:Host|#hostname:6104c552534b,timestamp:1696842408\n",
      "2227s001z1-algo-1-ghk5f  | 2023-10-09 09:06:48,457 [INFO ] pool-2-thread-2 TS_METRICS - DiskAvailable.Gigabytes:58.36186599731445|#Level:Host|#hostname:6104c552534b,timestamp:1696842408\n",
      "2227s001z1-algo-1-ghk5f  | 2023-10-09 09:06:48,457 [INFO ] pool-2-thread-2 TS_METRICS - DiskUsage.Gigabytes:135.42858505249023|#Level:Host|#hostname:6104c552534b,timestamp:1696842408\n",
      "2227s001z1-algo-1-ghk5f  | 2023-10-09 09:06:48,457 [INFO ] pool-2-thread-2 TS_METRICS - DiskUtilization.Percent:69.9|#Level:Host|#hostname:6104c552534b,timestamp:1696842408\n",
      "2227s001z1-algo-1-ghk5f  | 2023-10-09 09:06:48,457 [INFO ] pool-2-thread-2 TS_METRICS - MemoryAvailable.Megabytes:200349.8828125|#Level:Host|#hostname:6104c552534b,timestamp:1696842408\n",
      "2227s001z1-algo-1-ghk5f  | 2023-10-09 09:06:48,457 [INFO ] pool-2-thread-2 TS_METRICS - MemoryUsed.Megabytes:50738.8359375|#Level:Host|#hostname:6104c552534b,timestamp:1696842408\n",
      "2227s001z1-algo-1-ghk5f  | 2023-10-09 09:06:48,457 [INFO ] pool-2-thread-2 TS_METRICS - MemoryUtilization.Percent:21.4|#Level:Host|#hostname:6104c552534b,timestamp:1696842408\n",
      "2227s001z1-algo-1-ghk5f  | 2023-10-09 09:07:48,457 [INFO ] pool-2-thread-1 TS_METRICS - CPUUtilization.Percent:0.0|#Level:Host|#hostname:6104c552534b,timestamp:1696842468\n",
      "2227s001z1-algo-1-ghk5f  | 2023-10-09 09:07:48,457 [INFO ] pool-2-thread-1 TS_METRICS - DiskAvailable.Gigabytes:58.36186599731445|#Level:Host|#hostname:6104c552534b,timestamp:1696842468\n",
      "2227s001z1-algo-1-ghk5f  | 2023-10-09 09:07:48,457 [INFO ] pool-2-thread-1 TS_METRICS - DiskUsage.Gigabytes:135.42858505249023|#Level:Host|#hostname:6104c552534b,timestamp:1696842468\n",
      "2227s001z1-algo-1-ghk5f  | 2023-10-09 09:07:48,457 [INFO ] pool-2-thread-1 TS_METRICS - DiskUtilization.Percent:69.9|#Level:Host|#hostname:6104c552534b,timestamp:1696842468\n",
      "2227s001z1-algo-1-ghk5f  | 2023-10-09 09:07:48,457 [INFO ] pool-2-thread-1 TS_METRICS - MemoryAvailable.Megabytes:200339.36328125|#Level:Host|#hostname:6104c552534b,timestamp:1696842468\n",
      "2227s001z1-algo-1-ghk5f  | 2023-10-09 09:07:48,457 [INFO ] pool-2-thread-1 TS_METRICS - MemoryUsed.Megabytes:50749.35546875|#Level:Host|#hostname:6104c552534b,timestamp:1696842468\n",
      "2227s001z1-algo-1-ghk5f  | 2023-10-09 09:07:48,457 [INFO ] pool-2-thread-1 TS_METRICS - MemoryUtilization.Percent:21.4|#Level:Host|#hostname:6104c552534b,timestamp:1696842468\n",
      "2227s001z1-algo-1-ghk5f  | 2023-10-09 09:08:48,457 [INFO ] pool-2-thread-1 TS_METRICS - CPUUtilization.Percent:0.0|#Level:Host|#hostname:6104c552534b,timestamp:1696842528\n",
      "2227s001z1-algo-1-ghk5f  | 2023-10-09 09:08:48,457 [INFO ] pool-2-thread-1 TS_METRICS - DiskAvailable.Gigabytes:58.36186599731445|#Level:Host|#hostname:6104c552534b,timestamp:1696842528\n",
      "2227s001z1-algo-1-ghk5f  | 2023-10-09 09:08:48,457 [INFO ] pool-2-thread-1 TS_METRICS - DiskUsage.Gigabytes:135.42858505249023|#Level:Host|#hostname:6104c552534b,timestamp:1696842528\n",
      "2227s001z1-algo-1-ghk5f  | 2023-10-09 09:08:48,457 [INFO ] pool-2-thread-1 TS_METRICS - DiskUtilization.Percent:69.9|#Level:Host|#hostname:6104c552534b,timestamp:1696842528\n",
      "2227s001z1-algo-1-ghk5f  | 2023-10-09 09:08:48,457 [INFO ] pool-2-thread-1 TS_METRICS - MemoryAvailable.Megabytes:200336.3515625|#Level:Host|#hostname:6104c552534b,timestamp:1696842528\n",
      "2227s001z1-algo-1-ghk5f  | 2023-10-09 09:08:48,457 [INFO ] pool-2-thread-1 TS_METRICS - MemoryUsed.Megabytes:50752.3671875|#Level:Host|#hostname:6104c552534b,timestamp:1696842528\n",
      "2227s001z1-algo-1-ghk5f  | 2023-10-09 09:08:48,457 [INFO ] pool-2-thread-1 TS_METRICS - MemoryUtilization.Percent:21.4|#Level:Host|#hostname:6104c552534b,timestamp:1696842528\n",
      "2227s001z1-algo-1-ghk5f  | 2023-10-09 09:09:48,457 [INFO ] pool-2-thread-1 TS_METRICS - CPUUtilization.Percent:0.0|#Level:Host|#hostname:6104c552534b,timestamp:1696842588\n",
      "2227s001z1-algo-1-ghk5f  | 2023-10-09 09:09:48,457 [INFO ] pool-2-thread-1 TS_METRICS - DiskAvailable.Gigabytes:58.36186218261719|#Level:Host|#hostname:6104c552534b,timestamp:1696842588\n",
      "2227s001z1-algo-1-ghk5f  | 2023-10-09 09:09:48,457 [INFO ] pool-2-thread-1 TS_METRICS - DiskUsage.Gigabytes:135.4285888671875|#Level:Host|#hostname:6104c552534b,timestamp:1696842588\n",
      "2227s001z1-algo-1-ghk5f  | 2023-10-09 09:09:48,457 [INFO ] pool-2-thread-1 TS_METRICS - DiskUtilization.Percent:69.9|#Level:Host|#hostname:6104c552534b,timestamp:1696842588\n",
      "2227s001z1-algo-1-ghk5f  | 2023-10-09 09:09:48,457 [INFO ] pool-2-thread-1 TS_METRICS - MemoryAvailable.Megabytes:200348.4765625|#Level:Host|#hostname:6104c552534b,timestamp:1696842588\n",
      "2227s001z1-algo-1-ghk5f  | 2023-10-09 09:09:48,457 [INFO ] pool-2-thread-1 TS_METRICS - MemoryUsed.Megabytes:50740.2421875|#Level:Host|#hostname:6104c552534b,timestamp:1696842588\n",
      "2227s001z1-algo-1-ghk5f  | 2023-10-09 09:09:48,458 [INFO ] pool-2-thread-1 TS_METRICS - MemoryUtilization.Percent:21.4|#Level:Host|#hostname:6104c552534b,timestamp:1696842588\n",
      "2227s001z1-algo-1-ghk5f  | 2023-10-09 09:10:48,458 [INFO ] pool-2-thread-1 TS_METRICS - CPUUtilization.Percent:0.0|#Level:Host|#hostname:6104c552534b,timestamp:1696842648\n",
      "2227s001z1-algo-1-ghk5f  | 2023-10-09 09:10:48,458 [INFO ] pool-2-thread-1 TS_METRICS - DiskAvailable.Gigabytes:58.36186218261719|#Level:Host|#hostname:6104c552534b,timestamp:1696842648\n",
      "2227s001z1-algo-1-ghk5f  | 2023-10-09 09:10:48,458 [INFO ] pool-2-thread-1 TS_METRICS - DiskUsage.Gigabytes:135.4285888671875|#Level:Host|#hostname:6104c552534b,timestamp:1696842648\n",
      "2227s001z1-algo-1-ghk5f  | 2023-10-09 09:10:48,458 [INFO ] pool-2-thread-1 TS_METRICS - DiskUtilization.Percent:69.9|#Level:Host|#hostname:6104c552534b,timestamp:1696842648\n",
      "2227s001z1-algo-1-ghk5f  | 2023-10-09 09:10:48,458 [INFO ] pool-2-thread-1 TS_METRICS - MemoryAvailable.Megabytes:200348.6953125|#Level:Host|#hostname:6104c552534b,timestamp:1696842648\n",
      "2227s001z1-algo-1-ghk5f  | 2023-10-09 09:10:48,458 [INFO ] pool-2-thread-1 TS_METRICS - MemoryUsed.Megabytes:50740.0234375|#Level:Host|#hostname:6104c552534b,timestamp:1696842648\n",
      "2227s001z1-algo-1-ghk5f  | 2023-10-09 09:10:48,458 [INFO ] pool-2-thread-1 TS_METRICS - MemoryUtilization.Percent:21.4|#Level:Host|#hostname:6104c552534b,timestamp:1696842648\n",
      "2227s001z1-algo-1-ghk5f  | 2023-10-09 09:11:48,457 [INFO ] pool-2-thread-2 TS_METRICS - CPUUtilization.Percent:0.0|#Level:Host|#hostname:6104c552534b,timestamp:1696842708\n",
      "2227s001z1-algo-1-ghk5f  | 2023-10-09 09:11:48,457 [INFO ] pool-2-thread-2 TS_METRICS - DiskAvailable.Gigabytes:58.361854553222656|#Level:Host|#hostname:6104c552534b,timestamp:1696842708\n",
      "2227s001z1-algo-1-ghk5f  | 2023-10-09 09:11:48,457 [INFO ] pool-2-thread-2 TS_METRICS - DiskUsage.Gigabytes:135.42859649658203|#Level:Host|#hostname:6104c552534b,timestamp:1696842708\n",
      "2227s001z1-algo-1-ghk5f  | 2023-10-09 09:11:48,457 [INFO ] pool-2-thread-2 TS_METRICS - DiskUtilization.Percent:69.9|#Level:Host|#hostname:6104c552534b,timestamp:1696842708\n",
      "2227s001z1-algo-1-ghk5f  | 2023-10-09 09:11:48,457 [INFO ] pool-2-thread-2 TS_METRICS - MemoryAvailable.Megabytes:200354.02734375|#Level:Host|#hostname:6104c552534b,timestamp:1696842708\n",
      "2227s001z1-algo-1-ghk5f  | 2023-10-09 09:11:48,457 [INFO ] pool-2-thread-2 TS_METRICS - MemoryUsed.Megabytes:50734.69140625|#Level:Host|#hostname:6104c552534b,timestamp:1696842708\n",
      "2227s001z1-algo-1-ghk5f  | 2023-10-09 09:11:48,457 [INFO ] pool-2-thread-2 TS_METRICS - MemoryUtilization.Percent:21.4|#Level:Host|#hostname:6104c552534b,timestamp:1696842708\n",
      "2227s001z1-algo-1-ghk5f  | 2023-10-09 09:12:48,457 [INFO ] pool-2-thread-2 TS_METRICS - CPUUtilization.Percent:0.0|#Level:Host|#hostname:6104c552534b,timestamp:1696842768\n",
      "2227s001z1-algo-1-ghk5f  | 2023-10-09 09:12:48,457 [INFO ] pool-2-thread-2 TS_METRICS - DiskAvailable.Gigabytes:58.36185073852539|#Level:Host|#hostname:6104c552534b,timestamp:1696842768\n",
      "2227s001z1-algo-1-ghk5f  | 2023-10-09 09:12:48,457 [INFO ] pool-2-thread-2 TS_METRICS - DiskUsage.Gigabytes:135.4286003112793|#Level:Host|#hostname:6104c552534b,timestamp:1696842768\n",
      "2227s001z1-algo-1-ghk5f  | 2023-10-09 09:12:48,457 [INFO ] pool-2-thread-2 TS_METRICS - DiskUtilization.Percent:69.9|#Level:Host|#hostname:6104c552534b,timestamp:1696842768\n",
      "2227s001z1-algo-1-ghk5f  | 2023-10-09 09:12:48,457 [INFO ] pool-2-thread-2 TS_METRICS - MemoryAvailable.Megabytes:200353.64453125|#Level:Host|#hostname:6104c552534b,timestamp:1696842768\n",
      "2227s001z1-algo-1-ghk5f  | 2023-10-09 09:12:48,457 [INFO ] pool-2-thread-2 TS_METRICS - MemoryUsed.Megabytes:50735.07421875|#Level:Host|#hostname:6104c552534b,timestamp:1696842768\n",
      "2227s001z1-algo-1-ghk5f  | 2023-10-09 09:12:48,458 [INFO ] pool-2-thread-2 TS_METRICS - MemoryUtilization.Percent:21.4|#Level:Host|#hostname:6104c552534b,timestamp:1696842768\n",
      "2227s001z1-algo-1-ghk5f  | 2023-10-09 09:13:48,457 [INFO ] pool-2-thread-1 TS_METRICS - CPUUtilization.Percent:0.0|#Level:Host|#hostname:6104c552534b,timestamp:1696842828\n",
      "2227s001z1-algo-1-ghk5f  | 2023-10-09 09:13:48,457 [INFO ] pool-2-thread-1 TS_METRICS - DiskAvailable.Gigabytes:58.36185073852539|#Level:Host|#hostname:6104c552534b,timestamp:1696842828\n",
      "2227s001z1-algo-1-ghk5f  | 2023-10-09 09:13:48,457 [INFO ] pool-2-thread-1 TS_METRICS - DiskUsage.Gigabytes:135.4286003112793|#Level:Host|#hostname:6104c552534b,timestamp:1696842828\n",
      "2227s001z1-algo-1-ghk5f  | 2023-10-09 09:13:48,457 [INFO ] pool-2-thread-1 TS_METRICS - DiskUtilization.Percent:69.9|#Level:Host|#hostname:6104c552534b,timestamp:1696842828\n",
      "2227s001z1-algo-1-ghk5f  | 2023-10-09 09:13:48,457 [INFO ] pool-2-thread-1 TS_METRICS - MemoryAvailable.Megabytes:200359.7109375|#Level:Host|#hostname:6104c552534b,timestamp:1696842828\n",
      "2227s001z1-algo-1-ghk5f  | 2023-10-09 09:13:48,457 [INFO ] pool-2-thread-1 TS_METRICS - MemoryUsed.Megabytes:50729.0078125|#Level:Host|#hostname:6104c552534b,timestamp:1696842828\n",
      "2227s001z1-algo-1-ghk5f  | 2023-10-09 09:13:48,457 [INFO ] pool-2-thread-1 TS_METRICS - MemoryUtilization.Percent:21.4|#Level:Host|#hostname:6104c552534b,timestamp:1696842828\n",
      "2227s001z1-algo-1-ghk5f  | 2023-10-09 09:14:48,457 [INFO ] pool-2-thread-1 TS_METRICS - CPUUtilization.Percent:0.0|#Level:Host|#hostname:6104c552534b,timestamp:1696842888\n",
      "2227s001z1-algo-1-ghk5f  | 2023-10-09 09:14:48,457 [INFO ] pool-2-thread-1 TS_METRICS - DiskAvailable.Gigabytes:58.361846923828125|#Level:Host|#hostname:6104c552534b,timestamp:1696842888\n",
      "2227s001z1-algo-1-ghk5f  | 2023-10-09 09:14:48,457 [INFO ] pool-2-thread-1 TS_METRICS - DiskUsage.Gigabytes:135.42860412597656|#Level:Host|#hostname:6104c552534b,timestamp:1696842888\n",
      "2227s001z1-algo-1-ghk5f  | 2023-10-09 09:14:48,457 [INFO ] pool-2-thread-1 TS_METRICS - DiskUtilization.Percent:69.9|#Level:Host|#hostname:6104c552534b,timestamp:1696842888\n",
      "2227s001z1-algo-1-ghk5f  | 2023-10-09 09:14:48,457 [INFO ] pool-2-thread-1 TS_METRICS - MemoryAvailable.Megabytes:200348.8828125|#Level:Host|#hostname:6104c552534b,timestamp:1696842888\n",
      "2227s001z1-algo-1-ghk5f  | 2023-10-09 09:14:48,457 [INFO ] pool-2-thread-1 TS_METRICS - MemoryUsed.Megabytes:50739.84375|#Level:Host|#hostname:6104c552534b,timestamp:1696842888\n",
      "2227s001z1-algo-1-ghk5f  | 2023-10-09 09:14:48,457 [INFO ] pool-2-thread-1 TS_METRICS - MemoryUtilization.Percent:21.4|#Level:Host|#hostname:6104c552534b,timestamp:1696842888\n",
      "2227s001z1-algo-1-ghk5f  | 2023-10-09 09:15:48,457 [INFO ] pool-2-thread-1 TS_METRICS - CPUUtilization.Percent:0.0|#Level:Host|#hostname:6104c552534b,timestamp:1696842948\n",
      "2227s001z1-algo-1-ghk5f  | 2023-10-09 09:15:48,457 [INFO ] pool-2-thread-1 TS_METRICS - DiskAvailable.Gigabytes:58.361846923828125|#Level:Host|#hostname:6104c552534b,timestamp:1696842948\n",
      "2227s001z1-algo-1-ghk5f  | 2023-10-09 09:15:48,457 [INFO ] pool-2-thread-1 TS_METRICS - DiskUsage.Gigabytes:135.42860412597656|#Level:Host|#hostname:6104c552534b,timestamp:1696842948\n",
      "2227s001z1-algo-1-ghk5f  | 2023-10-09 09:15:48,457 [INFO ] pool-2-thread-1 TS_METRICS - DiskUtilization.Percent:69.9|#Level:Host|#hostname:6104c552534b,timestamp:1696842948\n",
      "2227s001z1-algo-1-ghk5f  | 2023-10-09 09:15:48,457 [INFO ] pool-2-thread-1 TS_METRICS - MemoryAvailable.Megabytes:200349.19140625|#Level:Host|#hostname:6104c552534b,timestamp:1696842948\n",
      "2227s001z1-algo-1-ghk5f  | 2023-10-09 09:15:48,457 [INFO ] pool-2-thread-1 TS_METRICS - MemoryUsed.Megabytes:50739.53515625|#Level:Host|#hostname:6104c552534b,timestamp:1696842948\n",
      "2227s001z1-algo-1-ghk5f  | 2023-10-09 09:15:48,457 [INFO ] pool-2-thread-1 TS_METRICS - MemoryUtilization.Percent:21.4|#Level:Host|#hostname:6104c552534b,timestamp:1696842948\n",
      "2227s001z1-algo-1-ghk5f  | 2023-10-09 09:16:48,457 [INFO ] pool-2-thread-1 TS_METRICS - CPUUtilization.Percent:0.0|#Level:Host|#hostname:6104c552534b,timestamp:1696843008\n",
      "2227s001z1-algo-1-ghk5f  | 2023-10-09 09:16:48,457 [INFO ] pool-2-thread-1 TS_METRICS - DiskAvailable.Gigabytes:58.36183547973633|#Level:Host|#hostname:6104c552534b,timestamp:1696843008\n",
      "2227s001z1-algo-1-ghk5f  | 2023-10-09 09:16:48,457 [INFO ] pool-2-thread-1 TS_METRICS - DiskUsage.Gigabytes:135.42861557006836|#Level:Host|#hostname:6104c552534b,timestamp:1696843008\n",
      "2227s001z1-algo-1-ghk5f  | 2023-10-09 09:16:48,457 [INFO ] pool-2-thread-1 TS_METRICS - DiskUtilization.Percent:69.9|#Level:Host|#hostname:6104c552534b,timestamp:1696843008\n",
      "2227s001z1-algo-1-ghk5f  | 2023-10-09 09:16:48,457 [INFO ] pool-2-thread-1 TS_METRICS - MemoryAvailable.Megabytes:200350.55859375|#Level:Host|#hostname:6104c552534b,timestamp:1696843008\n",
      "2227s001z1-algo-1-ghk5f  | 2023-10-09 09:16:48,457 [INFO ] pool-2-thread-1 TS_METRICS - MemoryUsed.Megabytes:50738.16796875|#Level:Host|#hostname:6104c552534b,timestamp:1696843008\n",
      "2227s001z1-algo-1-ghk5f  | 2023-10-09 09:16:48,457 [INFO ] pool-2-thread-1 TS_METRICS - MemoryUtilization.Percent:21.4|#Level:Host|#hostname:6104c552534b,timestamp:1696843008\n",
      "2227s001z1-algo-1-ghk5f  | 2023-10-09 09:17:48,457 [INFO ] pool-2-thread-1 TS_METRICS - CPUUtilization.Percent:0.0|#Level:Host|#hostname:6104c552534b,timestamp:1696843068\n",
      "2227s001z1-algo-1-ghk5f  | 2023-10-09 09:17:48,457 [INFO ] pool-2-thread-1 TS_METRICS - DiskAvailable.Gigabytes:58.36183547973633|#Level:Host|#hostname:6104c552534b,timestamp:1696843068\n",
      "2227s001z1-algo-1-ghk5f  | 2023-10-09 09:17:48,457 [INFO ] pool-2-thread-1 TS_METRICS - DiskUsage.Gigabytes:135.42861557006836|#Level:Host|#hostname:6104c552534b,timestamp:1696843068\n",
      "2227s001z1-algo-1-ghk5f  | 2023-10-09 09:17:48,457 [INFO ] pool-2-thread-1 TS_METRICS - DiskUtilization.Percent:69.9|#Level:Host|#hostname:6104c552534b,timestamp:1696843068\n",
      "2227s001z1-algo-1-ghk5f  | 2023-10-09 09:17:48,457 [INFO ] pool-2-thread-1 TS_METRICS - MemoryAvailable.Megabytes:200361.578125|#Level:Host|#hostname:6104c552534b,timestamp:1696843068\n",
      "2227s001z1-algo-1-ghk5f  | 2023-10-09 09:17:48,457 [INFO ] pool-2-thread-1 TS_METRICS - MemoryUsed.Megabytes:50727.1484375|#Level:Host|#hostname:6104c552534b,timestamp:1696843068\n",
      "2227s001z1-algo-1-ghk5f  | 2023-10-09 09:17:48,457 [INFO ] pool-2-thread-1 TS_METRICS - MemoryUtilization.Percent:21.4|#Level:Host|#hostname:6104c552534b,timestamp:1696843068\n",
      "2227s001z1-algo-1-ghk5f  | 2023-10-09 09:18:48,457 [INFO ] pool-2-thread-1 TS_METRICS - CPUUtilization.Percent:0.0|#Level:Host|#hostname:6104c552534b,timestamp:1696843128\n",
      "2227s001z1-algo-1-ghk5f  | 2023-10-09 09:18:48,458 [INFO ] pool-2-thread-1 TS_METRICS - DiskAvailable.Gigabytes:58.36183547973633|#Level:Host|#hostname:6104c552534b,timestamp:1696843128\n",
      "2227s001z1-algo-1-ghk5f  | 2023-10-09 09:18:48,458 [INFO ] pool-2-thread-1 TS_METRICS - DiskUsage.Gigabytes:135.42861557006836|#Level:Host|#hostname:6104c552534b,timestamp:1696843128\n",
      "2227s001z1-algo-1-ghk5f  | 2023-10-09 09:18:48,458 [INFO ] pool-2-thread-1 TS_METRICS - DiskUtilization.Percent:69.9|#Level:Host|#hostname:6104c552534b,timestamp:1696843128\n",
      "2227s001z1-algo-1-ghk5f  | 2023-10-09 09:18:48,458 [INFO ] pool-2-thread-1 TS_METRICS - MemoryAvailable.Megabytes:200356.7578125|#Level:Host|#hostname:6104c552534b,timestamp:1696843128\n",
      "2227s001z1-algo-1-ghk5f  | 2023-10-09 09:18:48,458 [INFO ] pool-2-thread-1 TS_METRICS - MemoryUsed.Megabytes:50731.96875|#Level:Host|#hostname:6104c552534b,timestamp:1696843128\n",
      "2227s001z1-algo-1-ghk5f  | 2023-10-09 09:18:48,458 [INFO ] pool-2-thread-1 TS_METRICS - MemoryUtilization.Percent:21.4|#Level:Host|#hostname:6104c552534b,timestamp:1696843128\n",
      "2227s001z1-algo-1-ghk5f  | 2023-10-09 09:19:48,457 [INFO ] pool-2-thread-1 TS_METRICS - CPUUtilization.Percent:0.0|#Level:Host|#hostname:6104c552534b,timestamp:1696843188\n",
      "2227s001z1-algo-1-ghk5f  | 2023-10-09 09:19:48,457 [INFO ] pool-2-thread-1 TS_METRICS - DiskAvailable.Gigabytes:58.36183166503906|#Level:Host|#hostname:6104c552534b,timestamp:1696843188\n",
      "2227s001z1-algo-1-ghk5f  | 2023-10-09 09:19:48,457 [INFO ] pool-2-thread-1 TS_METRICS - DiskUsage.Gigabytes:135.42861938476562|#Level:Host|#hostname:6104c552534b,timestamp:1696843188\n",
      "2227s001z1-algo-1-ghk5f  | 2023-10-09 09:19:48,457 [INFO ] pool-2-thread-1 TS_METRICS - DiskUtilization.Percent:69.9|#Level:Host|#hostname:6104c552534b,timestamp:1696843188\n",
      "2227s001z1-algo-1-ghk5f  | 2023-10-09 09:19:48,457 [INFO ] pool-2-thread-1 TS_METRICS - MemoryAvailable.Megabytes:200363.62109375|#Level:Host|#hostname:6104c552534b,timestamp:1696843188\n",
      "2227s001z1-algo-1-ghk5f  | 2023-10-09 09:19:48,457 [INFO ] pool-2-thread-1 TS_METRICS - MemoryUsed.Megabytes:50725.10546875|#Level:Host|#hostname:6104c552534b,timestamp:1696843188\n",
      "2227s001z1-algo-1-ghk5f  | 2023-10-09 09:19:48,457 [INFO ] pool-2-thread-1 TS_METRICS - MemoryUtilization.Percent:21.4|#Level:Host|#hostname:6104c552534b,timestamp:1696843188\n",
      "2227s001z1-algo-1-ghk5f  | 2023-10-09 09:20:48,457 [INFO ] pool-2-thread-2 TS_METRICS - CPUUtilization.Percent:0.0|#Level:Host|#hostname:6104c552534b,timestamp:1696843248\n",
      "2227s001z1-algo-1-ghk5f  | 2023-10-09 09:20:48,457 [INFO ] pool-2-thread-2 TS_METRICS - DiskAvailable.Gigabytes:58.36183166503906|#Level:Host|#hostname:6104c552534b,timestamp:1696843248\n",
      "2227s001z1-algo-1-ghk5f  | 2023-10-09 09:20:48,457 [INFO ] pool-2-thread-2 TS_METRICS - DiskUsage.Gigabytes:135.42861938476562|#Level:Host|#hostname:6104c552534b,timestamp:1696843248\n",
      "2227s001z1-algo-1-ghk5f  | 2023-10-09 09:20:48,457 [INFO ] pool-2-thread-2 TS_METRICS - DiskUtilization.Percent:69.9|#Level:Host|#hostname:6104c552534b,timestamp:1696843248\n",
      "2227s001z1-algo-1-ghk5f  | 2023-10-09 09:20:48,457 [INFO ] pool-2-thread-2 TS_METRICS - MemoryAvailable.Megabytes:200362.00390625|#Level:Host|#hostname:6104c552534b,timestamp:1696843248\n",
      "2227s001z1-algo-1-ghk5f  | 2023-10-09 09:20:48,457 [INFO ] pool-2-thread-2 TS_METRICS - MemoryUsed.Megabytes:50726.72265625|#Level:Host|#hostname:6104c552534b,timestamp:1696843248\n",
      "2227s001z1-algo-1-ghk5f  | 2023-10-09 09:20:48,457 [INFO ] pool-2-thread-2 TS_METRICS - MemoryUtilization.Percent:21.4|#Level:Host|#hostname:6104c552534b,timestamp:1696843248\n",
      "2227s001z1-algo-1-ghk5f  | 2023-10-09 09:21:48,457 [INFO ] pool-2-thread-2 TS_METRICS - CPUUtilization.Percent:0.0|#Level:Host|#hostname:6104c552534b,timestamp:1696843308\n",
      "2227s001z1-algo-1-ghk5f  | 2023-10-09 09:21:48,457 [INFO ] pool-2-thread-2 TS_METRICS - DiskAvailable.Gigabytes:58.3618278503418|#Level:Host|#hostname:6104c552534b,timestamp:1696843308\n",
      "2227s001z1-algo-1-ghk5f  | 2023-10-09 09:21:48,457 [INFO ] pool-2-thread-2 TS_METRICS - DiskUsage.Gigabytes:135.4286231994629|#Level:Host|#hostname:6104c552534b,timestamp:1696843308\n",
      "2227s001z1-algo-1-ghk5f  | 2023-10-09 09:21:48,457 [INFO ] pool-2-thread-2 TS_METRICS - DiskUtilization.Percent:69.9|#Level:Host|#hostname:6104c552534b,timestamp:1696843308\n",
      "2227s001z1-algo-1-ghk5f  | 2023-10-09 09:21:48,457 [INFO ] pool-2-thread-2 TS_METRICS - MemoryAvailable.Megabytes:200366.34375|#Level:Host|#hostname:6104c552534b,timestamp:1696843308\n",
      "2227s001z1-algo-1-ghk5f  | 2023-10-09 09:21:48,457 [INFO ] pool-2-thread-2 TS_METRICS - MemoryUsed.Megabytes:50722.3828125|#Level:Host|#hostname:6104c552534b,timestamp:1696843308\n",
      "2227s001z1-algo-1-ghk5f  | 2023-10-09 09:21:48,457 [INFO ] pool-2-thread-2 TS_METRICS - MemoryUtilization.Percent:21.4|#Level:Host|#hostname:6104c552534b,timestamp:1696843308\n",
      "2227s001z1-algo-1-ghk5f  | 2023-10-09 09:22:48,457 [INFO ] pool-2-thread-2 TS_METRICS - CPUUtilization.Percent:0.0|#Level:Host|#hostname:6104c552534b,timestamp:1696843368\n",
      "2227s001z1-algo-1-ghk5f  | 2023-10-09 09:22:48,458 [INFO ] pool-2-thread-2 TS_METRICS - DiskAvailable.Gigabytes:58.36182403564453|#Level:Host|#hostname:6104c552534b,timestamp:1696843368\n",
      "2227s001z1-algo-1-ghk5f  | 2023-10-09 09:22:48,458 [INFO ] pool-2-thread-2 TS_METRICS - DiskUsage.Gigabytes:135.42862701416016|#Level:Host|#hostname:6104c552534b,timestamp:1696843368\n",
      "2227s001z1-algo-1-ghk5f  | 2023-10-09 09:22:48,458 [INFO ] pool-2-thread-2 TS_METRICS - DiskUtilization.Percent:69.9|#Level:Host|#hostname:6104c552534b,timestamp:1696843368\n",
      "2227s001z1-algo-1-ghk5f  | 2023-10-09 09:22:48,458 [INFO ] pool-2-thread-2 TS_METRICS - MemoryAvailable.Megabytes:200366.484375|#Level:Host|#hostname:6104c552534b,timestamp:1696843368\n",
      "2227s001z1-algo-1-ghk5f  | 2023-10-09 09:22:48,458 [INFO ] pool-2-thread-2 TS_METRICS - MemoryUsed.Megabytes:50722.2421875|#Level:Host|#hostname:6104c552534b,timestamp:1696843368\n",
      "2227s001z1-algo-1-ghk5f  | 2023-10-09 09:22:48,458 [INFO ] pool-2-thread-2 TS_METRICS - MemoryUtilization.Percent:21.4|#Level:Host|#hostname:6104c552534b,timestamp:1696843368\n",
      "2227s001z1-algo-1-ghk5f  | 2023-10-09 09:23:48,457 [INFO ] pool-2-thread-2 TS_METRICS - CPUUtilization.Percent:0.0|#Level:Host|#hostname:6104c552534b,timestamp:1696843428\n",
      "2227s001z1-algo-1-ghk5f  | 2023-10-09 09:23:48,457 [INFO ] pool-2-thread-2 TS_METRICS - DiskAvailable.Gigabytes:58.36182403564453|#Level:Host|#hostname:6104c552534b,timestamp:1696843428\n",
      "2227s001z1-algo-1-ghk5f  | 2023-10-09 09:23:48,457 [INFO ] pool-2-thread-2 TS_METRICS - DiskUsage.Gigabytes:135.42862701416016|#Level:Host|#hostname:6104c552534b,timestamp:1696843428\n",
      "2227s001z1-algo-1-ghk5f  | 2023-10-09 09:23:48,458 [INFO ] pool-2-thread-2 TS_METRICS - DiskUtilization.Percent:69.9|#Level:Host|#hostname:6104c552534b,timestamp:1696843428\n",
      "2227s001z1-algo-1-ghk5f  | 2023-10-09 09:23:48,458 [INFO ] pool-2-thread-2 TS_METRICS - MemoryAvailable.Megabytes:200355.5859375|#Level:Host|#hostname:6104c552534b,timestamp:1696843428\n",
      "2227s001z1-algo-1-ghk5f  | 2023-10-09 09:23:48,458 [INFO ] pool-2-thread-2 TS_METRICS - MemoryUsed.Megabytes:50733.140625|#Level:Host|#hostname:6104c552534b,timestamp:1696843428\n",
      "2227s001z1-algo-1-ghk5f  | 2023-10-09 09:23:48,458 [INFO ] pool-2-thread-2 TS_METRICS - MemoryUtilization.Percent:21.4|#Level:Host|#hostname:6104c552534b,timestamp:1696843428\n",
      "2227s001z1-algo-1-ghk5f  | 2023-10-09 09:24:48,457 [INFO ] pool-2-thread-1 TS_METRICS - CPUUtilization.Percent:0.0|#Level:Host|#hostname:6104c552534b,timestamp:1696843488\n",
      "2227s001z1-algo-1-ghk5f  | 2023-10-09 09:24:48,457 [INFO ] pool-2-thread-1 TS_METRICS - DiskAvailable.Gigabytes:58.361820220947266|#Level:Host|#hostname:6104c552534b,timestamp:1696843488\n",
      "2227s001z1-algo-1-ghk5f  | 2023-10-09 09:24:48,457 [INFO ] pool-2-thread-1 TS_METRICS - DiskUsage.Gigabytes:135.42863082885742|#Level:Host|#hostname:6104c552534b,timestamp:1696843488\n",
      "2227s001z1-algo-1-ghk5f  | 2023-10-09 09:24:48,457 [INFO ] pool-2-thread-1 TS_METRICS - DiskUtilization.Percent:69.9|#Level:Host|#hostname:6104c552534b,timestamp:1696843488\n",
      "2227s001z1-algo-1-ghk5f  | 2023-10-09 09:24:48,457 [INFO ] pool-2-thread-1 TS_METRICS - MemoryAvailable.Megabytes:200328.66015625|#Level:Host|#hostname:6104c552534b,timestamp:1696843488\n",
      "2227s001z1-algo-1-ghk5f  | 2023-10-09 09:24:48,457 [INFO ] pool-2-thread-1 TS_METRICS - MemoryUsed.Megabytes:50760.06640625|#Level:Host|#hostname:6104c552534b,timestamp:1696843488\n",
      "2227s001z1-algo-1-ghk5f  | 2023-10-09 09:24:48,457 [INFO ] pool-2-thread-1 TS_METRICS - MemoryUtilization.Percent:21.4|#Level:Host|#hostname:6104c552534b,timestamp:1696843488\n",
      "2227s001z1-algo-1-ghk5f  | 2023-10-09 09:25:48,457 [INFO ] pool-2-thread-2 TS_METRICS - CPUUtilization.Percent:0.0|#Level:Host|#hostname:6104c552534b,timestamp:1696843548\n",
      "2227s001z1-algo-1-ghk5f  | 2023-10-09 09:25:48,457 [INFO ] pool-2-thread-2 TS_METRICS - DiskAvailable.Gigabytes:58.361820220947266|#Level:Host|#hostname:6104c552534b,timestamp:1696843548\n",
      "2227s001z1-algo-1-ghk5f  | 2023-10-09 09:25:48,457 [INFO ] pool-2-thread-2 TS_METRICS - DiskUsage.Gigabytes:135.42863082885742|#Level:Host|#hostname:6104c552534b,timestamp:1696843548\n",
      "2227s001z1-algo-1-ghk5f  | 2023-10-09 09:25:48,457 [INFO ] pool-2-thread-2 TS_METRICS - DiskUtilization.Percent:69.9|#Level:Host|#hostname:6104c552534b,timestamp:1696843548\n",
      "2227s001z1-algo-1-ghk5f  | 2023-10-09 09:25:48,457 [INFO ] pool-2-thread-2 TS_METRICS - MemoryAvailable.Megabytes:200340.59765625|#Level:Host|#hostname:6104c552534b,timestamp:1696843548\n",
      "2227s001z1-algo-1-ghk5f  | 2023-10-09 09:25:48,457 [INFO ] pool-2-thread-2 TS_METRICS - MemoryUsed.Megabytes:50748.12890625|#Level:Host|#hostname:6104c552534b,timestamp:1696843548\n",
      "2227s001z1-algo-1-ghk5f  | 2023-10-09 09:25:48,457 [INFO ] pool-2-thread-2 TS_METRICS - MemoryUtilization.Percent:21.4|#Level:Host|#hostname:6104c552534b,timestamp:1696843548\n",
      "2227s001z1-algo-1-ghk5f  | 2023-10-09 09:26:48,457 [INFO ] pool-2-thread-2 TS_METRICS - CPUUtilization.Percent:0.0|#Level:Host|#hostname:6104c552534b,timestamp:1696843608\n",
      "2227s001z1-algo-1-ghk5f  | 2023-10-09 09:26:48,457 [INFO ] pool-2-thread-2 TS_METRICS - DiskAvailable.Gigabytes:58.36181640625|#Level:Host|#hostname:6104c552534b,timestamp:1696843608\n",
      "2227s001z1-algo-1-ghk5f  | 2023-10-09 09:26:48,457 [INFO ] pool-2-thread-2 TS_METRICS - DiskUsage.Gigabytes:135.4286346435547|#Level:Host|#hostname:6104c552534b,timestamp:1696843608\n",
      "2227s001z1-algo-1-ghk5f  | 2023-10-09 09:26:48,457 [INFO ] pool-2-thread-2 TS_METRICS - DiskUtilization.Percent:69.9|#Level:Host|#hostname:6104c552534b,timestamp:1696843608\n",
      "2227s001z1-algo-1-ghk5f  | 2023-10-09 09:26:48,457 [INFO ] pool-2-thread-2 TS_METRICS - MemoryAvailable.Megabytes:200344.421875|#Level:Host|#hostname:6104c552534b,timestamp:1696843608\n",
      "2227s001z1-algo-1-ghk5f  | 2023-10-09 09:26:48,457 [INFO ] pool-2-thread-2 TS_METRICS - MemoryUsed.Megabytes:50744.3046875|#Level:Host|#hostname:6104c552534b,timestamp:1696843608\n",
      "2227s001z1-algo-1-ghk5f  | 2023-10-09 09:26:48,457 [INFO ] pool-2-thread-2 TS_METRICS - MemoryUtilization.Percent:21.4|#Level:Host|#hostname:6104c552534b,timestamp:1696843608\n",
      "2227s001z1-algo-1-ghk5f  | 2023-10-09 09:27:48,457 [INFO ] pool-2-thread-2 TS_METRICS - CPUUtilization.Percent:0.0|#Level:Host|#hostname:6104c552534b,timestamp:1696843668\n",
      "2227s001z1-algo-1-ghk5f  | 2023-10-09 09:27:48,457 [INFO ] pool-2-thread-2 TS_METRICS - DiskAvailable.Gigabytes:58.36180877685547|#Level:Host|#hostname:6104c552534b,timestamp:1696843668\n",
      "2227s001z1-algo-1-ghk5f  | 2023-10-09 09:27:48,458 [INFO ] pool-2-thread-2 TS_METRICS - DiskUsage.Gigabytes:135.42864227294922|#Level:Host|#hostname:6104c552534b,timestamp:1696843668\n",
      "2227s001z1-algo-1-ghk5f  | 2023-10-09 09:27:48,458 [INFO ] pool-2-thread-2 TS_METRICS - DiskUtilization.Percent:69.9|#Level:Host|#hostname:6104c552534b,timestamp:1696843668\n",
      "2227s001z1-algo-1-ghk5f  | 2023-10-09 09:27:48,458 [INFO ] pool-2-thread-2 TS_METRICS - MemoryAvailable.Megabytes:200338.2734375|#Level:Host|#hostname:6104c552534b,timestamp:1696843668\n",
      "2227s001z1-algo-1-ghk5f  | 2023-10-09 09:27:48,458 [INFO ] pool-2-thread-2 TS_METRICS - MemoryUsed.Megabytes:50750.453125|#Level:Host|#hostname:6104c552534b,timestamp:1696843668\n",
      "2227s001z1-algo-1-ghk5f  | 2023-10-09 09:27:48,458 [INFO ] pool-2-thread-2 TS_METRICS - MemoryUtilization.Percent:21.4|#Level:Host|#hostname:6104c552534b,timestamp:1696843668\n",
      "2227s001z1-algo-1-ghk5f  | 2023-10-09 09:28:48,457 [INFO ] pool-2-thread-2 TS_METRICS - CPUUtilization.Percent:0.0|#Level:Host|#hostname:6104c552534b,timestamp:1696843728\n",
      "2227s001z1-algo-1-ghk5f  | 2023-10-09 09:28:48,457 [INFO ] pool-2-thread-2 TS_METRICS - DiskAvailable.Gigabytes:58.36180877685547|#Level:Host|#hostname:6104c552534b,timestamp:1696843728\n",
      "2227s001z1-algo-1-ghk5f  | 2023-10-09 09:28:48,457 [INFO ] pool-2-thread-2 TS_METRICS - DiskUsage.Gigabytes:135.42864227294922|#Level:Host|#hostname:6104c552534b,timestamp:1696843728\n",
      "2227s001z1-algo-1-ghk5f  | 2023-10-09 09:28:48,457 [INFO ] pool-2-thread-2 TS_METRICS - DiskUtilization.Percent:69.9|#Level:Host|#hostname:6104c552534b,timestamp:1696843728\n",
      "2227s001z1-algo-1-ghk5f  | 2023-10-09 09:28:48,457 [INFO ] pool-2-thread-2 TS_METRICS - MemoryAvailable.Megabytes:200341.609375|#Level:Host|#hostname:6104c552534b,timestamp:1696843728\n",
      "2227s001z1-algo-1-ghk5f  | 2023-10-09 09:28:48,457 [INFO ] pool-2-thread-2 TS_METRICS - MemoryUsed.Megabytes:50747.1171875|#Level:Host|#hostname:6104c552534b,timestamp:1696843728\n",
      "2227s001z1-algo-1-ghk5f  | 2023-10-09 09:28:48,457 [INFO ] pool-2-thread-2 TS_METRICS - MemoryUtilization.Percent:21.4|#Level:Host|#hostname:6104c552534b,timestamp:1696843728\n",
      "2227s001z1-algo-1-ghk5f  | 2023-10-09 09:29:48,457 [INFO ] pool-2-thread-2 TS_METRICS - CPUUtilization.Percent:0.0|#Level:Host|#hostname:6104c552534b,timestamp:1696843788\n",
      "2227s001z1-algo-1-ghk5f  | 2023-10-09 09:29:48,457 [INFO ] pool-2-thread-2 TS_METRICS - DiskAvailable.Gigabytes:58.36180877685547|#Level:Host|#hostname:6104c552534b,timestamp:1696843788\n",
      "2227s001z1-algo-1-ghk5f  | 2023-10-09 09:29:48,457 [INFO ] pool-2-thread-2 TS_METRICS - DiskUsage.Gigabytes:135.42864227294922|#Level:Host|#hostname:6104c552534b,timestamp:1696843788\n",
      "2227s001z1-algo-1-ghk5f  | 2023-10-09 09:29:48,457 [INFO ] pool-2-thread-2 TS_METRICS - DiskUtilization.Percent:69.9|#Level:Host|#hostname:6104c552534b,timestamp:1696843788\n",
      "2227s001z1-algo-1-ghk5f  | 2023-10-09 09:29:48,457 [INFO ] pool-2-thread-2 TS_METRICS - MemoryAvailable.Megabytes:200328.73046875|#Level:Host|#hostname:6104c552534b,timestamp:1696843788\n",
      "2227s001z1-algo-1-ghk5f  | 2023-10-09 09:29:48,457 [INFO ] pool-2-thread-2 TS_METRICS - MemoryUsed.Megabytes:50759.99609375|#Level:Host|#hostname:6104c552534b,timestamp:1696843788\n",
      "2227s001z1-algo-1-ghk5f  | 2023-10-09 09:29:48,457 [INFO ] pool-2-thread-2 TS_METRICS - MemoryUtilization.Percent:21.4|#Level:Host|#hostname:6104c552534b,timestamp:1696843788\n",
      "2227s001z1-algo-1-ghk5f  | 2023-10-09 09:30:48,458 [INFO ] pool-2-thread-1 TS_METRICS - CPUUtilization.Percent:0.0|#Level:Host|#hostname:6104c552534b,timestamp:1696843848\n",
      "2227s001z1-algo-1-ghk5f  | 2023-10-09 09:30:48,458 [INFO ] pool-2-thread-1 TS_METRICS - DiskAvailable.Gigabytes:58.36180114746094|#Level:Host|#hostname:6104c552534b,timestamp:1696843848\n",
      "2227s001z1-algo-1-ghk5f  | 2023-10-09 09:30:48,459 [INFO ] pool-2-thread-1 TS_METRICS - DiskUsage.Gigabytes:135.42864990234375|#Level:Host|#hostname:6104c552534b,timestamp:1696843848\n",
      "2227s001z1-algo-1-ghk5f  | 2023-10-09 09:30:48,459 [INFO ] pool-2-thread-1 TS_METRICS - DiskUtilization.Percent:69.9|#Level:Host|#hostname:6104c552534b,timestamp:1696843848\n",
      "2227s001z1-algo-1-ghk5f  | 2023-10-09 09:30:48,459 [INFO ] pool-2-thread-1 TS_METRICS - MemoryAvailable.Megabytes:200325.578125|#Level:Host|#hostname:6104c552534b,timestamp:1696843848\n",
      "2227s001z1-algo-1-ghk5f  | 2023-10-09 09:30:48,459 [INFO ] pool-2-thread-1 TS_METRICS - MemoryUsed.Megabytes:50763.1484375|#Level:Host|#hostname:6104c552534b,timestamp:1696843848\n",
      "2227s001z1-algo-1-ghk5f  | 2023-10-09 09:30:48,459 [INFO ] pool-2-thread-1 TS_METRICS - MemoryUtilization.Percent:21.4|#Level:Host|#hostname:6104c552534b,timestamp:1696843848\n",
      "2227s001z1-algo-1-ghk5f  | 2023-10-09 09:31:48,457 [INFO ] pool-2-thread-1 TS_METRICS - CPUUtilization.Percent:0.0|#Level:Host|#hostname:6104c552534b,timestamp:1696843908\n",
      "2227s001z1-algo-1-ghk5f  | 2023-10-09 09:31:48,457 [INFO ] pool-2-thread-1 TS_METRICS - DiskAvailable.Gigabytes:58.36179733276367|#Level:Host|#hostname:6104c552534b,timestamp:1696843908\n",
      "2227s001z1-algo-1-ghk5f  | 2023-10-09 09:31:48,457 [INFO ] pool-2-thread-1 TS_METRICS - DiskUsage.Gigabytes:135.42865371704102|#Level:Host|#hostname:6104c552534b,timestamp:1696843908\n",
      "2227s001z1-algo-1-ghk5f  | 2023-10-09 09:31:48,457 [INFO ] pool-2-thread-1 TS_METRICS - DiskUtilization.Percent:69.9|#Level:Host|#hostname:6104c552534b,timestamp:1696843908\n",
      "2227s001z1-algo-1-ghk5f  | 2023-10-09 09:31:48,457 [INFO ] pool-2-thread-1 TS_METRICS - MemoryAvailable.Megabytes:200335.58203125|#Level:Host|#hostname:6104c552534b,timestamp:1696843908\n",
      "2227s001z1-algo-1-ghk5f  | 2023-10-09 09:31:48,457 [INFO ] pool-2-thread-1 TS_METRICS - MemoryUsed.Megabytes:50753.14453125|#Level:Host|#hostname:6104c552534b,timestamp:1696843908\n",
      "2227s001z1-algo-1-ghk5f  | 2023-10-09 09:31:48,457 [INFO ] pool-2-thread-1 TS_METRICS - MemoryUtilization.Percent:21.4|#Level:Host|#hostname:6104c552534b,timestamp:1696843908\n",
      "2227s001z1-algo-1-ghk5f  | 2023-10-09 09:32:48,457 [INFO ] pool-2-thread-1 TS_METRICS - CPUUtilization.Percent:0.0|#Level:Host|#hostname:6104c552534b,timestamp:1696843968\n",
      "2227s001z1-algo-1-ghk5f  | 2023-10-09 09:32:48,457 [INFO ] pool-2-thread-1 TS_METRICS - DiskAvailable.Gigabytes:58.361793518066406|#Level:Host|#hostname:6104c552534b,timestamp:1696843968\n",
      "2227s001z1-algo-1-ghk5f  | 2023-10-09 09:32:48,457 [INFO ] pool-2-thread-1 TS_METRICS - DiskUsage.Gigabytes:135.42865753173828|#Level:Host|#hostname:6104c552534b,timestamp:1696843968\n",
      "2227s001z1-algo-1-ghk5f  | 2023-10-09 09:32:48,457 [INFO ] pool-2-thread-1 TS_METRICS - DiskUtilization.Percent:69.9|#Level:Host|#hostname:6104c552534b,timestamp:1696843968\n",
      "2227s001z1-algo-1-ghk5f  | 2023-10-09 09:32:48,457 [INFO ] pool-2-thread-1 TS_METRICS - MemoryAvailable.Megabytes:200342.109375|#Level:Host|#hostname:6104c552534b,timestamp:1696843968\n",
      "2227s001z1-algo-1-ghk5f  | 2023-10-09 09:32:48,457 [INFO ] pool-2-thread-1 TS_METRICS - MemoryUsed.Megabytes:50746.6171875|#Level:Host|#hostname:6104c552534b,timestamp:1696843968\n",
      "2227s001z1-algo-1-ghk5f  | 2023-10-09 09:32:48,457 [INFO ] pool-2-thread-1 TS_METRICS - MemoryUtilization.Percent:21.4|#Level:Host|#hostname:6104c552534b,timestamp:1696843968\n",
      "2227s001z1-algo-1-ghk5f  | 2023-10-09 09:33:48,457 [INFO ] pool-2-thread-1 TS_METRICS - CPUUtilization.Percent:0.0|#Level:Host|#hostname:6104c552534b,timestamp:1696844028\n",
      "2227s001z1-algo-1-ghk5f  | 2023-10-09 09:33:48,458 [INFO ] pool-2-thread-1 TS_METRICS - DiskAvailable.Gigabytes:58.361793518066406|#Level:Host|#hostname:6104c552534b,timestamp:1696844028\n",
      "2227s001z1-algo-1-ghk5f  | 2023-10-09 09:33:48,458 [INFO ] pool-2-thread-1 TS_METRICS - DiskUsage.Gigabytes:135.42865753173828|#Level:Host|#hostname:6104c552534b,timestamp:1696844028\n",
      "2227s001z1-algo-1-ghk5f  | 2023-10-09 09:33:48,458 [INFO ] pool-2-thread-1 TS_METRICS - DiskUtilization.Percent:69.9|#Level:Host|#hostname:6104c552534b,timestamp:1696844028\n",
      "2227s001z1-algo-1-ghk5f  | 2023-10-09 09:33:48,458 [INFO ] pool-2-thread-1 TS_METRICS - MemoryAvailable.Megabytes:200341.359375|#Level:Host|#hostname:6104c552534b,timestamp:1696844028\n",
      "2227s001z1-algo-1-ghk5f  | 2023-10-09 09:33:48,458 [INFO ] pool-2-thread-1 TS_METRICS - MemoryUsed.Megabytes:50747.3671875|#Level:Host|#hostname:6104c552534b,timestamp:1696844028\n",
      "2227s001z1-algo-1-ghk5f  | 2023-10-09 09:33:48,458 [INFO ] pool-2-thread-1 TS_METRICS - MemoryUtilization.Percent:21.4|#Level:Host|#hostname:6104c552534b,timestamp:1696844028\n",
      "2227s001z1-algo-1-ghk5f  | 2023-10-09 09:34:48,457 [INFO ] pool-2-thread-1 TS_METRICS - CPUUtilization.Percent:0.0|#Level:Host|#hostname:6104c552534b,timestamp:1696844088\n",
      "2227s001z1-algo-1-ghk5f  | 2023-10-09 09:34:48,457 [INFO ] pool-2-thread-1 TS_METRICS - DiskAvailable.Gigabytes:58.361793518066406|#Level:Host|#hostname:6104c552534b,timestamp:1696844088\n",
      "2227s001z1-algo-1-ghk5f  | 2023-10-09 09:34:48,457 [INFO ] pool-2-thread-1 TS_METRICS - DiskUsage.Gigabytes:135.42865753173828|#Level:Host|#hostname:6104c552534b,timestamp:1696844088\n",
      "2227s001z1-algo-1-ghk5f  | 2023-10-09 09:34:48,457 [INFO ] pool-2-thread-1 TS_METRICS - DiskUtilization.Percent:69.9|#Level:Host|#hostname:6104c552534b,timestamp:1696844088\n",
      "2227s001z1-algo-1-ghk5f  | 2023-10-09 09:34:48,457 [INFO ] pool-2-thread-1 TS_METRICS - MemoryAvailable.Megabytes:200323.79296875|#Level:Host|#hostname:6104c552534b,timestamp:1696844088\n",
      "2227s001z1-algo-1-ghk5f  | 2023-10-09 09:34:48,457 [INFO ] pool-2-thread-1 TS_METRICS - MemoryUsed.Megabytes:50764.93359375|#Level:Host|#hostname:6104c552534b,timestamp:1696844088\n",
      "2227s001z1-algo-1-ghk5f  | 2023-10-09 09:34:48,457 [INFO ] pool-2-thread-1 TS_METRICS - MemoryUtilization.Percent:21.4|#Level:Host|#hostname:6104c552534b,timestamp:1696844088\n",
      "2227s001z1-algo-1-ghk5f  | 2023-10-09 09:35:48,457 [INFO ] pool-2-thread-1 TS_METRICS - CPUUtilization.Percent:0.0|#Level:Host|#hostname:6104c552534b,timestamp:1696844148\n",
      "2227s001z1-algo-1-ghk5f  | 2023-10-09 09:35:48,457 [INFO ] pool-2-thread-1 TS_METRICS - DiskAvailable.Gigabytes:58.36178970336914|#Level:Host|#hostname:6104c552534b,timestamp:1696844148\n",
      "2227s001z1-algo-1-ghk5f  | 2023-10-09 09:35:48,457 [INFO ] pool-2-thread-1 TS_METRICS - DiskUsage.Gigabytes:135.42866134643555|#Level:Host|#hostname:6104c552534b,timestamp:1696844148\n",
      "2227s001z1-algo-1-ghk5f  | 2023-10-09 09:35:48,457 [INFO ] pool-2-thread-1 TS_METRICS - DiskUtilization.Percent:69.9|#Level:Host|#hostname:6104c552534b,timestamp:1696844148\n",
      "2227s001z1-algo-1-ghk5f  | 2023-10-09 09:35:48,457 [INFO ] pool-2-thread-1 TS_METRICS - MemoryAvailable.Megabytes:200317.765625|#Level:Host|#hostname:6104c552534b,timestamp:1696844148\n",
      "2227s001z1-algo-1-ghk5f  | 2023-10-09 09:35:48,457 [INFO ] pool-2-thread-1 TS_METRICS - MemoryUsed.Megabytes:50770.9609375|#Level:Host|#hostname:6104c552534b,timestamp:1696844148\n",
      "2227s001z1-algo-1-ghk5f  | 2023-10-09 09:35:48,457 [INFO ] pool-2-thread-1 TS_METRICS - MemoryUtilization.Percent:21.4|#Level:Host|#hostname:6104c552534b,timestamp:1696844148\n",
      "2227s001z1-algo-1-ghk5f  | 2023-10-09 09:36:48,457 [INFO ] pool-2-thread-1 TS_METRICS - CPUUtilization.Percent:0.0|#Level:Host|#hostname:6104c552534b,timestamp:1696844208\n",
      "2227s001z1-algo-1-ghk5f  | 2023-10-09 09:36:48,457 [INFO ] pool-2-thread-1 TS_METRICS - DiskAvailable.Gigabytes:58.361785888671875|#Level:Host|#hostname:6104c552534b,timestamp:1696844208\n",
      "2227s001z1-algo-1-ghk5f  | 2023-10-09 09:36:48,457 [INFO ] pool-2-thread-1 TS_METRICS - DiskUsage.Gigabytes:135.4286651611328|#Level:Host|#hostname:6104c552534b,timestamp:1696844208\n",
      "2227s001z1-algo-1-ghk5f  | 2023-10-09 09:36:48,457 [INFO ] pool-2-thread-1 TS_METRICS - DiskUtilization.Percent:69.9|#Level:Host|#hostname:6104c552534b,timestamp:1696844208\n",
      "2227s001z1-algo-1-ghk5f  | 2023-10-09 09:36:48,457 [INFO ] pool-2-thread-1 TS_METRICS - MemoryAvailable.Megabytes:200317.484375|#Level:Host|#hostname:6104c552534b,timestamp:1696844208\n",
      "2227s001z1-algo-1-ghk5f  | 2023-10-09 09:36:48,457 [INFO ] pool-2-thread-1 TS_METRICS - MemoryUsed.Megabytes:50771.2421875|#Level:Host|#hostname:6104c552534b,timestamp:1696844208\n",
      "2227s001z1-algo-1-ghk5f  | 2023-10-09 09:36:48,457 [INFO ] pool-2-thread-1 TS_METRICS - MemoryUtilization.Percent:21.4|#Level:Host|#hostname:6104c552534b,timestamp:1696844208\n",
      "2227s001z1-algo-1-ghk5f  | 2023-10-09 09:37:48,457 [INFO ] pool-2-thread-1 TS_METRICS - CPUUtilization.Percent:0.0|#Level:Host|#hostname:6104c552534b,timestamp:1696844268\n",
      "2227s001z1-algo-1-ghk5f  | 2023-10-09 09:37:48,457 [INFO ] pool-2-thread-1 TS_METRICS - DiskAvailable.Gigabytes:58.36178207397461|#Level:Host|#hostname:6104c552534b,timestamp:1696844268\n",
      "2227s001z1-algo-1-ghk5f  | 2023-10-09 09:37:48,457 [INFO ] pool-2-thread-1 TS_METRICS - DiskUsage.Gigabytes:135.42866897583008|#Level:Host|#hostname:6104c552534b,timestamp:1696844268\n",
      "2227s001z1-algo-1-ghk5f  | 2023-10-09 09:37:48,457 [INFO ] pool-2-thread-1 TS_METRICS - DiskUtilization.Percent:69.9|#Level:Host|#hostname:6104c552534b,timestamp:1696844268\n",
      "2227s001z1-algo-1-ghk5f  | 2023-10-09 09:37:48,457 [INFO ] pool-2-thread-1 TS_METRICS - MemoryAvailable.Megabytes:200336.6171875|#Level:Host|#hostname:6104c552534b,timestamp:1696844268\n",
      "2227s001z1-algo-1-ghk5f  | 2023-10-09 09:37:48,457 [INFO ] pool-2-thread-1 TS_METRICS - MemoryUsed.Megabytes:50752.109375|#Level:Host|#hostname:6104c552534b,timestamp:1696844268\n",
      "2227s001z1-algo-1-ghk5f  | 2023-10-09 09:37:48,457 [INFO ] pool-2-thread-1 TS_METRICS - MemoryUtilization.Percent:21.4|#Level:Host|#hostname:6104c552534b,timestamp:1696844268\n",
      "2227s001z1-algo-1-ghk5f  | 2023-10-09 09:38:48,457 [INFO ] pool-2-thread-1 TS_METRICS - CPUUtilization.Percent:0.0|#Level:Host|#hostname:6104c552534b,timestamp:1696844328\n",
      "2227s001z1-algo-1-ghk5f  | 2023-10-09 09:38:48,457 [INFO ] pool-2-thread-1 TS_METRICS - DiskAvailable.Gigabytes:58.36178207397461|#Level:Host|#hostname:6104c552534b,timestamp:1696844328\n",
      "2227s001z1-algo-1-ghk5f  | 2023-10-09 09:38:48,457 [INFO ] pool-2-thread-1 TS_METRICS - DiskUsage.Gigabytes:135.42866897583008|#Level:Host|#hostname:6104c552534b,timestamp:1696844328\n",
      "2227s001z1-algo-1-ghk5f  | 2023-10-09 09:38:48,457 [INFO ] pool-2-thread-1 TS_METRICS - DiskUtilization.Percent:69.9|#Level:Host|#hostname:6104c552534b,timestamp:1696844328\n",
      "2227s001z1-algo-1-ghk5f  | 2023-10-09 09:38:48,457 [INFO ] pool-2-thread-1 TS_METRICS - MemoryAvailable.Megabytes:200331.8515625|#Level:Host|#hostname:6104c552534b,timestamp:1696844328\n",
      "2227s001z1-algo-1-ghk5f  | 2023-10-09 09:38:48,457 [INFO ] pool-2-thread-1 TS_METRICS - MemoryUsed.Megabytes:50756.875|#Level:Host|#hostname:6104c552534b,timestamp:1696844328\n",
      "2227s001z1-algo-1-ghk5f  | 2023-10-09 09:38:48,457 [INFO ] pool-2-thread-1 TS_METRICS - MemoryUtilization.Percent:21.4|#Level:Host|#hostname:6104c552534b,timestamp:1696844328\n",
      "2227s001z1-algo-1-ghk5f  | 2023-10-09 09:39:48,456 [INFO ] pool-2-thread-1 TS_METRICS - CPUUtilization.Percent:0.0|#Level:Host|#hostname:6104c552534b,timestamp:1696844388\n",
      "2227s001z1-algo-1-ghk5f  | 2023-10-09 09:39:48,457 [INFO ] pool-2-thread-1 TS_METRICS - DiskAvailable.Gigabytes:58.361778259277344|#Level:Host|#hostname:6104c552534b,timestamp:1696844388\n",
      "2227s001z1-algo-1-ghk5f  | 2023-10-09 09:39:48,457 [INFO ] pool-2-thread-1 TS_METRICS - DiskUsage.Gigabytes:135.42867279052734|#Level:Host|#hostname:6104c552534b,timestamp:1696844388\n",
      "2227s001z1-algo-1-ghk5f  | 2023-10-09 09:39:48,457 [INFO ] pool-2-thread-1 TS_METRICS - DiskUtilization.Percent:69.9|#Level:Host|#hostname:6104c552534b,timestamp:1696844388\n",
      "2227s001z1-algo-1-ghk5f  | 2023-10-09 09:39:48,457 [INFO ] pool-2-thread-1 TS_METRICS - MemoryAvailable.Megabytes:200318.2265625|#Level:Host|#hostname:6104c552534b,timestamp:1696844388\n",
      "2227s001z1-algo-1-ghk5f  | 2023-10-09 09:39:48,457 [INFO ] pool-2-thread-1 TS_METRICS - MemoryUsed.Megabytes:50770.5|#Level:Host|#hostname:6104c552534b,timestamp:1696844388\n",
      "2227s001z1-algo-1-ghk5f  | 2023-10-09 09:39:48,457 [INFO ] pool-2-thread-1 TS_METRICS - MemoryUtilization.Percent:21.4|#Level:Host|#hostname:6104c552534b,timestamp:1696844388\n",
      "2227s001z1-algo-1-ghk5f  | 2023-10-09 09:40:48,457 [INFO ] pool-2-thread-1 TS_METRICS - CPUUtilization.Percent:0.0|#Level:Host|#hostname:6104c552534b,timestamp:1696844448\n",
      "2227s001z1-algo-1-ghk5f  | 2023-10-09 09:40:48,457 [INFO ] pool-2-thread-1 TS_METRICS - DiskAvailable.Gigabytes:58.36177444458008|#Level:Host|#hostname:6104c552534b,timestamp:1696844448\n",
      "2227s001z1-algo-1-ghk5f  | 2023-10-09 09:40:48,457 [INFO ] pool-2-thread-1 TS_METRICS - DiskUsage.Gigabytes:135.4286766052246|#Level:Host|#hostname:6104c552534b,timestamp:1696844448\n",
      "2227s001z1-algo-1-ghk5f  | 2023-10-09 09:40:48,457 [INFO ] pool-2-thread-1 TS_METRICS - DiskUtilization.Percent:69.9|#Level:Host|#hostname:6104c552534b,timestamp:1696844448\n",
      "2227s001z1-algo-1-ghk5f  | 2023-10-09 09:40:48,458 [INFO ] pool-2-thread-1 TS_METRICS - MemoryAvailable.Megabytes:200322.33203125|#Level:Host|#hostname:6104c552534b,timestamp:1696844448\n",
      "2227s001z1-algo-1-ghk5f  | 2023-10-09 09:40:48,458 [INFO ] pool-2-thread-1 TS_METRICS - MemoryUsed.Megabytes:50766.39453125|#Level:Host|#hostname:6104c552534b,timestamp:1696844448\n",
      "2227s001z1-algo-1-ghk5f  | 2023-10-09 09:40:48,458 [INFO ] pool-2-thread-1 TS_METRICS - MemoryUtilization.Percent:21.4|#Level:Host|#hostname:6104c552534b,timestamp:1696844448\n",
      "2227s001z1-algo-1-ghk5f  | 2023-10-09 09:41:48,457 [INFO ] pool-2-thread-1 TS_METRICS - CPUUtilization.Percent:0.0|#Level:Host|#hostname:6104c552534b,timestamp:1696844508\n",
      "2227s001z1-algo-1-ghk5f  | 2023-10-09 09:41:48,457 [INFO ] pool-2-thread-1 TS_METRICS - DiskAvailable.Gigabytes:58.36177062988281|#Level:Host|#hostname:6104c552534b,timestamp:1696844508\n",
      "2227s001z1-algo-1-ghk5f  | 2023-10-09 09:41:48,457 [INFO ] pool-2-thread-1 TS_METRICS - DiskUsage.Gigabytes:135.42868041992188|#Level:Host|#hostname:6104c552534b,timestamp:1696844508\n",
      "2227s001z1-algo-1-ghk5f  | 2023-10-09 09:41:48,457 [INFO ] pool-2-thread-1 TS_METRICS - DiskUtilization.Percent:69.9|#Level:Host|#hostname:6104c552534b,timestamp:1696844508\n",
      "2227s001z1-algo-1-ghk5f  | 2023-10-09 09:41:48,457 [INFO ] pool-2-thread-1 TS_METRICS - MemoryAvailable.Megabytes:200315.6484375|#Level:Host|#hostname:6104c552534b,timestamp:1696844508\n",
      "2227s001z1-algo-1-ghk5f  | 2023-10-09 09:41:48,457 [INFO ] pool-2-thread-1 TS_METRICS - MemoryUsed.Megabytes:50773.078125|#Level:Host|#hostname:6104c552534b,timestamp:1696844508\n",
      "2227s001z1-algo-1-ghk5f  | 2023-10-09 09:41:48,457 [INFO ] pool-2-thread-1 TS_METRICS - MemoryUtilization.Percent:21.5|#Level:Host|#hostname:6104c552534b,timestamp:1696844508\n",
      "2227s001z1-algo-1-ghk5f  | 2023-10-09 09:42:48,457 [INFO ] pool-2-thread-1 TS_METRICS - CPUUtilization.Percent:0.0|#Level:Host|#hostname:6104c552534b,timestamp:1696844568\n",
      "2227s001z1-algo-1-ghk5f  | 2023-10-09 09:42:48,457 [INFO ] pool-2-thread-1 TS_METRICS - DiskAvailable.Gigabytes:58.36177062988281|#Level:Host|#hostname:6104c552534b,timestamp:1696844568\n",
      "2227s001z1-algo-1-ghk5f  | 2023-10-09 09:42:48,457 [INFO ] pool-2-thread-1 TS_METRICS - DiskUsage.Gigabytes:135.42868041992188|#Level:Host|#hostname:6104c552534b,timestamp:1696844568\n",
      "2227s001z1-algo-1-ghk5f  | 2023-10-09 09:42:48,457 [INFO ] pool-2-thread-1 TS_METRICS - DiskUtilization.Percent:69.9|#Level:Host|#hostname:6104c552534b,timestamp:1696844568\n",
      "2227s001z1-algo-1-ghk5f  | 2023-10-09 09:42:48,457 [INFO ] pool-2-thread-1 TS_METRICS - MemoryAvailable.Megabytes:200321.46484375|#Level:Host|#hostname:6104c552534b,timestamp:1696844568\n",
      "2227s001z1-algo-1-ghk5f  | 2023-10-09 09:42:48,457 [INFO ] pool-2-thread-1 TS_METRICS - MemoryUsed.Megabytes:50767.26171875|#Level:Host|#hostname:6104c552534b,timestamp:1696844568\n",
      "2227s001z1-algo-1-ghk5f  | 2023-10-09 09:42:48,457 [INFO ] pool-2-thread-1 TS_METRICS - MemoryUtilization.Percent:21.4|#Level:Host|#hostname:6104c552534b,timestamp:1696844568\n",
      "2227s001z1-algo-1-ghk5f  | 2023-10-09 09:43:48,457 [INFO ] pool-2-thread-1 TS_METRICS - CPUUtilization.Percent:0.0|#Level:Host|#hostname:6104c552534b,timestamp:1696844628\n",
      "2227s001z1-algo-1-ghk5f  | 2023-10-09 09:43:48,457 [INFO ] pool-2-thread-1 TS_METRICS - DiskAvailable.Gigabytes:58.36176300048828|#Level:Host|#hostname:6104c552534b,timestamp:1696844628\n",
      "2227s001z1-algo-1-ghk5f  | 2023-10-09 09:43:48,457 [INFO ] pool-2-thread-1 TS_METRICS - DiskUsage.Gigabytes:135.4286880493164|#Level:Host|#hostname:6104c552534b,timestamp:1696844628\n",
      "2227s001z1-algo-1-ghk5f  | 2023-10-09 09:43:48,457 [INFO ] pool-2-thread-1 TS_METRICS - DiskUtilization.Percent:69.9|#Level:Host|#hostname:6104c552534b,timestamp:1696844628\n",
      "2227s001z1-algo-1-ghk5f  | 2023-10-09 09:43:48,457 [INFO ] pool-2-thread-1 TS_METRICS - MemoryAvailable.Megabytes:200328.57421875|#Level:Host|#hostname:6104c552534b,timestamp:1696844628\n",
      "2227s001z1-algo-1-ghk5f  | 2023-10-09 09:43:48,457 [INFO ] pool-2-thread-1 TS_METRICS - MemoryUsed.Megabytes:50760.15234375|#Level:Host|#hostname:6104c552534b,timestamp:1696844628\n",
      "2227s001z1-algo-1-ghk5f  | 2023-10-09 09:43:48,457 [INFO ] pool-2-thread-1 TS_METRICS - MemoryUtilization.Percent:21.4|#Level:Host|#hostname:6104c552534b,timestamp:1696844628\n",
      "2227s001z1-algo-1-ghk5f  | 2023-10-09 09:44:48,457 [INFO ] pool-2-thread-2 TS_METRICS - CPUUtilization.Percent:0.0|#Level:Host|#hostname:6104c552534b,timestamp:1696844688\n",
      "2227s001z1-algo-1-ghk5f  | 2023-10-09 09:44:48,457 [INFO ] pool-2-thread-2 TS_METRICS - DiskAvailable.Gigabytes:58.36176300048828|#Level:Host|#hostname:6104c552534b,timestamp:1696844688\n",
      "2227s001z1-algo-1-ghk5f  | 2023-10-09 09:44:48,457 [INFO ] pool-2-thread-2 TS_METRICS - DiskUsage.Gigabytes:135.4286880493164|#Level:Host|#hostname:6104c552534b,timestamp:1696844688\n",
      "2227s001z1-algo-1-ghk5f  | 2023-10-09 09:44:48,457 [INFO ] pool-2-thread-2 TS_METRICS - DiskUtilization.Percent:69.9|#Level:Host|#hostname:6104c552534b,timestamp:1696844688\n",
      "2227s001z1-algo-1-ghk5f  | 2023-10-09 09:44:48,457 [INFO ] pool-2-thread-2 TS_METRICS - MemoryAvailable.Megabytes:200327.89453125|#Level:Host|#hostname:6104c552534b,timestamp:1696844688\n",
      "2227s001z1-algo-1-ghk5f  | 2023-10-09 09:44:48,457 [INFO ] pool-2-thread-2 TS_METRICS - MemoryUsed.Megabytes:50760.83203125|#Level:Host|#hostname:6104c552534b,timestamp:1696844688\n",
      "2227s001z1-algo-1-ghk5f  | 2023-10-09 09:44:48,457 [INFO ] pool-2-thread-2 TS_METRICS - MemoryUtilization.Percent:21.4|#Level:Host|#hostname:6104c552534b,timestamp:1696844688\n",
      "2227s001z1-algo-1-ghk5f  | 2023-10-09 09:45:48,456 [INFO ] pool-2-thread-2 TS_METRICS - CPUUtilization.Percent:0.0|#Level:Host|#hostname:6104c552534b,timestamp:1696844748\n",
      "2227s001z1-algo-1-ghk5f  | 2023-10-09 09:45:48,457 [INFO ] pool-2-thread-2 TS_METRICS - DiskAvailable.Gigabytes:58.361759185791016|#Level:Host|#hostname:6104c552534b,timestamp:1696844748\n",
      "2227s001z1-algo-1-ghk5f  | 2023-10-09 09:45:48,457 [INFO ] pool-2-thread-2 TS_METRICS - DiskUsage.Gigabytes:135.42869186401367|#Level:Host|#hostname:6104c552534b,timestamp:1696844748\n",
      "2227s001z1-algo-1-ghk5f  | 2023-10-09 09:45:48,457 [INFO ] pool-2-thread-2 TS_METRICS - DiskUtilization.Percent:69.9|#Level:Host|#hostname:6104c552534b,timestamp:1696844748\n",
      "2227s001z1-algo-1-ghk5f  | 2023-10-09 09:45:48,457 [INFO ] pool-2-thread-2 TS_METRICS - MemoryAvailable.Megabytes:200313.33984375|#Level:Host|#hostname:6104c552534b,timestamp:1696844748\n",
      "2227s001z1-algo-1-ghk5f  | 2023-10-09 09:45:48,457 [INFO ] pool-2-thread-2 TS_METRICS - MemoryUsed.Megabytes:50775.38671875|#Level:Host|#hostname:6104c552534b,timestamp:1696844748\n",
      "2227s001z1-algo-1-ghk5f  | 2023-10-09 09:45:48,457 [INFO ] pool-2-thread-2 TS_METRICS - MemoryUtilization.Percent:21.5|#Level:Host|#hostname:6104c552534b,timestamp:1696844748\n",
      "2227s001z1-algo-1-ghk5f  | 2023-10-09 09:46:48,457 [INFO ] pool-2-thread-2 TS_METRICS - CPUUtilization.Percent:0.0|#Level:Host|#hostname:6104c552534b,timestamp:1696844808\n",
      "2227s001z1-algo-1-ghk5f  | 2023-10-09 09:46:48,457 [INFO ] pool-2-thread-2 TS_METRICS - DiskAvailable.Gigabytes:58.36175537109375|#Level:Host|#hostname:6104c552534b,timestamp:1696844808\n",
      "2227s001z1-algo-1-ghk5f  | 2023-10-09 09:46:48,457 [INFO ] pool-2-thread-2 TS_METRICS - DiskUsage.Gigabytes:135.42869567871094|#Level:Host|#hostname:6104c552534b,timestamp:1696844808\n",
      "2227s001z1-algo-1-ghk5f  | 2023-10-09 09:46:48,457 [INFO ] pool-2-thread-2 TS_METRICS - DiskUtilization.Percent:69.9|#Level:Host|#hostname:6104c552534b,timestamp:1696844808\n",
      "2227s001z1-algo-1-ghk5f  | 2023-10-09 09:46:48,457 [INFO ] pool-2-thread-2 TS_METRICS - MemoryAvailable.Megabytes:200315.234375|#Level:Host|#hostname:6104c552534b,timestamp:1696844808\n",
      "2227s001z1-algo-1-ghk5f  | 2023-10-09 09:46:48,457 [INFO ] pool-2-thread-2 TS_METRICS - MemoryUsed.Megabytes:50773.4921875|#Level:Host|#hostname:6104c552534b,timestamp:1696844808\n",
      "2227s001z1-algo-1-ghk5f  | 2023-10-09 09:46:48,457 [INFO ] pool-2-thread-2 TS_METRICS - MemoryUtilization.Percent:21.5|#Level:Host|#hostname:6104c552534b,timestamp:1696844808\n",
      "2227s001z1-algo-1-ghk5f  | 2023-10-09 09:47:48,456 [INFO ] pool-2-thread-1 TS_METRICS - CPUUtilization.Percent:0.0|#Level:Host|#hostname:6104c552534b,timestamp:1696844868\n",
      "2227s001z1-algo-1-ghk5f  | 2023-10-09 09:47:48,457 [INFO ] pool-2-thread-1 TS_METRICS - DiskAvailable.Gigabytes:58.36175537109375|#Level:Host|#hostname:6104c552534b,timestamp:1696844868\n",
      "2227s001z1-algo-1-ghk5f  | 2023-10-09 09:47:48,457 [INFO ] pool-2-thread-1 TS_METRICS - DiskUsage.Gigabytes:135.42869567871094|#Level:Host|#hostname:6104c552534b,timestamp:1696844868\n",
      "2227s001z1-algo-1-ghk5f  | 2023-10-09 09:47:48,457 [INFO ] pool-2-thread-1 TS_METRICS - DiskUtilization.Percent:69.9|#Level:Host|#hostname:6104c552534b,timestamp:1696844868\n",
      "2227s001z1-algo-1-ghk5f  | 2023-10-09 09:47:48,457 [INFO ] pool-2-thread-1 TS_METRICS - MemoryAvailable.Megabytes:200321.890625|#Level:Host|#hostname:6104c552534b,timestamp:1696844868\n",
      "2227s001z1-algo-1-ghk5f  | 2023-10-09 09:47:48,457 [INFO ] pool-2-thread-1 TS_METRICS - MemoryUsed.Megabytes:50766.8359375|#Level:Host|#hostname:6104c552534b,timestamp:1696844868\n",
      "2227s001z1-algo-1-ghk5f  | 2023-10-09 09:47:48,457 [INFO ] pool-2-thread-1 TS_METRICS - MemoryUtilization.Percent:21.4|#Level:Host|#hostname:6104c552534b,timestamp:1696844868\n",
      "2227s001z1-algo-1-ghk5f  | 2023-10-09 09:48:48,457 [INFO ] pool-2-thread-2 TS_METRICS - CPUUtilization.Percent:0.0|#Level:Host|#hostname:6104c552534b,timestamp:1696844928\n",
      "2227s001z1-algo-1-ghk5f  | 2023-10-09 09:48:48,457 [INFO ] pool-2-thread-2 TS_METRICS - DiskAvailable.Gigabytes:58.361751556396484|#Level:Host|#hostname:6104c552534b,timestamp:1696844928\n",
      "2227s001z1-algo-1-ghk5f  | 2023-10-09 09:48:48,457 [INFO ] pool-2-thread-2 TS_METRICS - DiskUsage.Gigabytes:135.4286994934082|#Level:Host|#hostname:6104c552534b,timestamp:1696844928\n",
      "2227s001z1-algo-1-ghk5f  | 2023-10-09 09:48:48,457 [INFO ] pool-2-thread-2 TS_METRICS - DiskUtilization.Percent:69.9|#Level:Host|#hostname:6104c552534b,timestamp:1696844928\n",
      "2227s001z1-algo-1-ghk5f  | 2023-10-09 09:48:48,457 [INFO ] pool-2-thread-2 TS_METRICS - MemoryAvailable.Megabytes:200313.4765625|#Level:Host|#hostname:6104c552534b,timestamp:1696844928\n",
      "2227s001z1-algo-1-ghk5f  | 2023-10-09 09:48:48,457 [INFO ] pool-2-thread-2 TS_METRICS - MemoryUsed.Megabytes:50775.25|#Level:Host|#hostname:6104c552534b,timestamp:1696844928\n",
      "2227s001z1-algo-1-ghk5f  | 2023-10-09 09:48:48,457 [INFO ] pool-2-thread-2 TS_METRICS - MemoryUtilization.Percent:21.5|#Level:Host|#hostname:6104c552534b,timestamp:1696844928\n",
      "2227s001z1-algo-1-ghk5f  | 2023-10-09 09:49:48,457 [INFO ] pool-2-thread-2 TS_METRICS - CPUUtilization.Percent:0.0|#Level:Host|#hostname:6104c552534b,timestamp:1696844988\n",
      "2227s001z1-algo-1-ghk5f  | 2023-10-09 09:49:48,458 [INFO ] pool-2-thread-2 TS_METRICS - DiskAvailable.Gigabytes:58.361751556396484|#Level:Host|#hostname:6104c552534b,timestamp:1696844988\n",
      "2227s001z1-algo-1-ghk5f  | 2023-10-09 09:49:48,458 [INFO ] pool-2-thread-2 TS_METRICS - DiskUsage.Gigabytes:135.4286994934082|#Level:Host|#hostname:6104c552534b,timestamp:1696844988\n",
      "2227s001z1-algo-1-ghk5f  | 2023-10-09 09:49:48,458 [INFO ] pool-2-thread-2 TS_METRICS - DiskUtilization.Percent:69.9|#Level:Host|#hostname:6104c552534b,timestamp:1696844988\n",
      "2227s001z1-algo-1-ghk5f  | 2023-10-09 09:49:48,458 [INFO ] pool-2-thread-2 TS_METRICS - MemoryAvailable.Megabytes:200324.78515625|#Level:Host|#hostname:6104c552534b,timestamp:1696844988\n",
      "2227s001z1-algo-1-ghk5f  | 2023-10-09 09:49:48,458 [INFO ] pool-2-thread-2 TS_METRICS - MemoryUsed.Megabytes:50763.94140625|#Level:Host|#hostname:6104c552534b,timestamp:1696844988\n",
      "2227s001z1-algo-1-ghk5f  | 2023-10-09 09:49:48,458 [INFO ] pool-2-thread-2 TS_METRICS - MemoryUtilization.Percent:21.4|#Level:Host|#hostname:6104c552534b,timestamp:1696844988\n",
      "2227s001z1-algo-1-ghk5f  | 2023-10-09 09:50:48,456 [INFO ] pool-2-thread-2 TS_METRICS - CPUUtilization.Percent:0.0|#Level:Host|#hostname:6104c552534b,timestamp:1696845048\n",
      "2227s001z1-algo-1-ghk5f  | 2023-10-09 09:50:48,457 [INFO ] pool-2-thread-2 TS_METRICS - DiskAvailable.Gigabytes:58.36174774169922|#Level:Host|#hostname:6104c552534b,timestamp:1696845048\n",
      "2227s001z1-algo-1-ghk5f  | 2023-10-09 09:50:48,457 [INFO ] pool-2-thread-2 TS_METRICS - DiskUsage.Gigabytes:135.42870330810547|#Level:Host|#hostname:6104c552534b,timestamp:1696845048\n",
      "2227s001z1-algo-1-ghk5f  | 2023-10-09 09:50:48,457 [INFO ] pool-2-thread-2 TS_METRICS - DiskUtilization.Percent:69.9|#Level:Host|#hostname:6104c552534b,timestamp:1696845048\n",
      "2227s001z1-algo-1-ghk5f  | 2023-10-09 09:50:48,457 [INFO ] pool-2-thread-2 TS_METRICS - MemoryAvailable.Megabytes:200326.78125|#Level:Host|#hostname:6104c552534b,timestamp:1696845048\n",
      "2227s001z1-algo-1-ghk5f  | 2023-10-09 09:50:48,457 [INFO ] pool-2-thread-2 TS_METRICS - MemoryUsed.Megabytes:50761.9453125|#Level:Host|#hostname:6104c552534b,timestamp:1696845048\n",
      "2227s001z1-algo-1-ghk5f  | 2023-10-09 09:50:48,457 [INFO ] pool-2-thread-2 TS_METRICS - MemoryUtilization.Percent:21.4|#Level:Host|#hostname:6104c552534b,timestamp:1696845048\n",
      "2227s001z1-algo-1-ghk5f  | 2023-10-09 09:51:48,457 [INFO ] pool-2-thread-2 TS_METRICS - CPUUtilization.Percent:0.0|#Level:Host|#hostname:6104c552534b,timestamp:1696845108\n",
      "2227s001z1-algo-1-ghk5f  | 2023-10-09 09:51:48,457 [INFO ] pool-2-thread-2 TS_METRICS - DiskAvailable.Gigabytes:58.36174392700195|#Level:Host|#hostname:6104c552534b,timestamp:1696845108\n",
      "2227s001z1-algo-1-ghk5f  | 2023-10-09 09:51:48,457 [INFO ] pool-2-thread-2 TS_METRICS - DiskUsage.Gigabytes:135.42870712280273|#Level:Host|#hostname:6104c552534b,timestamp:1696845108\n",
      "2227s001z1-algo-1-ghk5f  | 2023-10-09 09:51:48,457 [INFO ] pool-2-thread-2 TS_METRICS - DiskUtilization.Percent:69.9|#Level:Host|#hostname:6104c552534b,timestamp:1696845108\n",
      "2227s001z1-algo-1-ghk5f  | 2023-10-09 09:51:48,457 [INFO ] pool-2-thread-2 TS_METRICS - MemoryAvailable.Megabytes:200320.296875|#Level:Host|#hostname:6104c552534b,timestamp:1696845108\n",
      "2227s001z1-algo-1-ghk5f  | 2023-10-09 09:51:48,457 [INFO ] pool-2-thread-2 TS_METRICS - MemoryUsed.Megabytes:50768.4296875|#Level:Host|#hostname:6104c552534b,timestamp:1696845108\n",
      "2227s001z1-algo-1-ghk5f  | 2023-10-09 09:51:48,457 [INFO ] pool-2-thread-2 TS_METRICS - MemoryUtilization.Percent:21.4|#Level:Host|#hostname:6104c552534b,timestamp:1696845108\n",
      "2227s001z1-algo-1-ghk5f  | 2023-10-09 09:52:48,457 [INFO ] pool-2-thread-1 TS_METRICS - CPUUtilization.Percent:0.0|#Level:Host|#hostname:6104c552534b,timestamp:1696845168\n",
      "2227s001z1-algo-1-ghk5f  | 2023-10-09 09:52:48,457 [INFO ] pool-2-thread-1 TS_METRICS - DiskAvailable.Gigabytes:58.36172866821289|#Level:Host|#hostname:6104c552534b,timestamp:1696845168\n",
      "2227s001z1-algo-1-ghk5f  | 2023-10-09 09:52:48,457 [INFO ] pool-2-thread-1 TS_METRICS - DiskUsage.Gigabytes:135.4287223815918|#Level:Host|#hostname:6104c552534b,timestamp:1696845168\n",
      "2227s001z1-algo-1-ghk5f  | 2023-10-09 09:52:48,457 [INFO ] pool-2-thread-1 TS_METRICS - DiskUtilization.Percent:69.9|#Level:Host|#hostname:6104c552534b,timestamp:1696845168\n",
      "2227s001z1-algo-1-ghk5f  | 2023-10-09 09:52:48,457 [INFO ] pool-2-thread-1 TS_METRICS - MemoryAvailable.Megabytes:200319.76953125|#Level:Host|#hostname:6104c552534b,timestamp:1696845168\n",
      "2227s001z1-algo-1-ghk5f  | 2023-10-09 09:52:48,457 [INFO ] pool-2-thread-1 TS_METRICS - MemoryUsed.Megabytes:50768.953125|#Level:Host|#hostname:6104c552534b,timestamp:1696845168\n",
      "2227s001z1-algo-1-ghk5f  | 2023-10-09 09:52:48,457 [INFO ] pool-2-thread-1 TS_METRICS - MemoryUtilization.Percent:21.4|#Level:Host|#hostname:6104c552534b,timestamp:1696845168\n",
      "2227s001z1-algo-1-ghk5f  | 2023-10-09 09:53:48,457 [INFO ] pool-2-thread-1 TS_METRICS - CPUUtilization.Percent:0.0|#Level:Host|#hostname:6104c552534b,timestamp:1696845228\n",
      "2227s001z1-algo-1-ghk5f  | 2023-10-09 09:53:48,457 [INFO ] pool-2-thread-1 TS_METRICS - DiskAvailable.Gigabytes:58.361724853515625|#Level:Host|#hostname:6104c552534b,timestamp:1696845228\n",
      "2227s001z1-algo-1-ghk5f  | 2023-10-09 09:53:48,457 [INFO ] pool-2-thread-1 TS_METRICS - DiskUsage.Gigabytes:135.42872619628906|#Level:Host|#hostname:6104c552534b,timestamp:1696845228\n",
      "2227s001z1-algo-1-ghk5f  | 2023-10-09 09:53:48,457 [INFO ] pool-2-thread-1 TS_METRICS - DiskUtilization.Percent:69.9|#Level:Host|#hostname:6104c552534b,timestamp:1696845228\n",
      "2227s001z1-algo-1-ghk5f  | 2023-10-09 09:53:48,457 [INFO ] pool-2-thread-1 TS_METRICS - MemoryAvailable.Megabytes:200322.34375|#Level:Host|#hostname:6104c552534b,timestamp:1696845228\n",
      "2227s001z1-algo-1-ghk5f  | 2023-10-09 09:53:48,457 [INFO ] pool-2-thread-1 TS_METRICS - MemoryUsed.Megabytes:50766.37890625|#Level:Host|#hostname:6104c552534b,timestamp:1696845228\n",
      "2227s001z1-algo-1-ghk5f  | 2023-10-09 09:53:48,457 [INFO ] pool-2-thread-1 TS_METRICS - MemoryUtilization.Percent:21.4|#Level:Host|#hostname:6104c552534b,timestamp:1696845228\n",
      "2227s001z1-algo-1-ghk5f  | 2023-10-09 09:54:48,457 [INFO ] pool-2-thread-2 TS_METRICS - CPUUtilization.Percent:0.0|#Level:Host|#hostname:6104c552534b,timestamp:1696845288\n",
      "2227s001z1-algo-1-ghk5f  | 2023-10-09 09:54:48,457 [INFO ] pool-2-thread-2 TS_METRICS - DiskAvailable.Gigabytes:58.361724853515625|#Level:Host|#hostname:6104c552534b,timestamp:1696845288\n",
      "2227s001z1-algo-1-ghk5f  | 2023-10-09 09:54:48,457 [INFO ] pool-2-thread-2 TS_METRICS - DiskUsage.Gigabytes:135.42872619628906|#Level:Host|#hostname:6104c552534b,timestamp:1696845288\n",
      "2227s001z1-algo-1-ghk5f  | 2023-10-09 09:54:48,457 [INFO ] pool-2-thread-2 TS_METRICS - DiskUtilization.Percent:69.9|#Level:Host|#hostname:6104c552534b,timestamp:1696845288\n",
      "2227s001z1-algo-1-ghk5f  | 2023-10-09 09:54:48,457 [INFO ] pool-2-thread-2 TS_METRICS - MemoryAvailable.Megabytes:200322.23828125|#Level:Host|#hostname:6104c552534b,timestamp:1696845288\n",
      "2227s001z1-algo-1-ghk5f  | 2023-10-09 09:54:48,457 [INFO ] pool-2-thread-2 TS_METRICS - MemoryUsed.Megabytes:50766.484375|#Level:Host|#hostname:6104c552534b,timestamp:1696845288\n",
      "2227s001z1-algo-1-ghk5f  | 2023-10-09 09:54:48,457 [INFO ] pool-2-thread-2 TS_METRICS - MemoryUtilization.Percent:21.4|#Level:Host|#hostname:6104c552534b,timestamp:1696845288\n",
      "2227s001z1-algo-1-ghk5f  | 2023-10-09 09:55:48,457 [INFO ] pool-2-thread-2 TS_METRICS - CPUUtilization.Percent:0.0|#Level:Host|#hostname:6104c552534b,timestamp:1696845348\n",
      "2227s001z1-algo-1-ghk5f  | 2023-10-09 09:55:48,457 [INFO ] pool-2-thread-2 TS_METRICS - DiskAvailable.Gigabytes:58.361724853515625|#Level:Host|#hostname:6104c552534b,timestamp:1696845348\n",
      "2227s001z1-algo-1-ghk5f  | 2023-10-09 09:55:48,457 [INFO ] pool-2-thread-2 TS_METRICS - DiskUsage.Gigabytes:135.42872619628906|#Level:Host|#hostname:6104c552534b,timestamp:1696845348\n",
      "2227s001z1-algo-1-ghk5f  | 2023-10-09 09:55:48,457 [INFO ] pool-2-thread-2 TS_METRICS - DiskUtilization.Percent:69.9|#Level:Host|#hostname:6104c552534b,timestamp:1696845348\n",
      "2227s001z1-algo-1-ghk5f  | 2023-10-09 09:55:48,457 [INFO ] pool-2-thread-2 TS_METRICS - MemoryAvailable.Megabytes:200312.015625|#Level:Host|#hostname:6104c552534b,timestamp:1696845348\n",
      "2227s001z1-algo-1-ghk5f  | 2023-10-09 09:55:48,457 [INFO ] pool-2-thread-2 TS_METRICS - MemoryUsed.Megabytes:50776.70703125|#Level:Host|#hostname:6104c552534b,timestamp:1696845348\n",
      "2227s001z1-algo-1-ghk5f  | 2023-10-09 09:55:48,457 [INFO ] pool-2-thread-2 TS_METRICS - MemoryUtilization.Percent:21.5|#Level:Host|#hostname:6104c552534b,timestamp:1696845348\n",
      "2227s001z1-algo-1-ghk5f  | 2023-10-09 09:56:48,457 [INFO ] pool-2-thread-1 TS_METRICS - CPUUtilization.Percent:0.0|#Level:Host|#hostname:6104c552534b,timestamp:1696845408\n",
      "2227s001z1-algo-1-ghk5f  | 2023-10-09 09:56:48,457 [INFO ] pool-2-thread-1 TS_METRICS - DiskAvailable.Gigabytes:58.361717224121094|#Level:Host|#hostname:6104c552534b,timestamp:1696845408\n",
      "2227s001z1-algo-1-ghk5f  | 2023-10-09 09:56:48,457 [INFO ] pool-2-thread-1 TS_METRICS - DiskUsage.Gigabytes:135.4287338256836|#Level:Host|#hostname:6104c552534b,timestamp:1696845408\n",
      "2227s001z1-algo-1-ghk5f  | 2023-10-09 09:56:48,457 [INFO ] pool-2-thread-1 TS_METRICS - DiskUtilization.Percent:69.9|#Level:Host|#hostname:6104c552534b,timestamp:1696845408\n",
      "2227s001z1-algo-1-ghk5f  | 2023-10-09 09:56:48,457 [INFO ] pool-2-thread-1 TS_METRICS - MemoryAvailable.Megabytes:200310.6015625|#Level:Host|#hostname:6104c552534b,timestamp:1696845408\n",
      "2227s001z1-algo-1-ghk5f  | 2023-10-09 09:56:48,457 [INFO ] pool-2-thread-1 TS_METRICS - MemoryUsed.Megabytes:50778.12109375|#Level:Host|#hostname:6104c552534b,timestamp:1696845408\n",
      "2227s001z1-algo-1-ghk5f  | 2023-10-09 09:56:48,457 [INFO ] pool-2-thread-1 TS_METRICS - MemoryUtilization.Percent:21.5|#Level:Host|#hostname:6104c552534b,timestamp:1696845408\n",
      "2227s001z1-algo-1-ghk5f  | 2023-10-09 09:57:48,457 [INFO ] pool-2-thread-1 TS_METRICS - CPUUtilization.Percent:0.0|#Level:Host|#hostname:6104c552534b,timestamp:1696845468\n",
      "2227s001z1-algo-1-ghk5f  | 2023-10-09 09:57:48,457 [INFO ] pool-2-thread-1 TS_METRICS - DiskAvailable.Gigabytes:58.361717224121094|#Level:Host|#hostname:6104c552534b,timestamp:1696845468\n",
      "2227s001z1-algo-1-ghk5f  | 2023-10-09 09:57:48,457 [INFO ] pool-2-thread-1 TS_METRICS - DiskUsage.Gigabytes:135.4287338256836|#Level:Host|#hostname:6104c552534b,timestamp:1696845468\n",
      "2227s001z1-algo-1-ghk5f  | 2023-10-09 09:57:48,457 [INFO ] pool-2-thread-1 TS_METRICS - DiskUtilization.Percent:69.9|#Level:Host|#hostname:6104c552534b,timestamp:1696845468\n",
      "2227s001z1-algo-1-ghk5f  | 2023-10-09 09:57:48,457 [INFO ] pool-2-thread-1 TS_METRICS - MemoryAvailable.Megabytes:200313.72265625|#Level:Host|#hostname:6104c552534b,timestamp:1696845468\n",
      "2227s001z1-algo-1-ghk5f  | 2023-10-09 09:57:48,457 [INFO ] pool-2-thread-1 TS_METRICS - MemoryUsed.Megabytes:50775.0|#Level:Host|#hostname:6104c552534b,timestamp:1696845468\n",
      "2227s001z1-algo-1-ghk5f  | 2023-10-09 09:57:48,457 [INFO ] pool-2-thread-1 TS_METRICS - MemoryUtilization.Percent:21.5|#Level:Host|#hostname:6104c552534b,timestamp:1696845468\n",
      "2227s001z1-algo-1-ghk5f  | 2023-10-09 09:58:48,457 [INFO ] pool-2-thread-1 TS_METRICS - CPUUtilization.Percent:0.0|#Level:Host|#hostname:6104c552534b,timestamp:1696845528\n",
      "2227s001z1-algo-1-ghk5f  | 2023-10-09 09:58:48,457 [INFO ] pool-2-thread-1 TS_METRICS - DiskAvailable.Gigabytes:58.36171340942383|#Level:Host|#hostname:6104c552534b,timestamp:1696845528\n",
      "2227s001z1-algo-1-ghk5f  | 2023-10-09 09:58:48,457 [INFO ] pool-2-thread-1 TS_METRICS - DiskUsage.Gigabytes:135.42873764038086|#Level:Host|#hostname:6104c552534b,timestamp:1696845528\n",
      "2227s001z1-algo-1-ghk5f  | 2023-10-09 09:58:48,457 [INFO ] pool-2-thread-1 TS_METRICS - DiskUtilization.Percent:69.9|#Level:Host|#hostname:6104c552534b,timestamp:1696845528\n",
      "2227s001z1-algo-1-ghk5f  | 2023-10-09 09:58:48,457 [INFO ] pool-2-thread-1 TS_METRICS - MemoryAvailable.Megabytes:200312.390625|#Level:Host|#hostname:6104c552534b,timestamp:1696845528\n",
      "2227s001z1-algo-1-ghk5f  | 2023-10-09 09:58:48,457 [INFO ] pool-2-thread-1 TS_METRICS - MemoryUsed.Megabytes:50776.33203125|#Level:Host|#hostname:6104c552534b,timestamp:1696845528\n",
      "2227s001z1-algo-1-ghk5f  | 2023-10-09 09:58:48,457 [INFO ] pool-2-thread-1 TS_METRICS - MemoryUtilization.Percent:21.5|#Level:Host|#hostname:6104c552534b,timestamp:1696845528\n",
      "2227s001z1-algo-1-ghk5f  | 2023-10-09 09:59:48,456 [INFO ] pool-2-thread-1 TS_METRICS - CPUUtilization.Percent:0.0|#Level:Host|#hostname:6104c552534b,timestamp:1696845588\n",
      "2227s001z1-algo-1-ghk5f  | 2023-10-09 09:59:48,457 [INFO ] pool-2-thread-1 TS_METRICS - DiskAvailable.Gigabytes:58.36171340942383|#Level:Host|#hostname:6104c552534b,timestamp:1696845588\n",
      "2227s001z1-algo-1-ghk5f  | 2023-10-09 09:59:48,457 [INFO ] pool-2-thread-1 TS_METRICS - DiskUsage.Gigabytes:135.42873764038086|#Level:Host|#hostname:6104c552534b,timestamp:1696845588\n",
      "2227s001z1-algo-1-ghk5f  | 2023-10-09 09:59:48,457 [INFO ] pool-2-thread-1 TS_METRICS - DiskUtilization.Percent:69.9|#Level:Host|#hostname:6104c552534b,timestamp:1696845588\n",
      "2227s001z1-algo-1-ghk5f  | 2023-10-09 09:59:48,457 [INFO ] pool-2-thread-1 TS_METRICS - MemoryAvailable.Megabytes:200316.46875|#Level:Host|#hostname:6104c552534b,timestamp:1696845588\n",
      "2227s001z1-algo-1-ghk5f  | 2023-10-09 09:59:48,457 [INFO ] pool-2-thread-1 TS_METRICS - MemoryUsed.Megabytes:50772.25390625|#Level:Host|#hostname:6104c552534b,timestamp:1696845588\n",
      "2227s001z1-algo-1-ghk5f  | 2023-10-09 09:59:48,457 [INFO ] pool-2-thread-1 TS_METRICS - MemoryUtilization.Percent:21.5|#Level:Host|#hostname:6104c552534b,timestamp:1696845588\n",
      "2227s001z1-algo-1-ghk5f  | 2023-10-09 10:00:48,456 [INFO ] pool-2-thread-1 TS_METRICS - CPUUtilization.Percent:0.0|#Level:Host|#hostname:6104c552534b,timestamp:1696845648\n",
      "2227s001z1-algo-1-ghk5f  | 2023-10-09 10:00:48,457 [INFO ] pool-2-thread-1 TS_METRICS - DiskAvailable.Gigabytes:58.36171340942383|#Level:Host|#hostname:6104c552534b,timestamp:1696845648\n",
      "2227s001z1-algo-1-ghk5f  | 2023-10-09 10:00:48,457 [INFO ] pool-2-thread-1 TS_METRICS - DiskUsage.Gigabytes:135.42873764038086|#Level:Host|#hostname:6104c552534b,timestamp:1696845648\n",
      "2227s001z1-algo-1-ghk5f  | 2023-10-09 10:00:48,457 [INFO ] pool-2-thread-1 TS_METRICS - DiskUtilization.Percent:69.9|#Level:Host|#hostname:6104c552534b,timestamp:1696845648\n",
      "2227s001z1-algo-1-ghk5f  | 2023-10-09 10:00:48,457 [INFO ] pool-2-thread-1 TS_METRICS - MemoryAvailable.Megabytes:200315.2578125|#Level:Host|#hostname:6104c552534b,timestamp:1696845648\n",
      "2227s001z1-algo-1-ghk5f  | 2023-10-09 10:00:48,457 [INFO ] pool-2-thread-1 TS_METRICS - MemoryUsed.Megabytes:50773.46484375|#Level:Host|#hostname:6104c552534b,timestamp:1696845648\n",
      "2227s001z1-algo-1-ghk5f  | 2023-10-09 10:00:48,457 [INFO ] pool-2-thread-1 TS_METRICS - MemoryUtilization.Percent:21.5|#Level:Host|#hostname:6104c552534b,timestamp:1696845648\n",
      "2227s001z1-algo-1-ghk5f  | 2023-10-09 10:01:48,457 [INFO ] pool-2-thread-1 TS_METRICS - CPUUtilization.Percent:0.0|#Level:Host|#hostname:6104c552534b,timestamp:1696845708\n",
      "2227s001z1-algo-1-ghk5f  | 2023-10-09 10:01:48,457 [INFO ] pool-2-thread-1 TS_METRICS - DiskAvailable.Gigabytes:58.3617057800293|#Level:Host|#hostname:6104c552534b,timestamp:1696845708\n",
      "2227s001z1-algo-1-ghk5f  | 2023-10-09 10:01:48,457 [INFO ] pool-2-thread-1 TS_METRICS - DiskUsage.Gigabytes:135.4287452697754|#Level:Host|#hostname:6104c552534b,timestamp:1696845708\n",
      "2227s001z1-algo-1-ghk5f  | 2023-10-09 10:01:48,457 [INFO ] pool-2-thread-1 TS_METRICS - DiskUtilization.Percent:69.9|#Level:Host|#hostname:6104c552534b,timestamp:1696845708\n",
      "2227s001z1-algo-1-ghk5f  | 2023-10-09 10:01:48,457 [INFO ] pool-2-thread-1 TS_METRICS - MemoryAvailable.Megabytes:200304.0703125|#Level:Host|#hostname:6104c552534b,timestamp:1696845708\n",
      "2227s001z1-algo-1-ghk5f  | 2023-10-09 10:01:48,457 [INFO ] pool-2-thread-1 TS_METRICS - MemoryUsed.Megabytes:50784.65234375|#Level:Host|#hostname:6104c552534b,timestamp:1696845708\n",
      "2227s001z1-algo-1-ghk5f  | 2023-10-09 10:01:48,457 [INFO ] pool-2-thread-1 TS_METRICS - MemoryUtilization.Percent:21.5|#Level:Host|#hostname:6104c552534b,timestamp:1696845708\n",
      "2227s001z1-algo-1-ghk5f  | 2023-10-09 10:02:48,457 [INFO ] pool-2-thread-2 TS_METRICS - CPUUtilization.Percent:0.0|#Level:Host|#hostname:6104c552534b,timestamp:1696845768\n",
      "2227s001z1-algo-1-ghk5f  | 2023-10-09 10:02:48,457 [INFO ] pool-2-thread-2 TS_METRICS - DiskAvailable.Gigabytes:58.3617057800293|#Level:Host|#hostname:6104c552534b,timestamp:1696845768\n",
      "2227s001z1-algo-1-ghk5f  | 2023-10-09 10:02:48,457 [INFO ] pool-2-thread-2 TS_METRICS - DiskUsage.Gigabytes:135.4287452697754|#Level:Host|#hostname:6104c552534b,timestamp:1696845768\n",
      "2227s001z1-algo-1-ghk5f  | 2023-10-09 10:02:48,457 [INFO ] pool-2-thread-2 TS_METRICS - DiskUtilization.Percent:69.9|#Level:Host|#hostname:6104c552534b,timestamp:1696845768\n",
      "2227s001z1-algo-1-ghk5f  | 2023-10-09 10:02:48,457 [INFO ] pool-2-thread-2 TS_METRICS - MemoryAvailable.Megabytes:200314.96875|#Level:Host|#hostname:6104c552534b,timestamp:1696845768\n",
      "2227s001z1-algo-1-ghk5f  | 2023-10-09 10:02:48,457 [INFO ] pool-2-thread-2 TS_METRICS - MemoryUsed.Megabytes:50773.75390625|#Level:Host|#hostname:6104c552534b,timestamp:1696845768\n",
      "2227s001z1-algo-1-ghk5f  | 2023-10-09 10:02:48,457 [INFO ] pool-2-thread-2 TS_METRICS - MemoryUtilization.Percent:21.5|#Level:Host|#hostname:6104c552534b,timestamp:1696845768\n",
      "2227s001z1-algo-1-ghk5f  | 2023-10-09 10:03:48,457 [INFO ] pool-2-thread-2 TS_METRICS - CPUUtilization.Percent:0.0|#Level:Host|#hostname:6104c552534b,timestamp:1696845828\n",
      "2227s001z1-algo-1-ghk5f  | 2023-10-09 10:03:48,457 [INFO ] pool-2-thread-2 TS_METRICS - DiskAvailable.Gigabytes:58.3617057800293|#Level:Host|#hostname:6104c552534b,timestamp:1696845828\n",
      "2227s001z1-algo-1-ghk5f  | 2023-10-09 10:03:48,457 [INFO ] pool-2-thread-2 TS_METRICS - DiskUsage.Gigabytes:135.4287452697754|#Level:Host|#hostname:6104c552534b,timestamp:1696845828\n",
      "2227s001z1-algo-1-ghk5f  | 2023-10-09 10:03:48,457 [INFO ] pool-2-thread-2 TS_METRICS - DiskUtilization.Percent:69.9|#Level:Host|#hostname:6104c552534b,timestamp:1696845828\n",
      "2227s001z1-algo-1-ghk5f  | 2023-10-09 10:03:48,457 [INFO ] pool-2-thread-2 TS_METRICS - MemoryAvailable.Megabytes:200313.8671875|#Level:Host|#hostname:6104c552534b,timestamp:1696845828\n",
      "2227s001z1-algo-1-ghk5f  | 2023-10-09 10:03:48,457 [INFO ] pool-2-thread-2 TS_METRICS - MemoryUsed.Megabytes:50774.85546875|#Level:Host|#hostname:6104c552534b,timestamp:1696845828\n",
      "2227s001z1-algo-1-ghk5f  | 2023-10-09 10:03:48,457 [INFO ] pool-2-thread-2 TS_METRICS - MemoryUtilization.Percent:21.5|#Level:Host|#hostname:6104c552534b,timestamp:1696845828\n",
      "2227s001z1-algo-1-ghk5f  | 2023-10-09 10:04:48,457 [INFO ] pool-2-thread-2 TS_METRICS - CPUUtilization.Percent:0.0|#Level:Host|#hostname:6104c552534b,timestamp:1696845888\n",
      "2227s001z1-algo-1-ghk5f  | 2023-10-09 10:04:48,458 [INFO ] pool-2-thread-2 TS_METRICS - DiskAvailable.Gigabytes:58.36170196533203|#Level:Host|#hostname:6104c552534b,timestamp:1696845888\n",
      "2227s001z1-algo-1-ghk5f  | 2023-10-09 10:04:48,458 [INFO ] pool-2-thread-2 TS_METRICS - DiskUsage.Gigabytes:135.42874908447266|#Level:Host|#hostname:6104c552534b,timestamp:1696845888\n",
      "2227s001z1-algo-1-ghk5f  | 2023-10-09 10:04:48,458 [INFO ] pool-2-thread-2 TS_METRICS - DiskUtilization.Percent:69.9|#Level:Host|#hostname:6104c552534b,timestamp:1696845888\n",
      "2227s001z1-algo-1-ghk5f  | 2023-10-09 10:04:48,458 [INFO ] pool-2-thread-2 TS_METRICS - MemoryAvailable.Megabytes:200315.3125|#Level:Host|#hostname:6104c552534b,timestamp:1696845888\n",
      "2227s001z1-algo-1-ghk5f  | 2023-10-09 10:04:48,458 [INFO ] pool-2-thread-2 TS_METRICS - MemoryUsed.Megabytes:50773.41015625|#Level:Host|#hostname:6104c552534b,timestamp:1696845888\n",
      "2227s001z1-algo-1-ghk5f  | 2023-10-09 10:04:48,458 [INFO ] pool-2-thread-2 TS_METRICS - MemoryUtilization.Percent:21.5|#Level:Host|#hostname:6104c552534b,timestamp:1696845888\n",
      "2227s001z1-algo-1-ghk5f  | 2023-10-09 10:05:48,457 [INFO ] pool-2-thread-1 TS_METRICS - CPUUtilization.Percent:0.0|#Level:Host|#hostname:6104c552534b,timestamp:1696845948\n",
      "2227s001z1-algo-1-ghk5f  | 2023-10-09 10:05:48,457 [INFO ] pool-2-thread-1 TS_METRICS - DiskAvailable.Gigabytes:58.36170196533203|#Level:Host|#hostname:6104c552534b,timestamp:1696845948\n",
      "2227s001z1-algo-1-ghk5f  | 2023-10-09 10:05:48,457 [INFO ] pool-2-thread-1 TS_METRICS - DiskUsage.Gigabytes:135.42874908447266|#Level:Host|#hostname:6104c552534b,timestamp:1696845948\n",
      "2227s001z1-algo-1-ghk5f  | 2023-10-09 10:05:48,457 [INFO ] pool-2-thread-1 TS_METRICS - DiskUtilization.Percent:69.9|#Level:Host|#hostname:6104c552534b,timestamp:1696845948\n",
      "2227s001z1-algo-1-ghk5f  | 2023-10-09 10:05:48,457 [INFO ] pool-2-thread-1 TS_METRICS - MemoryAvailable.Megabytes:200307.828125|#Level:Host|#hostname:6104c552534b,timestamp:1696845948\n",
      "2227s001z1-algo-1-ghk5f  | 2023-10-09 10:05:48,457 [INFO ] pool-2-thread-1 TS_METRICS - MemoryUsed.Megabytes:50780.89453125|#Level:Host|#hostname:6104c552534b,timestamp:1696845948\n",
      "2227s001z1-algo-1-ghk5f  | 2023-10-09 10:05:48,457 [INFO ] pool-2-thread-1 TS_METRICS - MemoryUtilization.Percent:21.5|#Level:Host|#hostname:6104c552534b,timestamp:1696845948\n",
      "2227s001z1-algo-1-ghk5f  | 2023-10-09 10:06:48,457 [INFO ] pool-2-thread-1 TS_METRICS - CPUUtilization.Percent:0.0|#Level:Host|#hostname:6104c552534b,timestamp:1696846008\n",
      "2227s001z1-algo-1-ghk5f  | 2023-10-09 10:06:48,457 [INFO ] pool-2-thread-1 TS_METRICS - DiskAvailable.Gigabytes:58.3616943359375|#Level:Host|#hostname:6104c552534b,timestamp:1696846008\n",
      "2227s001z1-algo-1-ghk5f  | 2023-10-09 10:06:48,457 [INFO ] pool-2-thread-1 TS_METRICS - DiskUsage.Gigabytes:135.4287567138672|#Level:Host|#hostname:6104c552534b,timestamp:1696846008\n",
      "2227s001z1-algo-1-ghk5f  | 2023-10-09 10:06:48,457 [INFO ] pool-2-thread-1 TS_METRICS - DiskUtilization.Percent:69.9|#Level:Host|#hostname:6104c552534b,timestamp:1696846008\n",
      "2227s001z1-algo-1-ghk5f  | 2023-10-09 10:06:48,457 [INFO ] pool-2-thread-1 TS_METRICS - MemoryAvailable.Megabytes:200314.828125|#Level:Host|#hostname:6104c552534b,timestamp:1696846008\n",
      "2227s001z1-algo-1-ghk5f  | 2023-10-09 10:06:48,457 [INFO ] pool-2-thread-1 TS_METRICS - MemoryUsed.Megabytes:50773.89453125|#Level:Host|#hostname:6104c552534b,timestamp:1696846008\n",
      "2227s001z1-algo-1-ghk5f  | 2023-10-09 10:06:48,457 [INFO ] pool-2-thread-1 TS_METRICS - MemoryUtilization.Percent:21.5|#Level:Host|#hostname:6104c552534b,timestamp:1696846008\n",
      "2227s001z1-algo-1-ghk5f  | 2023-10-09 10:07:48,457 [INFO ] pool-2-thread-1 TS_METRICS - CPUUtilization.Percent:0.0|#Level:Host|#hostname:6104c552534b,timestamp:1696846068\n",
      "2227s001z1-algo-1-ghk5f  | 2023-10-09 10:07:48,457 [INFO ] pool-2-thread-1 TS_METRICS - DiskAvailable.Gigabytes:58.3616943359375|#Level:Host|#hostname:6104c552534b,timestamp:1696846068\n",
      "2227s001z1-algo-1-ghk5f  | 2023-10-09 10:07:48,457 [INFO ] pool-2-thread-1 TS_METRICS - DiskUsage.Gigabytes:135.4287567138672|#Level:Host|#hostname:6104c552534b,timestamp:1696846068\n",
      "2227s001z1-algo-1-ghk5f  | 2023-10-09 10:07:48,457 [INFO ] pool-2-thread-1 TS_METRICS - DiskUtilization.Percent:69.9|#Level:Host|#hostname:6104c552534b,timestamp:1696846068\n",
      "2227s001z1-algo-1-ghk5f  | 2023-10-09 10:07:48,457 [INFO ] pool-2-thread-1 TS_METRICS - MemoryAvailable.Megabytes:200314.26171875|#Level:Host|#hostname:6104c552534b,timestamp:1696846068\n",
      "2227s001z1-algo-1-ghk5f  | 2023-10-09 10:07:48,457 [INFO ] pool-2-thread-1 TS_METRICS - MemoryUsed.Megabytes:50774.4609375|#Level:Host|#hostname:6104c552534b,timestamp:1696846068\n",
      "2227s001z1-algo-1-ghk5f  | 2023-10-09 10:07:48,457 [INFO ] pool-2-thread-1 TS_METRICS - MemoryUtilization.Percent:21.5|#Level:Host|#hostname:6104c552534b,timestamp:1696846068\n",
      "2227s001z1-algo-1-ghk5f  | 2023-10-09 10:08:48,457 [INFO ] pool-2-thread-2 TS_METRICS - CPUUtilization.Percent:0.0|#Level:Host|#hostname:6104c552534b,timestamp:1696846128\n",
      "2227s001z1-algo-1-ghk5f  | 2023-10-09 10:08:48,457 [INFO ] pool-2-thread-2 TS_METRICS - DiskAvailable.Gigabytes:58.3616943359375|#Level:Host|#hostname:6104c552534b,timestamp:1696846128\n",
      "2227s001z1-algo-1-ghk5f  | 2023-10-09 10:08:48,457 [INFO ] pool-2-thread-2 TS_METRICS - DiskUsage.Gigabytes:135.4287567138672|#Level:Host|#hostname:6104c552534b,timestamp:1696846128\n",
      "2227s001z1-algo-1-ghk5f  | 2023-10-09 10:08:48,457 [INFO ] pool-2-thread-2 TS_METRICS - DiskUtilization.Percent:69.9|#Level:Host|#hostname:6104c552534b,timestamp:1696846128\n",
      "2227s001z1-algo-1-ghk5f  | 2023-10-09 10:08:48,457 [INFO ] pool-2-thread-2 TS_METRICS - MemoryAvailable.Megabytes:200315.37109375|#Level:Host|#hostname:6104c552534b,timestamp:1696846128\n",
      "2227s001z1-algo-1-ghk5f  | 2023-10-09 10:08:48,457 [INFO ] pool-2-thread-2 TS_METRICS - MemoryUsed.Megabytes:50773.3515625|#Level:Host|#hostname:6104c552534b,timestamp:1696846128\n",
      "2227s001z1-algo-1-ghk5f  | 2023-10-09 10:08:48,457 [INFO ] pool-2-thread-2 TS_METRICS - MemoryUtilization.Percent:21.5|#Level:Host|#hostname:6104c552534b,timestamp:1696846128\n",
      "2227s001z1-algo-1-ghk5f  | 2023-10-09 10:09:48,457 [INFO ] pool-2-thread-2 TS_METRICS - CPUUtilization.Percent:0.0|#Level:Host|#hostname:6104c552534b,timestamp:1696846188\n",
      "2227s001z1-algo-1-ghk5f  | 2023-10-09 10:09:48,457 [INFO ] pool-2-thread-2 TS_METRICS - DiskAvailable.Gigabytes:58.36168670654297|#Level:Host|#hostname:6104c552534b,timestamp:1696846188\n",
      "2227s001z1-algo-1-ghk5f  | 2023-10-09 10:09:48,457 [INFO ] pool-2-thread-2 TS_METRICS - DiskUsage.Gigabytes:135.42876434326172|#Level:Host|#hostname:6104c552534b,timestamp:1696846188\n",
      "2227s001z1-algo-1-ghk5f  | 2023-10-09 10:09:48,457 [INFO ] pool-2-thread-2 TS_METRICS - DiskUtilization.Percent:69.9|#Level:Host|#hostname:6104c552534b,timestamp:1696846188\n",
      "2227s001z1-algo-1-ghk5f  | 2023-10-09 10:09:48,457 [INFO ] pool-2-thread-2 TS_METRICS - MemoryAvailable.Megabytes:200317.29296875|#Level:Host|#hostname:6104c552534b,timestamp:1696846188\n",
      "2227s001z1-algo-1-ghk5f  | 2023-10-09 10:09:48,457 [INFO ] pool-2-thread-2 TS_METRICS - MemoryUsed.Megabytes:50771.4296875|#Level:Host|#hostname:6104c552534b,timestamp:1696846188\n",
      "2227s001z1-algo-1-ghk5f  | 2023-10-09 10:09:48,457 [INFO ] pool-2-thread-2 TS_METRICS - MemoryUtilization.Percent:21.4|#Level:Host|#hostname:6104c552534b,timestamp:1696846188\n",
      "2227s001z1-algo-1-ghk5f  | 2023-10-09 10:10:48,457 [INFO ] pool-2-thread-2 TS_METRICS - CPUUtilization.Percent:0.0|#Level:Host|#hostname:6104c552534b,timestamp:1696846248\n",
      "2227s001z1-algo-1-ghk5f  | 2023-10-09 10:10:48,457 [INFO ] pool-2-thread-2 TS_METRICS - DiskAvailable.Gigabytes:58.36168670654297|#Level:Host|#hostname:6104c552534b,timestamp:1696846248\n",
      "2227s001z1-algo-1-ghk5f  | 2023-10-09 10:10:48,457 [INFO ] pool-2-thread-2 TS_METRICS - DiskUsage.Gigabytes:135.42876434326172|#Level:Host|#hostname:6104c552534b,timestamp:1696846248\n",
      "2227s001z1-algo-1-ghk5f  | 2023-10-09 10:10:48,457 [INFO ] pool-2-thread-2 TS_METRICS - DiskUtilization.Percent:69.9|#Level:Host|#hostname:6104c552534b,timestamp:1696846248\n",
      "2227s001z1-algo-1-ghk5f  | 2023-10-09 10:10:48,457 [INFO ] pool-2-thread-2 TS_METRICS - MemoryAvailable.Megabytes:200322.33203125|#Level:Host|#hostname:6104c552534b,timestamp:1696846248\n",
      "2227s001z1-algo-1-ghk5f  | 2023-10-09 10:10:48,457 [INFO ] pool-2-thread-2 TS_METRICS - MemoryUsed.Megabytes:50766.390625|#Level:Host|#hostname:6104c552534b,timestamp:1696846248\n",
      "2227s001z1-algo-1-ghk5f  | 2023-10-09 10:10:48,457 [INFO ] pool-2-thread-2 TS_METRICS - MemoryUtilization.Percent:21.4|#Level:Host|#hostname:6104c552534b,timestamp:1696846248\n",
      "2227s001z1-algo-1-ghk5f  | 2023-10-09 10:11:48,457 [INFO ] pool-2-thread-2 TS_METRICS - CPUUtilization.Percent:0.0|#Level:Host|#hostname:6104c552534b,timestamp:1696846308\n",
      "2227s001z1-algo-1-ghk5f  | 2023-10-09 10:11:48,457 [INFO ] pool-2-thread-2 TS_METRICS - DiskAvailable.Gigabytes:58.36167526245117|#Level:Host|#hostname:6104c552534b,timestamp:1696846308\n",
      "2227s001z1-algo-1-ghk5f  | 2023-10-09 10:11:48,457 [INFO ] pool-2-thread-2 TS_METRICS - DiskUsage.Gigabytes:135.42877578735352|#Level:Host|#hostname:6104c552534b,timestamp:1696846308\n",
      "2227s001z1-algo-1-ghk5f  | 2023-10-09 10:11:48,457 [INFO ] pool-2-thread-2 TS_METRICS - DiskUtilization.Percent:69.9|#Level:Host|#hostname:6104c552534b,timestamp:1696846308\n",
      "2227s001z1-algo-1-ghk5f  | 2023-10-09 10:11:48,457 [INFO ] pool-2-thread-2 TS_METRICS - MemoryAvailable.Megabytes:200322.4609375|#Level:Host|#hostname:6104c552534b,timestamp:1696846308\n",
      "2227s001z1-algo-1-ghk5f  | 2023-10-09 10:11:48,457 [INFO ] pool-2-thread-2 TS_METRICS - MemoryUsed.Megabytes:50766.26171875|#Level:Host|#hostname:6104c552534b,timestamp:1696846308\n",
      "2227s001z1-algo-1-ghk5f  | 2023-10-09 10:11:48,457 [INFO ] pool-2-thread-2 TS_METRICS - MemoryUtilization.Percent:21.4|#Level:Host|#hostname:6104c552534b,timestamp:1696846308\n",
      "2227s001z1-algo-1-ghk5f  | 2023-10-09 10:12:48,457 [INFO ] pool-2-thread-2 TS_METRICS - CPUUtilization.Percent:0.0|#Level:Host|#hostname:6104c552534b,timestamp:1696846368\n",
      "2227s001z1-algo-1-ghk5f  | 2023-10-09 10:12:48,457 [INFO ] pool-2-thread-2 TS_METRICS - DiskAvailable.Gigabytes:58.36167526245117|#Level:Host|#hostname:6104c552534b,timestamp:1696846368\n",
      "2227s001z1-algo-1-ghk5f  | 2023-10-09 10:12:48,457 [INFO ] pool-2-thread-2 TS_METRICS - DiskUsage.Gigabytes:135.42877578735352|#Level:Host|#hostname:6104c552534b,timestamp:1696846368\n",
      "2227s001z1-algo-1-ghk5f  | 2023-10-09 10:12:48,457 [INFO ] pool-2-thread-2 TS_METRICS - DiskUtilization.Percent:69.9|#Level:Host|#hostname:6104c552534b,timestamp:1696846368\n",
      "2227s001z1-algo-1-ghk5f  | 2023-10-09 10:12:48,457 [INFO ] pool-2-thread-2 TS_METRICS - MemoryAvailable.Megabytes:200306.6484375|#Level:Host|#hostname:6104c552534b,timestamp:1696846368\n",
      "2227s001z1-algo-1-ghk5f  | 2023-10-09 10:12:48,458 [INFO ] pool-2-thread-2 TS_METRICS - MemoryUsed.Megabytes:50782.07421875|#Level:Host|#hostname:6104c552534b,timestamp:1696846368\n",
      "2227s001z1-algo-1-ghk5f  | 2023-10-09 10:12:48,458 [INFO ] pool-2-thread-2 TS_METRICS - MemoryUtilization.Percent:21.5|#Level:Host|#hostname:6104c552534b,timestamp:1696846368\n",
      "2227s001z1-algo-1-ghk5f  | 2023-10-09 10:13:48,457 [INFO ] pool-2-thread-1 TS_METRICS - CPUUtilization.Percent:0.0|#Level:Host|#hostname:6104c552534b,timestamp:1696846428\n",
      "2227s001z1-algo-1-ghk5f  | 2023-10-09 10:13:48,457 [INFO ] pool-2-thread-1 TS_METRICS - DiskAvailable.Gigabytes:58.36167526245117|#Level:Host|#hostname:6104c552534b,timestamp:1696846428\n",
      "2227s001z1-algo-1-ghk5f  | 2023-10-09 10:13:48,457 [INFO ] pool-2-thread-1 TS_METRICS - DiskUsage.Gigabytes:135.42877578735352|#Level:Host|#hostname:6104c552534b,timestamp:1696846428\n",
      "2227s001z1-algo-1-ghk5f  | 2023-10-09 10:13:48,457 [INFO ] pool-2-thread-1 TS_METRICS - DiskUtilization.Percent:69.9|#Level:Host|#hostname:6104c552534b,timestamp:1696846428\n",
      "2227s001z1-algo-1-ghk5f  | 2023-10-09 10:13:48,457 [INFO ] pool-2-thread-1 TS_METRICS - MemoryAvailable.Megabytes:200314.2734375|#Level:Host|#hostname:6104c552534b,timestamp:1696846428\n",
      "2227s001z1-algo-1-ghk5f  | 2023-10-09 10:13:48,457 [INFO ] pool-2-thread-1 TS_METRICS - MemoryUsed.Megabytes:50774.44921875|#Level:Host|#hostname:6104c552534b,timestamp:1696846428\n",
      "2227s001z1-algo-1-ghk5f  | 2023-10-09 10:13:48,457 [INFO ] pool-2-thread-1 TS_METRICS - MemoryUtilization.Percent:21.5|#Level:Host|#hostname:6104c552534b,timestamp:1696846428\n",
      "2227s001z1-algo-1-ghk5f  | 2023-10-09 10:14:48,457 [INFO ] pool-2-thread-2 TS_METRICS - CPUUtilization.Percent:0.0|#Level:Host|#hostname:6104c552534b,timestamp:1696846488\n",
      "2227s001z1-algo-1-ghk5f  | 2023-10-09 10:14:48,457 [INFO ] pool-2-thread-2 TS_METRICS - DiskAvailable.Gigabytes:58.361671447753906|#Level:Host|#hostname:6104c552534b,timestamp:1696846488\n",
      "2227s001z1-algo-1-ghk5f  | 2023-10-09 10:14:48,457 [INFO ] pool-2-thread-2 TS_METRICS - DiskUsage.Gigabytes:135.42877960205078|#Level:Host|#hostname:6104c552534b,timestamp:1696846488\n",
      "2227s001z1-algo-1-ghk5f  | 2023-10-09 10:14:48,457 [INFO ] pool-2-thread-2 TS_METRICS - DiskUtilization.Percent:69.9|#Level:Host|#hostname:6104c552534b,timestamp:1696846488\n",
      "2227s001z1-algo-1-ghk5f  | 2023-10-09 10:14:48,457 [INFO ] pool-2-thread-2 TS_METRICS - MemoryAvailable.Megabytes:200305.96484375|#Level:Host|#hostname:6104c552534b,timestamp:1696846488\n",
      "2227s001z1-algo-1-ghk5f  | 2023-10-09 10:14:48,457 [INFO ] pool-2-thread-2 TS_METRICS - MemoryUsed.Megabytes:50782.7578125|#Level:Host|#hostname:6104c552534b,timestamp:1696846488\n",
      "2227s001z1-algo-1-ghk5f  | 2023-10-09 10:14:48,457 [INFO ] pool-2-thread-2 TS_METRICS - MemoryUtilization.Percent:21.5|#Level:Host|#hostname:6104c552534b,timestamp:1696846488\n",
      "2227s001z1-algo-1-ghk5f  | 2023-10-09 10:15:48,457 [INFO ] pool-2-thread-1 TS_METRICS - CPUUtilization.Percent:0.0|#Level:Host|#hostname:6104c552534b,timestamp:1696846548\n",
      "2227s001z1-algo-1-ghk5f  | 2023-10-09 10:15:48,457 [INFO ] pool-2-thread-1 TS_METRICS - DiskAvailable.Gigabytes:58.361671447753906|#Level:Host|#hostname:6104c552534b,timestamp:1696846548\n",
      "2227s001z1-algo-1-ghk5f  | 2023-10-09 10:15:48,457 [INFO ] pool-2-thread-1 TS_METRICS - DiskUsage.Gigabytes:135.42877960205078|#Level:Host|#hostname:6104c552534b,timestamp:1696846548\n",
      "2227s001z1-algo-1-ghk5f  | 2023-10-09 10:15:48,457 [INFO ] pool-2-thread-1 TS_METRICS - DiskUtilization.Percent:69.9|#Level:Host|#hostname:6104c552534b,timestamp:1696846548\n",
      "2227s001z1-algo-1-ghk5f  | 2023-10-09 10:15:48,457 [INFO ] pool-2-thread-1 TS_METRICS - MemoryAvailable.Megabytes:200305.5703125|#Level:Host|#hostname:6104c552534b,timestamp:1696846548\n",
      "2227s001z1-algo-1-ghk5f  | 2023-10-09 10:15:48,457 [INFO ] pool-2-thread-1 TS_METRICS - MemoryUsed.Megabytes:50783.15234375|#Level:Host|#hostname:6104c552534b,timestamp:1696846548\n",
      "2227s001z1-algo-1-ghk5f  | 2023-10-09 10:15:48,457 [INFO ] pool-2-thread-1 TS_METRICS - MemoryUtilization.Percent:21.5|#Level:Host|#hostname:6104c552534b,timestamp:1696846548\n",
      "2227s001z1-algo-1-ghk5f  | 2023-10-09 10:16:48,457 [INFO ] pool-2-thread-2 TS_METRICS - CPUUtilization.Percent:0.0|#Level:Host|#hostname:6104c552534b,timestamp:1696846608\n",
      "2227s001z1-algo-1-ghk5f  | 2023-10-09 10:16:48,457 [INFO ] pool-2-thread-2 TS_METRICS - DiskAvailable.Gigabytes:58.36166763305664|#Level:Host|#hostname:6104c552534b,timestamp:1696846608\n",
      "2227s001z1-algo-1-ghk5f  | 2023-10-09 10:16:48,457 [INFO ] pool-2-thread-2 TS_METRICS - DiskUsage.Gigabytes:135.42878341674805|#Level:Host|#hostname:6104c552534b,timestamp:1696846608\n",
      "2227s001z1-algo-1-ghk5f  | 2023-10-09 10:16:48,457 [INFO ] pool-2-thread-2 TS_METRICS - DiskUtilization.Percent:69.9|#Level:Host|#hostname:6104c552534b,timestamp:1696846608\n",
      "2227s001z1-algo-1-ghk5f  | 2023-10-09 10:16:48,457 [INFO ] pool-2-thread-2 TS_METRICS - MemoryAvailable.Megabytes:200313.8984375|#Level:Host|#hostname:6104c552534b,timestamp:1696846608\n",
      "2227s001z1-algo-1-ghk5f  | 2023-10-09 10:16:48,457 [INFO ] pool-2-thread-2 TS_METRICS - MemoryUsed.Megabytes:50774.82421875|#Level:Host|#hostname:6104c552534b,timestamp:1696846608\n",
      "2227s001z1-algo-1-ghk5f  | 2023-10-09 10:16:48,457 [INFO ] pool-2-thread-2 TS_METRICS - MemoryUtilization.Percent:21.5|#Level:Host|#hostname:6104c552534b,timestamp:1696846608\n",
      "2227s001z1-algo-1-ghk5f  | 2023-10-09 10:17:48,456 [INFO ] pool-2-thread-2 TS_METRICS - CPUUtilization.Percent:0.0|#Level:Host|#hostname:6104c552534b,timestamp:1696846668\n",
      "2227s001z1-algo-1-ghk5f  | 2023-10-09 10:17:48,456 [INFO ] pool-2-thread-2 TS_METRICS - DiskAvailable.Gigabytes:58.36166000366211|#Level:Host|#hostname:6104c552534b,timestamp:1696846668\n",
      "2227s001z1-algo-1-ghk5f  | 2023-10-09 10:17:48,456 [INFO ] pool-2-thread-2 TS_METRICS - DiskUsage.Gigabytes:135.42879104614258|#Level:Host|#hostname:6104c552534b,timestamp:1696846668\n",
      "2227s001z1-algo-1-ghk5f  | 2023-10-09 10:17:48,456 [INFO ] pool-2-thread-2 TS_METRICS - DiskUtilization.Percent:69.9|#Level:Host|#hostname:6104c552534b,timestamp:1696846668\n",
      "2227s001z1-algo-1-ghk5f  | 2023-10-09 10:17:48,456 [INFO ] pool-2-thread-2 TS_METRICS - MemoryAvailable.Megabytes:200294.265625|#Level:Host|#hostname:6104c552534b,timestamp:1696846668\n",
      "2227s001z1-algo-1-ghk5f  | 2023-10-09 10:17:48,456 [INFO ] pool-2-thread-2 TS_METRICS - MemoryUsed.Megabytes:50794.45703125|#Level:Host|#hostname:6104c552534b,timestamp:1696846668\n",
      "2227s001z1-algo-1-ghk5f  | 2023-10-09 10:17:48,457 [INFO ] pool-2-thread-2 TS_METRICS - MemoryUtilization.Percent:21.5|#Level:Host|#hostname:6104c552534b,timestamp:1696846668\n",
      "2227s001z1-algo-1-ghk5f  | 2023-10-09 10:18:48,457 [INFO ] pool-2-thread-1 TS_METRICS - CPUUtilization.Percent:0.0|#Level:Host|#hostname:6104c552534b,timestamp:1696846728\n",
      "2227s001z1-algo-1-ghk5f  | 2023-10-09 10:18:48,457 [INFO ] pool-2-thread-1 TS_METRICS - DiskAvailable.Gigabytes:58.36166000366211|#Level:Host|#hostname:6104c552534b,timestamp:1696846728\n",
      "2227s001z1-algo-1-ghk5f  | 2023-10-09 10:18:48,457 [INFO ] pool-2-thread-1 TS_METRICS - DiskUsage.Gigabytes:135.42879104614258|#Level:Host|#hostname:6104c552534b,timestamp:1696846728\n",
      "2227s001z1-algo-1-ghk5f  | 2023-10-09 10:18:48,457 [INFO ] pool-2-thread-1 TS_METRICS - DiskUtilization.Percent:69.9|#Level:Host|#hostname:6104c552534b,timestamp:1696846728\n",
      "2227s001z1-algo-1-ghk5f  | 2023-10-09 10:18:48,457 [INFO ] pool-2-thread-1 TS_METRICS - MemoryAvailable.Megabytes:200299.6171875|#Level:Host|#hostname:6104c552534b,timestamp:1696846728\n",
      "2227s001z1-algo-1-ghk5f  | 2023-10-09 10:18:48,457 [INFO ] pool-2-thread-1 TS_METRICS - MemoryUsed.Megabytes:50789.10546875|#Level:Host|#hostname:6104c552534b,timestamp:1696846728\n",
      "2227s001z1-algo-1-ghk5f  | 2023-10-09 10:18:48,457 [INFO ] pool-2-thread-1 TS_METRICS - MemoryUtilization.Percent:21.5|#Level:Host|#hostname:6104c552534b,timestamp:1696846728\n",
      "2227s001z1-algo-1-ghk5f  | 2023-10-09 10:19:48,457 [INFO ] pool-2-thread-1 TS_METRICS - CPUUtilization.Percent:0.0|#Level:Host|#hostname:6104c552534b,timestamp:1696846788\n",
      "2227s001z1-algo-1-ghk5f  | 2023-10-09 10:19:48,457 [INFO ] pool-2-thread-1 TS_METRICS - DiskAvailable.Gigabytes:58.361656188964844|#Level:Host|#hostname:6104c552534b,timestamp:1696846788\n",
      "2227s001z1-algo-1-ghk5f  | 2023-10-09 10:19:48,457 [INFO ] pool-2-thread-1 TS_METRICS - DiskUsage.Gigabytes:135.42879486083984|#Level:Host|#hostname:6104c552534b,timestamp:1696846788\n",
      "2227s001z1-algo-1-ghk5f  | 2023-10-09 10:19:48,457 [INFO ] pool-2-thread-1 TS_METRICS - DiskUtilization.Percent:69.9|#Level:Host|#hostname:6104c552534b,timestamp:1696846788\n",
      "2227s001z1-algo-1-ghk5f  | 2023-10-09 10:19:48,457 [INFO ] pool-2-thread-1 TS_METRICS - MemoryAvailable.Megabytes:200304.84765625|#Level:Host|#hostname:6104c552534b,timestamp:1696846788\n",
      "2227s001z1-algo-1-ghk5f  | 2023-10-09 10:19:48,457 [INFO ] pool-2-thread-1 TS_METRICS - MemoryUsed.Megabytes:50783.875|#Level:Host|#hostname:6104c552534b,timestamp:1696846788\n",
      "2227s001z1-algo-1-ghk5f  | 2023-10-09 10:19:48,457 [INFO ] pool-2-thread-1 TS_METRICS - MemoryUtilization.Percent:21.5|#Level:Host|#hostname:6104c552534b,timestamp:1696846788\n",
      "2227s001z1-algo-1-ghk5f  | 2023-10-09 10:20:48,457 [INFO ] pool-2-thread-1 TS_METRICS - CPUUtilization.Percent:0.0|#Level:Host|#hostname:6104c552534b,timestamp:1696846848\n",
      "2227s001z1-algo-1-ghk5f  | 2023-10-09 10:20:48,457 [INFO ] pool-2-thread-1 TS_METRICS - DiskAvailable.Gigabytes:58.361656188964844|#Level:Host|#hostname:6104c552534b,timestamp:1696846848\n",
      "2227s001z1-algo-1-ghk5f  | 2023-10-09 10:20:48,457 [INFO ] pool-2-thread-1 TS_METRICS - DiskUsage.Gigabytes:135.42879486083984|#Level:Host|#hostname:6104c552534b,timestamp:1696846848\n",
      "2227s001z1-algo-1-ghk5f  | 2023-10-09 10:20:48,457 [INFO ] pool-2-thread-1 TS_METRICS - DiskUtilization.Percent:69.9|#Level:Host|#hostname:6104c552534b,timestamp:1696846848\n",
      "2227s001z1-algo-1-ghk5f  | 2023-10-09 10:20:48,457 [INFO ] pool-2-thread-1 TS_METRICS - MemoryAvailable.Megabytes:200307.80078125|#Level:Host|#hostname:6104c552534b,timestamp:1696846848\n",
      "2227s001z1-algo-1-ghk5f  | 2023-10-09 10:20:48,457 [INFO ] pool-2-thread-1 TS_METRICS - MemoryUsed.Megabytes:50781.6484375|#Level:Host|#hostname:6104c552534b,timestamp:1696846848\n",
      "2227s001z1-algo-1-ghk5f  | 2023-10-09 10:20:48,457 [INFO ] pool-2-thread-1 TS_METRICS - MemoryUtilization.Percent:21.5|#Level:Host|#hostname:6104c552534b,timestamp:1696846848\n",
      "2227s001z1-algo-1-ghk5f  | 2023-10-09 10:21:48,457 [INFO ] pool-2-thread-2 TS_METRICS - CPUUtilization.Percent:0.0|#Level:Host|#hostname:6104c552534b,timestamp:1696846908\n",
      "2227s001z1-algo-1-ghk5f  | 2023-10-09 10:21:48,457 [INFO ] pool-2-thread-2 TS_METRICS - DiskAvailable.Gigabytes:58.36165237426758|#Level:Host|#hostname:6104c552534b,timestamp:1696846908\n",
      "2227s001z1-algo-1-ghk5f  | 2023-10-09 10:21:48,457 [INFO ] pool-2-thread-2 TS_METRICS - DiskUsage.Gigabytes:135.4287986755371|#Level:Host|#hostname:6104c552534b,timestamp:1696846908\n",
      "2227s001z1-algo-1-ghk5f  | 2023-10-09 10:21:48,457 [INFO ] pool-2-thread-2 TS_METRICS - DiskUtilization.Percent:69.9|#Level:Host|#hostname:6104c552534b,timestamp:1696846908\n",
      "2227s001z1-algo-1-ghk5f  | 2023-10-09 10:21:48,457 [INFO ] pool-2-thread-2 TS_METRICS - MemoryAvailable.Megabytes:200307.19140625|#Level:Host|#hostname:6104c552534b,timestamp:1696846908\n",
      "2227s001z1-algo-1-ghk5f  | 2023-10-09 10:21:48,457 [INFO ] pool-2-thread-2 TS_METRICS - MemoryUsed.Megabytes:50781.53125|#Level:Host|#hostname:6104c552534b,timestamp:1696846908\n",
      "2227s001z1-algo-1-ghk5f  | 2023-10-09 10:21:48,457 [INFO ] pool-2-thread-2 TS_METRICS - MemoryUtilization.Percent:21.5|#Level:Host|#hostname:6104c552534b,timestamp:1696846908\n",
      "2227s001z1-algo-1-ghk5f  | 2023-10-09 10:22:48,458 [INFO ] pool-2-thread-2 TS_METRICS - CPUUtilization.Percent:0.0|#Level:Host|#hostname:6104c552534b,timestamp:1696846968\n",
      "2227s001z1-algo-1-ghk5f  | 2023-10-09 10:22:48,458 [INFO ] pool-2-thread-2 TS_METRICS - DiskAvailable.Gigabytes:58.36164474487305|#Level:Host|#hostname:6104c552534b,timestamp:1696846968\n",
      "2227s001z1-algo-1-ghk5f  | 2023-10-09 10:22:48,458 [INFO ] pool-2-thread-2 TS_METRICS - DiskUsage.Gigabytes:135.42880630493164|#Level:Host|#hostname:6104c552534b,timestamp:1696846968\n",
      "2227s001z1-algo-1-ghk5f  | 2023-10-09 10:22:48,458 [INFO ] pool-2-thread-2 TS_METRICS - DiskUtilization.Percent:69.9|#Level:Host|#hostname:6104c552534b,timestamp:1696846968\n",
      "2227s001z1-algo-1-ghk5f  | 2023-10-09 10:22:48,458 [INFO ] pool-2-thread-2 TS_METRICS - MemoryAvailable.Megabytes:200291.046875|#Level:Host|#hostname:6104c552534b,timestamp:1696846968\n",
      "2227s001z1-algo-1-ghk5f  | 2023-10-09 10:22:48,458 [INFO ] pool-2-thread-2 TS_METRICS - MemoryUsed.Megabytes:50797.67578125|#Level:Host|#hostname:6104c552534b,timestamp:1696846968\n",
      "2227s001z1-algo-1-ghk5f  | 2023-10-09 10:22:48,458 [INFO ] pool-2-thread-2 TS_METRICS - MemoryUtilization.Percent:21.5|#Level:Host|#hostname:6104c552534b,timestamp:1696846968\n"
     ]
    }
   ],
   "source": [
    "res = r.read().decode()\n",
    "len(res)\n",
    "res[0:100]"
   ]
  },
  {
   "cell_type": "code",
   "execution_count": null,
   "metadata": {},
   "outputs": [],
   "source": [
    "%%sh\n",
    "# check if docker containers are running and kill them if needed\n",
    "docker ps\n",
    "docker stop $(docker ps -a -q)\n",
    "docker rm $(docker ps -a -q)\n"
   ]
  },
  {
   "attachments": {},
   "cell_type": "markdown",
   "metadata": {},
   "source": [
    "#### A sleek alternative to \"Bring your own container\": bring your own requirements.txt\n",
    "\n",
    "Also in this case, instead of extending the PyTorch container through a Dockerfile, we can simply import additional libraries to make our model work, if needed. \n",
    "The process is the same, i.e. adding the requirements.txt inside the same folder as the code will install the required dependencies at runtime. \n",
    "The source directory must be specified in the `source_dir` argument, and the entry point in the `entry_point` argument, when creating PyTorch estimator. Further documentation [here](https://sagemaker.readthedocs.io/en/stable/frameworks/pytorch/using_pytorch.html#using-third-party-libraries)\n",
    "\n",
    "*CAVEAT*: Installing libraries on the fly through requirements.txt implies additional overhead. This is negligible in case of \"always on\" single model endpoint deployment, but could have an impact in case of serverless or multi-model deployment. \n"
   ]
  },
  {
   "cell_type": "code",
   "execution_count": null,
   "metadata": {},
   "outputs": [],
   "source": [
    "import boto3\n",
    "\n",
    "my_session = boto3.session.Session()\n",
    "my_region = my_session.region_name\n",
    "my_image_uri_inference = (\n",
    "    \"763104351884.dkr.ecr.\"\n",
    "    + my_region\n",
    "    + \".amazonaws.com/pytorch-inference:1.12.1-gpu-py38-cu113-ubuntu20.04-sagemaker\"\n",
    ")\n",
    "print(\"my_image_uri_inference:\", my_image_uri_inference)\n",
    "from sagemaker.estimator import Estimator\n",
    "\n",
    "# define hyperparameters\n",
    "hyperparameters = {\"language\": \"english\"}\n",
    "\n",
    "estimator = Model(\n",
    "    image_uri=my_image_uri_inference,\n",
    "    model_data=model_data,\n",
    "    role=role,\n",
    "    source_dir=\"container/bert-topic-byoreq\",  # this directory contains the entrypoint code and the requirements.txt\n",
    "    entry_point=\"bert-topic-inference.py\",  # this argument is used to override internal container entrypoint, if needed!\n",
    "    sagemaker_session=session_local,  # local session\n",
    "    #                   predictor_cls=None,\n",
    "    #                   env=None,\n",
    "    #                   name=None,\n",
    "    #                   vpc_config=None,\n",
    "    #                   enable_network_isolation=False,\n",
    "    #                   model_kms_key=None,\n",
    "    #                   image_config=None,\n",
    "    #                   code_location=None,\n",
    "    #                   container_log_level=20,\n",
    "    #                   dependencies=None,\n",
    "    #                   git_config=None\n",
    ")\n",
    "\n",
    "predictor = estimator.deploy(1, instance_type_local)  #  (ignore the nvgpu errors)"
   ]
  },
  {
   "cell_type": "code",
   "execution_count": null,
   "metadata": {},
   "outputs": [],
   "source": [
    "serverless_config = sagemaker.serverless.serverless_inference_config.ServerlessInferenceConfig(2048, 200, 2)"
   ]
  },
  {
   "cell_type": "code",
   "execution_count": null,
   "metadata": {},
   "outputs": [],
   "source": [
    "# predictor = estimator.deploy(1, instance_type, endpoint_name=endpoint_deployment_name)\n",
    "predictor = estimator.deploy(endpoint_name=endpoint_deployment_name, serverless_inference_config=serverless_config)"
   ]
  },
  {
   "cell_type": "code",
   "execution_count": 80,
   "metadata": {},
   "outputs": [
    {
     "name": "stdout",
     "output_type": "stream",
     "text": [
      "sagemaker.config INFO - Not applying SDK defaults from location: /etc/xdg/sagemaker/config.yaml\n",
      "sagemaker.config INFO - Not applying SDK defaults from location: /home/ubuntu/.config/sagemaker/config.yaml\n"
     ]
    },
    {
     "data": {
      "text/plain": [
       "'arn:aws:iam::223890829887:role/aws-reserved/sso.amazonaws.com/AWSReservedSSO_Poweruser_658f486a37df46ae'"
      ]
     },
     "execution_count": 80,
     "metadata": {},
     "output_type": "execute_result"
    }
   ],
   "source": [
    "from sagemaker import get_execution_role\n",
    "\n",
    "role = get_execution_role()\n",
    "role"
   ]
  },
  {
   "attachments": {},
   "cell_type": "markdown",
   "metadata": {},
   "source": [
    "#### Invoke locally deployed endpoint"
   ]
  },
  {
   "cell_type": "code",
   "execution_count": 87,
   "metadata": {},
   "outputs": [],
   "source": [
    "import json\n",
    "\n",
    "sagemaker_session = LocalSession()\n",
    "sagemaker_session.config = {instance_type_local: {\"local_code\": True}}\n",
    "\n",
    "sm_client = sagemaker_session.sagemaker_runtime_client\n",
    "response = sm_client.invoke_endpoint(\n",
    "    EndpointName=\"local-endpoint\",\n",
    "    ContentType=\"application/json\",\n",
    "    Body=json.dumps([\"Do you like Toyota Corolla?\", \"I have a Nissan\"]),\n",
    ")\n",
    "\n",
    "r = response[\"Body\"]\n",
    "print(\"RESULT r.read().decode():\", r.read().decode())"
   ]
  },
  {
   "cell_type": "code",
   "execution_count": 4,
   "metadata": {},
   "outputs": [
    {
     "data": {
      "text/html": [
       "<div>\n",
       "<style scoped>\n",
       "    .dataframe tbody tr th:only-of-type {\n",
       "        vertical-align: middle;\n",
       "    }\n",
       "\n",
       "    .dataframe tbody tr th {\n",
       "        vertical-align: top;\n",
       "    }\n",
       "\n",
       "    .dataframe thead th {\n",
       "        text-align: right;\n",
       "    }\n",
       "</style>\n",
       "<table border=\"1\" class=\"dataframe\">\n",
       "  <thead>\n",
       "    <tr style=\"text-align: right;\">\n",
       "      <th></th>\n",
       "      <th>asset_id</th>\n",
       "      <th>thumbnail_url</th>\n",
       "    </tr>\n",
       "  </thead>\n",
       "  <tbody>\n",
       "    <tr>\n",
       "      <th>0</th>\n",
       "      <td>6129202655</td>\n",
       "      <td>https://tr.rbxcdn.com/b67dc99e9ceb0ba7df306daf...</td>\n",
       "    </tr>\n",
       "    <tr>\n",
       "      <th>1</th>\n",
       "      <td>7719834093</td>\n",
       "      <td>https://tr.rbxcdn.com/dcba731fcbd8024b9ae97533...</td>\n",
       "    </tr>\n",
       "  </tbody>\n",
       "</table>\n",
       "</div>"
      ],
      "text/plain": [
       "     asset_id                                      thumbnail_url\n",
       "0  6129202655  https://tr.rbxcdn.com/b67dc99e9ceb0ba7df306daf...\n",
       "1  7719834093  https://tr.rbxcdn.com/dcba731fcbd8024b9ae97533..."
      ]
     },
     "execution_count": 4,
     "metadata": {},
     "output_type": "execute_result"
    }
   ],
   "source": [
    "import pandas as pd\n",
    "# asset_id_to_img_urls = pd.read_csv('asset_to_image_urls_2.csv')\n",
    "asset_id_to_img_urls = pd.read_csv('./free_outfits_useroutfit_urls.csv', header=None)\n",
    "asset_id_to_img_urls.columns = ['asset_id', 'thumbnail_url']\n",
    "\n",
    "asset_id_to_img_urls.head(2)"
   ]
  },
  {
   "cell_type": "code",
   "execution_count": 5,
   "metadata": {},
   "outputs": [
    {
     "data": {
      "text/plain": [
       "500000"
      ]
     },
     "execution_count": 5,
     "metadata": {},
     "output_type": "execute_result"
    }
   ],
   "source": [
    "img_urls = asset_id_to_img_urls['thumbnail_url'].tolist()[:500000]\n",
    "len(img_urls)"
   ]
  },
  {
   "cell_type": "code",
   "execution_count": 6,
   "metadata": {},
   "outputs": [],
   "source": [
    "endpoint_deployment_name = \"clip-test-endpoint2\""
   ]
  },
  {
   "cell_type": "code",
   "execution_count": 7,
   "metadata": {},
   "outputs": [
    {
     "name": "stdout",
     "output_type": "stream",
     "text": [
      "sagemaker.config INFO - Not applying SDK defaults from location: /etc/xdg/sagemaker/config.yaml\n",
      "sagemaker.config INFO - Not applying SDK defaults from location: /home/ubuntu/.config/sagemaker/config.yaml\n"
     ]
    }
   ],
   "source": [
    "import retry\n",
    "import boto3\n",
    "import json\n",
    "import sagemaker as sage\n",
    "\n",
    "sm_client = sage.Session().sagemaker_runtime_client\n",
    "\n",
    "# @retry.retry(tries=4, delay=30, jitter=(0, 10))\n",
    "def invoke_sagemaker_for_url(url):\n",
    "    try:\n",
    "        response = sm_client.invoke_endpoint(\n",
    "            EndpointName=endpoint_deployment_name,\n",
    "            ContentType=\"application/json\",\n",
    "            Body=json.dumps({\"thumbnail_url\": url}),\n",
    "        )\n",
    "        r = response[\"Body\"]\n",
    "        res = r.read().decode()\n",
    "        return res\n",
    "    except Exception as e:\n",
    "        # print(e)\n",
    "        return None"
   ]
  },
  {
   "cell_type": "code",
   "execution_count": 8,
   "metadata": {},
   "outputs": [
    {
     "data": {
      "text/plain": [
       "'https://tr.rbxcdn.com/18b56757b3a9f798e07e037047ac1a89/150/150/Avatar/Png'"
      ]
     },
     "execution_count": 8,
     "metadata": {},
     "output_type": "execute_result"
    }
   ],
   "source": [
    "img_urls[10]"
   ]
  },
  {
   "cell_type": "code",
   "execution_count": 13,
   "metadata": {},
   "outputs": [
    {
     "data": {
      "text/plain": [
       "'[[0.7835999727249146, -0.7336000204086304, -0.11800000071525574, -0.1363999992609024, -0.24009999632835388, 0.03449999913573265, 0.03460000082850456, 0.257999986410141, -0.5882999897003174, 0.21199999749660492, 0.22130000591278076, -1.003100037574768, 0.2639999985694885, 0.5130000114440918, 0.1931000053882599, 0.0697999969124794, 0.15919999778270721, -0.056699998676776886, -0.09149999916553497, -0.3271999955177307, 0.211899995803833, 0.14830000698566437, 0.22280000150203705, -0.20020000636577606, 0.06920000165700912, 0.38119998574256897, -0.2596000134944916, 0.4546000063419342, 0.08259999752044678, -0.13680000603199005, 0.09870000183582306, -0.06780000030994415, -0.04580000042915344, -0.4081000089645386, -0.29339998960494995, 0.3968999981880188, -0.041999999433755875, 0.20819999277591705, 0.20170000195503235, -0.2992999851703644, 0.4805000126361847, -0.4138000011444092, 0.4214000105857849, 0.33899998664855957, 0.12929999828338623, -0.3617999851703644, 0.7814000248908997, 0.2939000129699707, 0.15950000286102295, 0.32600000500679016, 0.9305999875068665, 0.16580000519752502, 0.1216999962925911, 0.14470000565052032, 0.21130000054836273, -0.2134999930858612, 0.31060001254081726, 0.7001000046730042, 0.09749999642372131, -0.3334999978542328, -0.6827999949455261, -0.1671999990940094, 0.22519999742507935, 0.08560000360012054, 0.07810000330209732, 0.2508000135421753, -0.11299999803304672, 0.23980000615119934, 0.007899999618530273, 0.09809999912977219, -0.13519999384880066, 0.8759999871253967, 0.5498999953269958, -0.13079999387264252, 1.211400032043457, 0.4652000069618225, 0.47269999980926514, 0.383899986743927, -0.33079999685287476, -0.6564000248908997, 0.44519999623298645, 2.7832000255584717, -0.06310000270605087, 0.2150000035762787, 0.01489999983459711, -0.3720000088214874, 0.06729999929666519, -0.03790000081062317, 0.36469998955726624, -0.22460000216960907, 0.15929999947547913, -0.41190001368522644, 0.8043000102043152, -0.17550000548362732, -0.5813999772071838, -0.13770000636577606, -0.483599990606308, 0.3278999924659729, -0.10620000213384628, 0.04190000146627426, 0.2623000144958496, -0.008700000122189522, 0.46000000834465027, -0.3107999861240387, -0.1111999973654747, 0.19089999794960022, -0.14090000092983246, 0.07209999859333038, 0.4490000009536743, 0.013299999758601189, 0.1598999947309494, 0.13830000162124634, 0.28690001368522644, -0.019600000232458115, -0.25279998779296875, -0.27619999647140503, 0.01720000058412552, -0.062300000339746475, -0.43709999322891235, -0.428600013256073, -0.38040000200271606, -0.05920000001788139, 0.1096000000834465, 0.5866000056266785, 0.275299996137619, 0.4415000081062317, 0.7613000273704529, 0.1647000014781952, 0.11810000240802765, -0.11879999935626984, 0.38909998536109924, -0.1251000016927719, 0.013500000350177288, 0.149399995803833, -0.17430000007152557, 0.1598999947309494, 0.2549000084400177, 0.6953999996185303, -0.5465999841690063, 0.2685000002384186, -0.45829999446868896, 0.01810000091791153, 0.21809999644756317, 0.15950000286102295, -0.6055999994277954, 0.5411999821662903, 0.42399999499320984, -0.4203000068664551, -0.04470000043511391, -0.19419999420642853, 0.43779999017715454, -0.48669999837875366, 0.4090999960899353, 0.18700000643730164, -0.06880000233650208, -0.7107999920845032, 0.3425999879837036, -0.4366999864578247, -0.21850000321865082, -0.44940000772476196, 0.02239999920129776, -0.6413000226020813, 0.446399986743927, 0.6434999704360962, -0.3450999855995178, -0.38670000433921814, -0.15649999678134918, -0.0544000007212162, 0.18389999866485596, 0.39480000734329224, -0.375, 0.2395000010728836, 0.09560000151395798, 0.07190000265836716, -0.5393999814987183, -0.5666000247001648, 0.5525000095367432, 0.07360000163316727, 1.039199948310852, 0.12690000236034393, 0.5436000227928162, 0.07779999822378159, 0.048900000751018524, 0.25459998846054077, 0.07829999923706055, -0.2809000015258789, 0.06279999762773514, 0.6377000212669373, 0.10540000349283218, 0.19539999961853027, -0.04439999908208847, -0.22429999709129333, 0.19930000603199005, -0.014600000344216824, 0.3465000092983246, 0.2921999990940094, 0.11819999665021896, -0.580299973487854, -0.10320000350475311, 0.3797000050544739, -0.09610000252723694, -0.1655000001192093, 0.15479999780654907, -0.35929998755455017, 0.1907999962568283, 0.10289999842643738, -0.298799991607666, -0.003700000001117587, -0.37929999828338623, 0.34279999136924744, 0.19740000367164612, -0.11829999834299088, 0.20260000228881836, 0.09019999951124191, -0.14749999344348907, 0.21130000054836273, -0.49639999866485596, 0.2190999984741211, -0.4740999937057495, -0.14229999482631683, 0.11230000108480453, -0.015399999916553497, 0.1647000014781952, 0.21220000088214874, -0.4749000072479248, 0.04749999940395355, 0.2612000107765198, 0.006200000178068876, 0.3961000144481659, -1.027899980545044, -0.01730000041425228, -0.3995000123977661, 0.17990000545978546, 0.04230000078678131, -0.033399999141693115, -0.3334999978542328, -0.2685999870300293, 0.19660000503063202, 0.0658000037074089, -0.08110000193119049, -0.08340000361204147, 0.012900000438094139, 0.043699998408555984, -0.18119999766349792, 1.9223999977111816, -0.18359999358654022, 0.4172999858856201, 0.11620000004768372, 0.28450000286102295, -0.27410000562667847, -0.5231999754905701, 0.07370000332593918, -0.015799999237060547, 0.19779999554157257, 1.132200002670288, -0.435699999332428, -0.6815999746322632, 0.5307000279426575, -0.08179999887943268, -0.3984000086784363, 0.1031000018119812, 0.2614000141620636, -0.00839999970048666, 0.4553000032901764, -0.08590000122785568, -0.8834999799728394, -0.06279999762773514, 0.41429999470710754, 0.002400000113993883, 0.1356000006198883, 0.03799999877810478, 0.2888999879360199, 0.28630000352859497, -0.11829999834299088, -0.05719999969005585, -0.6430000066757202, -0.5376999974250793, 0.6812000274658203, -0.39149999618530273, 0.3409999907016754, -0.7681000232696533, -0.0608999989926815, 0.16110000014305115, 0.18490000069141388, 0.5148000121116638, 0.04989999905228615, 0.13590000569820404, -0.6209999918937683, -0.21330000460147858, 0.3544999957084656, -0.04639999940991402, -0.12030000239610672, -0.19339999556541443, 0.03269999846816063, -0.02329999953508377, -0.24449999630451202, 0.7021999955177307, 1.6390000581741333, -0.2888999879360199, 0.39910000562667847, 0.3546000123023987, -0.06549999862909317, -0.4918000102043152, -0.018699999898672104, -0.0215000007301569, 0.17919999361038208, 0.1746000051498413, -0.19210000336170197, 0.3596000075340271, 0.21559999883174896, -0.0284000001847744, -0.28450000286102295, -0.9460999965667725, -0.18199999630451202, -0.5318999886512756, -0.4846000075340271, -0.19580000638961792, -0.2799000144004822, 0.385699987411499, 0.093299999833107, 0.11800000071525574, 0.07559999823570251, 0.028699999675154686, 0.2671000063419342, -0.4302000105381012, -0.1704999953508377, 0.2953999936580658, -0.1581999957561493, 0.11029999703168869, -0.11429999768733978, 0.20190000534057617, 0.1525000035762787, -0.7121999859809875, 0.05570000037550926, -0.13490000367164612, 0.48069998621940613, 0.0689999982714653, -0.018300000578165054, -0.5073999762535095, -0.01549999974668026, 0.06769999861717224, 0.5565999746322632, 0.2563000023365021, -0.033900000154972076, 0.3885999917984009, 0.10989999771118164, -0.41200000047683716, 0.18770000338554382, 0.19040000438690186, -0.2272000014781952, 2.075700044631958, -0.1664000004529953, -0.6940000057220459, 0.25099998712539673, -0.4327000081539154, 0.12430000305175781, 0.16099999845027924, -0.0010000000474974513, -0.06729999929666519, -0.14920000731945038, -0.1712000072002411, 0.10970000177621841, 1.0821000337600708, 0.15889999270439148, 0.0052999998442828655, -0.2079000025987625, 0.00860000029206276, 0.26339998841285706, 0.002300000051036477, 0.5849999785423279, -0.20010000467300415, 0.1396999955177307, -0.2207999974489212, -0.2249000072479248, -1.06850004196167, 0.164000004529953, -0.34220001101493835, -0.24199999868869781, 0.010999999940395355, 0.029400000348687172, -0.3222000002861023, -0.13539999723434448, -0.19460000097751617, 0.4300000071525574, 0.18039999902248383, 0.48660001158714294, -0.14650000631809235, -0.18160000443458557, 0.2085999995470047, -0.061900001019239426, 0.48829999566078186, -0.17800000309944153, -0.26089999079704285, 0.5338000059127808, -0.03790000081062317, 0.3637999892234802, -0.012199999764561653, 0.02669999934732914, 0.28369998931884766, 0.027799999341368675, -0.005100000184029341, -0.6180999875068665, 0.19979999959468842, 0.11299999803304672, -0.19460000097751617, 1.0561000108718872, 0.3912000060081482, 0.6069999933242798, 0.038100000470876694, -0.8841000199317932, -0.43389999866485596, 1.055899977684021, -0.2198999971151352, 0.011500000022351742, 0.25220000743865967, -0.24629999697208405, 0.828000009059906, 0.08100000023841858, 0.5343999862670898, 0.10509999841451645, 0.16459999978542328, 0.04769999906420708, 0.22429999709129333, 0.351500004529953, 0.1873999983072281, 0.00419999985024333, -0.06440000236034393, -0.3321000039577484, 0.3440999984741211, -0.17000000178813934, -0.1387999951839447, -0.3671000003814697, -0.2087000012397766, -0.07090000063180923, -0.01979999989271164, 0.48910000920295715, -0.17229999601840973, 0.04340000078082085, -0.038600001484155655, 0.3070000112056732, -0.16910000145435333, -0.17239999771118164, 6.349899768829346, -0.2567000091075897, 0.5476999878883362, -0.39579999446868896, -0.35920000076293945, 0.24330000579357147, -0.03799999877810478, 0.3407000005245209, 0.16279999911785126, 0.47839999198913574, 0.3499999940395355, -0.20739999413490295, -0.3353999853134155, -0.05570000037550926, -0.039000000804662704, 0.28439998626708984, -0.023499999195337296, -0.29840001463890076, 0.054099999368190765, 0.03920000046491623, -0.21940000355243683, -0.728600025177002, -0.21089999377727509, 0.5393999814987183, -0.2621000111103058, -0.06340000033378601, -0.46630001068115234, -0.2800000011920929, -0.018300000578165054, 0.0640999972820282, 0.017100000753998756, -0.07259999960660934, -0.011900000274181366, -0.026799999177455902, 0.07259999960660934, -0.18279999494552612, 0.09650000184774399, -0.29840001463890076, -0.009399999864399433, -0.08259999752044678, 0.6685000061988831, -0.6323999762535095, 0.10589999705553055, -0.0027000000700354576, -0.40709999203681946, 0.38109999895095825, -0.22450000047683716, -0.04230000078678131, -0.5268999934196472, 0.1615000069141388, 0.366100013256073, -0.15459999442100525, 0.3862999975681305, -0.18140000104904175, 0.25780001282691956, 0.5950000286102295, 0.04410000145435333, -0.03519999980926514, 0.4575999975204468, -0.45730000734329224, 0.23999999463558197, 0.21230000257492065, -0.08349999785423279, -0.12300000339746475, -0.5144000053405762, -0.321399986743927, 0.38100001215934753, 0.5310999751091003, -0.30320000648498535, -0.06210000067949295]]'"
      ]
     },
     "execution_count": 13,
     "metadata": {},
     "output_type": "execute_result"
    }
   ],
   "source": [
    "invoke_sagemaker_for_url(img_urls[0])"
   ]
  },
  {
   "cell_type": "code",
   "execution_count": 17,
   "metadata": {},
   "outputs": [
    {
     "name": "stdout",
     "output_type": "stream",
     "text": [
      "start time: \n",
      "2023-10-10 18:16:42.162152-07:00\n"
     ]
    },
    {
     "name": "stderr",
     "output_type": "stream",
     "text": [
      "100%|██████████| 500000/500000 [40:40<00:00, 204.84it/s]  \n"
     ]
    },
    {
     "name": "stdout",
     "output_type": "stream",
     "text": [
      "CPU times: user 1min 41s, sys: 43.9 s, total: 2min 25s\n",
      "Wall time: 40min 44s\n"
     ]
    }
   ],
   "source": [
    "%%time\n",
    "# print current time in PST\n",
    "from datetime import datetime\n",
    "import pytz\n",
    "\n",
    "tz = pytz.timezone(\"America/Los_Angeles\")\n",
    "print(\"start time: \")\n",
    "print(datetime.now(tz))\n",
    "\n",
    "\n",
    "from multiprocessing import Pool\n",
    "import tqdm\n",
    "\n",
    "with Pool(100) as p:\n",
    "    results = list(tqdm.tqdm(p.imap(invoke_sagemaker_for_url, img_urls), total=len(img_urls)))"
   ]
  },
  {
   "cell_type": "code",
   "execution_count": 14,
   "metadata": {},
   "outputs": [
    {
     "name": "stdout",
     "output_type": "stream",
     "text": [
      "start time: \n",
      "2023-10-11 08:31:38.539787-07:00\n"
     ]
    },
    {
     "name": "stderr",
     "output_type": "stream",
     "text": [
      "100%|██████████| 500000/500000 [36:44<00:00, 226.84it/s] \n"
     ]
    },
    {
     "name": "stdout",
     "output_type": "stream",
     "text": [
      "CPU times: user 1min 50s, sys: 43.3 s, total: 2min 33s\n",
      "Wall time: 36min 48s\n"
     ]
    }
   ],
   "source": [
    "%%time\n",
    "# print current time in PST\n",
    "from datetime import datetime\n",
    "import pytz\n",
    "\n",
    "tz = pytz.timezone(\"America/Los_Angeles\")\n",
    "print(\"start time: \")\n",
    "print(datetime.now(tz))\n",
    "\n",
    "\n",
    "from multiprocessing import Pool\n",
    "import tqdm\n",
    "\n",
    "with Pool(120) as p:\n",
    "    results = list(tqdm.tqdm(p.imap(invoke_sagemaker_for_url, img_urls), total=len(img_urls)))"
   ]
  },
  {
   "cell_type": "code",
   "execution_count": 15,
   "metadata": {},
   "outputs": [
    {
     "data": {
      "text/plain": [
       "array(['[[0.7835999727249146, -0.7336000204086304, -0.11800000071525574, -0.1363999992609024, -0.24009999632835388, 0.03449999913573265, 0.03460000082850456, 0.257999986410141, -0.5882999897003174, 0.21199999749660492, 0.22130000591278076, -1.003100037574768, 0.2639999985694885, 0.5130000114440918, 0.1931000053882599, 0.0697999969124794, 0.15919999778270721, -0.056699998676776886, -0.09149999916553497, -0.3271999955177307, 0.211899995803833, 0.14830000698566437, 0.22280000150203705, -0.20020000636577606, 0.06920000165700912, 0.38119998574256897, -0.2596000134944916, 0.4546000063419342, 0.08259999752044678, -0.13680000603199005, 0.09870000183582306, -0.06780000030994415, -0.04580000042915344, -0.4081000089645386, -0.29339998960494995, 0.3968999981880188, -0.041999999433755875, 0.20819999277591705, 0.20170000195503235, -0.2992999851703644, 0.4805000126361847, -0.4138000011444092, 0.4214000105857849, 0.33899998664855957, 0.12929999828338623, -0.3617999851703644, 0.7814000248908997, 0.2939000129699707, 0.15950000286102295, 0.32600000500679016, 0.9305999875068665, 0.16580000519752502, 0.1216999962925911, 0.14470000565052032, 0.21130000054836273, -0.2134999930858612, 0.31060001254081726, 0.7001000046730042, 0.09749999642372131, -0.3334999978542328, -0.6827999949455261, -0.1671999990940094, 0.22519999742507935, 0.08560000360012054, 0.07810000330209732, 0.2508000135421753, -0.11299999803304672, 0.23980000615119934, 0.007899999618530273, 0.09809999912977219, -0.13519999384880066, 0.8759999871253967, 0.5498999953269958, -0.13079999387264252, 1.211400032043457, 0.4652000069618225, 0.47269999980926514, 0.383899986743927, -0.33079999685287476, -0.6564000248908997, 0.44519999623298645, 2.7832000255584717, -0.06310000270605087, 0.2150000035762787, 0.01489999983459711, -0.3720000088214874, 0.06729999929666519, -0.03790000081062317, 0.36469998955726624, -0.22460000216960907, 0.15929999947547913, -0.41190001368522644, 0.8043000102043152, -0.17550000548362732, -0.5813999772071838, -0.13770000636577606, -0.483599990606308, 0.3278999924659729, -0.10620000213384628, 0.04190000146627426, 0.2623000144958496, -0.008700000122189522, 0.46000000834465027, -0.3107999861240387, -0.1111999973654747, 0.19089999794960022, -0.14090000092983246, 0.07209999859333038, 0.4490000009536743, 0.013299999758601189, 0.1598999947309494, 0.13830000162124634, 0.28690001368522644, -0.019600000232458115, -0.25279998779296875, -0.27619999647140503, 0.01720000058412552, -0.062300000339746475, -0.43709999322891235, -0.428600013256073, -0.38040000200271606, -0.05920000001788139, 0.1096000000834465, 0.5866000056266785, 0.275299996137619, 0.4415000081062317, 0.7613000273704529, 0.1647000014781952, 0.11810000240802765, -0.11879999935626984, 0.38909998536109924, -0.1251000016927719, 0.013500000350177288, 0.149399995803833, -0.17430000007152557, 0.1598999947309494, 0.2549000084400177, 0.6953999996185303, -0.5465999841690063, 0.2685000002384186, -0.45829999446868896, 0.01810000091791153, 0.21809999644756317, 0.15950000286102295, -0.6055999994277954, 0.5411999821662903, 0.42399999499320984, -0.4203000068664551, -0.04470000043511391, -0.19419999420642853, 0.43779999017715454, -0.48669999837875366, 0.4090999960899353, 0.18700000643730164, -0.06880000233650208, -0.7107999920845032, 0.3425999879837036, -0.4366999864578247, -0.21850000321865082, -0.44940000772476196, 0.02239999920129776, -0.6413000226020813, 0.446399986743927, 0.6434999704360962, -0.3450999855995178, -0.38670000433921814, -0.15649999678134918, -0.0544000007212162, 0.18389999866485596, 0.39480000734329224, -0.375, 0.2395000010728836, 0.09560000151395798, 0.07190000265836716, -0.5393999814987183, -0.5666000247001648, 0.5525000095367432, 0.07360000163316727, 1.039199948310852, 0.12690000236034393, 0.5436000227928162, 0.07779999822378159, 0.048900000751018524, 0.25459998846054077, 0.07829999923706055, -0.2809000015258789, 0.06279999762773514, 0.6377000212669373, 0.10540000349283218, 0.19539999961853027, -0.04439999908208847, -0.22429999709129333, 0.19930000603199005, -0.014600000344216824, 0.3465000092983246, 0.2921999990940094, 0.11819999665021896, -0.580299973487854, -0.10320000350475311, 0.3797000050544739, -0.09610000252723694, -0.1655000001192093, 0.15479999780654907, -0.35929998755455017, 0.1907999962568283, 0.10289999842643738, -0.298799991607666, -0.003700000001117587, -0.37929999828338623, 0.34279999136924744, 0.19740000367164612, -0.11829999834299088, 0.20260000228881836, 0.09019999951124191, -0.14749999344348907, 0.21130000054836273, -0.49639999866485596, 0.2190999984741211, -0.4740999937057495, -0.14229999482631683, 0.11230000108480453, -0.015399999916553497, 0.1647000014781952, 0.21220000088214874, -0.4749000072479248, 0.04749999940395355, 0.2612000107765198, 0.006200000178068876, 0.3961000144481659, -1.027899980545044, -0.01730000041425228, -0.3995000123977661, 0.17990000545978546, 0.04230000078678131, -0.033399999141693115, -0.3334999978542328, -0.2685999870300293, 0.19660000503063202, 0.0658000037074089, -0.08110000193119049, -0.08340000361204147, 0.012900000438094139, 0.043699998408555984, -0.18119999766349792, 1.9223999977111816, -0.18359999358654022, 0.4172999858856201, 0.11620000004768372, 0.28450000286102295, -0.27410000562667847, -0.5231999754905701, 0.07370000332593918, -0.015799999237060547, 0.19779999554157257, 1.132200002670288, -0.435699999332428, -0.6815999746322632, 0.5307000279426575, -0.08179999887943268, -0.3984000086784363, 0.1031000018119812, 0.2614000141620636, -0.00839999970048666, 0.4553000032901764, -0.08590000122785568, -0.8834999799728394, -0.06279999762773514, 0.41429999470710754, 0.002400000113993883, 0.1356000006198883, 0.03799999877810478, 0.2888999879360199, 0.28630000352859497, -0.11829999834299088, -0.05719999969005585, -0.6430000066757202, -0.5376999974250793, 0.6812000274658203, -0.39149999618530273, 0.3409999907016754, -0.7681000232696533, -0.0608999989926815, 0.16110000014305115, 0.18490000069141388, 0.5148000121116638, 0.04989999905228615, 0.13590000569820404, -0.6209999918937683, -0.21330000460147858, 0.3544999957084656, -0.04639999940991402, -0.12030000239610672, -0.19339999556541443, 0.03269999846816063, -0.02329999953508377, -0.24449999630451202, 0.7021999955177307, 1.6390000581741333, -0.2888999879360199, 0.39910000562667847, 0.3546000123023987, -0.06549999862909317, -0.4918000102043152, -0.018699999898672104, -0.0215000007301569, 0.17919999361038208, 0.1746000051498413, -0.19210000336170197, 0.3596000075340271, 0.21559999883174896, -0.0284000001847744, -0.28450000286102295, -0.9460999965667725, -0.18199999630451202, -0.5318999886512756, -0.4846000075340271, -0.19580000638961792, -0.2799000144004822, 0.385699987411499, 0.093299999833107, 0.11800000071525574, 0.07559999823570251, 0.028699999675154686, 0.2671000063419342, -0.4302000105381012, -0.1704999953508377, 0.2953999936580658, -0.1581999957561493, 0.11029999703168869, -0.11429999768733978, 0.20190000534057617, 0.1525000035762787, -0.7121999859809875, 0.05570000037550926, -0.13490000367164612, 0.48069998621940613, 0.0689999982714653, -0.018300000578165054, -0.5073999762535095, -0.01549999974668026, 0.06769999861717224, 0.5565999746322632, 0.2563000023365021, -0.033900000154972076, 0.3885999917984009, 0.10989999771118164, -0.41200000047683716, 0.18770000338554382, 0.19040000438690186, -0.2272000014781952, 2.075700044631958, -0.1664000004529953, -0.6940000057220459, 0.25099998712539673, -0.4327000081539154, 0.12430000305175781, 0.16099999845027924, -0.0010000000474974513, -0.06729999929666519, -0.14920000731945038, -0.1712000072002411, 0.10970000177621841, 1.0821000337600708, 0.15889999270439148, 0.0052999998442828655, -0.2079000025987625, 0.00860000029206276, 0.26339998841285706, 0.002300000051036477, 0.5849999785423279, -0.20010000467300415, 0.1396999955177307, -0.2207999974489212, -0.2249000072479248, -1.06850004196167, 0.164000004529953, -0.34220001101493835, -0.24199999868869781, 0.010999999940395355, 0.029400000348687172, -0.3222000002861023, -0.13539999723434448, -0.19460000097751617, 0.4300000071525574, 0.18039999902248383, 0.48660001158714294, -0.14650000631809235, -0.18160000443458557, 0.2085999995470047, -0.061900001019239426, 0.48829999566078186, -0.17800000309944153, -0.26089999079704285, 0.5338000059127808, -0.03790000081062317, 0.3637999892234802, -0.012199999764561653, 0.02669999934732914, 0.28369998931884766, 0.027799999341368675, -0.005100000184029341, -0.6180999875068665, 0.19979999959468842, 0.11299999803304672, -0.19460000097751617, 1.0561000108718872, 0.3912000060081482, 0.6069999933242798, 0.038100000470876694, -0.8841000199317932, -0.43389999866485596, 1.055899977684021, -0.2198999971151352, 0.011500000022351742, 0.25220000743865967, -0.24629999697208405, 0.828000009059906, 0.08100000023841858, 0.5343999862670898, 0.10509999841451645, 0.16459999978542328, 0.04769999906420708, 0.22429999709129333, 0.351500004529953, 0.1873999983072281, 0.00419999985024333, -0.06440000236034393, -0.3321000039577484, 0.3440999984741211, -0.17000000178813934, -0.1387999951839447, -0.3671000003814697, -0.2087000012397766, -0.07090000063180923, -0.01979999989271164, 0.48910000920295715, -0.17229999601840973, 0.04340000078082085, -0.038600001484155655, 0.3070000112056732, -0.16910000145435333, -0.17239999771118164, 6.349899768829346, -0.2567000091075897, 0.5476999878883362, -0.39579999446868896, -0.35920000076293945, 0.24330000579357147, -0.03799999877810478, 0.3407000005245209, 0.16279999911785126, 0.47839999198913574, 0.3499999940395355, -0.20739999413490295, -0.3353999853134155, -0.05570000037550926, -0.039000000804662704, 0.28439998626708984, -0.023499999195337296, -0.29840001463890076, 0.054099999368190765, 0.03920000046491623, -0.21940000355243683, -0.728600025177002, -0.21089999377727509, 0.5393999814987183, -0.2621000111103058, -0.06340000033378601, -0.46630001068115234, -0.2800000011920929, -0.018300000578165054, 0.0640999972820282, 0.017100000753998756, -0.07259999960660934, -0.011900000274181366, -0.026799999177455902, 0.07259999960660934, -0.18279999494552612, 0.09650000184774399, -0.29840001463890076, -0.009399999864399433, -0.08259999752044678, 0.6685000061988831, -0.6323999762535095, 0.10589999705553055, -0.0027000000700354576, -0.40709999203681946, 0.38109999895095825, -0.22450000047683716, -0.04230000078678131, -0.5268999934196472, 0.1615000069141388, 0.366100013256073, -0.15459999442100525, 0.3862999975681305, -0.18140000104904175, 0.25780001282691956, 0.5950000286102295, 0.04410000145435333, -0.03519999980926514, 0.4575999975204468, -0.45730000734329224, 0.23999999463558197, 0.21230000257492065, -0.08349999785423279, -0.12300000339746475, -0.5144000053405762, -0.321399986743927, 0.38100001215934753, 0.5310999751091003, -0.30320000648498535, -0.06210000067949295]]',\n",
       "       '[[0.9135000109672546, -0.5924000144004822, -0.11230000108480453, 0.05460000038146973, -0.2743000090122223, 0.0348999984562397, -0.24459999799728394, 0.26330000162124634, -0.040300000458955765, 0.1006999984383583, 0.07240000367164612, -1.0892000198364258, 0.3571000099182129, 0.39489999413490295, 0.2524999976158142, -0.1875, -0.2628999948501587, -0.2842000126838684, -0.5425000190734863, 0.023900000378489494, -0.19040000438690186, 0.08590000122785568, 0.21950000524520874, -0.257099986076355, 0.14309999346733093, 0.25049999356269836, -0.6747999787330627, 0.9918000102043152, 0.2418999969959259, 0.007400000002235174, -0.11569999903440475, -0.08110000193119049, 0.04170000180602074, 0.0034000000450760126, 0.035599999129772186, 0.4636000096797943, 0.14339999854564667, 0.3610000014305115, 0.5113999843597412, 0.18790000677108765, 0.42239999771118164, -0.032499998807907104, 0.7121999859809875, 0.32919999957084656, 0.20020000636577606, -0.37450000643730164, 0.49799999594688416, 0.24480000138282776, -0.2214999943971634, 0.30090001225471497, 0.3481999933719635, 0.09030000120401382, 0.33320000767707825, 0.26600000262260437, 0.12280000001192093, -0.29820001125335693, 0.7527999877929688, 0.38580000400543213, 0.12380000203847885, -0.2777000069618225, -0.4147000014781952, 0.22840000689029694, 0.11729999631643295, 0.0640999972820282, -0.11169999837875366, 0.3052999973297119, 0.21080000698566437, 0.33410000801086426, 0.17839999496936798, 0.04780000075697899, 0.08079999685287476, 0.6995000243186951, 0.3723999857902527, 0.45910000801086426, 1.066100001335144, 0.30489999055862427, 0.2897000014781952, 0.2535000145435333, 0.02630000002682209, -0.6449999809265137, 0.334199994802475, 2.6456000804901123, -0.0640999972820282, -0.09229999780654907, -0.24699999392032623, -0.1932000070810318, 0.3840999901294708, -0.09549999982118607, 0.060100000351667404, -0.13230000436306, -0.039400000125169754, -0.43700000643730164, 0.7670999765396118, -0.16940000653266907, -0.4959000051021576, -0.04280000180006027, -0.13860000669956207, 0.024900000542402267, -0.3750999867916107, 0.09260000288486481, 0.22519999742507935, 0.22089999914169312, 0.25609999895095825, -0.8805000185966492, -0.40299999713897705, -0.22930000722408295, 0.10300000011920929, 0.027899999171495438, 0.21320000290870667, 0.0835999995470047, 0.2329999953508377, 0.08370000123977661, 0.4023999869823456, -0.6172000169754028, -0.01600000075995922, -0.03060000017285347, 0.125, -0.11110000312328339, -0.3336000144481659, -0.09920000284910202, -0.4959999918937683, 0.05959999933838844, 0.38609999418258667, 0.08560000360012054, 0.7817999720573425, 0.13670000433921814, 1.0694999694824219, 0.025100000202655792, 0.07349999994039536, -0.2766999900341034, 0.34630000591278076, -0.1315000057220459, 0.41769999265670776, -0.058800000697374344, -0.2759000062942505, 0.16920000314712524, -0.16820000112056732, 0.5493999719619751, -0.5324000120162964, 0.4120999872684479, -0.13169999420642853, 0.22059999406337738, 0.21960000693798065, 0.3677000105381012, -0.383899986743927, 0.6473000049591064, 0.227400004863739, -0.4693000018596649, -0.024299999698996544, -0.22709999978542328, 0.6284999847412109, -0.3686000108718872, 0.34220001101493835, -0.011800000444054604, -0.41609999537467957, -0.5446000099182129, 0.19519999623298645, -0.14910000562667847, -0.4287000000476837, 0.3158999979496002, -0.00430000014603138, -0.6316999793052673, 0.008299999870359898, 0.07760000228881836, 0.03530000150203705, -0.5123000144958496, 0.39879998564720154, -0.10440000146627426, 0.21459999680519104, 0.15760000050067902, 0.07930000126361847, 0.3547999858856201, -0.2621999979019165, -0.14350000023841858, -0.3203999996185303, -0.10859999805688858, 0.21289999783039093, -0.10170000046491623, 1.0825999975204468, -0.15639999508857727, 0.6007000207901001, 0.1444000005722046, -0.13169999420642853, 0.5515999794006348, 0.4016000032424927, -0.0957999974489212, -0.1696999967098236, 0.4302000105381012, 0.04910000041127205, 0.08820000290870667, 0.40950000286102295, -0.3269999921321869, 0.26600000262260437, 0.02070000022649765, -0.2061000019311905, 0.38920000195503235, 0.03480000048875809, -0.3027999997138977, -0.06390000134706497, 0.43540000915527344, 0.121799997985363, -0.024299999698996544, 0.04610000178217888, -0.0568000003695488, 0.22709999978542328, -0.018699999898672104, -0.07150000333786011, 0.01590000092983246, -0.18719999492168427, 0.24140000343322754, -0.271699994802475, 0.2768000066280365, 0.29510000348091125, -0.02889999933540821, -0.0494999997317791, -0.051899999380111694, -0.48980000615119934, 0.3416999876499176, -0.6083999872207642, -0.09719999879598618, 0.24500000476837158, 0.12319999933242798, 0.0917000025510788, -0.22190000116825104, -0.10949999839067459, 0.21480000019073486, 0.13840000331401825, -0.15800000727176666, 0.3564000129699707, -0.75, 0.18000000715255737, -0.29910001158714294, 0.461899995803833, 0.1648000031709671, -0.36890000104904175, -0.1559000015258789, -0.11110000312328339, 0.08919999748468399, -0.06289999932050705, 0.09000000357627869, -0.1006999984383583, 0.12839999794960022, 0.06369999796152115, -0.2671000063419342, 1.760699987411499, 0.029999999329447746, 0.5340999960899353, -0.08749999850988388, 0.3928000032901764, -0.3702000081539154, -0.31540000438690186, -0.28679999709129333, 0.21539999544620514, 0.12229999899864197, 0.11640000343322754, -0.010099999606609344, -0.4523000121116638, 0.5501000285148621, -0.10520000010728836, -0.42809998989105225, 0.12370000034570694, 0.46369999647140503, -0.1890999972820282, 0.6407999992370605, -0.5875999927520752, -0.9192000031471252, 0.2224999964237213, 0.08609999716281891, -0.22439999878406525, 0.029200000688433647, 0.15320000052452087, 0.12870000302791595, 0.13670000433921814, -0.2646999955177307, 0.0551999993622303, -0.31029999256134033, -0.15760000050067902, 0.8518999814987183, -0.1379999965429306, 0.16859999299049377, -0.3765999972820282, 0.07370000332593918, 0.09619999676942825, 0.22759999334812164, 0.032099999487400055, -0.23890000581741333, 0.05649999901652336, -0.397599995136261, 0.13590000569820404, 0.28279998898506165, -0.05480000004172325, 0.19370000064373016, -0.017400000244379044, 0.2903999984264374, -0.1005999967455864, -0.3066999912261963, 0.3734000027179718, 1.7259000539779663, -0.11739999800920486, 0.02500000037252903, 0.09510000050067902, 0.1023000031709671, -0.09099999815225601, 0.3926999866962433, 0.21629999577999115, 0.11550000309944153, 0.11890000104904175, -0.11659999936819077, 0.13249999284744263, -0.12139999866485596, -0.3199000060558319, -0.16509999334812164, -1.6813000440597534, -0.0860000029206276, -0.2556000053882599, 0.3806999921798706, 0.320499986410141, 0.05889999866485596, 0.2599000036716461, 0.09809999912977219, 0.5250999927520752, 0.030799999833106995, 0.2700999975204468, 0.2303999960422516, -0.17710000276565552, 0.21170000731945038, 0.3084000051021576, -0.22339999675750732, 0.09049999713897705, -0.3441999852657318, -0.11559999734163284, 0.06679999828338623, -0.955299973487854, 0.05849999934434891, -0.3337000012397766, 0.2433999925851822, -0.12290000170469284, -0.06499999761581421, 0.06390000134706497, -0.11789999902248383, -0.023600000888109207, 0.05169999971985817, 0.00930000003427267, -0.1420000046491623, -0.06960000097751617, 0.1356000006198883, -0.10270000249147415, -0.039500001817941666, 0.15950000286102295, -0.3652999997138977, 2.082900047302246, -0.30149999260902405, -0.25859999656677246, 0.1550000011920929, -0.08839999884366989, -0.0031999999191612005, -0.27079999446868896, 0.03700000047683716, 0.11140000075101852, -0.03189999982714653, 0.18950000405311584, -0.06319999694824219, 1.0983999967575073, 0.024900000542402267, 0.1160999983549118, -0.0035000001080334187, -0.47049999237060547, -0.011099999770522118, 0.21330000460147858, 0.42329999804496765, 0.06870000064373016, 0.24480000138282776, -0.3614000082015991, -0.32429999113082886, -0.36469998955726624, 0.00279999990016222, -0.2517000138759613, -0.37549999356269836, 0.49810001254081726, -0.14790000021457672, -0.050200000405311584, 0.15320000052452087, 0.38510000705718994, 0.4772000014781952, 0.14390000700950623, 0.19660000503063202, -0.08699999749660492, 0.0348999984562397, 0.3440999984741211, -0.12120000272989273, 0.30169999599456787, -0.08550000190734863, -0.0013000000035390258, 0.3102000057697296, 0.6395000219345093, 0.6430000066757202, -0.004800000227987766, 0.008100000210106373, 0.2669000029563904, 0.15780000388622284, -0.00559999980032444, -0.7786999940872192, 0.22370000183582306, -0.026599999517202377, -0.2304999977350235, 0.33730000257492065, 0.4034000039100647, 0.22990000247955322, 0.351500004529953, -0.895799994468689, 0.028200000524520874, 0.47909998893737793, -0.12870000302791595, -0.08510000258684158, 0.24160000681877136, -0.21870000660419464, 0.18150000274181366, 0.2045000046491623, 0.10899999737739563, -0.10159999877214432, 0.26019999384880066, 0.3707999885082245, 0.6935999989509583, 0.13210000097751617, 0.0835999995470047, -0.08969999849796295, -0.31060001254081726, -0.3910999894142151, 0.10379999876022339, -0.273499995470047, -0.35089999437332153, -0.13289999961853027, 0.08309999853372574, -0.07800000160932541, 0.421099990606308, 0.43810001015663147, -0.28060001134872437, 0.27239999175071716, 0.15639999508857727, 0.09960000216960907, -0.3149000108242035, -0.2660999894142151, 7.137400150299072, -0.11590000241994858, 0.07159999758005142, -0.41429999470710754, 0.05689999833703041, 0.43070000410079956, 0.009499999694526196, 0.18219999969005585, 0.30869999527931213, 0.302700012922287, 0.5468000173568726, -0.1688999980688095, -0.15870000422000885, -0.11429999768733978, 0.18459999561309814, 0.2378000020980835, 0.25270000100135803, 0.0364999994635582, -0.10980000346899033, 0.019099999219179153, -0.5730999708175659, -0.44440001249313354, 0.16249999403953552, 0.6855000257492065, -0.16539999842643738, 0.07909999787807465, -0.42660000920295715, -0.2567000091075897, -0.16279999911785126, -0.2870999872684479, -0.17389999330043793, -0.40880000591278076, 0.2964000105857849, 0.09679999947547913, 0.41130000352859497, -0.16760000586509705, -0.2583000063896179, 0.1712999939918518, -0.15870000422000885, -0.43299999833106995, 0.5641999840736389, -0.37279999256134033, 0.07339999824762344, -0.19599999487400055, -0.29339998960494995, 0.3440000116825104, -0.16940000653266907, 0.4706999957561493, -0.4821000099182129, -0.006800000090152025, 0.3840999901294708, -0.10369999706745148, 0.0020000000949949026, 0.26089999079704285, 0.42829999327659607, 0.5706999897956848, 0.01759999990463257, -0.3666999936103821, 1.0104999542236328, -0.05689999833703041, 0.3806000053882599, 0.07859999686479568, -0.0771000012755394, 0.4724000096321106, -0.2827000021934509, -0.35010001063346863, 0.44110000133514404, 0.18129999935626984, -0.13650000095367432, -0.10869999974966049]]',\n",
       "       '[[0.7893999814987183, -0.7105000019073486, -0.17679999768733978, 0.03460000082850456, -0.257099986076355, -0.03689999878406525, -0.11270000040531158, 0.3564999997615814, -0.1768999993801117, 0.09749999642372131, -0.07190000265836716, -1.097000002861023, 0.3488999903202057, 0.7452999949455261, -0.14630000293254852, -0.06880000233650208, -0.08460000157356262, -0.40939998626708984, -0.18860000371932983, -0.23929999768733978, 0.225600004196167, 0.054099999368190765, 0.16269999742507935, -0.0812000036239624, 0.15539999306201935, 0.1412000060081482, -0.4690999984741211, 0.4115999937057495, 0.12319999933242798, 0.12710000574588776, -0.2606000006198883, -0.062300000339746475, 0.17059999704360962, -0.00860000029206276, -0.07639999687671661, 0.31949999928474426, 0.0892999991774559, 0.23569999635219574, 0.30169999599456787, -0.4754999876022339, 0.26840001344680786, -0.40290001034736633, 0.3546999990940094, 0.5375000238418579, 0.0820000022649765, -0.21459999680519104, 0.3840999901294708, 0.17659999430179596, 0.12399999797344208, 0.16840000450611115, 0.5006999969482422, 0.05909999832510948, 0.2890999913215637, -0.16459999978542328, 0.1597999930381775, -0.21310000121593475, 0.5461999773979187, 0.39309999346733093, 0.06759999692440033, -0.5214999914169312, -0.5539000034332275, 0.16670000553131104, 0.3384000062942505, 0.10599999874830246, -0.0357000008225441, 0.1606999933719635, -0.0632999986410141, 0.1476999968290329, 0.17749999463558197, -0.023499999195337296, -0.06880000233650208, 0.6055999994277954, 0.37119999527931213, 0.06710000336170197, 0.7875000238418579, 0.5070000290870667, 0.5008000135421753, 0.36340001225471497, -0.17599999904632568, -0.5440999865531921, 0.3066999912261963, 2.5392000675201416, 0.050700001418590546, -0.03200000151991844, 0.18440000712871552, -0.30399999022483826, 0.37059998512268066, -0.07450000196695328, 0.3921999931335449, 0.07599999755620956, 0.020899999886751175, -0.39559999108314514, 0.6345000267028809, -0.24969999492168427, -0.4390999972820282, -0.04600000008940697, -0.2498999983072281, 0.01209999993443489, -0.14069999754428864, 0.262800008058548, 0.2840000092983246, 0.010999999940395355, 0.5, -0.11599999666213989, -0.11640000343322754, 0.14010000228881836, 0.18240000307559967, -0.008100000210106373, 0.23479999601840973, -0.12290000170469284, 0.0658000037074089, 0.15629999339580536, 0.44339999556541443, -0.39980000257492065, 0.22010000050067902, -0.10599999874830246, 0.34209999442100525, -0.11270000040531158, -0.2606000006198883, -0.02969999983906746, -0.6255999803543091, 0.15639999508857727, 0.28940001130104065, 0.7315000295639038, 0.2786000072956085, 0.25929999351501465, 0.7526999711990356, 0.210999995470047, 0.03680000081658363, -0.34880000352859497, 0.44839999079704285, -0.09769999980926514, 0.267300009727478, -0.10790000110864639, -0.29420000314712524, 0.28769999742507935, 0.024900000542402267, 1.0490000247955322, -0.2517000138759613, 0.30709999799728394, -0.6549000144004822, 0.2969000041484833, 0.2206999957561493, 0.07660000026226044, -0.44040000438690186, 0.6697999835014343, 0.44830000400543213, -0.4634000062942505, 0.16030000150203705, -0.23469999432563782, 0.4632999897003174, -0.38580000400543213, 0.2822999954223633, -0.029500000178813934, -0.31529998779296875, -0.6316999793052673, 0.34369999170303345, -0.2425999939441681, -0.3995000123977661, 0.12110000103712082, -0.012299999594688416, -0.805400013923645, 0.05990000069141388, 0.020400000736117363, 0.06849999725818634, -0.358599990606308, 0.2777999937534332, 0.061500001698732376, 0.5615000128746033, 0.21310000121593475, -0.29120001196861267, 0.38449999690055847, 0.17910000681877136, -0.2842000126838684, -0.22540000081062317, -0.24379999935626984, 0.4081999957561493, 0.008799999952316284, 1.0923000574111938, -0.08410000056028366, 0.3937000036239624, 0.36980000138282776, -0.21699999272823334, 0.4374000132083893, 0.24869999289512634, -0.06909999996423721, 0.06080000102519989, 0.47909998893737793, -0.01810000091791153, -0.2786000072956085, 0.2632000148296356, -0.2206999957561493, 0.1670999974012375, -0.04560000076889992, 0.23589999973773956, 0.24570000171661377, -0.16920000314712524, -0.5220999717712402, -0.11219999939203262, 0.4542999863624573, -0.147599995136261, -0.12380000203847885, 0.06849999725818634, -0.3589000105857849, 0.32989999651908875, 0.05130000039935112, -0.18410000205039978, 0.1298999935388565, -0.32100000977516174, 0.13940000534057617, -0.14970000088214874, -0.11670000106096268, 0.2782999873161316, 0.12770000100135803, -0.2549000084400177, 0.23659999668598175, -0.35670000314712524, 0.37630000710487366, -0.6194000244140625, -0.17249999940395355, 0.2084999978542328, 0.07590000331401825, 0.10459999740123749, -0.08299999684095383, -0.18250000476837158, 0.019899999722838402, 0.1446000039577484, -0.21960000693798065, 0.17749999463558197, -0.900600016117096, 0.05860000103712082, -0.3880000114440918, 0.04100000113248825, -0.09529999643564224, -0.163100004196167, -0.40070000290870667, -0.4546000063419342, 0.18850000202655792, 0.01489999983459711, 0.004800000227987766, -0.09030000120401382, 0.04089999943971634, -0.15129999816417694, 0.23600000143051147, 1.9355000257492065, -0.08829999715089798, 0.6151000261306763, 0.09799999743700027, 0.2378000020980835, -0.2142000049352646, -0.24070000648498535, -0.5266000032424927, 0.029100000858306885, 0.22100000083446503, 0.5099999904632568, -0.1103999987244606, -0.6586999893188477, 0.5432000160217285, 0.03689999878406525, -0.510200023651123, 0.07620000094175339, 0.18230000138282776, -0.12540000677108765, 0.6194999814033508, -0.3495999872684479, -0.8847000002861023, 0.27570000290870667, 0.21490000188350677, -0.1615000069141388, -0.1324000060558319, 0.4059999883174896, -0.019600000232458115, 0.18140000104904175, -0.10239999741315842, 0.2696000039577484, -0.4442000091075897, -0.534500002861023, 0.4945000112056732, -0.06530000269412994, 0.10199999809265137, -0.805899977684021, -0.20749999582767487, 0.007899999618530273, 0.3052000105381012, 0.2639000117778778, -0.1454000025987625, -0.11079999804496765, -0.3467999994754791, -0.21490000188350677, 0.26080000400543213, -0.05389999970793724, 0.3172999918460846, 0.017000000923871994, 0.2630000114440918, -0.13369999825954437, -0.42910000681877136, 0.6567999720573425, 1.9961999654769897, -0.13650000095367432, 0.2321999967098236, 0.42570000886917114, -0.08150000125169754, -0.4560000002384186, 0.008200000040233135, 0.3027999997138977, 0.16349999606609344, 0.3458000123500824, -0.0723000019788742, -0.10989999771118164, -0.19460000097751617, -0.33239999413490295, -0.19290000200271606, -1.549299955368042, -0.07029999792575836, -0.382099986076355, -0.044599998742341995, 0.2766999900341034, -0.0957999974489212, 0.4925000071525574, 0.14499999582767487, 0.10679999738931656, -0.03799999877810478, 0.0551999993622303, -0.0828000009059906, -0.1834000051021576, 0.13660000264644623, 0.1256999969482422, -0.16940000653266907, 0.09809999912977219, -0.14959999918937683, -0.06689999997615814, 0.026100000366568565, -0.8048999905586243, -0.17489999532699585, -0.4284999966621399, 0.20180000364780426, 0.1160999983549118, -0.0820000022649765, -0.04600000008940697, -0.12460000067949295, -0.18870000541210175, 0.3206000030040741, -0.1467999964952469, 0.00039999998989515007, -0.07660000026226044, 0.24390000104904175, -0.1972000002861023, -0.10019999742507935, 0.3312000036239624, -0.3977000117301941, 1.8173999786376953, -0.22139999270439148, -0.4388999938964844, 0.1745000034570694, -0.26460000872612, -0.18979999423027039, -0.0406000018119812, 0.046799998730421066, 0.2935999929904938, 0.0007999999797903001, 0.0754999965429306, 0.11980000138282776, 1.030500054359436, 0.24819999933242798, -0.05869999900460243, -0.24469999969005585, -0.3149000108242035, 0.20010000467300415, -0.07349999994039536, 0.30550000071525574, 0.02410000003874302, 0.22529999911785126, -0.29499998688697815, -0.07180000096559525, -0.597100019454956, -0.06509999930858612, -0.32030001282691956, -0.301800012588501, 0.3928999900817871, 0.08810000121593475, 0.28839999437332153, 0.1534000039100647, 0.15299999713897705, 0.3070000112056732, -0.06080000102519989, 0.20440000295639038, 0.06440000236034393, 0.09719999879598618, 0.07620000094175339, -0.04270000010728836, 0.5266000032424927, -0.1835000067949295, -0.21629999577999115, 0.8190000057220459, 0.18729999661445618, 0.33970001339912415, 0.09690000116825104, -0.07259999960660934, 0.319599986076355, 0.498199999332428, 0.05550000071525574, -0.897599995136261, 0.3280999958515167, -0.09229999780654907, -0.14730000495910645, 0.6013000011444092, 0.570900022983551, 0.43479999899864197, 0.18250000476837158, -0.6917999982833862, -0.08179999887943268, 0.9003000259399414, -0.0364999994635582, 0.010999999940395355, 0.2948000133037567, -0.0877000018954277, 0.7232999801635742, 0.41920000314712524, 0.22470000386238098, 0.1136000007390976, 0.2353000044822693, 0.31130000948905945, 0.4851999878883362, 0.18790000677108765, 0.31769999861717224, -0.400299996137619, -0.39320001006126404, -0.5203999876976013, 0.022600000724196434, -0.06300000101327896, -0.010499999858438969, -0.08299999684095383, 0.09200000017881393, -0.1972000002861023, 0.3019999861717224, 0.4036000072956085, -0.3544999957084656, 0.3098999857902527, -0.14219999313354492, 0.006800000090152025, -0.4113999903202057, 0.09549999982118607, 6.657899856567383, -0.09480000287294388, 0.267300009727478, -0.30570000410079956, -0.22450000047683716, 0.27970001101493835, 0.11860000342130661, -0.05009999871253967, 0.3440999984741211, 0.2076999992132187, 0.5077000260353088, -0.179299995303154, 0.08309999853372574, -0.03420000150799751, 0.09520000219345093, 0.3587999939918518, 0.053199999034404755, -0.035599999129772186, -0.18870000541210175, -0.16979999840259552, -0.14030000567436218, -0.6783000230789185, -0.048700001090765, 0.9887999892234802, 0.003599999938160181, 0.1988999992609024, -0.4745999872684479, -0.35030001401901245, -0.09300000220537186, 0.14920000731945038, 0.10869999974966049, -0.21089999377727509, 0.19629999995231628, -0.029500000178813934, 0.4593000113964081, 0.08250000327825546, -0.03550000116229057, 0.21549999713897705, -0.36640000343322754, -0.13189999759197235, 0.8772000074386597, -0.38359999656677246, 0.32659998536109924, -0.120899997651577, -0.32120001316070557, 0.4332999885082245, -0.22529999911785126, 0.03680000081658363, -0.4284000098705292, 0.12759999930858612, 0.4147999882698059, -0.23749999701976776, 0.20399999618530273, 0.1103999987244606, 0.5181000232696533, 0.6680999994277954, 0.052400000393390656, -0.25920000672340393, 0.4560999870300293, -0.13760000467300415, 0.4569999873638153, 0.10520000010728836, 0.024800000712275505, -0.060499999672174454, -0.4733999967575073, -0.3815999925136566, 0.31369999051094055, 0.41179999709129333, -0.17329999804496765, -0.02800000086426735]]',\n",
       "       '[[0.8094000220298767, -0.4975000023841858, 0.15569999814033508, 0.18930000066757202, -0.21610000729560852, 0.017500000074505806, -0.17309999465942383, 0.38119998574256897, -0.1923999935388565, -0.2506999969482422, -0.22460000216960907, -1.0211000442504883, 0.06560000032186508, 0.37779998779296875, -0.16179999709129333, -0.029500000178813934, -0.11840000003576279, -0.3515999913215637, -0.17790000140666962, -0.06669999659061432, -0.14880000054836273, -0.06279999762773514, 0.20409999787807465, -0.1356000006198883, 0.1371999979019165, 0.34610000252723694, -0.3815999925136566, 0.666700005531311, 0.5134999752044678, 0.32600000500679016, -0.21860000491142273, 0.1185000017285347, 0.18950000405311584, -0.016200000420212746, -0.24570000171661377, 0.1509000062942505, 0.10109999775886536, 0.4020000100135803, 0.15880000591278076, -0.02250000089406967, 0.1987999975681305, 0.0746999979019165, 0.4343000054359436, 0.3797000050544739, -0.13930000364780426, -0.36550000309944153, 0.2831000089645386, 0.047600001096725464, 0.2013999968767166, 0.03310000151395798, 0.15119999647140503, 0.14180000126361847, 0.36730000376701355, -0.06589999794960022, 0.0284000001847744, -0.30889999866485596, 0.37310001254081726, 0.5116000175476074, -0.06689999997615814, -0.2793000042438507, -0.1808999925851822, 0.024900000542402267, 0.22290000319480896, -0.14720000326633453, -0.11940000206232071, -0.08579999953508377, 0.2849999964237213, 0.3537999987602234, 0.1932000070810318, 0.19380000233650208, -0.11190000176429749, 0.5170999765396118, 0.18539999425411224, 0.2655999958515167, 0.9078999757766724, 0.4846999943256378, 0.2533000111579895, 0.1527000069618225, -0.015799999237060547, -0.27880001068115234, 0.4221000075340271, 2.3361001014709473, -0.39500001072883606, -0.2476000040769577, -0.2460000067949295, -0.20100000500679016, 0.32710000872612, -0.188400000333786, 0.08169999718666077, -0.10369999706745148, -0.1396999955177307, -0.3382999897003174, 0.6406999826431274, -0.32350000739097595, -0.5412999987602234, -0.09109999984502792, -0.02810000069439411, -0.047600001096725464, -0.3709000051021576, 0.26489999890327454, -0.09369999915361404, -0.013500000350177288, 0.7268999814987183, -0.7545999884605408, -0.27959999442100525, -0.349700003862381, 0.07090000063180923, -0.2345000058412552, 0.3549000024795532, 0.06109999865293503, 0.007000000216066837, 0.023499999195337296, 0.013399999588727951, -0.4406000077724457, 0.15680000185966492, 0.18039999902248383, 0.3276999890804291, -0.23919999599456787, -0.3553999960422516, -0.08219999819993973, -0.2662999927997589, -0.011699999682605267, 0.3100000023841858, 0.4805000126361847, 0.6496000289916992, 0.1647000014781952, 0.927299976348877, 0.2312999963760376, 0.06509999930858612, -0.12030000239610672, 0.6262000203132629, -0.3409000039100647, 0.21930000185966492, 0.039500001817941666, -0.3643999993801117, 0.2883000075817108, 0.11479999870061874, 0.6326000094413757, -0.26089999079704285, 0.27300000190734863, -0.007499999832361937, 0.2732999920845032, 0.06849999725818634, 0.1761000007390976, -0.4377000033855438, 0.7382000088691711, 0.374099999666214, -0.3725999891757965, 0.04569999873638153, -0.053700000047683716, 0.4311000108718872, -0.5658000111579895, 0.0608999989926815, 0.09730000048875809, -0.39480000734329224, -0.7773000001907349, 0.3433000147342682, 0.07410000264644623, -0.5289999842643738, 0.22750000655651093, -0.2824999988079071, -0.34610000252723694, 0.19609999656677246, 0.2694999873638153, 0.18070000410079956, -0.23989999294281006, 0.18619999289512634, -0.05350000038743019, 0.3425000011920929, 0.241799995303154, -0.2606000006198883, 0.423799991607666, -0.14309999346733093, 0.00039999998989515007, -0.34549999237060547, 0.0027000000700354576, 0.17880000174045563, -0.010499999858438969, 0.8794999718666077, -0.31450000405311584, 0.42080000042915344, 0.3366999924182892, 0.02800000086426735, 0.3734999895095825, 0.31679999828338623, -0.2770000100135803, -0.1712000072002411, 0.34709998965263367, -0.07150000333786011, -0.23090000450611115, 0.11460000276565552, 0.04410000145435333, 0.2508000135421753, -0.09070000052452087, -0.43950000405311584, 0.08630000054836273, -0.11649999767541885, -0.3246000111103058, -0.5618000030517578, 0.6848000288009644, 0.2176000028848648, 0.20190000534057617, 0.005499999970197678, 0.16220000386238098, 0.24529999494552612, -0.3928999900817871, -0.20069999992847443, -0.2175000011920929, -0.25130000710487366, -0.01549999974668026, -0.0364999994635582, 0.30169999599456787, 0.3801000118255615, 0.07500000298023224, -0.2784999907016754, 0.12399999797344208, -0.24580000340938568, 0.5769000053405762, -0.5189999938011169, 0.0340999998152256, 0.13279999792575836, 0.07800000160932541, 0.1388999968767166, 0.06509999930858612, -0.13230000436306, -0.08100000023841858, 0.31150001287460327, 0.10109999775886536, 0.18569999933242798, -0.4408999979496002, 0.14810000360012054, -0.4336000084877014, 0.149399995803833, -0.07410000264644623, -0.1736000031232834, -0.3926999866962433, -0.2003999948501587, -0.09929999709129333, -0.09130000323057175, 0.1396999955177307, -0.1193000003695488, 0.3546999990940094, -0.10909999907016754, -0.11969999969005585, 1.601099967956543, 0.09960000216960907, 0.6905999779701233, -0.2750000059604645, 0.4097000062465668, -0.2775000035762787, -0.2087000012397766, -0.19449999928474426, -0.02199999988079071, 0.2054000049829483, 0.9474999904632568, 0.16820000112056732, -0.3264999985694885, 0.529699981212616, -0.21170000731945038, -0.3801000118255615, 0.010400000028312206, 0.3070000112056732, -0.2054000049829483, 0.511900007724762, -0.32919999957084656, -1.0051000118255615, 0.2084999978542328, 0.19689999520778656, -0.260699987411499, 0.04540000110864639, 0.33390000462532043, 0.032999999821186066, 0.04650000110268593, -0.30250000953674316, -0.1826999932527542, -0.287200003862381, -0.5878999829292297, 0.6601999998092651, 0.1606999933719635, 0.3564999997615814, 0.09260000288486481, 0.004100000020116568, 0.10999999940395355, 0.24490000307559967, -0.031599998474121094, -0.19580000638961792, -0.1379999965429306, -0.08169999718666077, -0.26100000739097595, 0.3109000027179718, -0.09489999711513519, 0.27129998803138733, -0.08560000360012054, 0.3750999867916107, -0.18060000240802765, -0.3537999987602234, 0.6348999738693237, 1.882599949836731, 0.013399999588727951, 0.09809999912977219, 0.06769999861717224, -0.04259999841451645, -0.18960000574588776, 0.17100000381469727, 0.5070000290870667, -0.08510000258684158, 0.33480000495910645, -0.21539999544620514, -0.0917000025510788, -0.2809000015258789, -0.28529998660087585, -0.21619999408721924, -1.7044999599456787, 0.09309999644756317, -0.018799999728798866, 0.544700026512146, 0.05810000002384186, -0.03799999877810478, 0.35690000653266907, 0.12790000438690186, 0.3172000050544739, -0.019200000911951065, 0.2540999948978424, 0.23929999768733978, 0.050700001418590546, -0.06350000202655792, 0.31630000472068787, 0.04729999974370003, -0.07689999788999557, -0.18970000743865967, -0.24959999322891235, 0.2168000042438507, -0.7468000054359436, -0.10559999942779541, -0.4715999960899353, 0.21080000698566437, -0.1509000062942505, 0.018300000578165054, 0.3628000020980835, -0.1941000074148178, -0.05290000140666962, -0.07000000029802322, -0.14650000631809235, -0.1485999971628189, -0.3580000102519989, 0.04410000145435333, 0.05920000001788139, 0.0038999998942017555, 0.13680000603199005, -0.3709000051021576, 1.9436999559402466, -0.003599999938160181, -0.4027999937534332, -0.021800000220537186, -0.33169999718666077, -0.34130001068115234, 0.10350000113248825, -0.15539999306201935, 0.43230000138282776, -0.2912999987602234, 0.21130000054836273, -0.40400001406669617, 1.065999984741211, 0.34360000491142273, 0.11159999668598175, -0.09269999712705612, -0.20059999823570251, -0.028200000524520874, 0.24549999833106995, 0.5223000049591064, 0.13439999520778656, 0.1446000039577484, -0.46810001134872437, -0.15809999406337738, -0.5539000034332275, -0.14869999885559082, -0.42340001463890076, -0.46889999508857727, 0.6111000180244446, 0.024900000542402267, 0.006200000178068876, 0.27070000767707825, 0.6517000198364258, 0.21250000596046448, 0.0632999986410141, 0.12160000205039978, -0.044599998742341995, 0.0364999994635582, 0.10490000247955322, 0.009600000455975533, 0.18400000035762787, -0.29499998688697815, -0.10599999874830246, 0.4000000059604645, 0.3869999945163727, 0.460999995470047, -0.18240000307559967, -0.06080000102519989, 0.24539999663829803, 0.18379999697208405, -0.11959999799728394, -0.666100025177002, 0.3828999996185303, -0.14239999651908875, -0.2558000087738037, 0.2978000044822693, 0.732699990272522, 0.2321999967098236, 0.07419999688863754, -0.6938999891281128, 0.020500000566244125, 0.2928999960422516, -0.3312000036239624, -0.029999999329447746, 0.12430000305175781, -0.2563999891281128, 0.2526000142097473, 0.3495999872684479, 0.32519999146461487, -0.06449999660253525, 0.36579999327659607, 0.48890000581741333, 0.6062999963760376, 0.1915999948978424, 0.296099990606308, -0.003000000026077032, -0.24050000309944153, -0.5839999914169312, 0.09120000153779984, -0.0868000015616417, -0.3174999952316284, 0.09809999912977219, 0.01899999938905239, -0.07670000195503235, 0.444599986076355, 0.550000011920929, -0.38499999046325684, 0.2371000051498413, -0.04989999905228615, 0.09539999812841415, -0.5472999811172485, -0.052799999713897705, 7.024400234222412, -0.2087000012397766, -0.17489999532699585, -0.31790000200271606, -0.04859999939799309, 0.31619998812675476, 0.1573999971151352, 0.164000004529953, 0.2881999909877777, 0.5447999835014343, 0.1817999929189682, 0.029899999499320984, -0.4156999886035919, -0.03680000081658363, 0.03739999979734421, -0.0364999994635582, -0.21240000426769257, -0.01269999984651804, -0.23739999532699585, -0.17720000445842743, -0.27459999918937683, -0.37599998712539673, -0.06719999760389328, 0.927299976348877, -0.32749998569488525, -0.11490000039339066, -0.12970000505447388, -0.16840000450611115, -0.060100000351667404, -0.11540000140666962, 0.33239999413490295, -0.3221000134944916, 0.04410000145435333, 0.07419999688863754, 0.4090999960899353, 0.19339999556541443, -0.00570000009611249, -0.08730000257492065, -0.3391999900341034, -0.34200000762939453, 0.8241999745368958, -0.21539999544620514, 0.05700000002980232, -0.3319000005722046, -0.17309999465942383, 0.5788000226020813, -0.2240000069141388, 0.034299999475479126, -0.4788999855518341, 0.14669999480247498, 0.39160001277923584, -0.00419999985024333, 0.05310000106692314, -0.2578999996185303, 0.5679000020027161, 0.5156999826431274, 0.006800000090152025, -0.3968999981880188, 0.6455000042915344, -0.19269999861717224, 0.21789999306201935, 0.06700000166893005, -0.03759999945759773, 0.04410000145435333, -0.2223999947309494, -0.3215999901294708, 0.16269999742507935, 0.2653000056743622, -0.11550000309944153, 0.18400000035762787]]',\n",
       "       '[[0.7603999972343445, -0.6344000101089478, 0.41019999980926514, -0.025800000876188278, -0.350600004196167, -0.11490000039339066, 0.06449999660253525, 0.011599999852478504, 0.0364999994635582, -0.10010000318288803, 0.4235000014305115, -0.24009999632835388, 0.2134999930858612, 0.6413000226020813, 0.039000000804662704, 0.07840000092983246, 0.22120000422000885, -0.47920000553131104, -0.1492999941110611, 0.4090000092983246, -1.0454000234603882, 0.24860000610351562, -0.21570000052452087, -0.2150000035762787, -0.08460000157356262, 0.16779999434947968, -0.4546000063419342, 0.3474999964237213, 0.3027999997138977, -0.26330000162124634, -0.21870000660419464, 0.048900000751018524, 0.0575999990105629, -0.17139999568462372, -0.1800999939441681, -0.05169999971985817, -0.0843999981880188, 0.3041999936103821, 0.9506000280380249, 0.28200000524520874, 0.1745000034570694, 0.49459999799728394, -0.21780000627040863, 0.07590000331401825, -0.29010000824928284, -0.30709999799728394, 0.5224999785423279, -0.017799999564886093, -0.12049999833106995, 0.25679999589920044, 0.34040001034736633, 0.04560000076889992, 0.2709999978542328, -0.20029999315738678, 0.31540000438690186, -0.4255000054836273, 0.2919999957084656, 0.46129998564720154, -0.0794999971985817, -0.034299999475479126, -0.05130000039935112, -0.36059999465942383, 0.052299998700618744, 0.05339999869465828, 0.19699999690055847, 0.3319000005722046, -0.13079999387264252, -0.018300000578165054, -0.3084999918937683, 0.37610000371932983, -0.19820000231266022, 0.7928000092506409, 0.10409999638795853, -0.1421000063419342, 1.2223999500274658, 0.2619999945163727, 0.14920000731945038, 0.7190999984741211, 0.42250001430511475, -0.5752999782562256, 0.24979999661445618, 1.6124999523162842, -0.18889999389648438, 0.23649999499320984, -0.29789999127388, -0.22930000722408295, 0.05119999870657921, -0.12370000034570694, 0.27300000190734863, -0.5625, -0.060600001364946365, -0.4708999991416931, 0.39640000462532043, -0.38109999895095825, -0.6629999876022339, -0.11190000176429749, -0.04520000144839287, 0.1062999963760376, -0.4713999927043915, 0.1665000021457672, -0.3077999949455261, 0.06440000236034393, 0.2485000044107437, -1.531599998474121, -0.19930000603199005, -0.2964000105857849, -0.12890000641345978, -0.06260000169277191, 0.00419999985024333, 0.20160000026226044, 0.18889999389648438, -0.023499999195337296, -0.0013000000035390258, 0.1777999997138977, -0.08730000257492065, 0.17419999837875366, 0.4011000096797943, -0.23119999468326569, -0.1679999977350235, -0.8353999853134155, 0.013399999588727951, 0.7041000127792358, 0.35359999537467957, 0.8604999780654907, 0.6035000085830688, -0.027799999341368675, 0.42239999771118164, 0.0868000015616417, 0.04580000042915344, 0.06430000066757202, -0.029600000008940697, -0.48100000619888306, -0.06920000165700912, 0.22910000383853912, 0.0885000005364418, -0.08320000022649765, 0.07670000195503235, 0.7728000283241272, -0.6948999762535095, 0.1388999968767166, -0.2623000144958496, 0.01600000075995922, 0.2694999873638153, -0.3098999857902527, -0.3409000039100647, 0.3158000111579895, 0.5339999794960022, -0.3303999900817871, -0.06800000369548798, -0.32359999418258667, 0.6539999842643738, 0.05310000106692314, 0.0949999988079071, -0.18880000710487366, -0.5123999714851379, -0.44119998812675476, 0.26460000872612, -0.016300000250339508, -0.10570000112056732, -0.027699999511241913, -0.1623000055551529, -0.2648000121116638, 0.5789999961853027, 0.8700000047683716, 0.14920000731945038, -0.22630000114440918, 0.21089999377727509, -0.26820001006126404, 0.17839999496936798, 0.3555999994277954, 0.07609999924898148, 0.2282000035047531, -0.42239999771118164, 0.25, -0.35409998893737793, -0.2379000037908554, 0.2851000130176544, -0.016699999570846558, 0.8043000102043152, 0.17100000381469727, 0.4153999984264374, 0.40560001134872437, -0.24379999935626984, 0.12759999930858612, 0.5273000001907349, -0.30820000171661377, -0.1315000057220459, 0.29789999127388, 0.20839999616146088, -0.04690000042319298, -0.1421000063419342, -0.33410000801086426, 0.06700000166893005, -0.04450000077486038, 0.6261000037193298, 0.43309998512268066, 0.020999999716877937, -0.14910000562667847, -0.09049999713897705, 0.14920000731945038, -0.1850000023841858, 0.25130000710487366, 0.0892999991774559, -0.5809999704360962, -0.3303000032901764, -0.3206999897956848, 0.20749999582767487, -0.005100000184029341, -0.210999995470047, 0.2535000145435333, -0.015200000256299973, 0.2094999998807907, 0.00279999990016222, -0.27309998869895935, -0.1868000030517578, 0.08420000225305557, -0.20970000326633453, 0.5756999850273132, -0.4894999861717224, 0.22120000422000885, 0.27730000019073486, -0.20909999310970306, 0.5306000113487244, 0.24740000069141388, -0.3427000045776367, 0.039900001138448715, 0.28040000796318054, 0.5910999774932861, 0.2402999997138977, -0.3776000142097473, 0.17479999363422394, -0.08209999650716782, 0.4767000079154968, 0.03420000150799751, 0.057999998331069946, 0.03290000185370445, -0.5220999717712402, 0.0340999998152256, -0.3199999928474426, -0.03920000046491623, 0.03819999843835831, -0.1867000013589859, 0.11389999836683273, -0.007000000216066837, 0.6340000033378601, 0.4620000123977661, 0.1859000027179718, 0.24279999732971191, 0.11640000343322754, 0.26179999113082886, -0.7702000141143799, -0.6543999910354614, -0.32749998569488525, 0.4487999975681305, 1.7496999502182007, 0.017400000244379044, -0.88919997215271, -0.04349999874830246, 0.24250000715255737, -0.4880000054836273, 0.10679999738931656, -0.3407999873161316, -0.06650000065565109, 0.3912999927997589, -0.21660000085830688, -0.6888999938964844, 0.14890000224113464, 0.2549999952316284, 0.07909999787807465, -0.07930000126361847, -0.028200000524520874, 0.12189999967813492, 0.1656000018119812, 0.011900000274181366, 0.041200000792741776, -0.7181000113487244, -0.3944000005722046, 0.4438999891281128, -0.16500000655651093, 0.38609999418258667, -0.703499972820282, 0.13950000703334808, 0.14159999787807465, 0.40139999985694885, 0.025800000876188278, 0.4174000024795532, -0.39100000262260437, -0.3817000091075897, -0.011300000362098217, 0.382099986076355, -0.38040000200271606, 0.45669999718666077, -0.435699999332428, 0.26489999890327454, -0.010400000028312206, -0.13259999454021454, 0.5763000249862671, 1.5937999486923218, 0.003599999938160181, -0.35830000042915344, 0.057999998331069946, -0.12929999828338623, 0.07209999859333038, -0.03610000014305115, 0.2615000009536743, -0.07540000230073929, 0.3682999908924103, -0.4569999873638153, -0.04320000112056732, 0.16990000009536743, 0.20509999990463257, -0.01979999989271164, -0.45980000495910645, 0.31029999256134033, -0.5001999735832214, 0.26510000228881836, -0.1281999945640564, 0.25920000672340393, 0.31189998984336853, -0.21539999544620514, 0.05510000139474869, -0.578000009059906, -0.17419999837875366, 0.781499981880188, -0.40790000557899475, -0.325300008058548, 0.3610999882221222, 0.28790000081062317, -0.3716999888420105, -0.06549999862909317, 0.2273000031709671, 0.028200000524520874, -0.4404999911785126, -0.10289999842643738, 0.07460000365972519, 0.3133000135421753, 0.09539999812841415, 0.02500000037252903, -0.22259999811649323, -0.14010000228881836, -0.01899999938905239, 0.011599999852478504, 0.06459999829530716, 0.2160000056028366, 0.011099999770522118, 0.18250000476837158, 0.09279999881982803, -0.2102999985218048, 0.05460000038146973, 0.028200000524520874, 2.3241000175476074, 0.09610000252723694, -0.5121999979019165, 0.39719998836517334, -0.0949999988079071, 0.2222999930381775, 0.2168000042438507, 0.21899999678134918, 0.20010000467300415, -0.3109000027179718, -0.01140000019222498, 0.09740000218153, 1.1819000244140625, -0.00430000014603138, -0.2709999978542328, -0.38100001215934753, -0.2287999987602234, 0.24580000340938568, -0.15360000729560852, 0.1469999998807907, -0.32899999618530273, 0.10580000281333923, -0.15299999713897705, -0.07100000232458115, -0.2939999997615814, 0.32899999618530273, -1.0979000329971313, -0.06870000064373016, 0.18250000476837158, 0.15600000321865082, -0.6057000160217285, 0.12449999898672104, 0.0348999984562397, -0.09149999916553497, -0.14990000426769257, 0.4320000112056732, 0.35040000081062317, -0.06930000334978104, -0.05999999865889549, -0.06639999896287918, 0.6308000087738037, -0.29420000314712524, 0.43689998984336853, 0.5347999930381775, 0.2206999957561493, 0.4018999934196472, 0.12880000472068787, -0.06549999862909317, -0.13840000331401825, -0.07259999960660934, 0.21699999272823334, -0.7954999804496765, 0.5271000266075134, -0.37229999899864197, -0.12309999763965607, 0.8011000156402588, 0.251800000667572, 0.17170000076293945, 0.16539999842643738, -0.42010000348091125, -0.15960000455379486, 0.4438999891281128, -0.296999990940094, 0.027899999171495438, 0.20909999310970306, 0.021800000220537186, -0.05400000140070915, -0.22380000352859497, 0.33980000019073486, -0.4140999913215637, 0.19099999964237213, 0.08619999885559082, 0.1973000019788742, 0.5412999987602234, 0.03240000084042549, -0.1679999977350235, -0.3603000044822693, -0.07940000295639038, -0.015699999406933784, -0.06199999898672104, -0.6604999899864197, 0.1386999934911728, 0.2596000134944916, 0.37720000743865967, 0.3075999915599823, 0.10000000149011612, -0.023000000044703484, 0.19169999659061432, 0.44029998779296875, 0.02370000071823597, -0.19689999520778656, -0.06400000303983688, 7.310500144958496, 0.05339999869465828, 0.43320000171661377, -0.1712000072002411, 0.021700000390410423, 0.17759999632835388, 0.06960000097751617, -0.08160000294446945, 0.0010999999940395355, 0.7008000016212463, 0.06350000202655792, -0.4065000116825104, -0.265500009059906, -0.21230000257492065, -0.04740000143647194, -0.03139999881386757, 0.1315000057220459, -0.29010000824928284, -0.15440000593662262, 0.07599999755620956, -0.13899999856948853, -0.02319999970495701, -0.29260000586509705, 0.26809999346733093, -0.5716000199317932, 0.00019999999494757503, 0.12349999696016312, -0.5101000070571899, 0.46380001306533813, -0.1695999950170517, -0.13779999315738678, 0.00989999994635582, -0.21160000562667847, 0.050200000405311584, 0.38359999656677246, -0.05350000038743019, 0.015599999576807022, -0.38760000467300415, 0.3328999876976013, -0.4431000053882599, 0.41110000014305115, -0.4404999911785126, -0.2152000069618225, -0.1467999964952469, -0.275299996137619, -0.3280999958515167, -0.24539999663829803, -0.5325000286102295, -0.4936999976634979, 0.14159999787807465, -0.05719999969005585, 0.30219998955726624, 0.3939000070095062, 0.5325000286102295, -0.41130000352859497, 0.3903999924659729, 0.19359999895095825, -0.2770000100135803, 0.026200000196695328, -0.43689998984336853, 0.2556999921798706, 0.19820000231266022, 0.14910000562667847, -0.8152999877929688, -0.4498000144958496, -0.9345999956130981, -0.13930000364780426, 0.05420000106096268, -0.2084999978542328, -0.16769999265670776]]',\n",
       "       '[[0.73580002784729, -0.8991000056266785, 0.13619999587535858, 0.05920000001788139, -0.1761000007390976, 0.14380000531673431, -0.09549999982118607, 0.4661000072956085, 0.007600000128149986, -0.13699999451637268, -0.18080000579357147, -1.013200044631958, 0.3734000027179718, 0.5623000264167786, 0.11869999766349792, -0.13009999692440033, -0.27869999408721924, -0.4487000107765198, -0.4099999964237213, -0.17219999432563782, -0.16429999470710754, 0.0015999999595806003, 0.0989999994635582, -0.36800000071525574, 0.1768999993801117, 0.027000000700354576, -0.6301000118255615, 0.9495000243186951, 0.2687999904155731, 0.11159999668598175, -0.2093999981880188, -0.16339999437332153, -0.11550000309944153, 0.1826999932527542, -0.05270000174641609, 0.3287000060081482, 0.16419999301433563, 0.34380000829696655, 0.47600001096725464, 0.0034000000450760126, 0.40869998931884766, -0.12770000100135803, 0.6377000212669373, 0.36079999804496765, 0.0348999984562397, -0.09629999846220016, 0.4296000003814697, 0.15549999475479126, -0.1404000073671341, 0.156700000166893, 0.39480000734329224, 0.05689999833703041, 0.28700000047683716, -0.08100000023841858, -0.0860000029206276, -0.08780000358819962, 0.47760000824928284, 0.47290000319480896, 0.18330000340938568, -0.21170000731945038, -0.08760000020265579, -0.029600000008940697, 0.19040000438690186, -0.14489999413490295, -0.2442999929189682, 0.06040000170469284, 0.2467000037431717, 0.2842000126838684, 0.20520000159740448, -0.0544000007212162, -0.066600002348423, 0.6265000104904175, 0.2304999977350235, 0.43970000743865967, 1.0891000032424927, 0.3515999913215637, 0.3456000089645386, 0.19050000607967377, 0.006800000090152025, -0.5019000172615051, 0.313400000333786, 2.7455999851226807, 0.0494999997317791, -0.1396999955177307, -0.06459999829530716, -0.21299999952316284, 0.1907999962568283, -0.323199987411499, 0.2045000046491623, 0.030400000512599945, 0.11550000309944153, -0.34860000014305115, 0.7519000172615051, -0.24650000035762787, -0.4697999954223633, -0.033900000154972076, -0.20090000331401825, -0.011900000274181366, -0.337799996137619, -0.0560000017285347, 0.19349999725818634, -0.008899999782443047, 0.5475000143051147, -0.9017999768257141, -0.1906999945640564, -0.08739999681711197, -0.12999999523162842, 0.13300000131130219, 0.2513999938964844, 0.03819999843835831, 0.04280000180006027, -0.1678999960422516, 0.4805999994277954, -0.4519999921321869, 0.3244999945163727, -0.13130000233650208, 0.14139999449253082, -0.23729999363422394, -0.3553999960422516, -0.21950000524520874, -0.29980000853538513, 0.09019999951124191, 0.41600000858306885, 0.5846999883651733, 0.4848000109195709, 0.2667999863624573, 1.3945000171661377, 0.0723000019788742, 0.0697999969124794, -0.3553999960422516, 0.24050000309944153, -0.1462000012397766, 0.4415000081062317, -0.027699999511241913, -0.3977000117301941, 0.10909999907016754, -0.0005000000237487257, 0.5767999887466431, -0.3950999975204468, 0.3142000138759613, -0.352400004863739, 0.5475999712944031, 0.21649999916553497, 0.2175000011920929, -0.5763000249862671, 0.6463000178337097, 0.4708999991416931, -0.5254999995231628, 0.09179999679327011, -0.257999986410141, 0.5688999891281128, -0.35190001130104065, 0.1688999980688095, -0.09510000050067902, -0.21439999341964722, -0.6284000277519226, 0.40639999508857727, -0.33489999175071716, -0.3950999975204468, 0.12349999696016312, -0.24719999730587006, -0.7177000045776367, -0.24560000002384186, 0.1509000062942505, 0.2304999977350235, -0.4307999908924103, 0.32850000262260437, 0.06650000065565109, 0.3237999975681305, 0.11749999970197678, -0.1777999997138977, 0.4293000102043152, -0.040800001472234726, -0.0027000000700354576, -0.373199999332428, -0.013199999928474426, 0.1525000035762787, 0.017100000753998756, 1.3432999849319458, -0.25429999828338623, 0.4586000144481659, 0.18379999697208405, -0.33869999647140503, 0.5813999772071838, 0.4885999858379364, -0.12110000103712082, -0.1387999951839447, 0.3506999909877777, 0.06239999830722809, 0.05990000069141388, 0.2824000120162964, -0.227400004863739, 0.08640000224113464, 0.07800000160932541, -0.09449999779462814, 0.3264000117778778, 0.08829999715089798, -0.3303999900817871, -0.19280000030994415, 0.626800000667572, 0.01080000028014183, -0.17090000212192535, -0.03669999912381172, -0.32820001244544983, 0.41100001335144043, 0.024700000882148743, -0.017400000244379044, -0.060600001364946365, -0.3531999886035919, 0.2029999941587448, -0.3296999931335449, 0.31850001215934753, 0.1972000002861023, 0.04520000144839287, -0.1501999944448471, 0.12200000137090683, -0.47369998693466187, 0.4472000002861023, -0.691100001335144, -0.030300000682473183, 0.28029999136924744, 0.07569999992847443, 0.004399999976158142, -0.14350000023841858, -0.2540000081062317, -0.12039999663829803, -0.003100000089034438, -0.3959999978542328, 0.3167000114917755, -0.6223000288009644, 0.13819999992847443, -0.31690001487731934, 0.4171999990940094, 0.2264000028371811, -0.47870001196861267, -0.008999999612569809, -0.20909999310970306, 0.3312000036239624, -0.03460000082850456, 0.22310000658035278, -0.11670000106096268, 0.1468999981880188, 0.10589999705553055, -0.05530000105500221, 1.8568999767303467, 0.04520000144839287, 0.5095999836921692, -0.014700000174343586, 0.32749998569488525, -0.2782999873161316, -0.3982999920845032, -0.243599995970726, 0.19840000569820404, 0.1356000006198883, 0.4844000041484833, -0.06350000202655792, -0.9126999974250793, 0.6111999750137329, -0.06769999861717224, -0.3734000027179718, 0.10019999742507935, 0.2467000037431717, -0.19629999995231628, 0.6111999750137329, -0.5365999937057495, -1.1497000455856323, 0.23409999907016754, 0.15489999949932098, -0.27300000190734863, -0.07840000092983246, 0.16380000114440918, 0.08910000324249268, 0.14300000667572021, -0.19030000269412994, -0.020600000396370888, -0.2549000084400177, -0.3483999967575073, 0.6114000082015991, -0.00039999998989515007, -0.005499999970197678, -0.5008999705314636, -0.016899999231100082, 0.07339999824762344, 0.31130000948905945, 0.08389999717473984, -0.10719999670982361, -0.20509999990463257, -0.29319998621940613, -0.007600000128149986, 0.4343000054359436, -0.24709999561309814, 0.032999999821186066, -0.07169999927282333, 0.26579999923706055, -0.1899999976158142, -0.35409998893737793, 0.5590000152587891, 1.8973000049591064, -0.019700000062584877, 0.15379999577999115, 0.10019999742507935, 0.11180000007152557, -0.12409999966621399, 0.34040001034736633, 0.18140000104904175, -0.065700002014637, 0.03999999910593033, 0.08240000158548355, -0.00930000003427267, -0.23309999704360962, -0.3422999978065491, -0.15649999678134918, -1.7711999416351318, -0.022299999371170998, -0.3756999969482422, 0.3059000074863434, 0.3790000081062317, 0.1673000007867813, 0.44609999656677246, 0.04039999842643738, 0.3898000121116638, 0.04129999876022339, 0.2280000001192093, 0.1071000024676323, -0.24140000343322754, 0.2816999852657318, 0.3959999978542328, -0.13300000131130219, 0.20909999310970306, -0.3061999976634979, -0.16329999268054962, 0.21699999272823334, -0.906499981880188, 0.05350000038743019, -0.37400001287460327, 0.16519999504089355, 0.08160000294446945, 0.03909999877214432, -0.13750000298023224, -0.0689999982714653, -0.023499999195337296, 0.1906999945640564, -0.0681999996304512, 0.029100000858306885, -0.10540000349283218, 0.32670000195503235, -0.06400000303983688, -0.11760000139474869, 0.11949999630451202, -0.5012999773025513, 2.3986001014709473, -0.25040000677108765, -0.3950999975204468, -0.1216999962925911, -0.17319999635219574, -0.05270000174641609, -0.13600000739097595, -0.15690000355243683, 0.27379998564720154, -0.021700000390410423, 0.1324000060558319, 0.007199999876320362, 1.0913000106811523, 0.11079999804496765, 0.02319999970495701, -0.16949999332427979, -0.3813999891281128, 0.2513999938964844, 0.25270000100135803, 0.6237000226974487, -0.054099999368190765, 0.04800000041723251, -0.3479999899864197, -0.007499999832361937, -0.36149999499320984, 0.014999999664723873, -0.09260000288486481, -0.4426000118255615, 0.5144000053405762, -0.08500000089406967, -0.07050000131130219, 0.37139999866485596, 0.3824000060558319, 0.24279999732971191, 0.16740000247955322, 0.08009999990463257, 0.048500001430511475, 0.08460000157356262, 0.28220000863075256, -0.07419999688863754, 0.36959999799728394, -0.18019999563694, 0.08709999918937683, 0.491100013256073, 0.38830000162124634, 0.5253000259399414, 0.04780000075697899, -0.09669999778270721, 0.13609999418258667, 0.27880001068115234, 0.08889999985694885, -0.9563999772071838, 0.3125, -0.13740000128746033, -0.05700000002980232, 0.5638999938964844, 0.25429999828338623, 0.43709999322891235, 0.22370000183582306, -0.5396000146865845, -0.09189999848604202, 0.8194000124931335, -0.09239999949932098, -0.06769999861717224, 0.45719999074935913, -0.18140000104904175, 0.46149998903274536, 0.39070001244544983, 0.17080000042915344, -0.25949999690055847, 0.23430000245571136, 0.3700000047683716, 0.6547999978065491, 0.21089999377727509, 0.1860000044107437, -0.2070000022649765, -0.3199999928474426, -0.33660000562667847, 0.027000000700354576, -0.3116999864578247, -0.2362000048160553, -0.039799999445676804, 0.07349999994039536, -0.20029999315738678, 0.3571000099182129, 0.3231000006198883, -0.19609999656677246, 0.22660000622272491, -0.1307000070810318, -0.125, -0.487199991941452, -0.19130000472068787, 7.228600025177002, 0.032600000500679016, 0.1315000057220459, -0.3305000066757202, -0.19939999282360077, 0.5547000169754028, 0.1834000051021576, -0.020600000396370888, 0.33570000529289246, 0.3043999969959259, 0.4661000072956085, -0.13040000200271606, -0.07270000129938126, -0.17030000686645508, 0.1120000034570694, 0.3840000033378601, 0.1543000042438507, 0.15119999647140503, -0.08839999884366989, -0.03530000150203705, -0.21150000393390656, -0.42179998755455017, 0.0908999964594841, 0.6664999723434448, -0.11569999903440475, 0.00019999999494757503, -0.40299999713897705, -0.28139999508857727, -0.18379999697208405, -0.27399998903274536, -0.025699999183416367, -0.3041999936103821, 0.2903999984264374, 0.07999999821186066, 0.5333999991416931, -0.1703999936580658, -0.18780000507831573, 0.08529999852180481, -0.2854999899864197, -0.2881999909877777, 0.6510000228881836, -0.5202000141143799, 0.02539999969303608, -0.24220000207424164, -0.27079999446868896, 0.37560001015663147, -0.10999999940395355, 0.3181999921798706, -0.41920000314712524, 0.09679999947547913, 0.38510000705718994, -0.23280000686645508, 0.05609999969601631, -0.0203000009059906, 0.38519999384880066, 0.5978000164031982, 0.05959999933838844, -0.4235999882221222, 0.8626999855041504, -0.1574999988079071, 0.28949999809265137, 0.08860000222921371, -0.0737999975681305, -0.021199999377131462, -0.14550000429153442, -0.45399999618530273, 0.3359000086784363, 0.3709999918937683, 0.04349999874830246, 0.03929999843239784]]',\n",
       "       '[[1.2096999883651733, -0.8264999985694885, 0.09390000253915787, 0.2371000051498413, -0.09399999678134918, 0.11590000241994858, -0.33880001306533813, -0.4090000092983246, 0.026900000870227814, 0.3402999937534332, 0.22869999706745148, 0.0034000000450760126, 0.03799999877810478, 0.5676000118255615, 0.23890000581741333, 0.218299999833107, -0.15850000083446503, -0.3781000077724457, -0.36320000886917114, 0.18770000338554382, -0.6895999908447266, -0.15610000491142273, 0.004399999976158142, -0.07639999687671661, -0.20110000669956207, -0.0892999991774559, -0.4611999988555908, 0.8203999996185303, 0.11079999804496765, -0.2184000015258789, -0.09210000187158585, 0.08649999648332596, 0.04670000076293945, -0.16429999470710754, -0.041600000113248825, -0.19859999418258667, 0.09539999812841415, 0.20160000026226044, 0.871999979019165, 0.8169000148773193, 0.0019000000320374966, 0.12099999934434891, 0.5426999926567078, -0.12060000002384186, 0.00139999995008111, -0.6144999861717224, -0.07940000295639038, 0.23669999837875366, 0.07169999927282333, -0.006599999964237213, 0.7166000008583069, 0.24160000681877136, -0.11309999972581863, -0.11779999732971191, 0.5421000123023987, -0.613099992275238, 0.18539999425411224, 0.4025000035762787, 0.05649999901652336, -0.0027000000700354576, 0.4171000123023987, -0.03400000184774399, 0.4503999948501587, 0.1738000065088272, 0.22120000422000885, 0.005799999926239252, 0.3393000066280365, -0.1459999978542328, -0.6435999870300293, 0.40720000863075256, -0.1120000034570694, 0.5667999982833862, 0.03350000083446503, -0.030899999663233757, 0.18719999492168427, 0.42320001125335693, -0.013500000350177288, 0.16259999573230743, 0.33090001344680786, -0.47429999709129333, 0.7342000007629395, 1.989799976348877, 0.046300001442432404, 0.033399999141693115, -0.06199999898672104, -0.30320000648498535, 0.2337999939918518, -0.07280000299215317, -0.044199999421834946, -0.0013000000035390258, -0.4458000063896179, 0.09610000252723694, 0.323199987411499, -0.03310000151395798, -0.2395000010728836, 0.02459999918937683, 0.07349999994039536, 0.012000000104308128, -0.2321999967098236, -0.1761000007390976, 0.6274999976158142, 0.06960000097751617, 0.34060001373291016, -1.3391000032424927, -0.2337999939918518, -0.2630000114440918, 0.12549999356269836, 0.2775999903678894, 0.41269999742507935, 0.4921000003814697, 0.36039999127388, 0.03449999913573265, 0.3978999853134155, 0.01730000041425228, -0.4634000062942505, -0.09189999848604202, 0.14059999585151672, 0.04340000078082085, -0.5002999901771545, -0.10369999706745148, -0.323199987411499, 0.15800000727176666, 0.023000000044703484, 0.7742999792098999, 0.41909998655319214, -0.15070000290870667, 0.07769999653100967, 0.21310000121593475, 0.17990000545978546, -0.6171000003814697, 0.04450000077486038, 0.13850000500679016, 0.19629999995231628, -0.6319000124931335, -0.0348999984562397, -0.011300000362098217, -0.32089999318122864, 0.33469998836517334, -0.49559998512268066, -0.14159999787807465, -0.08079999685287476, 0.35989999771118164, 0.1023000031709671, 0.07569999992847443, -0.0471000000834465, -0.030300000682473183, -0.19930000603199005, -0.7214000225067139, -0.10740000009536743, 0.05860000103712082, 0.22910000383853912, -0.04320000112056732, 0.28279998898506165, -0.3118000030517578, -0.5949000120162964, 0.29100000858306885, -0.16439999639987946, -0.423799991607666, 0.30149999260902405, 0.6923999786376953, -0.3643999993801117, -0.29760000109672546, 0.9958000183105469, 0.436599999666214, 0.42340001463890076, 0.17810000479221344, -0.2442999929189682, -0.1679999977350235, 0.3384999930858612, 0.12680000066757202, -0.05700000002980232, 0.3133000135421753, 0.18230000138282776, 0.0551999993622303, -0.004800000227987766, -0.4514000117778778, 0.04349999874830246, -0.2529999911785126, 1.2668999433517456, 0.18649999797344208, 0.7689999938011169, 0.18070000410079956, 0.27379998564720154, -0.25999999046325684, 0.1881999969482422, -0.08839999884366989, -0.39259999990463257, -0.351500004529953, -0.35589998960494995, -0.2524999976158142, -0.12080000340938568, -0.12269999831914902, 0.2409999966621399, -0.45170000195503235, -0.024900000542402267, 0.19439999759197235, -0.18310000002384186, -0.03929999843239784, -0.10869999974966049, 0.8015000224113464, 0.005799999926239252, 0.09369999915361404, 0.08460000157356262, -0.21330000460147858, 0.09200000017881393, -0.3409999907016754, -0.08860000222921371, 0.2791000008583069, -0.16099999845027924, 0.391400009393692, 0.026900000870227814, 0.48399999737739563, 0.13420000672340393, 0.1306000053882599, 0.22830000519752502, 0.04969999939203262, 0.14249999821186066, -0.12790000438690186, -0.13590000569820404, 0.2655999958515167, -0.14560000598430634, 0.4578000009059906, 0.4162999987602234, 0.013199999928474426, 0.041200000792741776, 0.14409999549388885, -0.430400013923645, -0.0892999991774559, 0.262800008058548, -0.6029999852180481, -0.1046999990940094, -0.3578999936580658, 0.9894999861717224, 0.039900001138448715, -0.1956000030040741, -0.03370000049471855, -0.5698999762535095, -0.1404999941587448, -0.3763999938964844, -0.04129999876022339, 0.02319999970495701, 0.013700000010430813, 0.22630000114440918, -0.042100001126527786, 1.1068999767303467, -0.12309999763965607, 0.02590000070631504, -0.16290000081062317, 0.521399974822998, -0.16419999301433563, -0.34549999237060547, -0.9075999855995178, 0.1080000028014183, 0.21559999883174896, 0.7849000096321106, -0.07169999927282333, -0.272599995136261, 0.5687000155448914, 0.3393000066280365, -0.15369999408721924, -0.1808999925851822, -0.07270000129938126, -0.5521000027656555, 0.5288000106811523, 0.16979999840259552, -0.359499990940094, -0.06539999693632126, 0.23180000483989716, 0.28870001435279846, -0.15649999678134918, 0.015300000086426735, 0.47609999775886536, 0.1412000060081482, 0.10010000318288803, 0.07609999924898148, -0.6205000281333923, -0.2939000129699707, 0.15860000252723694, -0.10220000147819519, 0.05979999899864197, -1.2740000486373901, 0.0617000013589859, 0.029500000178813934, 0.1256999969482422, -0.1096000000834465, 0.23389999568462372, -0.7555000185966492, -0.18709999322891235, 0.5252000093460083, 0.25529998540878296, -0.164900004863739, 0.0851999968290329, -0.1956000030040741, 0.16210000216960907, 0.22040000557899475, -0.019899999722838402, -0.1657000035047531, 1.2896000146865845, -0.22460000216960907, -0.0934000015258789, -0.4458000063896179, -0.1770000010728836, 0.44589999318122864, -0.05040000006556511, 0.447299987077713, -0.018699999898672104, 0.14090000092983246, -0.2290000021457672, 0.39160001277923584, 0.21870000660419464, -0.04280000180006027, 0.2298000007867813, -0.44119998812675476, -0.43549999594688416, -0.28519999980926514, 0.025800000876188278, 0.40230000019073486, 0.21879999339580536, 0.3603000044822693, -0.07519999891519547, -0.0031999999191612005, 0.09109999984502792, 0.34619998931884766, 0.2888999879360199, 0.16169999539852142, -0.09950000047683716, 0.34470000863075256, 0.3767000138759613, -0.0722000002861023, -0.26829999685287476, 0.26339998841285706, 0.2538999915122986, -0.8434000015258789, -0.03189999982714653, 0.21320000290870667, 0.364300012588501, -0.42250001430511475, -0.23029999434947968, -0.31940001249313354, 0.5692999958992004, 0.06499999761581421, 0.014000000432133675, 0.19449999928474426, 0.349700003862381, -0.04309999942779541, 0.2206999957561493, -0.11860000342130661, -0.4180999994277954, 0.20059999823570251, -0.5238999724388123, 2.1545000076293945, 0.47360000014305115, -0.41850000619888306, -0.21060000360012054, 0.2761000096797943, -0.1834000051021576, 0.46059998869895935, -0.36570000648498535, 0.2240000069141388, -0.2928999960422516, 0.44179999828338623, -0.2948000133037567, 1.1756000518798828, 0.19990000128746033, 0.2409999966621399, -0.861299991607666, -0.36149999499320984, -0.05790000036358833, 0.000699999975040555, 0.6685000061988831, -0.1324000060558319, -0.21080000698566437, 0.1289999932050705, -0.45649999380111694, -0.16380000114440918, -0.08250000327825546, -0.854200005531311, -0.3003000020980835, 0.23770000040531158, 0.010499999858438969, -0.45410001277923584, 0.4259999990463257, 0.2703000009059906, -0.2896000146865845, -0.05429999902844429, 0.48840001225471497, 0.018200000748038292, -0.1160999983549118, 0.27149999141693115, -0.32249999046325684, 0.6215999722480774, -0.14740000665187836, 0.07479999959468842, -0.1371999979019165, 0.4832000136375427, 0.9534000158309937, -0.020500000566244125, -0.9332000017166138, 0.25, 0.024399999529123306, 0.31130000948905945, -0.5015000104904175, 0.07450000196695328, 0.11739999800920486, 0.2612999975681305, 0.20160000026226044, 0.16920000314712524, -0.15549999475479126, 0.27230000495910645, -0.6294999718666077, -0.48890000581741333, 0.7037000060081482, 0.1264999955892563, 0.28110000491142273, -0.010700000450015068, -0.03790000081062317, 0.5195000171661377, 0.19580000638961792, 0.15559999644756317, 0.1492999941110611, 0.20010000467300415, 0.0019000000320374966, 0.3183000087738037, 0.38429999351501465, 0.2556999921798706, -0.2468000054359436, -0.1266999989748001, -0.9168999791145325, 0.32359999418258667, -0.20890000462532043, -0.5232999920845032, -0.03830000013113022, -0.03700000047683716, 0.14890000224113464, 0.18520000576972961, 0.25769999623298645, -0.014800000004470348, 0.05730000138282776, 0.29010000824928284, 0.25850000977516174, -0.37619999051094055, -0.09459999948740005, 7.628699779510498, 0.1615000069141388, 0.46950000524520874, 0.24330000579357147, -0.027799999341368675, -0.2529999911785126, 0.15960000455379486, -0.4763000011444092, 0.4189000129699707, 0.2240000069141388, 0.5026999711990356, -0.2418999969959259, -0.19259999692440033, -0.35569998621940613, 0.12210000306367874, -0.642799973487854, 0.15240000188350677, -0.22630000114440918, -0.09690000116825104, -0.3797999918460846, -0.4016999900341034, -0.25999999046325684, -0.2150000035762787, -0.35280001163482666, 0.004800000227987766, 0.14149999618530273, 0.3100999891757965, -0.1784999966621399, -0.12939999997615814, -0.05249999836087227, -0.5177000164985657, -0.1876000016927719, 0.026499999687075615, -0.3675000071525574, 0.49799999594688416, -0.0632999986410141, -0.4390999972820282, -0.3359000086784363, -0.2199999988079071, -0.6449999809265137, 0.5831000208854675, -0.3441999852657318, -0.001500000013038516, -0.16910000145435333, -0.25450000166893005, 0.12929999828338623, -0.18559999763965607, 0.18230000138282776, -0.15230000019073486, -0.12839999794960022, -0.051899999380111694, 0.06480000168085098, 0.3244999945163727, 0.6247000098228455, -0.2985000014305115, 0.4699000120162964, -0.048700001090765, -0.26759999990463257, 0.01360000018030405, -0.5544000267982483, 0.06790000200271606, -0.14640000462532043, -0.030300000682473183, -0.1850000023841858, -0.12409999966621399, -0.5598999857902527, -0.15860000252723694, 0.18700000643730164, -0.16169999539852142, -0.3206000030040741]]',\n",
       "       '[[0.36340001225471497, 0.019200000911951065, 0.18289999663829803, 0.3059000074863434, -0.5349000096321106, -0.07660000026226044, -0.6144000291824341, 0.42719998955726624, 0.1460999995470047, -0.0681999996304512, 0.2596000134944916, -1.0140999555587769, 0.16249999403953552, 0.30730000138282776, -0.044199999421834946, -0.06780000030994415, 0.10199999809265137, -0.37929999828338623, -0.23280000686645508, 0.004000000189989805, -0.1500999927520752, -0.10790000110864639, 0.3334999978542328, -0.15369999408721924, -0.13950000703334808, 0.22169999778270721, -0.6466000080108643, 0.7139999866485596, 0.16500000655651093, -0.025499999523162842, 0.08560000360012054, -0.11320000141859055, 0.2401999980211258, -0.11190000176429749, -0.08330000191926956, -0.026100000366568565, -0.12120000272989273, 0.3553999960422516, 0.6161999702453613, -0.11410000175237656, 0.31130000948905945, -0.08190000057220459, 0.4300999939441681, 0.22990000247955322, -0.0608999989926815, -0.49380001425743103, 0.06469999998807907, -0.15889999270439148, 0.25780001282691956, 0.1932000070810318, 0.6757000088691711, 0.3018999993801117, 0.5164999961853027, -0.08579999953508377, 0.27709999680519104, 0.0012000000569969416, 0.3993000090122223, 0.6121000051498413, 0.4090999960899353, -0.08269999921321869, 0.29829999804496765, 0.3203999996185303, 0.10440000146627426, 0.16210000216960907, -0.1128000020980835, 0.0031999999191612005, 0.3434000015258789, -0.07760000228881836, -0.1348000019788742, -0.1745000034570694, -0.009100000374019146, 0.8822000026702881, -0.06679999828338623, 0.34130001068115234, 1.1323000192642212, 0.3154999911785126, 0.07999999821186066, 0.5554999709129333, -0.060100000351667404, -0.4537999927997589, 0.6274999976158142, 2.204200029373169, -0.5076000094413757, -0.46320000290870667, -0.22849999368190765, 0.010400000028312206, 0.2547999918460846, 0.2037999927997589, -0.13920000195503235, -0.33169999718666077, -0.11460000276565552, -0.2159000039100647, 0.5331000089645386, -0.29499998688697815, -0.49950000643730164, 0.3109999895095825, -0.008999999612569809, -0.04179999977350235, -0.3257000148296356, 0.2143000066280365, -0.00989999994635582, 0.0877000018954277, 0.4677000045776367, -0.7815999984741211, -0.09749999642372131, -0.3571999967098236, 0.021800000220537186, -0.08209999650716782, 0.40119999647140503, -0.23229999840259552, 0.03660000115633011, 0.06880000233650208, 0.1477999985218048, -0.39910000562667847, 0.10010000318288803, 0.004699999932199717, -0.014399999752640724, 0.19300000369548798, -0.17730000615119934, 0.17880000174045563, -0.22830000519752502, 0.23340000212192535, 0.2757999897003174, 0.06539999693632126, 0.9427000284194946, 0.3068000078201294, 0.17350000143051147, 0.03629999980330467, 0.2603999972343445, -0.16410000622272491, 0.2904999852180481, -0.13950000703334808, -0.10270000249147415, -0.25769999623298645, -0.5030999779701233, 0.39079999923706055, 0.23430000245571136, 0.859000027179718, -0.1639000028371811, 0.46299999952316284, -0.22349999845027924, 0.05180000141263008, -0.09709999710321426, 0.18369999527931213, 0.05469999834895134, 0.590399980545044, 0.28600001335144043, -0.5796999931335449, 0.21220000088214874, -0.09030000120401382, 0.4699000120162964, -0.534600019454956, -0.013199999928474426, -0.1509000062942505, -0.33169999718666077, -0.6406000256538391, 0.28780001401901245, 0.06260000169277191, -0.3050999939441681, 0.374099999666214, -0.05700000002980232, -0.37779998779296875, -0.1354999989271164, 0.011800000444054604, 0.12250000238418579, -0.2522999942302704, 0.3621000051498413, 0.23690000176429749, 0.3962000012397766, 0.09430000185966492, 0.2295999974012375, 0.2434999942779541, -0.5612000226974487, 0.35850000381469727, 0.25609999895095825, -0.08320000022649765, 0.4641999900341034, 0.14190000295639038, 0.605400025844574, 0.006200000178068876, 0.2637999951839447, 0.5475000143051147, -0.2858999967575073, 0.34630000591278076, 0.6947000026702881, -0.02019999921321869, -0.19709999859333038, -0.029999999329447746, 0.12160000205039978, -0.08550000190734863, -0.07360000163316727, -0.10809999704360962, -0.024000000208616257, -0.13510000705718994, -0.09269999712705612, 0.13920000195503235, -0.12330000102519989, -0.19339999556541443, -0.5934000015258789, 0.08720000088214874, -0.17630000412464142, -0.003700000001117587, 0.022600000724196434, -0.1551000028848648, 0.07959999889135361, -0.09470000118017197, -0.14630000293254852, 0.040699999779462814, -0.1657000035047531, -0.08320000022649765, -0.06669999659061432, 0.2913999855518341, -0.02800000086426735, 0.1168999969959259, -0.05510000139474869, 0.17489999532699585, 0.0044999998062849045, 0.3019999861717224, -0.43380001187324524, 0.05950000137090683, 0.09489999711513519, 0.15970000624656677, -0.07209999859333038, -0.5083000063896179, -0.2660999894142151, 0.00860000029206276, 0.20919999480247498, -0.0272000003606081, 0.06970000267028809, -0.32190001010894775, 0.45969998836517334, -0.15539999306201935, 0.18940000236034393, -0.10189999639987946, 0.6068000197410583, -0.3594000041484833, -0.367900013923645, -0.28209999203681946, -0.09740000218153, 0.034299999475479126, 0.06629999727010727, 0.21729999780654907, 0.06019999831914902, -0.1444000005722046, 1.0097999572753906, 0.14579999446868896, 0.2551000118255615, -0.3296000063419342, 0.5773000121116638, -0.2460000067949295, -0.3874000012874603, -0.0215000007301569, 0.210099995136261, 0.20880000293254852, 1.3144999742507935, 0.4429999887943268, -1.0236999988555908, 0.8453999757766724, -0.08009999990463257, -0.1565999984741211, 0.2630000114440918, 0.1890999972820282, -0.05270000174641609, 0.41830000281333923, -0.7156000137329102, -1.063099980354309, 0.28130000829696655, -0.061900001019239426, 0.04270000010728836, -0.15760000050067902, 0.4966000020503998, -0.4740999937057495, 0.2142000049352646, 0.002400000113993883, -0.12919999659061432, 0.03530000150203705, -0.26600000262260437, 0.6147000193595886, -0.08079999685287476, -0.04659999907016754, -0.10840000212192535, -0.0746999979019165, 0.004800000227987766, 0.4230000078678131, -0.09179999679327011, -0.017100000753998756, 0.07729999721050262, -0.23170000314712524, -0.03920000046491623, 0.24570000171661377, 0.1451999992132187, -0.013899999670684338, 0.043299999088048935, 0.6021999716758728, 0.24809999763965607, -0.17790000140666962, 0.09030000120401382, 1.6687999963760376, -0.23409999907016754, -0.009800000116229057, -0.04309999942779541, -0.11879999935626984, 0.2842999994754791, -0.057999998331069946, 0.42250001430511475, -0.41929998993873596, 0.41519999504089355, -0.010900000110268593, 0.03310000151395798, -0.0851999968290329, 0.18549999594688416, -0.32499998807907104, -0.9549999833106995, -0.3528999984264374, 0.1542000025510788, 0.42340001463890076, 0.27300000190734863, -0.1445000022649765, 0.4034999907016754, 0.11980000138282776, 0.2467000037431717, -0.09650000184774399, -0.09200000017881393, 0.3799999952316284, 0.3395000100135803, -0.41280001401901245, 0.19660000503063202, 0.3919999897480011, 0.06930000334978104, -0.053599998354911804, -0.40619999170303345, 0.14169999957084656, -0.44780001044273376, -0.0003000000142492354, -0.4657999873161316, 0.20000000298023224, 0.01899999938905239, -0.3154999911785126, 0.1808999925851822, -0.31220000982284546, 0.1590999960899353, -0.06650000065565109, -0.2896000146865845, -0.3456000089645386, -0.16030000150203705, 0.4957999885082245, -0.12919999659061432, -0.11620000004768372, -0.07339999824762344, -0.06289999932050705, 2.3089001178741455, -0.22390000522136688, -0.4092000126838684, 0.048700001090765, -0.06889999657869339, 0.21480000019073486, 0.04039999842643738, 0.20669999718666077, 0.26649999618530273, 0.00019999999494757503, 0.00930000003427267, 0.2248000055551529, 1.1121000051498413, 0.567300021648407, -0.051600001752376556, -0.16040000319480896, -0.16130000352859497, 0.3806000053882599, -0.3181999921798706, 0.391400009393692, 0.004399999976158142, 0.2791999876499176, -0.15710000693798065, 0.022199999541044235, -0.8669000267982483, 0.18320000171661377, 0.10459999740123749, -0.31299999356269836, 0.19869999587535858, -0.12449999898672104, 0.17100000381469727, -0.16189999878406525, 0.028300000354647636, 0.15649999678134918, -0.14499999582767487, 0.14560000598430634, 0.12939999997615814, 0.08730000257492065, -0.032499998807907104, -0.022299999371170998, 0.12919999659061432, -0.42179998755455017, -0.06379999965429306, 0.16519999504089355, 0.13519999384880066, 0.24819999933242798, 0.08569999784231186, -0.3837999999523163, 0.25130000710487366, 0.26910001039505005, -0.16519999504089355, -0.7828999757766724, 0.20329999923706055, -0.31060001254081726, 0.13429999351501465, 0.46799999475479126, 0.5767999887466431, 0.3149999976158142, 0.22059999406337738, -0.6542999744415283, 0.026900000870227814, 0.5360999703407288, 0.29649999737739563, -0.32089999318122864, 0.35359999537467957, -0.15700000524520874, 0.5910000205039978, 0.25519999861717224, 0.2815000116825104, 0.2320999950170517, 0.54830002784729, 0.0632999986410141, 0.6377999782562256, 0.21240000426769257, 0.08309999853372574, -0.3176000118255615, -0.09070000052452087, -0.29679998755455017, 0.032499998807907104, -0.366100013256073, -0.13519999384880066, 0.3382999897003174, 0.023600000888109207, 0.24120000004768372, 0.4674000144004822, 0.2689000070095062, -0.38929998874664307, 0.3215000033378601, 0.31610000133514404, -0.2842000126838684, -0.7530999779701233, 0.13300000131130219, 7.047399997711182, -0.16500000655651093, -0.3529999852180481, -0.06729999929666519, -0.3321000039577484, 0.4724000096321106, -0.14350000023841858, -0.13230000436306, 0.20170000195503235, -0.08420000225305557, 0.42820000648498535, 0.24300000071525574, -0.008899999782443047, -0.3993000090122223, 0.19869999587535858, 0.2732999920845032, -0.3109000027179718, -0.34459999203681946, -0.1762000024318695, 0.02590000070631504, -0.23180000483989716, -0.4794999957084656, -0.021299999207258224, 0.7698000073432922, -0.33899998664855957, -0.07090000063180923, -0.15189999341964722, -0.01979999989271164, -0.20659999549388885, 0.18310000002384186, 0.375, -0.44749999046325684, 0.17579999566078186, 0.07739999890327454, 0.31279999017715454, -0.35120001435279846, 0.22310000658035278, 0.1395999938249588, -0.030300000682473183, -0.6743999719619751, 0.5246000289916992, 0.3003000020980835, 0.01889999955892563, -0.04039999842643738, -0.33079999685287476, 0.5760999917984009, -0.08709999918937683, 0.0010999999940395355, -0.8406999707221985, -0.16429999470710754, 0.2815000116825104, -0.2029000073671341, -0.3005000054836273, 0.125900000333786, 0.364300012588501, 0.19609999656677246, 0.06539999693632126, -0.2231999933719635, 0.26489999890327454, -0.04490000009536743, -0.006000000052154064, -0.07129999995231628, 0.1907999962568283, -0.12919999659061432, -0.5748999714851379, 0.07760000228881836, -0.19210000336170197, 0.21699999272823334, 0.1395999938249588, 0.09669999778270721]]',\n",
       "       '[[0.8794999718666077, -0.5020999908447266, -0.15459999442100525, 0.1517000049352646, -0.3515999913215637, 0.018799999728798866, -0.1527000069618225, 0.10750000178813934, -0.09809999912977219, 0.10769999772310257, 0.024299999698996544, -1.0202000141143799, 0.10970000177621841, 0.5924999713897705, -0.012799999676644802, 0.1185000017285347, -0.07240000367164612, -0.267300009727478, -0.08479999750852585, -0.364300012588501, 0.31049999594688416, 0.1395999938249588, 0.4375999867916107, -0.01360000018030405, -0.19779999554157257, 0.44020000100135803, -0.3580000102519989, 0.4431000053882599, 0.2718999981880188, -0.3068000078201294, 0.02889999933540821, -0.10980000346899033, 0.12060000002384186, -0.15440000593662262, -0.29760000109672546, 0.30660000443458557, -0.008700000122189522, 0.210999995470047, 0.3919000029563904, 0.2930000126361847, 0.4952999949455261, -0.40400001406669617, 0.32710000872612, 0.3102000057697296, -0.0364999994635582, -0.41659998893737793, 0.5310999751091003, 0.11060000211000443, 0.0786999985575676, 0.6029999852180481, 0.48899999260902405, -0.14499999582767487, 0.04309999942779541, -0.07329999655485153, 0.17829999327659607, -0.35760000348091125, 0.27390000224113464, 0.6812000274658203, 0.047200001776218414, -0.3253999948501587, -0.34540000557899475, 0.013700000010430813, 0.20419999957084656, 0.26669999957084656, 0.07639999687671661, 0.11180000007152557, -0.04610000178217888, 0.36730000376701355, 0.00860000029206276, 0.4729999899864197, -0.12039999663829803, 0.8076000213623047, 0.26190000772476196, 0.12049999833106995, 1.0667999982833862, 0.6886000037193298, 0.42719998955726624, 0.36660000681877136, -0.029200000688433647, -0.6784999966621399, 0.6883000135421753, 2.6982998847961426, -0.10970000177621841, 0.026200000196695328, 0.08299999684095383, -0.17640000581741333, 0.2524000108242035, 0.07859999686479568, 0.23149999976158142, -0.31630000472068787, 0.2842999994754791, -0.613099992275238, 0.5906999707221985, 0.14219999313354492, -0.5942999720573425, 0.14990000426769257, -0.1745000034570694, 0.13779999315738678, -0.03099999949336052, 0.22750000655651093, 0.3903999924659729, -0.08630000054836273, 0.24539999663829803, -0.9656999707221985, -0.2370000034570694, 0.018200000748038292, -0.1800999939441681, 0.03680000081658363, 0.29409998655319214, -0.19979999959468842, 0.30880001187324524, 0.12160000205039978, 0.26899999380111694, -0.3698999881744385, -0.02539999969303608, -0.052400000393390656, -0.007600000128149986, 0.10440000146627426, -0.49790000915527344, -0.28999999165534973, -0.5012000203132629, -0.12280000001192093, 0.1266999989748001, -0.09700000286102295, 0.4278999865055084, 0.1264999955892563, 1.031599998474121, 0.32330000400543213, -0.01940000057220459, -0.03620000183582306, 0.36730000376701355, -9.999999747378752e-05, 0.147599995136261, 0.06970000267028809, -0.17910000681877136, 0.3337000012397766, -0.0494999997317791, 0.8435999751091003, -0.34689998626708984, 0.18539999425411224, -0.23330000042915344, 0.04390000179409981, 0.094200000166893, 0.0835999995470047, -0.3921000063419342, 0.6435999870300293, 0.3637999892234802, -0.5001000165939331, -0.2029000073671341, -0.423799991607666, 0.8125, -0.2362000048160553, 0.6545000076293945, -0.07890000194311142, -0.06270000338554382, -0.47909998893737793, 0.23649999499320984, -0.24619999527931213, -0.45579999685287476, -0.12219999730587006, 0.26339998841285706, -0.8614000082015991, 0.2847000062465668, 0.1469999998807907, -0.04780000075697899, -0.2897000014781952, 0.048900000751018524, 0.016100000590085983, 0.18469999730587006, 0.35040000081062317, -0.011800000444054604, 0.47850000858306885, -0.38109999895095825, -0.188400000333786, 0.07530000060796738, -0.25110000371932983, 0.5946999788284302, 0.11860000342130661, 0.5246000289916992, 0.2240000069141388, 0.2538999915122986, 0.33869999647140503, 0.05820000171661377, 0.40720000863075256, 0.4684000015258789, -0.06769999861717224, -0.2345999926328659, 0.23999999463558197, 0.31299999356269836, 0.1890999972820282, 0.1876000016927719, -0.0608999989926815, 0.36980000138282776, -0.1956000030040741, 0.7329000234603882, 0.44609999656677246, -0.10159999877214432, -0.536899983882904, 0.1216999962925911, -0.15729999542236328, -0.23109999299049377, -0.07490000128746033, 0.15919999778270721, -0.4244000017642975, 0.2603999972343445, -0.05469999834895134, -0.24709999561309814, 0.289900004863739, -0.34769999980926514, 0.3634999990463257, -0.1168999969959259, 0.006500000134110451, 0.1648000031709671, 0.04089999943971634, 0.08340000361204147, 0.02449999935925007, -0.1324000060558319, 0.24969999492168427, -0.13349999487400055, -0.13779999315738678, 0.06729999929666519, 0.037700001150369644, 0.18870000541210175, 0.06610000133514404, -0.36629998683929443, 0.06610000133514404, 0.20579999685287476, -0.02410000003874302, 0.11789999902248383, -0.6865000128746033, -0.179299995303154, -0.3959999978542328, 0.43220001459121704, 0.056299999356269836, 0.04479999840259552, -0.2475000023841858, -0.22139999270439148, -0.25110000371932983, -0.07739999890327454, 0.1185000017285347, -0.27799999713897705, 0.020999999716877937, 0.22540000081062317, -0.23250000178813934, 1.6836999654769897, 0.23639999330043793, 0.22010000050067902, -0.0284000001847744, 0.3181000053882599, -0.37689998745918274, -0.4417000114917755, 0.36820000410079956, 0.060100000351667404, 0.061400000005960464, 0.5426999926567078, 0.32420000433921814, -0.636900007724762, 0.5740000009536743, 0.054499998688697815, -0.7386999726295471, 0.3262999951839447, 0.32190001010894775, 0.019200000911951065, 0.5331000089645386, -0.20659999549388885, -1.0019999742507935, 0.009800000116229057, 0.3571999967098236, 0.0835999995470047, 0.11069999635219574, 0.15729999542236328, 0.24150000512599945, 0.2029000073671341, -0.2992999851703644, 0.1347000002861023, -0.5134000182151794, -0.6258999705314636, 1.0011999607086182, 0.0333000011742115, 0.14949999749660492, -0.5042999982833862, 0.05270000174641609, -0.052400000393390656, 0.08020000159740448, 0.06790000200271606, -0.2831999957561493, -0.05849999934434891, -0.3075000047683716, 0.14010000228881836, 0.0471000000834465, 0.22869999706745148, 0.09849999845027924, -0.27000001072883606, 0.05130000039935112, 0.01489999983459711, -0.391400009393692, 0.44190001487731934, 1.6505000591278076, -0.15770000219345093, 0.1347000002861023, 0.1462000012397766, -0.21770000457763672, -0.19030000269412994, 0.08959999680519104, 0.16830000281333923, 0.12060000002384186, 0.15289999544620514, -0.039000000804662704, 0.18729999661445618, -0.028699999675154686, -0.14880000054836273, -0.3003000020980835, -0.9042999744415283, -0.33309999108314514, -0.21389999985694885, -0.07410000264644623, 0.00139999995008111, 0.1624000072479248, 0.29409998655319214, -0.007000000216066837, 0.27000001072883606, -0.24609999358654022, 0.0034000000450760126, 0.3882000148296356, -0.2946000099182129, -0.017500000074505806, 0.16210000216960907, 0.3571000099182129, 0.07840000092983246, -0.15850000083446503, 0.03689999878406525, 0.07909999787807465, -0.6851999759674072, 0.02810000069439411, -0.11749999970197678, 0.15710000693798065, -0.03009999915957451, -0.2076999992132187, -0.3222000002861023, -0.2150000035762787, -0.22619999945163727, -0.0568000003695488, -0.09189999848604202, -0.16089999675750732, 0.0066999997943639755, 0.20479999482631683, -0.05990000069141388, -0.03929999843239784, 0.10050000250339508, -0.03370000049471855, 2.194499969482422, 0.006200000178068876, -0.4675000011920929, 0.2572000026702881, -0.27459999918937683, 0.2590000033378601, -0.04699999839067459, 0.17000000178813934, -0.19059999287128448, 0.07339999824762344, -0.22789999842643738, 0.023099999874830246, 1.1511000394821167, 0.1331000030040741, 0.015300000086426735, -0.03420000150799751, -0.14880000054836273, 0.3813999891281128, -0.37229999899864197, 0.5651999711990356, -0.43309998512268066, 0.36250001192092896, -0.38370001316070557, -0.40389999747276306, -1.3015999794006348, 0.15700000524520874, -0.44920000433921814, -0.5169000029563904, 0.26159998774528503, 0.017400000244379044, -0.24879999458789825, 0.010400000028312206, 0.22259999811649323, 0.17839999496936798, -0.14650000631809235, 0.19419999420642853, 0.14339999854564667, 0.241799995303154, 0.14259999990463257, 0.054999999701976776, 0.5412999987602234, -0.2619999945163727, -0.11460000276565552, 0.34200000762939453, 0.09880000352859497, 0.22869999706745148, 0.07479999959468842, -0.4115000069141388, -0.020400000736117363, 0.0333000011742115, 0.061400000005960464, -0.707099974155426, -0.06129999831318855, 0.08940000087022781, -0.27559998631477356, 0.4408999979496002, 0.722000002861023, 0.050599999725818634, 0.2955999970436096, -0.803600013256073, 0.20800000429153442, 0.900600016117096, 0.16519999504089355, -0.03180000185966492, 0.39489999413490295, -0.24160000681877136, 0.5820000171661377, -0.05260000005364418, 0.35510000586509705, 0.011699999682605267, 0.061400000005960464, -0.11379999667406082, 0.5537999868392944, 0.13220000267028809, 0.23190000653266907, -0.07209999859333038, -0.06509999930858612, -0.4350000023841858, 0.17990000545978546, -0.08569999784231186, -0.39070001244544983, -0.26429998874664307, 0.17069999873638153, 0.04879999905824661, -0.16249999403953552, 0.5981000065803528, -0.15199999511241913, 0.22589999437332153, 0.24869999289512634, -0.05260000005364418, -0.3215000033378601, -0.12020000070333481, 7.013800144195557, 0.050200000405311584, 0.25040000677108765, -0.12710000574588776, -0.08309999853372574, 0.39089998602867126, -0.14239999651908875, 0.1534000039100647, 0.0917000025510788, 0.15309999883174896, 0.43149998784065247, -0.18690000474452972, 0.08510000258684158, -0.08269999921321869, 0.09160000085830688, 0.17900000512599945, 0.11349999904632568, -0.29910001158714294, -0.19679999351501465, -0.19439999759197235, -0.36649999022483826, -0.36640000343322754, -0.13760000467300415, 0.45239999890327454, -0.4221000075340271, -0.0478999987244606, -0.5530999898910522, -0.36070001125335693, -0.08510000258684158, 0.03370000049471855, -0.2621000111103058, -0.14219999313354492, -0.08959999680519104, 0.1923000067472458, 0.18119999766349792, -0.44269999861717224, 0.03189999982714653, -0.2865000069141388, 0.12129999697208405, -0.36730000376701355, 0.5023999810218811, -0.04820000007748604, 0.13130000233650208, -0.14229999482631683, -0.29510000348091125, 0.6381000280380249, -0.045899998396635056, -0.021199999377131462, -0.4700999855995178, -0.13130000233650208, 0.05079999938607216, 0.03280000016093254, 0.27480000257492065, 0.14190000295639038, 0.14839999377727509, 0.4327999949455261, -0.013500000350177288, -0.1817999929189682, 0.4887000024318695, -0.23589999973773956, 0.1565999984741211, -0.09700000286102295, -0.03579999879002571, 0.06469999998807907, -0.5214999914169312, 0.28209999203681946, 0.37689998745918274, 0.11620000004768372, -0.3271999955177307, 0.07100000232458115]]',\n",
       "       '[[0.7967000007629395, -0.6111999750137329, 0.16840000450611115, -0.00989999994635582, -0.2079000025987625, -0.23989999294281006, -0.047200001776218414, 0.33640000224113464, 0.11980000138282776, 0.11169999837875366, 0.10999999940395355, -0.6460999846458435, 0.2840000092983246, 0.12860000133514404, -0.05920000001788139, 0.06870000064373016, -0.09300000220537186, -0.05220000073313713, -0.1428000032901764, 0.05790000036358833, 0.1632000058889389, 0.004699999932199717, 0.01080000028014183, -0.24580000340938568, -0.010900000110268593, -0.4487999975681305, -0.2630000114440918, 0.3776000142097473, 0.15880000591278076, -0.1647000014781952, -0.05130000039935112, -0.12849999964237213, 0.1356000006198883, -0.11649999767541885, -0.26010000705718994, 0.5649999976158142, -0.045899998396635056, 0.383899986743927, 0.9632999897003174, -1.0504000186920166, 0.4756999909877777, -0.04740000143647194, -0.014600000344216824, 0.39469999074935913, -0.1039000004529953, -0.25949999690055847, 0.649399995803833, -0.02410000003874302, 0.060600001364946365, 0.24050000309944153, 0.7343000173568726, 0.10010000318288803, -0.07410000264644623, -0.17919999361038208, 0.12399999797344208, -0.3043999969959259, 0.3815000057220459, 0.336899995803833, 0.16910000145435333, -0.36340001225471497, 0.01899999938905239, 0.1054999977350235, 0.10080000013113022, 0.08110000193119049, -0.007600000128149986, 0.04780000075697899, 0.13850000500679016, 0.2442999929189682, -0.1023000031709671, 0.1906999945640564, 0.2395000010728836, 0.23180000483989716, 0.3165000081062317, 0.25940001010894775, 1.1275999546051025, 0.3950999975204468, 0.07819999754428864, -0.08229999989271164, -0.17080000042915344, -0.3264000117778778, 0.4648999869823456, 1.1266000270843506, -0.27959999442100525, -0.20000000298023224, -0.0763000026345253, -0.40880000591278076, -0.05209999904036522, -0.3165000081062317, -0.14790000021457672, 0.023399999365210533, 0.19910000264644623, -0.32899999618530273, 0.8917999863624573, -0.14259999990463257, -0.18080000579357147, 0.028300000354647636, -0.125900000333786, 0.027899999171495438, -0.4993000030517578, 0.1453000009059906, 0.23579999804496765, 0.1551000028848648, 0.23849999904632568, -0.7882000207901001, -0.017799999564886093, -0.06960000097751617, -0.17749999463558197, -0.0, 0.3174999952316284, -0.05000000074505806, 0.028999999165534973, 0.1160999983549118, 0.37299999594688416, -0.11949999630451202, -0.20239999890327454, -0.19050000607967377, 0.04769999906420708, -0.04010000079870224, -0.462799996137619, -0.08980000019073486, -0.8756999969482422, 0.4968000054359436, 0.6101999878883362, 1.4865000247955322, 0.557200014591217, 0.1882999986410141, 0.4510999917984009, 0.1031000018119812, 0.1859000027179718, -0.07590000331401825, 0.4065999984741211, 0.15029999613761902, -0.0812000036239624, -0.26350000500679016, -0.17820000648498535, 0.18449999392032623, 0.022700000554323196, 0.28529998660087585, -0.4359999895095825, 0.08630000054836273, -0.5986999869346619, 0.3605000078678131, 0.1914999932050705, 0.10019999742507935, -0.1534000039100647, 0.5264000296592712, 0.02810000069439411, -0.43389999866485596, -0.2906000018119812, -0.24580000340938568, 0.6191999912261963, -0.6079000234603882, 0.4514000117778778, 0.24009999632835388, -0.516700029373169, -0.4505000114440918, 0.3513999879360199, -0.23749999701976776, -0.47049999237060547, 0.10490000247955322, 0.1687999963760376, -0.8294000029563904, -0.3750999867916107, 0.4018999934196472, 0.02239999920129776, -0.24879999458789825, 0.07569999992847443, 0.15569999814033508, 0.0010000000474974513, 0.33889999985694885, 0.1873999983072281, 0.225600004196167, 0.11029999703168869, 0.014600000344216824, -0.4652000069618225, -0.5422000288963318, 0.6262999773025513, 0.1817999929189682, 1.259600043296814, 0.3303999900817871, 0.24169999361038208, 0.27459999918937683, -0.13940000534057617, 0.04190000146627426, -0.0010000000474974513, 0.04729999974370003, -0.33399999141693115, 0.42890000343322754, -0.4374000132083893, 0.09790000319480896, -0.12839999794960022, -0.13670000433921814, 0.14669999480247498, -0.0949999988079071, 1.1200000047683716, 0.3968000113964081, 0.21379999816417694, -0.6212999820709229, -0.23639999330043793, 0.1306000053882599, -0.0989999994635582, 0.09030000120401382, 0.11569999903440475, -0.10530000180006027, 0.37779998779296875, -0.09759999811649323, -0.14419999718666077, 0.21719999611377716, -0.4074999988079071, -0.0019000000320374966, -0.2791999876499176, -0.09960000216960907, -0.14309999346733093, 0.21969999372959137, -0.11069999635219574, 0.3321000039577484, 0.13410000503063202, 0.5644000172615051, -0.31279999017715454, 0.2935999929904938, 0.06449999660253525, 0.1460999995470047, 0.21070000529289246, 0.015799999237060547, -0.45239999890327454, 0.04280000180006027, -0.13089999556541443, -0.005499999970197678, 0.24160000681877136, -0.335099995136261, 0.2150000035762787, -0.38510000705718994, 0.4702000021934509, 0.2897999882698059, -0.18320000171661377, -0.5196999907493591, -0.4223000109195709, -0.11089999973773956, 0.16249999403953552, 0.07720000296831131, 0.23000000417232513, 0.011300000362098217, 0.11110000312328339, 0.06030000001192093, 1.25600004196167, -0.1525000035762787, 0.28119999170303345, -0.29429998993873596, 0.7027999758720398, 0.02419999986886978, -0.6335999965667725, 0.03180000185966492, 0.08529999852180481, 0.35019999742507935, 1.280900001525879, 0.18469999730587006, -0.8388000130653381, 0.427700012922287, -0.2773999869823456, -0.33660000562667847, 0.3070000112056732, 0.181099995970726, 0.22220000624656677, 0.8906999826431274, -0.22450000047683716, -0.670199990272522, 0.2612000107765198, 0.3197999894618988, 0.1467999964952469, -0.1704999953508377, 0.2551000118255615, 0.042100001126527786, -0.015599999576807022, -0.12439999729394913, 0.3781000077724457, -0.0982000008225441, -0.5029000043869019, 0.7727000117301941, -0.3935000002384186, 0.243599995970726, -0.9868000149726868, -0.19519999623298645, -0.03669999912381172, 0.37130001187324524, 0.2583000063896179, -0.07079999893903732, -0.5063999891281128, -0.32670000195503235, -0.12449999898672104, 0.0034000000450760126, -0.04610000178217888, 0.08460000157356262, -0.016699999570846558, 0.21220000088214874, 0.04670000076293945, -0.4009000062942505, 0.5720999836921692, 1.6766999959945679, -0.4120999872684479, 0.36230000853538513, 0.10949999839067459, 0.003100000089034438, 0.03720000013709068, -0.027000000700354576, -0.21209999918937683, 0.0333000011742115, 0.18359999358654022, -0.06319999694824219, 0.2948000133037567, -0.10220000147819519, 0.02669999934732914, -0.10830000042915344, -0.875, -0.2224999964237213, -0.08550000190734863, 0.26930001378059387, -0.06459999829530716, 0.17919999361038208, 0.2745000123977661, -0.2906999886035919, 0.19660000503063202, -0.29089999198913574, 0.17100000381469727, 0.15719999372959137, -0.27900001406669617, -0.18140000104904175, 0.44929999113082886, 0.18649999797344208, -0.006399999838322401, -0.30809998512268066, -0.06960000097751617, 0.1859000027179718, -0.6987000107765198, 0.0020000000949949026, -0.11060000211000443, 0.09210000187158585, 0.053300000727176666, -0.039500001817941666, 0.17949999868869781, -0.1655000001192093, -0.06909999996423721, -0.21809999644756317, 0.31439998745918274, -0.13169999420642853, -0.11590000241994858, 0.2134999930858612, -0.07530000060796738, -0.18359999358654022, 0.15109999477863312, -0.2232999950647354, 2.2841999530792236, 0.18400000035762787, -0.45829999446868896, 0.3921000063419342, -0.11140000075101852, 0.02539999969303608, 0.1459999978542328, 0.5393999814987183, 0.17550000548362732, -0.26260000467300415, -0.3018999993801117, -0.3301999866962433, 1.041700005531311, 0.715499997138977, -0.1559000015258789, -0.18469999730587006, -0.19130000472068787, 0.5497000217437744, 0.23489999771118164, 0.8177000284194946, -0.0843999981880188, 0.35989999771118164, -0.28850001096725464, 0.24330000579357147, -0.5074999928474426, 0.1754000037908554, 0.21709999442100525, -0.3450999855995178, 0.01810000091791153, 0.1550000011920929, -0.04639999940991402, 0.24459999799728394, 0.0925000011920929, 0.2962000072002411, -0.07349999994039536, -0.06069999933242798, -0.14630000293254852, -0.002400000113993883, 0.39649999141693115, 0.4025000035762787, 0.5511000156402588, -0.3977999985218048, 0.14409999549388885, 0.5737000107765198, 0.2782000005245209, 0.25189998745918274, -0.11760000139474869, -0.23109999299049377, 0.19609999656677246, 0.5561000108718872, 0.042899999767541885, -0.6557999849319458, 0.536899983882904, -0.21899999678134918, -0.1534000039100647, 0.6486999988555908, 0.5407000184059143, 0.06459999829530716, 0.03610000014305115, -0.5449000000953674, -0.16300000250339508, 1.15910005569458, 0.259799987077713, -0.2029000073671341, 0.16689999401569366, 0.07890000194311142, 0.6365000009536743, -0.10740000009536743, 0.4142000079154968, 0.0034000000450760126, 0.273499995470047, 0.25619998574256897, 0.5486999750137329, 0.12809999287128448, -0.14740000665187836, -0.14419999718666077, -0.2718999981880188, -0.20600000023841858, 0.05609999969601631, -0.07199999690055847, -0.5859000086784363, -0.13740000128746033, 0.16850000619888306, -0.10379999876022339, 0.445499986410141, 0.334199994802475, -0.1006999984383583, 0.3587999939918518, 0.15760000050067902, -0.20509999990463257, -0.18850000202655792, -0.3154999911785126, 6.892199993133545, -0.156700000166893, 0.28929999470710754, -0.3653999865055084, -0.14550000429153442, 0.21860000491142273, -0.017500000074505806, -0.08560000360012054, 0.2558000087738037, 0.2757999897003174, 0.3691999912261963, -0.18050000071525574, 0.08020000159740448, -0.16619999706745148, 0.25290000438690186, 0.12269999831914902, -0.3790000081062317, 0.04650000110268593, -0.17820000648498535, 0.03500000014901161, -0.30640000104904175, -0.715399980545044, 0.08070000261068344, 0.27410000562667847, -0.3571999967098236, -0.37310001254081726, -0.11110000312328339, -0.5055000185966492, -0.22789999842643738, -0.1500999927520752, 0.08720000088214874, -0.21250000596046448, 0.2287999987602234, 0.1867000013589859, 0.35199999809265137, -0.1738000065088272, 0.3027999997138977, -0.0012000000569969416, -0.19249999523162842, -0.20020000636577606, 0.4832000136375427, -0.6597999930381775, 0.06129999831318855, -0.1331000030040741, -0.5253999829292297, -0.053199999034404755, -0.18150000274181366, 0.26589998602867126, -0.45500001311302185, 0.03629999980330467, 0.13600000739097595, -0.0786999985575676, 0.43970000743865967, 0.29350000619888306, 0.4052000045776367, 0.5256999731063843, 0.26510000228881836, -0.2078000009059906, 0.6825000047683716, -0.262800008058548, 0.3490999937057495, -0.3073999881744385, 0.31940001249313354, -0.384799987077713, -0.3346000015735626, -0.17679999768733978, 0.026000000536441803, 0.26159998774528503, -0.1906999945640564, 0.11860000342130661]]'],\n",
       "      dtype=object)"
      ]
     },
     "execution_count": 15,
     "metadata": {},
     "output_type": "execute_result"
    }
   ],
   "source": [
    "import numpy as np\n",
    "result_np = np.array(results)\n",
    "result_np[0:10]"
   ]
  },
  {
   "cell_type": "code",
   "execution_count": 10,
   "metadata": {},
   "outputs": [],
   "source": [
    "import clip\n",
    "import torch\n",
    "import requests\n",
    "from PIL import Image\n",
    "\n",
    "model, preprocess = clip.load(\"ViT-B/16\", device=\"cpu\")\n",
    "# model, preprocess = torch.load('empty/model.pth')\n",
    "\n"
   ]
  },
  {
   "cell_type": "code",
   "execution_count": 19,
   "metadata": {},
   "outputs": [
    {
     "name": "stdout",
     "output_type": "stream",
     "text": [
      "torch.Size([1, 3, 224, 224])\n"
     ]
    },
    {
     "data": {
      "text/plain": [
       "True"
      ]
     },
     "execution_count": 19,
     "metadata": {},
     "output_type": "execute_result"
    }
   ],
   "source": [
    "image = preprocess(\n",
    "                Image.open(requests.get(img_urls[0], stream=True).raw)\n",
    "            ).unsqueeze(0)\n",
    "print(image.shape)\n",
    "with torch.no_grad():\n",
    "    image_features = model.encode_image(image).numpy()\n",
    "image_features\n",
    "np.allclose(image_features, np.array(json.loads(result_np[0])), atol=1e-4)"
   ]
  },
  {
   "cell_type": "code",
   "execution_count": 57,
   "metadata": {},
   "outputs": [
    {
     "data": {
      "text/plain": [
       "'https://tr.rbxcdn.com/b67dc99e9ceb0ba7df306daf1eaca1ed/150/150/Avatar/Png'"
      ]
     },
     "execution_count": 57,
     "metadata": {},
     "output_type": "execute_result"
    }
   ],
   "source": [
    "img_urls[0]"
   ]
  },
  {
   "cell_type": "code",
   "execution_count": 49,
   "metadata": {},
   "outputs": [
    {
     "data": {
      "text/plain": [
       "((1, 512), (1, 512))"
      ]
     },
     "execution_count": 49,
     "metadata": {},
     "output_type": "execute_result"
    }
   ],
   "source": [
    "np.array(json.loads(result_np[0])).shape,  image_features.shape"
   ]
  },
  {
   "cell_type": "code",
   "execution_count": 35,
   "metadata": {},
   "outputs": [],
   "source": [
    "import boto3\n",
    "from datetime import datetime, timedelta\n",
    "\n",
    "# Create a Cost Explorer client\n",
    "client = boto3.client('ce')\n",
    "\n",
    "# Define the time period to query\n",
    "now = datetime.utcnow()\n",
    "end = now.strftime('%Y-%m-%dT%H:%M:%SZ')  # Current time in UTC in ISO format\n",
    "start = (now - timedelta(hours=56)).strftime('%Y-%m-%dT%H:%M:%SZ')  # 12 hours ago in UTC in ISO format\n",
    "\n",
    "# Define the query parameters\n",
    "query = {\n",
    "    \"TimePeriod\": {\n",
    "        \"Start\": start,\n",
    "        \"End\": end\n",
    "    },\n",
    "    \"Granularity\": \"HOURLY\",\n",
    "    \"Filter\": {\n",
    "        \"Dimensions\": {\n",
    "            \"Key\": \"SERVICE\",\n",
    "            \"Values\": [\n",
    "                \"Amazon SageMaker\"\n",
    "            ]\n",
    "        }\n",
    "    },\n",
    "    \"Metrics\": [\"UnblendedCost\"]\n",
    "}\n",
    "\n",
    "# Retrieve the cost data\n",
    "try:\n",
    "    data = client.get_cost_and_usage(**query)\n",
    "    # Print out the response\n",
    "    # print(response)\n",
    "except client.exceptions.ValidationException as e:\n",
    "    # Handle the exception\n",
    "    print(f\"An error occurred: {e}\")\n"
   ]
  },
  {
   "cell_type": "code",
   "execution_count": 36,
   "metadata": {},
   "outputs": [
    {
     "data": {
      "image/png": "[encoded data removed]",
      "text/plain": [
       "<Figure size 1500x600 with 1 Axes>"
      ]
     },
     "metadata": {},
     "output_type": "display_data"
    }
   ],
   "source": [
    "import matplotlib.pyplot as plt\n",
    "import matplotlib.dates as mdates\n",
    "from datetime import datetime\n",
    "# Extracting necessary data\n",
    "timestamps = []\n",
    "costs = []\n",
    "\n",
    "for item in data['ResultsByTime']:\n",
    "    start_time = item['TimePeriod']['Start']\n",
    "    # Converting the time format to datetime object\n",
    "    timestamp = datetime.strptime(start_time, '%Y-%m-%dT%H:%M:%SZ')\n",
    "    timestamps.append(timestamp)\n",
    "    costs.append(float(item['Total']['UnblendedCost']['Amount']))\n",
    "\n",
    "# Creating the bar plot\n",
    "plt.figure(figsize=(15, 6))\n",
    "plt.bar(timestamps, costs, color='blue', width=0.04)  # you can adjust the width to your preference\n",
    "plt.xlabel('Time')\n",
    "plt.ylabel('Unblended Cost (USD)')\n",
    "plt.title('AWS SageMaker Costs Over the Last 72 Hours')\n",
    "plt.gca().xaxis.set_major_formatter(mdates.DateFormatter('%m-%d %H:%M'))  # format the timestamps on the x-axis\n",
    "plt.gca().xaxis.set_major_locator(mdates.HourLocator(interval=6))  # place a tick every 6 hours\n",
    "plt.gcf().autofmt_xdate()  # auto-format the x-axis date labels (e.g., rotate them)\n",
    "plt.tight_layout()\n",
    "plt.show()\n",
    "\n",
    "\n"
   ]
  },
  {
   "cell_type": "code",
   "execution_count": 30,
   "metadata": {},
   "outputs": [
    {
     "name": "stdout",
     "output_type": "stream",
     "text": [
      "Current timezone: UTC\n"
     ]
    }
   ],
   "source": [
    "import time\n",
    "\n",
    "# Get the current timezone name\n",
    "current_timezone_name = time.tzname[time.daylight]\n",
    "\n",
    "print(f\"Current timezone: {current_timezone_name}\")\n"
   ]
  },
  {
   "cell_type": "code",
   "execution_count": null,
   "metadata": {},
   "outputs": [],
   "source": []
  },
  {
   "cell_type": "code",
   "execution_count": null,
   "metadata": {},
   "outputs": [],
   "source": []
  },
  {
   "cell_type": "code",
   "execution_count": null,
   "metadata": {},
   "outputs": [],
   "source": []
  },
  {
   "cell_type": "code",
   "execution_count": null,
   "metadata": {},
   "outputs": [],
   "source": []
  },
  {
   "cell_type": "code",
   "execution_count": 68,
   "metadata": {},
   "outputs": [
    {
     "name": "stdout",
     "output_type": "stream",
     "text": [
      "start time: \n",
      "2023-10-09 04:48:20.698649-07:00\n"
     ]
    },
    {
     "name": "stderr",
     "output_type": "stream",
     "text": [
      "  0%|          | 0/119578 [00:54<?, ?it/s]\n"
     ]
    },
    {
     "ename": "KeyboardInterrupt",
     "evalue": "",
     "output_type": "error",
     "traceback": [
      "\u001b[0;31m---------------------------------------------------------------------------\u001b[0m",
      "\u001b[0;31mIndexError\u001b[0m                                Traceback (most recent call last)",
      "File \u001b[0;32m/opt/conda/envs/newvscode/lib/python3.11/multiprocessing/pool.py:856\u001b[0m, in \u001b[0;36mIMapIterator.next\u001b[0;34m(self, timeout)\u001b[0m\n\u001b[1;32m    855\u001b[0m \u001b[39mtry\u001b[39;00m:\n\u001b[0;32m--> 856\u001b[0m     item \u001b[39m=\u001b[39m \u001b[39mself\u001b[39m\u001b[39m.\u001b[39m_items\u001b[39m.\u001b[39mpopleft()\n\u001b[1;32m    857\u001b[0m \u001b[39mexcept\u001b[39;00m \u001b[39mIndexError\u001b[39;00m:\n",
      "\u001b[0;31mIndexError\u001b[0m: pop from an empty deque",
      "\nDuring handling of the above exception, another exception occurred:\n",
      "\u001b[0;31mKeyboardInterrupt\u001b[0m                         Traceback (most recent call last)",
      "File \u001b[0;32m<timed exec>:14\u001b[0m\n",
      "File \u001b[0;32m/opt/conda/envs/newvscode/lib/python3.11/site-packages/tqdm/std.py:1182\u001b[0m, in \u001b[0;36mtqdm.__iter__\u001b[0;34m(self)\u001b[0m\n\u001b[1;32m   1179\u001b[0m time \u001b[39m=\u001b[39m \u001b[39mself\u001b[39m\u001b[39m.\u001b[39m_time\n\u001b[1;32m   1181\u001b[0m \u001b[39mtry\u001b[39;00m:\n\u001b[0;32m-> 1182\u001b[0m     \u001b[39mfor\u001b[39;00m obj \u001b[39min\u001b[39;00m iterable:\n\u001b[1;32m   1183\u001b[0m         \u001b[39myield\u001b[39;00m obj\n\u001b[1;32m   1184\u001b[0m         \u001b[39m# Update and possibly print the progressbar.\u001b[39;00m\n\u001b[1;32m   1185\u001b[0m         \u001b[39m# Note: does not call self.update(1) for speed optimisation.\u001b[39;00m\n",
      "File \u001b[0;32m/opt/conda/envs/newvscode/lib/python3.11/multiprocessing/pool.py:861\u001b[0m, in \u001b[0;36mIMapIterator.next\u001b[0;34m(self, timeout)\u001b[0m\n\u001b[1;32m    859\u001b[0m     \u001b[39mself\u001b[39m\u001b[39m.\u001b[39m_pool \u001b[39m=\u001b[39m \u001b[39mNone\u001b[39;00m\n\u001b[1;32m    860\u001b[0m     \u001b[39mraise\u001b[39;00m \u001b[39mStopIteration\u001b[39;00m \u001b[39mfrom\u001b[39;00m \u001b[39mNone\u001b[39;00m\n\u001b[0;32m--> 861\u001b[0m \u001b[39mself\u001b[39;49m\u001b[39m.\u001b[39;49m_cond\u001b[39m.\u001b[39;49mwait(timeout)\n\u001b[1;32m    862\u001b[0m \u001b[39mtry\u001b[39;00m:\n\u001b[1;32m    863\u001b[0m     item \u001b[39m=\u001b[39m \u001b[39mself\u001b[39m\u001b[39m.\u001b[39m_items\u001b[39m.\u001b[39mpopleft()\n",
      "File \u001b[0;32m/opt/conda/envs/newvscode/lib/python3.11/threading.py:320\u001b[0m, in \u001b[0;36mCondition.wait\u001b[0;34m(self, timeout)\u001b[0m\n\u001b[1;32m    318\u001b[0m \u001b[39mtry\u001b[39;00m:    \u001b[39m# restore state no matter what (e.g., KeyboardInterrupt)\u001b[39;00m\n\u001b[1;32m    319\u001b[0m     \u001b[39mif\u001b[39;00m timeout \u001b[39mis\u001b[39;00m \u001b[39mNone\u001b[39;00m:\n\u001b[0;32m--> 320\u001b[0m         waiter\u001b[39m.\u001b[39;49macquire()\n\u001b[1;32m    321\u001b[0m         gotit \u001b[39m=\u001b[39m \u001b[39mTrue\u001b[39;00m\n\u001b[1;32m    322\u001b[0m     \u001b[39melse\u001b[39;00m:\n",
      "\u001b[0;31mKeyboardInterrupt\u001b[0m: "
     ]
    }
   ],
   "source": [
    "%%time\n",
    "# print current time in PST\n",
    "from datetime import datetime\n",
    "import pytz\n",
    "\n",
    "tz = pytz.timezone(\"America/Los_Angeles\")\n",
    "print(\"start time: \")\n",
    "print(datetime.now(tz))\n",
    "\n",
    "\n",
    "from multiprocessing import Pool\n",
    "import tqdm\n",
    "\n",
    "with Pool(60) as p:\n",
    "    results = list(tqdm.tqdm(p.imap(invoke_sagemaker_for_url, img_urls), total=len(img_urls)))"
   ]
  },
  {
   "cell_type": "code",
   "execution_count": null,
   "metadata": {
    "tags": []
   },
   "outputs": [],
   "source": [
    "%%sh\n",
    "# check if docker containers are running and kill them if needed\n",
    "docker ps\n",
    "docker stop $(docker ps -a -q)\n",
    "docker rm $(docker ps -a -q)"
   ]
  },
  {
   "attachments": {},
   "cell_type": "markdown",
   "metadata": {},
   "source": [
    "### Deploy container remotely to create a managed Amazon SageMaker endpoint for real-time inference"
   ]
  },
  {
   "cell_type": "code",
   "execution_count": null,
   "metadata": {},
   "outputs": [],
   "source": [
    "from sagemaker import Model\n",
    "\n",
    "import sagemaker as sage\n",
    "\n",
    "sess = sage.Session()\n",
    "\n",
    "# instance_type = \"ml.m5.xlarge\" # no GPU, will trigger an error\n",
    "# instance_type = \"ml.g4dn.xlarge\"\n",
    "instance_type = \"ml.p2.xlarge\"\n",
    "model_data = estimator.model_data\n",
    "\n",
    "endpoint_deployment_name = \"my-BERTopic-test-endpoint\"\n",
    "\n",
    "estimator = Model(\n",
    "    image_uri=image_uri_inference,\n",
    "    model_data=model_data,\n",
    "    role=role,\n",
    "    source_dir=\"container/bert-topic\",\n",
    "    entry_point=\"bert-topic-inference.py\",\n",
    "    sagemaker_session=sess,  # not local session anymore\n",
    "    #                   predictor_cls=None,\n",
    "    #                   env=None,\n",
    "    #                   name=None,\n",
    "    #                   vpc_config=None,\n",
    "    #                   enable_network_isolation=False,\n",
    "    #                   model_kms_key=None,\n",
    "    #                   image_config=None,\n",
    "    #                   code_location=None,\n",
    "    #                   container_log_level=20,\n",
    "    #                   dependencies=None,\n",
    "    #                   git_config=None\n",
    ")\n",
    "\n",
    "# deploy the model\n",
    "predictor = estimator.deploy(1, instance_type, endpoint_name=endpoint_deployment_name)"
   ]
  },
  {
   "attachments": {},
   "cell_type": "markdown",
   "metadata": {},
   "source": [
    "Manually check the deployed endpoint name, it will have the name \n",
    "- my-BERTopic-test-endpoint"
   ]
  },
  {
   "attachments": {},
   "cell_type": "markdown",
   "metadata": {},
   "source": [
    "#### Invoke remotely deployed endpoint"
   ]
  },
  {
   "cell_type": "code",
   "execution_count": null,
   "metadata": {},
   "outputs": [],
   "source": [
    "sm_client = sess.sagemaker_runtime_client\n",
    "endpoint_name = \"my-BERTopic-test-endpoint\"\n",
    "response = sm_client.invoke_endpoint(\n",
    "    EndpointName=endpoint_name,\n",
    "    ContentType=\"application/json\",\n",
    "    Body=json.dumps([\"Do you like Toyota Corolla?\", \"I have a Nissan\"]),\n",
    ")\n",
    "\n",
    "r = response[\"Body\"]\n",
    "print(\"RESULT r.read().decode():\", r.read().decode())"
   ]
  },
  {
   "attachments": {},
   "cell_type": "markdown",
   "metadata": {},
   "source": [
    "### Optional cleanup of the create endpoint\n",
    "The created endpoint can be deleted with the code below.\n",
    "\n",
    "This part represent the end of the notebook."
   ]
  },
  {
   "cell_type": "code",
   "execution_count": null,
   "metadata": {},
   "outputs": [],
   "source": [
    "import boto3\n",
    "\n",
    "client = boto3.client(\"sagemaker\")\n",
    "response = client.describe_endpoint_config(EndpointConfigName=endpoint_deployment_name)\n",
    "model_name = response[\"ProductionVariants\"][0][\"ModelName\"]\n",
    "client.delete_endpoint(EndpointName=endpoint_deployment_name)\n",
    "client.delete_endpoint_config(EndpointConfigName=endpoint_deployment_name)\n",
    "client.delete_model(ModelName=model_name)"
   ]
  },
  {
   "attachments": {},
   "cell_type": "markdown",
   "metadata": {},
   "source": [
    "## Reference\n",
    "- [How Amazon SageMaker interacts with your Docker container for training](https://docs.aws.amazon.com/sagemaker/latest/dg/your-algorithms-training-algo.html)\n",
    "- [How Amazon SageMaker interacts with your Docker container for inference](https://docs.aws.amazon.com/sagemaker/latest/dg/your-algorithms-inference-code.html)\n",
    "- [BERTtopic model](https://maartengr.github.io/BERTopic/index.html)\n",
    "- [20 Newsgroups dataset](http://qwone.com/~jason/20Newsgroups/)\n",
    "- [SageMaker Python SDK](https://github.com/aws/sagemaker-python-sdk)\n",
    "- [Dockerfile](https://docs.docker.com/engine/reference/builder/)\n",
    "- [scikit-bring-your-own](https://github.com/awslabs/amazon-sagemaker-examples/blob/master/advanced_functionality/scikit_bring_your_own/scikit_bring_your_own.ipynb)\n",
    "- [SageMaker PyTorch container](https://github.com/aws/sagemaker-pytorch-container)\n",
    "\n"
   ]
  },
  {
   "attachments": {},
   "cell_type": "markdown",
   "metadata": {},
   "source": [
    "## Notebook CI Test Results\n",
    "\n",
    "This notebook was tested in multiple regions. The test results are as follows, except for us-west-2 which is shown at the top of the notebook.\n",
    "\n",
    "![This us-east-1 badge failed to load. Check your device's internet connectivity, otherwise the service is currently unavailable](https://prod.us-west-2.tcx-beacon.docs.aws.dev/sagemaker-nb/us-east-1/advanced_functionality|pytorch_extend_container_train_deploy_bertopic|BERTtopic_extending_container.ipynb)\n",
    "\n",
    "![This us-east-2 badge failed to load. Check your device's internet connectivity, otherwise the service is currently unavailable](https://prod.us-west-2.tcx-beacon.docs.aws.dev/sagemaker-nb/us-east-2/advanced_functionality|pytorch_extend_container_train_deploy_bertopic|BERTtopic_extending_container.ipynb)\n",
    "\n",
    "![This us-west-1 badge failed to load. Check your device's internet connectivity, otherwise the service is currently unavailable](https://prod.us-west-2.tcx-beacon.docs.aws.dev/sagemaker-nb/us-west-1/advanced_functionality|pytorch_extend_container_train_deploy_bertopic|BERTtopic_extending_container.ipynb)\n",
    "\n",
    "![This ca-central-1 badge failed to load. Check your device's internet connectivity, otherwise the service is currently unavailable](https://prod.us-west-2.tcx-beacon.docs.aws.dev/sagemaker-nb/ca-central-1/advanced_functionality|pytorch_extend_container_train_deploy_bertopic|BERTtopic_extending_container.ipynb)\n",
    "\n",
    "![This sa-east-1 badge failed to load. Check your device's internet connectivity, otherwise the service is currently unavailable](https://prod.us-west-2.tcx-beacon.docs.aws.dev/sagemaker-nb/sa-east-1/advanced_functionality|pytorch_extend_container_train_deploy_bertopic|BERTtopic_extending_container.ipynb)\n",
    "\n",
    "![This eu-west-1 badge failed to load. Check your device's internet connectivity, otherwise the service is currently unavailable](https://prod.us-west-2.tcx-beacon.docs.aws.dev/sagemaker-nb/eu-west-1/advanced_functionality|pytorch_extend_container_train_deploy_bertopic|BERTtopic_extending_container.ipynb)\n",
    "\n",
    "![This eu-west-2 badge failed to load. Check your device's internet connectivity, otherwise the service is currently unavailable](https://prod.us-west-2.tcx-beacon.docs.aws.dev/sagemaker-nb/eu-west-2/advanced_functionality|pytorch_extend_container_train_deploy_bertopic|BERTtopic_extending_container.ipynb)\n",
    "\n",
    "![This eu-west-3 badge failed to load. Check your device's internet connectivity, otherwise the service is currently unavailable](https://prod.us-west-2.tcx-beacon.docs.aws.dev/sagemaker-nb/eu-west-3/advanced_functionality|pytorch_extend_container_train_deploy_bertopic|BERTtopic_extending_container.ipynb)\n",
    "\n",
    "![This eu-central-1 badge failed to load. Check your device's internet connectivity, otherwise the service is currently unavailable](https://prod.us-west-2.tcx-beacon.docs.aws.dev/sagemaker-nb/eu-central-1/advanced_functionality|pytorch_extend_container_train_deploy_bertopic|BERTtopic_extending_container.ipynb)\n",
    "\n",
    "![This eu-north-1 badge failed to load. Check your device's internet connectivity, otherwise the service is currently unavailable](https://prod.us-west-2.tcx-beacon.docs.aws.dev/sagemaker-nb/eu-north-1/advanced_functionality|pytorch_extend_container_train_deploy_bertopic|BERTtopic_extending_container.ipynb)\n",
    "\n",
    "![This ap-southeast-1 badge failed to load. Check your device's internet connectivity, otherwise the service is currently unavailable](https://prod.us-west-2.tcx-beacon.docs.aws.dev/sagemaker-nb/ap-southeast-1/advanced_functionality|pytorch_extend_container_train_deploy_bertopic|BERTtopic_extending_container.ipynb)\n",
    "\n",
    "![This ap-southeast-2 badge failed to load. Check your device's internet connectivity, otherwise the service is currently unavailable](https://prod.us-west-2.tcx-beacon.docs.aws.dev/sagemaker-nb/ap-southeast-2/advanced_functionality|pytorch_extend_container_train_deploy_bertopic|BERTtopic_extending_container.ipynb)\n",
    "\n",
    "![This ap-northeast-1 badge failed to load. Check your device's internet connectivity, otherwise the service is currently unavailable](https://prod.us-west-2.tcx-beacon.docs.aws.dev/sagemaker-nb/ap-northeast-1/advanced_functionality|pytorch_extend_container_train_deploy_bertopic|BERTtopic_extending_container.ipynb)\n",
    "\n",
    "![This ap-northeast-2 badge failed to load. Check your device's internet connectivity, otherwise the service is currently unavailable](https://prod.us-west-2.tcx-beacon.docs.aws.dev/sagemaker-nb/ap-northeast-2/advanced_functionality|pytorch_extend_container_train_deploy_bertopic|BERTtopic_extending_container.ipynb)\n",
    "\n",
    "![This ap-south-1 badge failed to load. Check your device's internet connectivity, otherwise the service is currently unavailable](https://prod.us-west-2.tcx-beacon.docs.aws.dev/sagemaker-nb/ap-south-1/advanced_functionality|pytorch_extend_container_train_deploy_bertopic|BERTtopic_extending_container.ipynb)\n"
   ]
  }
 ],
 "metadata": {
  "kernelspec": {
   "display_name": "vscode",
   "language": "python",
   "name": "python3"
  },
  "language_info": {
   "codemirror_mode": {
    "name": "ipython",
    "version": 3
   },
   "file_extension": ".py",
   "mimetype": "text/x-python",
   "name": "python",
   "nbconvert_exporter": "python",
   "pygments_lexer": "ipython3",
   "version": "3.11.5"
  }
 },
 "nbformat": 4,
 "nbformat_minor": 4
}
